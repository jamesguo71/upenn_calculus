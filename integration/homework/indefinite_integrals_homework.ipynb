{
 "cells": [
  {
   "cell_type": "markdown",
   "metadata": {},
   "source": [
    "## 1. $\\int (4 x^3 + 3 x^2 + 2 x + 1) \\operatorname{d} x =$"
   ]
  },
  {
   "cell_type": "markdown",
   "metadata": {},
   "source": [
    "$\\int (4 x^3 + 3 x^2 + 2 x + 1) \\operatorname{d} x = x^4 + x^3 + x^2 + x + C$."
   ]
  },
  {
   "cell_type": "markdown",
   "metadata": {},
   "source": [
    "## 2. $\\frac{\\operatorname{d}}{\\operatorname{d} x} \\int \\ln \\tan x \\operatorname{d} x = $"
   ]
  },
  {
   "cell_type": "markdown",
   "metadata": {},
   "source": [
    "Since $\\frac{\\operatorname{d}}{\\operatorname{d} x} \\int f \\operatorname{d} x = f$,\n",
    "\n",
    "$\\frac{\\operatorname{d}}{\\operatorname{d} x} \\int \\ln \\tan x \\operatorname{d} x = \\ln \\tan x$."
   ]
  },
  {
   "cell_type": "code",
   "execution_count": 4,
   "metadata": {},
   "outputs": [
    {
     "data": {
      "image/png": "[encoded data removed]",
      "text/latex": [
       "$$\\log{\\left (\\tan{\\left (x \\right )} \\right )}$$"
      ],
      "text/plain": [
       "log(tan(x))"
      ]
     },
     "execution_count": 4,
     "metadata": {},
     "output_type": "execute_result"
    }
   ],
   "source": [
    "## Verify with SymPy\n",
    "\n",
    "from sympy import symbols, diff, integrate, tan, ln, init_printing\n",
    "\n",
    "init_printing()\n",
    "\n",
    "x = symbols('x')\n",
    "\n",
    "diff(integrate(ln(tan(x))))"
   ]
  },
  {
   "cell_type": "markdown",
   "metadata": {},
   "source": [
    "## 3. $\\int (\\frac{\\operatorname{d}}{\\operatorname{d} x} e^{- x}) \\operatorname{d} x = $"
   ]
  },
  {
   "cell_type": "markdown",
   "metadata": {},
   "source": [
    "### Solution\n",
    "\n",
    "Since $\\int (\\frac{\\operatorname{d}}{\\operatorname{d} x} f ) \\operatorname{d} x = f + C$,\n",
    "\n",
    "$\\int (\\frac{\\operatorname{d}}{\\operatorname{d} x} e^{- x}) \\operatorname{d} x = e^{- x} + C$."
   ]
  },
  {
   "cell_type": "code",
   "execution_count": 5,
   "metadata": {},
   "outputs": [
    {
     "data": {
      "image/png": "[encoded data removed]",
      "text/latex": [
       "$$e^{- x}$$"
      ],
      "text/plain": [
       " -x\n",
       "ℯ  "
      ]
     },
     "execution_count": 5,
     "metadata": {},
     "output_type": "execute_result"
    }
   ],
   "source": [
    "## Verify with SymPy\n",
    "\n",
    "from sympy import exp\n",
    "\n",
    "integrate(diff(exp(- x)))"
   ]
  },
  {
   "cell_type": "markdown",
   "metadata": {},
   "source": [
    "## 4. \n",
    "Find the general solution of the differential equation $$\n",
    "\\frac{\\operatorname{d} x}{\\operatorname{d} t} = t^2\n",
    "$$"
   ]
  },
  {
   "cell_type": "markdown",
   "metadata": {},
   "source": [
    "### Solution\n",
    "\n",
    "$$\n",
    "\\begin{array}{l}\n",
    "\\frac{\\operatorname{d} x}{\\operatorname{d} t} &= t^2 \\\\\n",
    "x(t) &= \\int t^2 \\operatorname{d} t & \\text{integrating both sides} \\\\\n",
    "&= \\frac{1}{3} t^3 + C\n",
    "\\end{array}\n",
    "$$"
   ]
  },
  {
   "cell_type": "code",
   "execution_count": 28,
   "metadata": {},
   "outputs": [
    {
     "data": {
      "image/png": "[encoded data removed]",
      "text/latex": [
       "$$x{\\left (t \\right )} = C_{1} + \\frac{t^{3}}{3}$$"
      ],
      "text/plain": [
       "             3\n",
       "            t \n",
       "x(t) = C₁ + ──\n",
       "            3 "
      ]
     },
     "execution_count": 28,
     "metadata": {},
     "output_type": "execute_result"
    }
   ],
   "source": [
    "## Verify with SymPy\n",
    "\n",
    "from sympy import Eq, Derivative, Function, dsolve\n",
    "\n",
    "t = symbols('t')\n",
    "x = symbols('x', cls=Function)\n",
    "\n",
    "diffeq = Eq(Derivative(x(t), t), t ** 2)\n",
    "dsolve(diffeq, x(t))"
   ]
  },
  {
   "cell_type": "markdown",
   "metadata": {},
   "source": [
    "## 5.\n",
    "Find the general solution of the differential equation $$\n",
    "\\frac{\\operatorname{d} x}{\\operatorname{d} t} = x^2\n",
    "$$\n",
    "\n",
    "**Hint**: think in terms of differentials, as we did in the Lecture. This will allow you to bring everything that depends on $x$ to the left hand side, and everything that depends on $t$ to the right. Then integrate."
   ]
  },
  {
   "cell_type": "markdown",
   "metadata": {},
   "source": [
    "$$\n",
    "\\begin{array}{l}\n",
    "x &= x(t) \\\\\n",
    "\\operatorname{d} x &= \\frac{\\operatorname{d} x}{\\operatorname{d} t} \\operatorname{d} t &\\text{chain rule} \\\\\n",
    "&= x^2 \\operatorname{d} t \\\\\n",
    "\\frac{1}{x^2} \\operatorname{d} x &= \\operatorname{d} t \\\\\n",
    "\\int \\frac{1}{x^2} \\operatorname{d} x &= \\int (1) \\operatorname{d} t & \\text{integrating both side} \\\\\n",
    "- \\frac{1}{x} + C_1 &= t + C_2 \\\\\n",
    "x &= - \\frac{1}{t + C}\n",
    "\\end{array}\n",
    "$$"
   ]
  },
  {
   "cell_type": "code",
   "execution_count": 32,
   "metadata": {},
   "outputs": [
    {
     "data": {
      "image/png": "[encoded data removed]",
      "text/latex": [
       "$$x{\\left (t \\right )} = - \\frac{1}{C_{1} + t}$$"
      ],
      "text/plain": [
       "        -1   \n",
       "x(t) = ──────\n",
       "       C₁ + t"
      ]
     },
     "execution_count": 32,
     "metadata": {},
     "output_type": "execute_result"
    }
   ],
   "source": [
    "t = symbols('t')\n",
    "x = symbols('x', cls=Function)\n",
    "\n",
    "diffeq = Eq(Derivative(x(t), t), x(t) ** 2)\n",
    "dsolve(diffeq, x(t))"
   ]
  },
  {
   "cell_type": "code",
   "execution_count": null,
   "metadata": {},
   "outputs": [],
   "source": []
  }
 ],
 "metadata": {
  "kernelspec": {
   "display_name": "Python 3",
   "language": "python",
   "name": "python3"
  },
  "language_info": {
   "codemirror_mode": {
    "name": "ipython",
    "version": 3
   },
   "file_extension": ".py",
   "mimetype": "text/x-python",
   "name": "python",
   "nbconvert_exporter": "python",
   "pygments_lexer": "ipython3",
   "version": "3.7.0"
  }
 },
 "nbformat": 4,
 "nbformat_minor": 2
}
