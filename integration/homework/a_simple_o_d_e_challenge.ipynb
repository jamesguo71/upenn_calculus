{
 "cells": [
  {
   "cell_type": "markdown",
   "metadata": {},
   "source": [
    "## 1.\n",
    "Assume the size $P$ of a population grows following the differential equation $$\n",
    "\\frac{\\operatorname{d} P(t)}{\\operatorname{d} t} = b P(t)\n",
    "$$\n",
    "\n",
    "The rate of growth $b$ is the difference between the birth rate and the mortality rate. The Malthusian model supposes that this rate is constant. Of course we know that does not always happen: factors such as famines, outbreaks of disease or advances in medicine do influence these rates. When modeling some process mathematically it is important to recognize what our assumptions are and when they no longer hold. In this problem and the next we will look at one particular event that would result in a violation of Malthus' assumption that the growth rate $b$ is constant over time: the occurrence of famines.\n",
    "\n",
    "Experimental data suggests that food production $F$ grows linearly over time: $$\n",
    "F(t) = F_0 + s t\n",
    "$$\n",
    "\n",
    "We will now make two assumptions:\n",
    "\n",
    "* Most food is perishable, so that the amount of food available at any given time is exactly the amount produced at that time. This means that we are not taking into account the effect of the possibility of preserving food for long periods of time.\n",
    "\n",
    "* The amount of food that a person in our population eats is, on average, constant and equal to some number $\\alpha$. That is, the amount of food necessary to keep everybody fed is $\\alpha P(t)$.\n",
    "\n",
    "The so-called *Malthusian catastrophe* happens when there is not enough food to feed the whole population, that is, when $\\alpha P(t) = F(t)$.\n",
    "\n",
    "The Food and Agriculture Organization of the United Nations considers that a person needs around 1800 kcal/day to be considered well-fed. According to a report released in 2002 by the same organization:\n",
    "\n",
    "* The world population in 2002 was around 6 billion.\n",
    "\n",
    "* The population growth rate was estimated at $1.1\\%$ and expected to remain approximately constant for several decades.\n",
    "\n",
    "* Total food production in 2002 was determined to be around $6.13 \\cdot 10^{15} \\text{kcal}$, with an expected growth rate of $1.11 \\cdot 10^{14} \\frac{\\text{kcal}}{\\text{year}}$.\n",
    "\n",
    "\\[Source: FAO, \"World Agriculture: Towards 2015/2030. Summary Report\", 2002\\]\n",
    "\n",
    "Estimate the world population by the year 2030."
   ]
  },
  {
   "cell_type": "markdown",
   "metadata": {},
   "source": [
    "## 2. \n",
    "\n",
    "\\[Continued from previous question\\] Estimate when the Malthusian catastrophe would happen if our assumptions continue to hold."
   ]
  },
  {
   "cell_type": "markdown",
   "metadata": {},
   "source": [
    "### Solution\n",
    "\n",
    "Without considering the constraint of feeding the population, the theoretical population at year $2030$ will be $$\n",
    "\\begin{equation}\n",
    "\\begin{aligned}\n",
    "P_{2030} &= P_{2002} e^{b (2030 - 2002)} \\\\\n",
    "&= 6 \\text{billion} \\cdot e^{0.011 \\cdot 28} \\\\\n",
    "&\\approx 8.2 \\text{billion}\n",
    "\\end{aligned}\n",
    "\\end{equation}\n",
    "$$. So will *Malthusian catastrophe* happen before 2030?\n",
    "\n",
    "When is the *Malthusian catastrophe* is going to happen this model? Let \n",
    "- $t_c$ be the year Malthusian catastrophe happens\n",
    "- $t_0$ be year 2002\n",
    "- $t_a = t_c - t_0$\n",
    "- $P_0$ be the population at year 2002\n",
    "- $F_0$ be the food production at year 2002\n",
    ". Then $$\n",
    "\\begin{array}{l}\n",
    "\\alpha P(t_c) &= F(t_c) \\\\\n",
    "\\alpha (P_0 e^{b (t_c - t_0)}) &= F_0 + s (t_c - t_0) \\\\\n",
    "\\alpha (P_0 e^{b t_a}) &= F_0 + s t_a \\\\\n",
    "e^{b t_a} &= \\frac{F_0 + s t_a}{\\alpha P_0} \\\\\n",
    "b t_a &= \\ln(F_{0} + s t_a) - \\ln(\\alpha P_0)\n",
    "\\end{array}\n",
    "$$\n",
    "\n",
    "This is hard to solve. Lets approach it computationally.\n",
    "\n",
    "Finding the solution of $$\n",
    "b t_a = \\ln(F_{0} + s t_a) - \\ln(\\alpha P_0)\n",
    "$$ which is identical to find the root of $$\n",
    "b t_a = \\ln(F_{0} + s t_a) - \\ln(\\alpha P_0)\n",
    "$$\n",
    "\n",
    "Let $f(x) = b t_a - \\ln(F_{0} + s t_a) + \\ln(\\alpha P_0)$."
   ]
  },
  {
   "cell_type": "code",
   "execution_count": 26,
   "metadata": {},
   "outputs": [
    {
     "data": {
      "image/png": "[encoded data removed]",
      "text/latex": [
       "$$\\left [ -29.5737159526715, \\quad 166.503945274568\\right ]$$"
      ],
      "text/plain": [
       "[-29.5737159526715, 166.503945274568]"
      ]
     },
     "execution_count": 26,
     "metadata": {},
     "output_type": "execute_result"
    }
   ],
   "source": [
    "from sympy import symbols, ln, Eq, solve\n",
    "\n",
    "\n",
    "t_a = symbols('t_a')\n",
    "b = 0.011\n",
    "P_0 = 6e9\n",
    "F_0 = 6.13e15\n",
    "alpha = 1800 * 365\n",
    "s = 1.11e14\n",
    "\n",
    "func = alpha * (P_0 * exp(b * t_a)) - s * t_a - F_0\n",
    "solve(Eq(func, 0))"
   ]
  },
  {
   "cell_type": "markdown",
   "metadata": {},
   "source": [
    "Hence in this model the *Malthusian catastrophe* is going to happen in 166 years."
   ]
  }
 ],
 "metadata": {
  "kernelspec": {
   "display_name": "Python 3",
   "language": "python",
   "name": "python3"
  },
  "language_info": {
   "codemirror_mode": {
    "name": "ipython",
    "version": 3
   },
   "file_extension": ".py",
   "mimetype": "text/x-python",
   "name": "python",
   "nbconvert_exporter": "python",
   "pygments_lexer": "ipython3",
   "version": "3.7.0"
  }
 },
 "nbformat": 4,
 "nbformat_minor": 2
}
