{
 "cells": [
  {
   "cell_type": "markdown",
   "metadata": {},
   "source": [
    "## 1.\n",
    "\n",
    "There is a large class of differential equations —the so-called linear ones— for which we can find solutions using the Taylor series method discussed in the Lecture. One such differential equation is $$\n",
    "t \\frac{\\operatorname{d}^2 x}{\\operatorname{d}t^2} + \\frac{\\operatorname{d} x}{\\operatorname{d} t} + t x = 0\n",
    "$$\n",
    "\n",
    "It is a particular case of the more general *Bessel differential equation*, and one solution of it is given by the Bessel function $J_0(t)$ that we saw in Chapter 1. Notice that ($*$) involves not only the first derivative $\\frac{\\operatorname{d} x}{\\operatorname{d} t}$ but also the second derivative $\\frac{\\operatorname{d}^2 x}{\\operatorname{d} t^2}$. For this reason, it is said to be a *second order* differential equation.\n",
    "\n",
    "In this problem we will content ourselves with finding a relationship (specifically, a recurrence relation) on the coefficients of a Taylor series expansion about $t = 0$ of a solution to our equation. Hence consider the Taylor series $$\n",
    "x(t) = \\sum_{k = 0}^{\\infty} c_k t^k\n",
    "$$\n",
    "Substituting this into ($*$) will give you two conditions. The first one is $c_1 = 0$. What is the other one?\n",
    "\n",
    "**Note**: this problem involves some nontrivial manipulation of indices in summation notation. Do not get discouraged if it feels more difficult than other problems: it is!"
   ]
  },
  {
   "cell_type": "markdown",
   "metadata": {},
   "source": [
    "### Solution\n",
    "\n",
    "$$\n",
    "\\begin{array}{l}\n",
    "x(t) &= \\sum_{k = 0}^{\\infty} c_k t^k \\\\\n",
    "\\frac{\\operatorname{d} x}{\\operatorname{d} t} &= \\sum_{k = 1}^{\\infty} k c_k t^{k - 1} \\\\\n",
    "\\frac{\\operatorname{d}^2 x}{\\operatorname{d} t^2} &= \\sum_{k = 2}^{\\infty} k (k - 1) c_k t^{k - 2} \\\\\n",
    "t \\frac{\\operatorname{d}^2 x}{\\operatorname{d}t^2} + \\frac{\\operatorname{d} x}{\\operatorname{d} t} + t x &= 0 \\\\\n",
    "t \\sum_{k = 2}^{\\infty} k (k - 1) c_k t^{k - 2} + \\sum_{k = 1}^{\\infty} k c_k t^{k - 1} + t \\sum_{k = 0}^{\\infty} c_k t^k = 0 \\\\\n",
    "\\sum_{k = 2}^{\\infty} k (k - 1) c_k t^{k - 1} + \\sum_{k = 1}^{\\infty} k c_k t^{k - 1} + \\sum_{k = 0}^{\\infty} c_k t^{k + 1} = 0 \\\\\n",
    "c_1 + \\sum_{k = 2}^{\\infty} (k (k - 1) + k) c_k t^{k - 1} &= \\sum_{k = 0}^{\\infty} - c_k t^{k + 1} \\\\\n",
    "c_1 + \\sum_{k = 2}^{\\infty} (k (k - 1) + k) c_k t^{k - 1} &= \\sum_{k = 2}^{\\infty} - c_{k - 2} t^k \n",
    "\\end{array}\n",
    "$$\n",
    "\n",
    "Then we know $$\n",
    "\\begin{array}{l}\n",
    "c_1 &= 0 \\\\\n",
    "(k (k - 1) + k) c_k &= - c_{k - 2} \\\\\n",
    "c_k &= - \\frac{c_{k - 2}}{k^2}\n",
    "\\end{array}\n",
    "$$"
   ]
  },
  {
   "cell_type": "code",
   "execution_count": null,
   "metadata": {},
   "outputs": [],
   "source": []
  }
 ],
 "metadata": {
  "kernelspec": {
   "display_name": "Python 3",
   "language": "python",
   "name": "python3"
  },
  "language_info": {
   "codemirror_mode": {
    "name": "ipython",
    "version": 3
   },
   "file_extension": ".py",
   "mimetype": "text/x-python",
   "name": "python",
   "nbconvert_exporter": "python",
   "pygments_lexer": "ipython3",
   "version": "3.7.0"
  }
 },
 "nbformat": 4,
 "nbformat_minor": 2
}
