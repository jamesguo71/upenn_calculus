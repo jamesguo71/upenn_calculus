{
 "cells": [
  {
   "cell_type": "markdown",
   "metadata": {},
   "source": [
    "## 1. \n",
    "\n",
    "After drinking a cup of coffee, the amount $C$ of caffeine in a person's body obeys the differential equation $$\n",
    "\\frac{\\operatorname{d} C}{\\operatorname{d} t} = - \\alpha C\n",
    "$$ where the constant $\\alpha$ has an approximate value of $0.14 \\text{hours}^{-1}$.\n",
    "\n",
    "How many hours will it take a human body to metabolize half of the initial amount of caffeine? Round your answer to the nearest integer."
   ]
  },
  {
   "cell_type": "markdown",
   "metadata": {},
   "source": [
    "### Solution\n",
    "\n",
    "The solution of the differential equation is $$\n",
    "C = C_0 e^{- \\alpha t}\n",
    "$$\n",
    "\n",
    "Let $t_h$ be the half life of caffeine metabolism. Then $$\n",
    "\\begin{array}{l}\n",
    "\\frac{1}{2} C_0 &= C_0 e^{- \\alpha t_h} \\\\\n",
    "e^{- \\alpha t_h} &= \\frac{1}{2} \\\\\n",
    "- \\alpha t_h &= \\ln \\frac{1}{2} \\\\\n",
    "t_h &= \\frac{\\ln \\frac{1}{2}}{- \\alpha} \\\\\n",
    "&\\approx 5 \\text{hours}\n",
    "\\end{array}\n",
    "$$"
   ]
  },
  {
   "cell_type": "code",
   "execution_count": 40,
   "metadata": {},
   "outputs": [
    {
     "data": {
      "image/png": "[encoded data removed]",
      "text/latex": [
       "$$C{\\left (t \\right )} = C_{0} e^{- 0.14 t}$$"
      ],
      "text/plain": [
       "           -0.14⋅t\n",
       "C(t) = C₀⋅ℯ       "
      ]
     },
     "execution_count": 40,
     "metadata": {},
     "output_type": "execute_result"
    }
   ],
   "source": [
    "## Verify with SymPy\n",
    "\n",
    "from sympy import symbols, Function, Eq, Derivative, dsolve, init_printing\n",
    "\n",
    "init_printing()\n",
    "\n",
    "C = symbols('C', cls=Function)\n",
    "C_0, t = symbols('C_0 t', real=True, positive=True)\n",
    "\n",
    "alpha = 0.14\n",
    "\n",
    "solution = dsolve(Eq(Derivative(C(t), t), - alpha * C(t)), x0=t_0, ics={C(0): C_0})\n",
    "solution"
   ]
  },
  {
   "cell_type": "code",
   "execution_count": 41,
   "metadata": {},
   "outputs": [
    {
     "data": {
      "image/png": "[encoded data removed]",
      "text/latex": [
       "$$\\left [ \\left \\{ t : 4.9510512897139\\right \\}\\right ]$$"
      ],
      "text/plain": [
       "[{t: 4.9510512897139}]"
      ]
     },
     "execution_count": 41,
     "metadata": {},
     "output_type": "execute_result"
    }
   ],
   "source": [
    "from sympy import solve\n",
    "\n",
    "solve(Eq(C_0 / 2, solution.rhs))"
   ]
  },
  {
   "cell_type": "markdown",
   "metadata": {},
   "source": [
    "## 2.\n",
    "\n",
    "The amount $I$ of a radioactive substance in a given sample will decay in time according to the following equation: $$\n",
    "\\frac{\\operatorname{d} I}{\\operatorname{d} t} = - \\lambda I\n",
    "$$\n",
    "\n",
    "Nuclear engineers and scientists tend to be concerned with the *half-life* of a substance, that is, the time it takes for the amount of radioactive material to be halved.\n",
    "\n",
    "Find the half-life of a substance in terms of its decay constant $\\lambda$."
   ]
  },
  {
   "cell_type": "markdown",
   "metadata": {},
   "source": [
    "### Solutions\n",
    "\n",
    "Similar to question 1. The solution is $t = \\frac{\\ln \\frac{1}{2}}{- \\lambda} = \\frac{\\ln 2}{\\lambda}$."
   ]
  },
  {
   "cell_type": "markdown",
   "metadata": {},
   "source": [
    "## 3.\n",
    "\n",
    "In a highly viscous fluid, a falling spherical object of radius $r$ decelerates right before reaching the bottom of the container. A simple model for this behavior is provided by the equation $$\n",
    "\\frac{\\operatorname{d} h}{\\operatorname{d} t} = - \\frac{\\alpha}{r} h\n",
    "$$ where $h$ is the height of the object measured from the bottom, and $\\alpha$ is a constant that depends on the viscosity of the fluid.\n",
    "\n",
    "Find the time it would take the object to drop from $h = 6 r$ to $h = 2 r$ in terms of $\\alpha$ and $r$."
   ]
  },
  {
   "cell_type": "markdown",
   "metadata": {},
   "source": [
    "### Solution\n",
    "\n",
    "As the shape of the object should not change, we should be able to treat the radius $r$ as a constant.\n",
    "\n",
    "Hence the solution to the ODE is $$\n",
    "h(t) = h_0 e^{-\\frac{\\alpha}{r} t}\n",
    "$$\n",
    "\n",
    "From the question, we know $h_0 - 6 r$. And let $t_1$ be the time where $h = 2 t$, then $$\n",
    "\\begin{array}{l}\n",
    "6 r e^{-\\frac{\\alpha}{r} t_1} &= 2 r \\\\\n",
    "e^{-\\frac{\\alpha}{r} t_1} &= \\frac{1}{3} \\\\\n",
    "-\\frac{\\alpha}{r} t_1 &= - \\ln 3 \\\\\n",
    "t_1 &= \\frac{r}{\\alpha} \\ln 3\n",
    "\\end{array}\n",
    "$$"
   ]
  },
  {
   "cell_type": "markdown",
   "metadata": {},
   "source": [
    "## 4.\n",
    "\n",
    "On a cold day you want to brew a nice hot cup of tea. You pour boiling water (at a temperature of $212 °F$) into a mug and drop a tea bag in it. The water cools down in contact with the cold air according to Newton's law of cooling: $$\n",
    "\\frac{\\operatorname{d} T}{\\operatorname{d} t} = \\kappa (A - T)\n",
    "$$ where $T$ is the temperature of the water, $A = 32 °F$ the ambient temperature, and $\\kappa = 0.36 \\text{min}^{-1}$.\n",
    "\n",
    "The threshold for human beings to feel pain when entering in contact with something hot is around $107 °F$. How many seconds do you have to wait until you can safely take a sip? Round your answer to the nearest integer."
   ]
  },
  {
   "cell_type": "markdown",
   "metadata": {},
   "source": [
    "### Solution\n",
    "\n",
    "The solution to the Newton law of cooling is $$\n",
    "T(t) = A - (A - T_0) e^{- \\kappa t}\n",
    "$$.\n",
    "\n",
    "Let $t = t_1$ for the time and $T = T_1$ for the temperature when the tea is drinkable. Then $$\n",
    "\\begin{array}{l}\n",
    "T_1 &= A - (A - T_0) e^{- \\kappa t_1} \\\\\n",
    "A - T_1 &= (A - T_0) e^{- \\kappa t_1} \\\\\n",
    "e^{- \\kappa t_1} &= \\frac{A - T_1}{A - T_0} \\\\\n",
    "&= \\frac{T_1 - A}{T_0 - A}\n",
    "- \\kappa t_1 &= \\ln(T_1 - A) - \\ln(T_0 - A) \\\\\n",
    "t_1 &= \\frac{\\ln(T_0 - A) - \\ln(T_1 - A)}{\\kappa} \\\\\n",
    "&= \\frac{\\ln(212 - 32) - \\ln(107 - 32)}{\\kappa}\n",
    "&\\approx 2.4319 \\text{minutes} \\\\\n",
    "&\\approx 146 \\text{seconds}\n",
    "\\end{array}\n",
    "$$"
   ]
  },
  {
   "cell_type": "code",
   "execution_count": 56,
   "metadata": {},
   "outputs": [
    {
     "data": {
      "image/png": "[encoded data removed]",
      "text/latex": [
       "$$146$$"
      ],
      "text/plain": [
       "146"
      ]
     },
     "execution_count": 56,
     "metadata": {},
     "output_type": "execute_result"
    }
   ],
   "source": [
    "## Verify with SymPy\n",
    "\n",
    "T = symbols('T', cls=Function)\n",
    "T_0 = 212\n",
    "T_1 = 107\n",
    "A = 32\n",
    "kappa = 0.36\n",
    "\n",
    "solution = dsolve(Eq(Derivative(T(t), t), kappa * (A - T(t))), x0=t_0, ics={T(0): T_0})\n",
    "\n",
    "round(solve(Eq(T_1, solution.rhs))[0] * 60)"
   ]
  },
  {
   "cell_type": "markdown",
   "metadata": {},
   "source": [
    "## 5.\n",
    "\n",
    "On the night of April 14, 1912, the British passenger liner RMS Titanic collided with an iceberg and sank in the North Atlantic Ocean. The ship lacked enough lifeboats to accommodate all of the passengers, and many of them died from hypothermia in the cold sea waters. Hypothermia is the condition in which the temperature of a human body drops below normal operating levels (around $36 °C$). When the core body temperature drops below $28 °C$, the hypothermia is said to have become severe: major organs shut down and eventually the heart stops.\n",
    "\n",
    "If the water temperature that night was $- 2 °C$, how long did it take for passengers of the Titanic to enter severe hypothermia? Recall from lecture that heat transfer is described by Newton's law of cooling: $$\n",
    "\\frac{\\operatorname{d} T}{\\operatorname{d} t} = \\kappa (A - T)\n",
    "$$ where $T$ is the body temperature of a passenger, $A$ the water temperature, and $\\kappa = - 0.016 \\text{min}^{-1}$. Give your answer in minutes and round it to the nearest integer."
   ]
  },
  {
   "cell_type": "markdown",
   "metadata": {},
   "source": [
    "### Solution\n",
    "\n",
    "Let $t_1$ be the time of the passengers enter severe hypothermia, $T_0$ be the normal human body temperature, and $T_1$ be the hypothermia temperature.\n",
    "\n",
    "From the solution of question 4, we know $$\n",
    "\\begin{equation}\n",
    "\\begin{aligned}\n",
    "t_1 &= \\frac{\\ln(T_0 - A) - \\ln(T_1 - A)}{\\kappa} \\\\\n",
    "&\\approx 15 \\text{mins}\n",
    "\\end{aligned}\n",
    "\\end{equation}\n",
    "$$"
   ]
  },
  {
   "cell_type": "code",
   "execution_count": null,
   "metadata": {},
   "outputs": [],
   "source": []
  }
 ],
 "metadata": {
  "kernelspec": {
   "display_name": "Python 3",
   "language": "python",
   "name": "python3"
  },
  "language_info": {
   "codemirror_mode": {
    "name": "ipython",
    "version": 3
   },
   "file_extension": ".py",
   "mimetype": "text/x-python",
   "name": "python",
   "nbconvert_exporter": "python",
   "pygments_lexer": "ipython3",
   "version": "3.7.0"
  }
 },
 "nbformat": 4,
 "nbformat_minor": 2
}
