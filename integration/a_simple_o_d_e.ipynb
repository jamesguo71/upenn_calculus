{
 "cells": [
  {
   "cell_type": "markdown",
   "metadata": {},
   "source": [
    "At this lesson we are only looking at $$\n",
    "\\frac{\\operatorname{d} x}{\\operatorname{d} t} = a x\n",
    "$$. This equation is\n",
    "- Linear\n",
    "- Autonomous\n",
    "- Ordinary\n",
    "- Differential\n",
    "\n",
    "It's extreme important that we know this and its solution: $$\n",
    "x(t) = x_0 e^{a t}\n",
    "$$. How do we interpret this?\n",
    "\n",
    "- At $t = 0$ we have $x = x_0$.\n",
    "- If $a > 0$, $x$ grows exponentially\n",
    "- If $a < 0$, $x$ decays exponentially"
   ]
  },
  {
   "cell_type": "markdown",
   "metadata": {},
   "source": [
    "## Application\n",
    "\n",
    "What is modeled by $x(t) = x_0 e^{a t}$? It is ubiquitous at modeling processes."
   ]
  },
  {
   "cell_type": "markdown",
   "metadata": {},
   "source": [
    "### Examples\n",
    "\n",
    "#### Radioactive Decay\n",
    "\n",
    "For the radioactive isotope of carbon, Carbon-14, the amount $I$ of that isotope, decreases to the degree to $I$ with the constant $\\lambda$: $$\n",
    "\\frac{\\operatorname{d} I}{\\operatorname{d} t} = - \\lambda I\n",
    "$$"
   ]
  },
  {
   "cell_type": "markdown",
   "metadata": {},
   "source": [
    "#### Drug Dissipation\n",
    "\n",
    "The amount of a drug in a body is changed over time according this differential equation: $$\n",
    "\\frac{\\operatorname{d} C}{\\operatorname{d} t} = - \\alpha C\n",
    "$$, where $C$ is the amount of drug in the body, and $\\alpha$ is the dissipation constant."
   ]
  },
  {
   "cell_type": "markdown",
   "metadata": {},
   "source": [
    "For both examples, $- \\lambda < 0$ and $- \\alpha < 0$, so both quantities decays exponentially.\n",
    "\n",
    "There are examples of exponential growth."
   ]
  },
  {
   "cell_type": "markdown",
   "metadata": {},
   "source": [
    "#### Malthusian Population\n",
    "\n",
    "For a population $P$, $$\n",
    "\\frac{\\operatorname{d} P}{\\operatorname{d} t} = b P\n",
    "$$, $b$ is a constant for the birth rate, and $b > 0$. Hence the population grows exponentially."
   ]
  },
  {
   "cell_type": "markdown",
   "metadata": {},
   "source": [
    "#### Continuously-Compounded Interest\n",
    "\n",
    "The rate of change of the amount of money $\\$$ one has invested is proportional to how much is there: $$\n",
    "\\frac{\\operatorname{d} \\$}{\\operatorname{d} t} = r \\$\n",
    "$$, where $r$ is the interest rate.\n",
    "\n",
    "But what do we mean by *continuously-compounded interest*? Let's take the year model.\n",
    "\n",
    "Let $r$ be the annual interest rate, and the initial investment $\\$_0 = \\$(0)$.\n",
    "\n",
    "- Interest compounds yearly: $\\$(1) = \\$_0 + \\$ r = \\$_0(1 + r)$\n",
    "- Interest compounds monthly: $\\$(1) = \\$_0 (1 + \\frac{r}{12}) (1 + \\frac{r}{12}) ... (1 + \\frac{r}{12}) = \\$_0 (1 + \\frac{r}{12})^{12} > \\$_0(1 + r)$\n",
    "- Interest compounds daily: $\\$(1) = \\$_0 (1 + \\frac{r}{365})^{365}$\n",
    "\n",
    "In fact, we mean continuous compounding by $$\n",
    "\\$(1) = \\$_0 \\lim_{n \\to \\infty} (1 + \\frac{r}{n})^n = \\$_0 e^r\n",
    "$$. And so $$\n",
    "\\$(t + \\frac{1}{n}) = \\$(t)(1 + \\frac{r}{n})\n",
    "$$. And let $h = \\frac{1}{n}$. $$\n",
    "\\begin{array}{l}\n",
    "\\$(t + h) &= \\$(t) (1 + r h) \\\\\n",
    "&= \\$(t) + r \\$(t) h \\\\\n",
    "\\lim_{h \\to 0} \\$(t + h) &= \\lim_{h \\to 0} (\\$(t) + \\frac{\\operatorname{d} \\$}{\\operatorname{d} t} h) &\\text{as $\\frac{\\operatorname{d} \\$}{\\operatorname{d} t} = r \\$$}\n",
    "\\end{array}\n",
    "$$"
   ]
  },
  {
   "cell_type": "markdown",
   "metadata": {},
   "source": [
    "#### Linguistics Model\n",
    "\n",
    "The number of words in English remaining in common use decreases at a rate proportional to the remaining words.\n",
    "\n",
    "Think *Chaucer* (1400) -> *Shakespeare* (1600) -> *Milton* (1667).\n",
    "\n",
    "$$\n",
    "\\frac{\\operatorname{d} W}{\\operatorname{d} t} = - \\alpha W\n",
    "$$, where $W$ is the number of remaining words in English, and $\\alpha$ is the decay constant.\n",
    "\n",
    "Now following this model, if we find $20\\%$ of *Milton*'s English to be foreign, then what fraction of *Chaucer*'s poem did *Shakespeare*'s audience recognise?\n",
    "\n",
    "For $t$ as the time in years,\n",
    "\n",
    "*Milton*'s active lexicon at year $t$: $$\n",
    "W_{Milton}(t) = W_{Milton}(1667)e^{- \\alpha (t - 1667)}\n",
    "$$.\n",
    "\n",
    "*Chaucer*'s active lexicon at year $t$: $$\n",
    "W_{Chaucer}(t) = W_{Chaucer}(1400)e^{- \\alpha (t - 1400)}\n",
    "$$\n",
    "\n",
    "This model of linguistics is not that accurate, as it ignores so many factors of linguistics such as creation of new words, word evolution, and language evolution."
   ]
  },
  {
   "cell_type": "markdown",
   "metadata": {},
   "source": [
    "#### Zombie Apocalypse\n",
    "\n",
    "At time $t$:\n",
    "- $u(t)$ is the uninfected population\n",
    "- $z(t)$ is the infected population\n",
    "- $P$ is the total population (which can be treated as a constant)\n",
    "\n",
    "The rate of zombie infection is $$\n",
    "\\frac{\\operatorname{d} z}{\\operatorname{d} t} = r (P - z) = r u\n",
    "$$ where $r$ is a positive constant.\n",
    "\n",
    "And $$\n",
    "\\frac{\\operatorname{d} u}{\\operatorname{d} t} = \\frac{\\operatorname{d} P}{\\operatorname{d} t} - \\frac{\\operatorname{d} z}{\\operatorname{d} t} = - \\frac{\\operatorname{d} z}{\\operatorname{d} t} = - r u\n",
    "$$.\n",
    "\n",
    "Hence $$\n",
    "\\begin{array}{l}\n",
    "u(t) &= u_0 e^{- r t} \\\\\n",
    "z(t) &= P - u(t) \\\\\n",
    "&= P - u_0 e^{- r t}\n",
    "\\end{array}\n",
    "$$\n",
    "And $$\n",
    "\\begin{equation}\n",
    "\\begin{aligned}\n",
    "\\lim_{t \\to \\infty} z(t) &= P - \\lim_{t \\to \\infty} u_0 e^{- r t} \\\\\n",
    "&= P\n",
    "\\end{aligned}\n",
    "\\end{equation}\n",
    "$$. So unfortunately, as time goes, all the population become zombies."
   ]
  },
  {
   "cell_type": "markdown",
   "metadata": {},
   "source": [
    "The O.D.E. $$\n",
    "\\frac{\\operatorname{d} z}{\\operatorname{d} t} = r (P - z) = r u\n",
    "$$ can also be used to model epidemics, propaganda, or adoption of new technologies. This simplistic model is not enough to model complex phenomena, but is usually good for a first approximation.\n",
    "\n",
    "And it is used in Newton's Law of Heat Transfer: $$\n",
    "\\frac{\\operatorname{d} T}{\\operatorname{d} t} = h (A - T)\n",
    "$$ Where\n",
    "- $t$ is the time\n",
    "- $T(t)$ is the temperature of the object\n",
    "- $A(t)$ is the temperature of the environment\n",
    "- $h$ is the heat transfer coefficient"
   ]
  },
  {
   "cell_type": "code",
   "execution_count": null,
   "metadata": {},
   "outputs": [],
   "source": []
  }
 ],
 "metadata": {
  "kernelspec": {
   "display_name": "Python 3",
   "language": "python",
   "name": "python3"
  },
  "language_info": {
   "codemirror_mode": {
    "name": "ipython",
    "version": 3
   },
   "file_extension": ".py",
   "mimetype": "text/x-python",
   "name": "python",
   "nbconvert_exporter": "python",
   "pygments_lexer": "ipython3",
   "version": "3.7.0"
  }
 },
 "nbformat": 4,
 "nbformat_minor": 2
}
