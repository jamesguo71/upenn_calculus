{
 "cells": [
  {
   "cell_type": "markdown",
   "metadata": {},
   "source": [
    "## Definition: Indefinite Integral\n",
    "\n",
    "The indefinite integral of a function $f$ is the anti-derivative of $f$.\n",
    "\n",
    "The means if we take the integral of $f$ and differentiated, and plug that into the differentiation operator, then we get back $f$.\n",
    "\n",
    "![](anti-differentiation.png)"
   ]
  },
  {
   "cell_type": "markdown",
   "metadata": {},
   "source": [
    "You may think that the integral is really the inverse if the differentiation operator.\n",
    "\n",
    "That's almost true, but not quite.\n",
    "\n",
    "If we reverse the order of operations, and first compute the derivative of $f$, and then integrate it. Do we get back $f$ again? Not exactly. There is a constant of integration involved.\n",
    "\n",
    "![](anti-differentiation_reversed.png)"
   ]
  },
  {
   "cell_type": "markdown",
   "metadata": {},
   "source": [
    "### Examples of integrals\n",
    "$$\n",
    "\\begin{array}{l}\n",
    "\\int x^k \\operatorname{d} x &= \\frac{1}{k + 1} x^{k + 1} + C \\\\\n",
    "\\int \\frac{1}{x} \\operatorname{d} x &= \\ln x + C \\\\\n",
    "\\int \\sin x \\operatorname{d} x &= - \\cos x + C \\\\\n",
    "\\int \\cos x \\operatorname{d} x &= \\sin x + C \\\\\n",
    "\\int e^x \\operatorname{d} x &= e^x + C\n",
    "\\end{array}\n",
    "$$. Mind the constant $C$."
   ]
  },
  {
   "cell_type": "markdown",
   "metadata": {},
   "source": [
    "### Non-trivial examples\n",
    "\n",
    "$$\n",
    "\\begin{array}{l}\n",
    "\\int \\sqrt{x^2 - 1} \\operatorname{d} x &= ? \\\\\n",
    "\\int \\ln x \\operatorname{d} x &= ? \\\\\n",
    "\\int \\sec x \\operatorname{d} x &= ? \\\\\n",
    "\\int e^{x^2} \\operatorname{d} x &= ? \\\\\n",
    "\\end{array}\n",
    "$$. Looks difficult to compute. We will figure out in later chapters."
   ]
  },
  {
   "cell_type": "markdown",
   "metadata": {},
   "source": [
    "Why do we care about indefinite integrals?\n",
    "\n",
    "One application of it is in the subject of differential equations."
   ]
  },
  {
   "cell_type": "markdown",
   "metadata": {},
   "source": [
    "## Differential Equations\n",
    "\n",
    "A differential equation is an algebraic equation on $x = x(t)$ and it derivatives."
   ]
  },
  {
   "cell_type": "markdown",
   "metadata": {},
   "source": [
    "### $\\frac{\\operatorname{d} x}{\\operatorname{d} t} = f(t)$\n",
    "\n",
    "A simplest class of differential equation is $$\n",
    "\\frac{\\operatorname{d} x}{\\operatorname{d} t} = f(t)\n",
    "$$. And the solution to this equation is $$\n",
    "x(t) = \\int f(t) \\operatorname{d} t\n",
    "$$.\n",
    "\n",
    "We can interpret this differential equation as: we know the value of slopes of the function $x$ all points of $t$. With that we need to find the function $x(t)$ by indefinitely-integrating on the slopes.\n",
    "\n",
    "![](differential_equation_interpretation.png)\n",
    "\n",
    "Given the indefinite integrals produce value with a constant, we can think the $x(t)$ function can be \"moved up and down\". Hence the solution to the differential equation is well-defined up to a constant.\n",
    "\n",
    "This form of differential equation is called **Ordinary Differential Equations (O.D.E.)**."
   ]
  },
  {
   "cell_type": "markdown",
   "metadata": {},
   "source": [
    "#### Example: Gravitation\n",
    "\n",
    "Let's model an object falling in gravity. Let's denote the height as $x$, the velocity as $v$, and the acceleration as $a$. All of these are functions of time $t$.\n",
    "\n",
    "And since the acceleration is a constant, we can write $\\frac{\\operatorname{d} v}{\\operatorname{d} t} = -g$ (Think up is positive, and down is negative).\n",
    "\n",
    "Like wise, we know $\\frac{\\operatorname{d} x}{\\operatorname{d} t} = v$.\n",
    "\n",
    "Let's solve $v$ and $x$, one at a time.\n",
    "\n",
    "$$\n",
    "\\begin{array}{l}\n",
    "\\frac{\\operatorname{d} v}{\\operatorname{d} t} &= -g \\\\\n",
    "v(t) &= \\int (-g) \\operatorname{d} t + C \\\\\n",
    "&= - g t + C\n",
    "\\end{array}\n",
    "$$. At here the constant $C$ means the initial velocity. So let's denote the constant as $v_0$: $$\n",
    "\\begin{array}{l}\n",
    "v(t) &= - g t + v_o\n",
    "\\end{array}\n",
    "$$\n",
    "\n",
    "Now we can solve the height $x(t)$\n",
    "$$\n",
    "\\begin{array}{l}\n",
    "\\frac{\\operatorname{d} x}{\\operatorname{d} t} &= v \\\\\n",
    "&= - g t + v_0 \\\\\n",
    "x &= \\int (- g t + v_0) \\operatorname{d} t \\\\\n",
    "&= - \\frac{1}{2} g t^2 + v_0 t + C\n",
    "\\end{array}\n",
    "$$. And here the constant $C$ means the initial height. So let's denote the constant as $x_0$: $$\n",
    "x = - \\frac{1}{2} g t^2 + v_0 t + x_0\n",
    "$$"
   ]
  },
  {
   "cell_type": "markdown",
   "metadata": {},
   "source": [
    "### $\\frac{\\operatorname{d} x}{\\operatorname{d} t} = f(x)$\n",
    "\n",
    "Another simplest class of differential equation is $$\n",
    "\\frac{\\operatorname{d} x}{\\operatorname{d} t} = f(x)\n",
    "$$. And how do we solve $x(t)$?\n",
    "\n",
    "Let's limit the problem to the canonical differential equation which is linear in $x$:$$\n",
    "\\frac{\\operatorname{d} x}{\\operatorname{d} t} = a x\n",
    "$$ where $a$ is a constant.\n",
    "\n",
    "So how do we solve the linear O.D.E.?\n",
    "\n",
    "We know that for $$\n",
    "\\frac{\\operatorname{d} x}{\\operatorname{d} t} = x\n",
    "$$ the solution is $e^t$.\n",
    "\n",
    "So for $$\n",
    "\\frac{\\operatorname{d} x}{\\operatorname{d} t} = a x\n",
    "$$ we can see $x(t) = e^{a t}$ is a solution, as $$\n",
    "\\frac{\\operatorname{d} e^{a t}}{\\operatorname{d} t} = a e^{a t}\n",
    "$$. We could also put an arbitrary constant $C$ in front of the solution as $C e^{a t}$, as $$\n",
    "\\frac{\\operatorname{d} C e^{a t}}{\\operatorname{d} t} = a (C e^{a t})\n",
    "$$ We can call the constant $x_0$ as it means the **initial condition**, the value $x$ at $t = 0$. Hence the solution is $x_0 e^{a t}$. This method of solution is called **ANSATZ**, which is a fancy word of \"we took a guess and it turns out to be correct.\""
   ]
  },
  {
   "cell_type": "markdown",
   "metadata": {},
   "source": [
    "#### Solving $\\frac{\\operatorname{d} x}{\\operatorname{d} t} = a x$ with series\n",
    "\n",
    "\n",
    "We assume function $x$ can be expanded as series as $$\n",
    "x(t) = c_0 + c_1 t + c_2 t^2 + c_3 t^3 + c_4 t^4 + ...\n",
    "$$ with the constant of each term $c_k$ are unknown to us.\n",
    "\n",
    "The first step to solve $\\frac{\\operatorname{d} x}{\\operatorname{d} t} = a x$ is to differentiate the expansion: $$\n",
    "\\frac{\\operatorname{d} x}{\\operatorname{d} t} = c_1 + 2 c_2 t + 3 c_3 t^2 + 4 c_4 t^3 + ...\n",
    "$$. And also $$\n",
    "a x = a c_0 + a c_1 t + a c_2 t^2 + a c_3 t^3 + a c_4 t^4 + ...\n",
    "$$. Since we have $\\frac{d x}{d t} = a x$, we then know $$\n",
    "c_1 + c_2 t + c_3 t^2 + c_4 t^3 + ... = a c_0 + a c_1 t + a c_2 t^2 + a c_3 t^3 + a c_4 t^4 + ...\n",
    "$$. Then we know $$\n",
    "\\begin{array}{l}\n",
    "c_1 &= a c_0 \\\\\n",
    "c_2 &= \\frac{1}{2} a c_1 &= \\frac{1}{2!} a^2 c_0 \\\\\n",
    "c_3 &= \\frac{1}{3} a c_2 &= \\frac{1}{3!} a^3 c_0 \\\\\n",
    "c_4 &= \\frac{1}{4} a c_3 &= \\frac{1}{4!} a^4 c_0 \\\\\n",
    "... \\\\\n",
    "c_{k} &= \\frac{1}{k} a c_{k - 1} &= \\frac{1}{k!} a^k c_0\n",
    "... \\\\\n",
    "\\end{array}\n",
    "$$.\n",
    "\n",
    "Hence $$\n",
    "\\begin{equation}\n",
    "\\begin{aligned}\n",
    "x(t) &= \\sum_{k = 0}^{\\infty} c_k t^k \\\\\n",
    "&= \\sum_{k = 0}^{\\infty} c_0 \\frac{1}{k!} a^k t^k \\\\\n",
    "&= c_0 (\\sum_{k = 0}^{\\infty} \\frac{1}{k!} (a t)^k) \\\\\n",
    "&= c_0 e^{a t}\n",
    "\\end{aligned}\n",
    "\\end{equation}\n",
    "$$"
   ]
  },
  {
   "cell_type": "markdown",
   "metadata": {},
   "source": [
    "#### Solving $\\frac{\\operatorname{d} x}{\\operatorname{d} t} = a x$ with integration\n",
    "\n",
    "$$\n",
    "\\begin{array}{l}\n",
    "x &= x(t) \\\\\n",
    "\\operatorname{d} x &= \\frac{\\operatorname{d} x}{\\operatorname{d} t} \\operatorname{d} t &\\text{Chain rule} \\\\\n",
    "&= a x \\operatorname{d} t \\\\\n",
    "\\frac{\\operatorname{d} x}{x} &= a \\operatorname{d} t & \\text{Called \"Method of Separation\"} \\\\\n",
    "\\int \\frac{1}{x} \\operatorname{d} x &= \\int a \\operatorname{d} t & \\text{Apply the integral operator} \\\\\n",
    "\\ln x + C_1 &= a t + C_2 \\\\\n",
    "\\ln x &= a t + C \\\\\n",
    "x &= e^{a t + C} & \\text{Apply the exponential operator} \\\\\n",
    "&= C e^{a t}\n",
    "\\end{array}\n",
    "$$"
   ]
  },
  {
   "cell_type": "markdown",
   "metadata": {},
   "source": [
    "It's not a coincidence that $e$ appears in the solutions of the simplest O.D.E.\n",
    "\n",
    "Think $$\n",
    "\\begin{array}{l}\n",
    "\\frac{\\operatorname{d} t}{d t} &= x &\\text{O.D.E.} \\\\\n",
    "&= (x_0 e^{t})|_{x_0 = 1} &\\text{where $x_0$ is the initial condition} \\\\\n",
    "x(t) &= \\sum_{k= 0}^\\infty \\frac{t^k}{k !} & \\text{Series} \\\\\n",
    "&= (c_0 e^t)|_{c_0 = 1} & \\text{where $c_0$ is the initial term} \\\\\n",
    "\\int \\frac{1}{x} \\operatorname{d} x &= \\int \\operatorname{d} t & \\text{Integral} \\\\\n",
    "&= (C e^{a t})|_{C = 1} {where $C$ is the integral constant}\n",
    "\\end{array}\n",
    "$$\n",
    "\n",
    "This also reflects why the $+ C$ part in indefinite integrals has many answers."
   ]
  },
  {
   "cell_type": "code",
   "execution_count": null,
   "metadata": {},
   "outputs": [],
   "source": []
  }
 ],
 "metadata": {
  "kernelspec": {
   "display_name": "Python 3",
   "language": "python",
   "name": "python3"
  },
  "language_info": {
   "codemirror_mode": {
    "name": "ipython",
    "version": 3
   },
   "file_extension": ".py",
   "mimetype": "text/x-python",
   "name": "python",
   "nbconvert_exporter": "python",
   "pygments_lexer": "ipython3",
   "version": "3.7.0"
  }
 },
 "nbformat": 4,
 "nbformat_minor": 2
}
