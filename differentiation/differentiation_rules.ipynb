{
 "cells": [
  {
   "cell_type": "markdown",
   "metadata": {},
   "source": [
    "From the [definitions of derivatives](derivatives.ipynb) flows the interpretation of the rate of change in the output with respect the rate of change in the input.\n",
    "- The derivative depends on the input value $x = a$\n",
    "- The derivative concerns the rate of change, but not how much the input value has actually changed\n",
    "- The derivative at $x = a$ tells how fluctuations $h$ in the input are\n",
    " - Amplified, if $\\frac{d f}{d x} > 1$\n",
    " - Damped, if $0 < \\frac{d f}{d x} < 1$\n",
    " - Reversed, if $\\frac{d f}{d x} < 0$"
   ]
  },
  {
   "cell_type": "markdown",
   "metadata": {},
   "source": [
    "In earlier calculus exposure we have learned some rules of derivatives.\n",
    "- Linearity:\n",
    " - On addition: $\\frac{d (u + v)}{d x} = \\frac{d u}{d x} + \\frac{d v}{d x}$\n",
    " - On multiplication: $\\frac{d (cu)}{d x} = c \\frac{d u}{d x}$\n",
    "- Product Rule: $\\frac{d(u \\cdot v)}{d x} = u \\frac{d v}{d x} + v \\frac{d u}{d x}$\n",
    "- Chain Rule: $\\frac{d(u \\circ v)}{d x} = \\frac{d u}{d v} \\cdot \\frac{d v}{d x}$"
   ]
  },
  {
   "cell_type": "markdown",
   "metadata": {},
   "source": [
    "## Linearity\n",
    "\n",
    "Interpretation: The change of output is linear to the change of input.\n",
    "\n",
    "![Summation Rule](summation_rule.png)\n",
    "![Multiplication Rule](multiplication_rule.png)\n",
    "\n",
    "### A better justification of the linearity rule using Big-$O$\n",
    "We know that $$\n",
    "\\begin{equation}\n",
    "\\begin{aligned}{}\n",
    "(u + v)(x + h) &= u(x + h) + v(x + h) \\\\\n",
    "&= (u + \\frac{d u}{d x} h + O(h^2)) + (v + \\frac{d v}{d x} h + O(h^2)) & \\text{Our 3rd definition of derivative} \\\\\n",
    "&= (u + v) + (\\frac{d u}{d x} + \\frac{d v}{d x}) h + O(h^2)\n",
    "\\end{aligned}\n",
    "\\end{equation}\n",
    "$$. Hence we can justify $$\n",
    "\\frac{d (u + v)}{d x} = \\frac{d u}{d x} + \\frac{d v}{d x}\n",
    "$$.\n",
    "\n",
    "Likewise, $$\n",
    "\\begin{equation}\n",
    "\\begin{aligned}{}\n",
    "(c u)(x + h) &= c (u + \\frac{d u}{d x} h + O(h^2)) \\\\\n",
    "&= (c u) + (c \\frac{d u}{d x}) h + O(h^2)\n",
    "\\end{aligned}\n",
    "\\end{equation}\n",
    "$$. Hence we can justify $$\n",
    "\\frac{d(c u)}{d x} = c \\frac{d u}{d x}\n",
    "$$."
   ]
  },
  {
   "cell_type": "markdown",
   "metadata": {},
   "source": [
    "## Product Rule\n",
    "\n",
    "Likewise, we can visualize the product rule.\n",
    "\n",
    "![Product Rule](product_rule.png)\n",
    "\n",
    "### A better justification of the linearity rule using Big-$O$\n",
    "\n",
    "$$\n",
    "\\begin{equation}\n",
    "\\begin{aligned}{}\n",
    "(u \\cdot v)(x + h) &= u(x + h) v(x + h) \\\\\n",
    "&= (u + \\frac{d u}{d x} h + O(h^2)) (v + \\frac{d v}{d x} h + O(h^2)) \\\\\n",
    "&= u \\cdot v + v \\frac{d u}{d x} h + O(h^2) + u \\frac{d v}{d x} h + O(h^2) \\\\\n",
    "&= (u \\cdot v) + (v \\frac{d u}{d x} + u \\frac{d v}{d x}) h + O(h^2)\n",
    "\\end{aligned}\n",
    "\\end{equation}\n",
    "$$. Hence we can justify that $$\n",
    "\\frac{d(u \\cdot v)}{d x} = v \\frac{d u}{d x} + u \\frac{d v}{d x}\n",
    "$$"
   ]
  },
  {
   "cell_type": "markdown",
   "metadata": {},
   "source": [
    "## Chain Rule\n",
    "\n",
    "A visual interpretation of the chain rule.\n",
    "\n",
    "![Chain Rule](chain_rule.png)\n",
    "\n",
    "### A better justification of the linearity rule using Big-$O$\n",
    "\n",
    "$$\n",
    "\\begin{equation}\n",
    "\\begin{aligned}{}\n",
    "u(v(x + h)) &= u(v + \\frac{d v}{d x} h + O(h^2)) \\\\\n",
    "&= u(v + (\\frac{d v}{d x} h + O(h^2))) & \\text{where we can see ($\\frac{d v}{d x} h + O(h^2)$) as the \"new $h$\"} \\\\\n",
    "&= u(v) + \\frac{d u}{d v} (\\frac{d v}{d x} h + O(h^2)) + O((\\frac{d v}{d x} h + O(h^2))^2) \\\\\n",
    "&= u(v) + (\\frac{d u}{d v} \\cdot \\frac{d v}{d x}) h + O(h^2)\n",
    "\\end{aligned}\n",
    "\\end{equation}\n",
    "$$. Hence we can justify $$\n",
    "\\frac{d u}{d x} = \\frac{d u}{d v} \\cdot \\frac{d v}{d x}\n",
    "$$"
   ]
  },
  {
   "cell_type": "markdown",
   "metadata": {},
   "source": [
    "### Caution: We must evaluate the derivative at the correct input\n",
    "\n",
    "For example, let $f(x) = e^x$. What is $$\n",
    "\\frac{d}{d x} (f \\circ f)\n",
    "$$?\n",
    "\n",
    "According to the chain rule, it should be\n",
    "$$\n",
    "\\begin{equation}\n",
    "\\begin{aligned}{}\n",
    "\\frac{d}{d x} (f \\circ f) &= \\frac{d f}{d x} \\cdot \\frac{d f}{d x} & \\text{(where is missing the input)}\n",
    "\\end{aligned}\n",
    "\\end{equation}\n",
    "$$.\n",
    "\n",
    "Actually, for $x = a$\n",
    "\n",
    "$$\n",
    "\\begin{equation}\n",
    "\\begin{aligned}{}\n",
    "\\frac{d}{d x} (f \\circ f) |_{x = a} &= \\frac{d f}{d x}|_{x = e^a} \\cdot \\frac{d f}{d x}|_{x = a} \\\\\n",
    "&= e^{e^a} e^a\n",
    "\\end{aligned}\n",
    "\\end{equation}\n",
    "$$. Hence $$\\frac{d}{d x} (f \\circ f) = e^{e^x} e^x$$"
   ]
  },
  {
   "cell_type": "markdown",
   "metadata": {},
   "source": [
    "## More differentiation rules we have been exposed about previously...\n",
    "\n",
    "### Reciprocal\n",
    "$$\\frac{d}{d x} (\\frac{1}{v}) = - \\frac{1}{v^2} \\frac{d v}{d x}$$.\n",
    "\n",
    "### Quotient\n",
    "$$\\frac{d}{d x} (\\frac{u}{v}) = \\frac{v \\frac{d u}{d x} - u \\frac{d v}{d x}}{v^2}$$.\n",
    "\n",
    "### Inverse\n",
    "$$\\frac{d}{d x} (u^{-1}) = \\frac{1}{\\frac{d u}{d x}}$$.\n",
    "\n",
    "We will try to justify these rules as exercises."
   ]
  },
  {
   "cell_type": "code",
   "execution_count": null,
   "metadata": {},
   "outputs": [],
   "source": []
  }
 ],
 "metadata": {
  "kernelspec": {
   "display_name": "Python 3",
   "language": "python",
   "name": "python3"
  },
  "language_info": {
   "codemirror_mode": {
    "name": "ipython",
    "version": 3
   },
   "file_extension": ".py",
   "mimetype": "text/x-python",
   "name": "python",
   "nbconvert_exporter": "python",
   "pygments_lexer": "ipython3",
   "version": "3.7.0"
  }
 },
 "nbformat": 4,
 "nbformat_minor": 2
}
