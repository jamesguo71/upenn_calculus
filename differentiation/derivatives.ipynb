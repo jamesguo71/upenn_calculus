{
 "cells": [
  {
   "cell_type": "markdown",
   "metadata": {},
   "source": [
    "We have been computing derivatives, but do we really know that they mean?\n",
    "\n",
    "We have learned derivatives as slopes. But that's an interpretation of derivatives, not a definition.\n",
    "\n",
    "And it's not a very robust interpretation either - think about a function with multiple inputs and multiple outputs. What does a derivative mean for that? E.g.\n",
    "- A vector field\n",
    "- A digital image\n",
    "- Brownian noise\n",
    "\n",
    "...for those functions, derivatives makes sense, while slopes do not."
   ]
  },
  {
   "cell_type": "markdown",
   "metadata": {},
   "source": [
    "## 3 definitions of derivative\n",
    "\n",
    "### Definition 1\n",
    "\n",
    "The derivative of function $f$ at $x = a$ is defined as $$\n",
    "\\frac{d f}{d x}|_a = \\lim_{x \\to a} \\frac{f(x) - f(a)}{x - a}\n",
    "$$.\n",
    "\n",
    "The benefit of this definition is that we can interpret the derivative as $$\n",
    "\\lim_{input \\to a} \\frac{\\text{change in output}}{\\text{change in input}}\n",
    "$$. And it is conceptually clear."
   ]
  },
  {
   "cell_type": "markdown",
   "metadata": {},
   "source": [
    "### Definition 2\n",
    "\n",
    "The derivative of function $f$ at $x = a$ is defined as $$\n",
    "\\frac{d f}{d x} |_a = \\lim_{h \\to 0} \\frac{f(a + h) - f(a)}{h}\n",
    "$$\n",
    "\n",
    "The benefit of this definition is that we can interpret the derivative as $$\n",
    "\\lim_{\\text{change in input} \\to 0} \\frac{\\text{change in output}}{\\text{change in input}}\n",
    "$$. This is really the same definition as definition 1, simply as $$\n",
    "\\begin{array}{}\n",
    "h &= x - a \\\\\n",
    "x &= h + a\n",
    "\\end{array}\n",
    "$$, which is a change of variables."
   ]
  },
  {
   "cell_type": "markdown",
   "metadata": {},
   "source": [
    "### Definition 3\n",
    "\n",
    "This is a bit different...\n",
    "\n",
    "The derivative of function $f$ at $x = a$ is defined as the constant $$\n",
    "\\frac{d f}{d x} |_a = C\n",
    "$$ satisfying that $$\n",
    "f(a + h) = f(a) + C h + O(h^2)\n",
    "$$. Where $O(h^2)$ implies all other change will vanish quadratically.\n",
    "\n",
    "Some people call this a __strong__ derivative, because sometimes it does not exists, even when the true derivative in terms of the limit does.\n",
    "\n",
    "Thinking in terms of a Taylor expansion, and using big $O$ to control higher order terms to be illuminative."
   ]
  },
  {
   "cell_type": "markdown",
   "metadata": {},
   "source": [
    "### Comparision of the definitions for $f(x) = x^n $ where $n \\geq 1$\n",
    "\n",
    "According to Definition 1 and 2, we can write the derivative as $$\n",
    "\\begin{equation}\n",
    "\\begin{aligned}{}\n",
    "\\frac{d f}{d x}|_a &= \\lim_{h \\to 0} \\frac{f(a + h) - f(a)}{h} \\\\\n",
    "&= \\lim_{h \\to 0} \\frac{(a + h)^n - a^n}{h} \\\\\n",
    "&= \\lim_{h \\to 0} \\frac{(a^n + n a^{n - 1} h + O(h^2)) - a^n}{h} \\\\\n",
    "&= \\lim_{h \\to 0} \\frac{n a^{n - 1} h + O(h^2))}{h} \\\\\n",
    "&= \\lim_{h \\to 0} n a^{n - 1} + O(h) \\\\\n",
    "&= n a^{n - 1}\n",
    "\\end{aligned}\n",
    "\\end{equation}\n",
    "$$\n",
    "\n",
    "That definition is the same as the 3rd definition in terms of the variation of the output.\n",
    "\n",
    "Related to definition 3 $$\n",
    "\\begin{equation}\n",
    "\\begin{aligned}{}\n",
    "f(a + h) &= (a + h)^n \\\\\n",
    "&= a^n + n a^{n - 1} h + O(h^2) \\\\\n",
    "\\end{aligned}\n",
    "\\end{equation}\n",
    "$$ Where the first order term of $h$, $n a^{n - 1} h$, is $\\frac{d f}{d x}|_a$."
   ]
  },
  {
   "cell_type": "markdown",
   "metadata": {},
   "source": [
    "### More Examples\n",
    "\n",
    "### $e^{x + h}$\n",
    "\n",
    "$$\n",
    "\\begin{equation}\n",
    "\\begin{aligned}{}\n",
    "e^{x + h} &= e^x e^h \\\\\n",
    "&= e^x (1 + h + O(h^2)) & \\text{Warning: circular reasoning} \\\\\n",
    "&= e^x + e^x h + O(h^2)\n",
    "\\end{aligned}\n",
    "\\end{equation}\n",
    "$$"
   ]
  },
  {
   "cell_type": "markdown",
   "metadata": {},
   "source": [
    "### $\\cos (x + h)$\n",
    "\n",
    "$$\n",
    "\\begin{equation}\n",
    "\\begin{aligned}{}\n",
    "\\cos (x + h) &= \\cos x \\cos h - \\sin x \\sin h & \\text{[1]} \\\\\n",
    "&= \\cos x (1 + O(h^2)) - \\sin x (h + O(h^3)) \\\\\n",
    "&= \\cos - (\\sin x) h + O(h^2)\n",
    "\\end{aligned}\n",
    "\\end{equation}\n",
    "$$\n",
    "\n",
    "[1](http://trigonography.com/2015/09/28/angle-sum-and-difference-for-sine-and-cosine/)"
   ]
  },
  {
   "cell_type": "markdown",
   "metadata": {},
   "source": [
    "### $\\sqrt {x + h}$\n",
    "\n",
    "$$\n",
    "\\begin{equation}\n",
    "\\begin{aligned}{}\n",
    "\\sqrt{x + h} &= \\sqrt{x (1 + \\frac{h}{x})} \\\\\n",
    "&= \\sqrt{x} (1 + \\frac{h}{x})^{\\frac{1}{2}} \\\\\n",
    "&= \\sqrt{x} (1 + \\frac{1}{2}\\frac{h}{x} + O(h^2)) & \\text{Binomial series} \\\\\n",
    "&= \\sqrt{x} + \\frac{1}{2} x^{- \\frac{1}{2}} + O(h^2) & \\text{when $x \\neq 0$}\n",
    "\\end{aligned}\n",
    "\\end{equation}\n",
    "$$\n",
    "\n"
   ]
  },
  {
   "cell_type": "markdown",
   "metadata": {},
   "source": [
    "### Notations of derivatives\n",
    "\n",
    "The derivative of $y = f(x)$ can be denoted by\n",
    "- $\\frac{d f}{d x}$ or $\\frac{d y}{d x}$ (The best ways)\n",
    "- $f^{\\prime}$ ,$\\dot{y}$, or $d f$ (OK ways, but the information of which variable is changing is lost)"
   ]
  },
  {
   "cell_type": "markdown",
   "metadata": {},
   "source": [
    "### Examples application of derivatives\n",
    "\n",
    "The most common incarnations of derivatives involve change of time.\n",
    "- Velocity: $v = \\frac{d x}{d t}$.\n",
    "- Acceleration: $a = \\frac{d v}{d t}$.\n",
    "\n",
    "But there are other example too.\n",
    "- Current: $I = \\frac{d Q}{d t}$, where $Q$ is the charge.\n",
    "- Chemical reaction rates: $r_{p} = \\frac{d[P]}{d t}$.\n",
    "\n",
    "And there are examples of derivatives that don't involve the change of time.\n",
    "- Spring constant: $k = \\frac{d(force)}{d(deflection)}$.\n",
    "- Elastic modulus: $\\lambda = \\frac{d(stress)}{d(strain)}$.\n",
    "- Viscosity/Shear stress: $\\tau = \\mu \\frac{d(velocity)}{d(height)}$.\n",
    "- Marginal rates in economics: $mr = \\frac{d(tax)}{d(income)}$."
   ]
  },
  {
   "cell_type": "code",
   "execution_count": null,
   "metadata": {},
   "outputs": [],
   "source": []
  }
 ],
 "metadata": {
  "kernelspec": {
   "display_name": "Python 3",
   "language": "python",
   "name": "python3"
  },
  "language_info": {
   "codemirror_mode": {
    "name": "ipython",
    "version": 3
   },
   "file_extension": ".py",
   "mimetype": "text/x-python",
   "name": "python",
   "nbconvert_exporter": "python",
   "pygments_lexer": "ipython3",
   "version": "3.7.0"
  }
 },
 "nbformat": 4,
 "nbformat_minor": 2
}
