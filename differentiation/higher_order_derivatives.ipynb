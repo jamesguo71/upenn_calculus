{
 "cells": [
  {
   "cell_type": "markdown",
   "metadata": {},
   "source": [
    "## Repeatative derivative annihilate polynomials\n",
    "$$\n",
    "\\begin{array}{l}\n",
    "\\frac{d}{d x} (x^4 - 2 x^3 + x^2 - 9 x + 4) &= 4 x^3 + 6 x^2 + x - 9 \\\\\n",
    "\\frac{d}{d x} (4 x^3 + 6 x^2 + x - 9) &= 12 x^2 + 12 x + 1 \\\\\n",
    "\\frac{d}{d x} (12 x^2 + 12 x + 1) &= 24 x + 12 \\\\\n",
    "\\frac{d}{d x} (24 x + 12) &= 24 \\\\\n",
    "\\frac{d}{d x} 24 &= 0\n",
    "\\end{array}\n",
    "$$"
   ]
  },
  {
   "cell_type": "markdown",
   "metadata": {},
   "source": [
    "## Notation of high order derivatives\n",
    "One way to denote the $n$th derivative of function $f$ is $f^{(n)}$.\n",
    "\n",
    "Better still, we can use $\\frac{d^n f}{d x^n}$. But why?\n",
    "\n",
    "The reason is, we are taking \"power\" of the differentiation operator. What we really mean is $(\\frac{d}{d x})^n f$."
   ]
  },
  {
   "cell_type": "markdown",
   "metadata": {},
   "source": [
    "## Interpretation of Higher Derivatives"
   ]
  },
  {
   "cell_type": "markdown",
   "metadata": {},
   "source": [
    "### Dynamics\n",
    "\n",
    "Let $x(t)$ denote the position of a moving body. Then $\\frac{d x}{d t}$ is velocity, which is the rate of change of displacement. And $\\frac{d^2 x}{d t^2}$ is acceleration, which is the rate of change of velocity. But what is $\\frac{d^3 x}{d t^3}$? What about $\\frac{d^4 x}{d t^4}$?\n",
    "\n",
    "$\\frac{d^3 x}{d t^3}$ is usually called Jerk. $\\frac{d^4 x}{d t^4}$ is called snap, or jounce.\n",
    "\n",
    "A system requires precise control of dynamics, like a quadrotor, requires control not only on acceleration, but also on jerk and snap as well. "
   ]
  },
  {
   "cell_type": "markdown",
   "metadata": {},
   "source": [
    "### Geometry\n",
    "\n",
    "#### Curvature\n",
    "\n",
    "![](curvature.png)\n",
    "\n",
    "##### Towards a more formal derivation of curvature\n",
    "\n",
    "We have a function $y = f(x)$.\n",
    "\n",
    "Let's find a circle that fits to $f^{(2)}$ with radius as some unknown $R$, and set up a coordinate system $x$ based at the center of that circle.\n",
    "\n",
    "![](fitting_circle.png)\n",
    "\n",
    "At some value of $x$, we will have $f = (R^2 - x^2)^{\\frac{1}{2}}$ by Pythagorean Theorem.\n",
    "\n",
    "If we differentiate it, we will have $f^\\prime = \\frac{1}{2} (R^2 - x^2)^{\\frac{1}{2}} (-2 x) = - x (R^2 - x^2)^{- \\frac{1}{2}}$.\n",
    "\n",
    "For the $2$nd order differentiation, we have $f^{\\prime\\prime} = (- x (R^2 - x^2)^{\\frac{1}{2}})^\\prime = -R^2 (R^2 - x^2)^{-\\frac{3}{2}}$.\n",
    "\n",
    "From the first order derivative, we have $$\n",
    "\\begin{array}{lcl}\n",
    "f^\\prime &= - x (R^2 - x^2)^{-\\frac{1}{2}} \\\\\n",
    "(f^\\prime)^2 &= \\frac{x^2}{R^2 - x^2} \\\\\n",
    "(f^\\prime)^2 (R^2 - x^2) &= x^2 \\\\\n",
    "(f^\\prime)^2 R^2 &= x^2(1 + (f^\\prime)^2) \\\\\n",
    "x^2 &= \\frac{(f^\\prime)^2 R^2}{1 + (f^\\prime)^2}\n",
    "\\end{array}\n",
    "$$. And then plug it in the second order of derivative, we have $$\n",
    "\\begin{array}{lcl}\n",
    "f^{\\prime\\prime} &= -R^2 (R^2 - x^2)^{-\\frac{3}{2}} \\\\\n",
    "&= -R^2 (R^2 - \\frac{(f^\\prime)^2 R^2}{1 + (f^\\prime)^2})^{-\\frac{3}{2}} \\\\\n",
    "&= -R^2 (R^2 (1 - \\frac{(f^\\prime)^2}{1 + (f^\\prime)^2}))^{-\\frac{3}{2}} \\\\\n",
    "&= - \\frac{R^2}{R^3} (1 - \\frac{(f^\\prime)^2}{1 + (f^\\prime)^2}))^{-\\frac{3}{2}} \\\\\n",
    "&= - \\frac{R^2}{R^3} (\\frac{(1 + (f^\\prime)^2) - (f^\\prime)^2}{1 + (f^\\prime)^2}))^{-\\frac{3}{2}} \\\\\n",
    "&= - \\frac{1}{R} (\\frac{1}{1 + (f^\\prime)^2}))^{-\\frac{3}{2}} \\\\\n",
    "&= - \\frac{(1 + (f^\\prime)^2)^{\\frac{3}{2}}}{R} \\\\\n",
    "|f^{\\prime\\prime}| &= \\frac{(1 + (f^\\prime)^2)^{\\frac{3}{2}}}{R}\n",
    "\\end{array}\n",
    "$$\n",
    "\n",
    "We define the curvature of a function $f$ as $K = \\frac{1}{R}$. Hence\n",
    "$$\n",
    "\\begin{equation}\n",
    "\\begin{aligned}\n",
    "K &= \\frac{1}{R} \\\\\n",
    "&= \\frac{(1 + (f^\\prime)^2)^{\\frac{3}{2}}}{|f^{\\prime\\prime}|}\n",
    "\\end{aligned}\n",
    "\\end{equation}\n",
    "$$. Curvature is a function of the first two derivatives.\n",
    "\n",
    "If $f^\\prime$ is small, then we can apply the binomial series to approximate the curvature:\n",
    "$$\n",
    "\\begin{equation}\n",
    "\\begin{aligned}\n",
    "K &= \\frac{(1 + (f^\\prime)^2)^{\\frac{3}{2}}}{|f^{\\prime\\prime}|} \\\\\n",
    "&= |f^{\\prime\\prime}| (1 + (f^\\prime)^2)^{-\\frac{3}{2}} \\\\\n",
    "&= |f^{\\prime\\prime}| (1 - \\frac{3}{2}(f^\\prime)^2 + \\frac{15}{8}(f^\\prime)^4 + O((f^\\prime)^6))\n",
    "\\end{aligned}\n",
    "\\end{equation}\n",
    "$$. And from it, we can infer that $K = f^{\\prime\\prime}$ at **maxima** and **minima** of $f$.\n",
    "\n",
    "And $K = 0$ at **inflection points**.\n",
    "\n",
    "And the sign of $f^{\\prime\\prime}$ defines concavity.\n",
    "\n",
    "![](concavity.png)"
   ]
  },
  {
   "cell_type": "markdown",
   "metadata": {},
   "source": [
    "### Elasticity\n",
    "\n",
    "Consider an elastic beam that is uniform cross section, and some static load $q(x)$ that is applied at position x. And we want to know how much does the beam deflect at $x$.\n",
    "\n",
    "The deflection $u$ at position $x$ satisfy the following equation\n",
    "$$\n",
    "\\begin{equation}\n",
    "E I \\frac{d^4 u}{d x^4} = q(x)\n",
    "\\end{equation}\n",
    "$$, where $E$ is the **elasticity**, and $I$ is the **moment of inertia**."
   ]
  },
  {
   "cell_type": "markdown",
   "metadata": {},
   "source": [
    "## Taylor series\n",
    "\n",
    "...with higher orders derivatives gives better approximations."
   ]
  },
  {
   "cell_type": "code",
   "execution_count": null,
   "metadata": {},
   "outputs": [],
   "source": []
  }
 ],
 "metadata": {
  "kernelspec": {
   "display_name": "Python 3",
   "language": "python",
   "name": "python3"
  },
  "language_info": {
   "codemirror_mode": {
    "name": "ipython",
    "version": 3
   },
   "file_extension": ".py",
   "mimetype": "text/x-python",
   "name": "python",
   "nbconvert_exporter": "python",
   "pygments_lexer": "ipython3",
   "version": "3.7.0"
  }
 },
 "nbformat": 4,
 "nbformat_minor": 2
}
