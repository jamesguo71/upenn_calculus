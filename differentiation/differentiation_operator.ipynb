{
 "cells": [
  {
   "cell_type": "markdown",
   "metadata": {},
   "source": [
    "We have been introduced derivatives in terms of numbers of slopes.\n",
    "\n",
    "But we have broadened our perspective by thinking in more abstract and conceptual terms.\n",
    "\n",
    "We are going to think differentiation as an *operator*."
   ]
  },
  {
   "cell_type": "markdown",
   "metadata": {},
   "source": [
    "### Tricky examples\n",
    "\n",
    "How do we compute $\\frac{d}{d x}(2^x)$?\n",
    "\n",
    "We may be tempted to apply the power rule $$\n",
    "\\begin{equation}\n",
    "\\begin{aligned}\n",
    "\\frac{d}{d x}(2^x) &= x 2^{x - 1} &\\text{WRONG!}\n",
    "\\end{aligned}\n",
    "\\end{equation}\n",
    "$$\n",
    "\n",
    "What about $\\frac{d}{d x}(\\arcsin x)$?\n",
    "\n",
    "What about $x^x$?\n",
    "\n",
    "Or $x^{x^x}$? Or $x^{x^{x^{x^{x^{x^{x^x}}}}}}$\n",
    "\n",
    "These can be differentiated, but we cannot use the basic rules we have learned so far.\n",
    "\n",
    "What we can use, is the that idea that differentiation is an operator."
   ]
  },
  {
   "cell_type": "markdown",
   "metadata": {},
   "source": [
    "## $d$ as an operator\n",
    "\n",
    "Differentiation works as an operator, as it acts on\n",
    "- equations\n",
    "- functions\n",
    "- other operators\n",
    " - $\\int$\n",
    " - $\\ln$\n",
    " - $\\exp$\n",
    " - $\\lim$"
   ]
  },
  {
   "cell_type": "markdown",
   "metadata": {},
   "source": [
    "## Logarithmic differentiation\n",
    "\n",
    "Let's begin with a simple example. Compute $\\frac{d}{d x}(e^x)$.\n",
    "\n",
    "We already knew what the derivative is, but still let's apply logarithmic differentiation here.\n",
    "\n",
    "The key step is to write $$\n",
    "y = e^x\n",
    "$$\n",
    "\n",
    "And then we apply the natural logarithm operator to both sides of the equation $$\n",
    "\\begin{array}{l}\n",
    "\\ln(y &= x) \\\\\n",
    "\\ln y &= x\n",
    "\\end{array}\n",
    "$$.\n",
    "\n",
    "And now we can differentiate this equation $$\n",
    "\\begin{array}{l}\n",
    "d(\\ln y &= x)\n",
    "d(\\ln y) &= d x \\\\\n",
    "\\frac{d y}{y} &= d x\n",
    "\\end{array}\n",
    "$$.\n",
    "\n",
    "Hence $$\n",
    "\\begin{array}{l}\n",
    "\\frac{d y}{d x} &= y \\\\\n",
    "&= e^x\n",
    "\\end{array}\n",
    "$$\n",
    "\n",
    "(Note: I still don't get if $\\frac{d}{d x}(y)$ as differentiation is same as $\\frac{d y}{d x}$ as a quotient.)"
   ]
  },
  {
   "cell_type": "markdown",
   "metadata": {},
   "source": [
    "Similarly, computing $\\frac{d}{d x}(a^x)$: $$\n",
    "\\begin{array}{l}\n",
    "y &= a^x \\\\\n",
    "\\ln(y &= a^x) \\\\\n",
    "\\ln y &= x \\ln a \\\\\n",
    "d(\\ln y &= x \\ln a) \\\\\n",
    "d(\\ln y) &= d(x \\ln a) \\\\\n",
    "\\frac{d y}{y} &= d x \\ln a \\\\\n",
    "\\frac{d y}{d x} &= y \\ln a \\\\\n",
    "&= a^x \\ln a\n",
    "\\end{array}\n",
    "$$"
   ]
  },
  {
   "cell_type": "markdown",
   "metadata": {},
   "source": [
    "## Exponential differentiation\n",
    "\n",
    "Let's look at $\\frac{d}{d x}(\\ln x)$. We already knew the answer, but let's apply a similar methodology, but with the exponential operator, and then apply the differential operator...\n",
    "\n",
    "$$\n",
    "\\begin{array}{l}\n",
    "y &= \\ln x \\\\\n",
    "\\exp(y &= \\ln x) \\\\\n",
    "e^y &= x \\\\\n",
    "d(e^y &= x) \\\\\n",
    "e^y d y &= d x\n",
    "\\frac{d y}{d x} &= \\frac{1}{e^y} \\\\\n",
    "&= \\frac{1}{e^{\\ln x}} \\\\\n",
    "&= \\frac{1}{x}\n",
    "\\end{array}\n",
    "$$"
   ]
  },
  {
   "cell_type": "markdown",
   "metadata": {},
   "source": [
    "## Sine differentiation\n",
    "\n",
    "Let's look at $\\frac{d}{d x} \\arcsin x$. We can apply the sine operator, and then the differential operator...\n",
    "\n",
    "$$\n",
    "\\begin{array}{l}\n",
    "y &= \\arcsin x \\\\\n",
    "\\sin (y &= \\arcsin x) \\\\\n",
    "\\sin y &= x \\\\\n",
    "d(\\sin y &= x) \\\\\n",
    "\\cos y d y &= d x \\\\\n",
    "\\frac{d y}{d x} &= \\frac{1}{\\cos y} \\\\\n",
    "&= \\frac{1}{\\cos y} \\\\\n",
    "&= \\frac{1}{\\sqrt{1 - x^2}} &\\text{as $\\sin y = x$}\n",
    "\\end{array}\n",
    "$$\n",
    "\n",
    "![](arcsin_x.png)"
   ]
  },
  {
   "cell_type": "markdown",
   "metadata": {},
   "source": [
    "## Operators go beyond derivatives"
   ]
  },
  {
   "cell_type": "markdown",
   "metadata": {},
   "source": [
    "### Limit as an operator\n",
    "\n",
    "Let's compute $$\\lim_{x \\to \\infty}(1 + \\frac{a}{x})^x$$.\n",
    "\n",
    "$$\n",
    "\\begin{array}{}\n",
    "y &= (1 + \\frac{a}{x})^x \\\\\n",
    "\\ln(y &= (1 + \\frac{a}{x})^x) \\\\\n",
    "\\ln y &= \\ln((1 + \\frac{a}{x})^x) \\\\\n",
    "&= x \\ln(1 + \\frac{a}{x}) \\\\\n",
    "\\lim_{x \\to \\infty} \\ln y &= \\lim_{x \\to \\infty} (x (\\frac{a}{x} + O((\\frac{a}{x})^2))) \\\\\n",
    "&= \\lim_{x \\to \\infty} (x (\\frac{a}{x} + O(x^{-2}))) \\\\\n",
    "&= a \\\\\n",
    "\\exp(\\lim_{x \\to \\infty} \\ln y &= a) \\\\\n",
    "\\lim_{x \\to \\infty} y &= e^a \\\\\n",
    "\\lim_{x \\to \\infty} (1 + \\frac{a}{x})^x &= e^a\n",
    "\\end{array}\n",
    "$$\n",
    "\n"
   ]
  },
  {
   "cell_type": "markdown",
   "metadata": {},
   "source": [
    "### Another example\n",
    "\n",
    "Let's compute $$\\frac{d}{d x}(x^x)$$.\n",
    "\n",
    "$$\n",
    "\\begin{array}{l}\n",
    "y = x^x \\\\\n",
    "\\ln(y &= x^x) \\\\\n",
    "\\ln y &= \\ln x^x \\\\\n",
    "&= x \\ln x \\\\\n",
    "\\frac{d}{d x}(\\ln y &= x \\ln x) \\\\\n",
    "\\frac{d}{d x}(\\ln y) &= \\frac{d}{d x}(x \\ln x) \\\\\n",
    "&= x \\frac{d}{d x}(\\ln x) + (\\ln x) \\frac{d}{d x}(x) \\\\\n",
    "&= 1 + \\ln x \\\\\n",
    "\\frac{d}{d x}(\\ln y) &= 1 + \\ln x \\\\\n",
    "\\frac{1}{y} \\frac{d}{d x}(y) &= 1 + \\ln x \\\\\n",
    "\\frac{d}{d x}(y) &= y (1 + \\ln x) \\\\\n",
    "\\frac{d}{d x}(x^x) &= x^x (1 + \\ln x) \\\\\n",
    "&= O(x^x \\ln x)\n",
    "\\end{array}\n",
    "$$\n",
    "\n",
    "What this example also shows, is that **this super exponential function has an even larger derivative**."
   ]
  },
  {
   "cell_type": "markdown",
   "metadata": {},
   "source": [
    "## Growth rates of polynomial, exponential, and super exponential functions\n",
    "\n",
    "- Derivatives of polynomial functions are \"under control\", as $\\frac{d}{d x}(O(x^n)) = O(x^{n - 1})$.\n",
    "- Derivative of the exponential function is itself $\\frac{d}{d x}(e^x) = e^x$\n",
    "- Derivative of super exponential functions are \"out of control\", as $\\frac{d}{d x}(x^x) = O(x^x \\ln x)$, as the growth rate of the derivative is potentially much larger"
   ]
  },
  {
   "cell_type": "markdown",
   "metadata": {},
   "source": [
    "## Moral of this lesson\n",
    "\n",
    "No matter how difficult the differentiation looks, taking advantage of operators is going to help you with a tricky computation."
   ]
  },
  {
   "cell_type": "code",
   "execution_count": null,
   "metadata": {},
   "outputs": [],
   "source": []
  }
 ],
 "metadata": {
  "kernelspec": {
   "display_name": "Python 3",
   "language": "python",
   "name": "python3"
  },
  "language_info": {
   "codemirror_mode": {
    "name": "ipython",
    "version": 3
   },
   "file_extension": ".py",
   "mimetype": "text/x-python",
   "name": "python",
   "nbconvert_exporter": "python",
   "pygments_lexer": "ipython3",
   "version": "3.7.0"
  }
 },
 "nbformat": 4,
 "nbformat_minor": 2
}
