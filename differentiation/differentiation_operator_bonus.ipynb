{
 "cells": [
  {
   "cell_type": "markdown",
   "metadata": {},
   "source": [
    "### The infinite power tower\n",
    "\n",
    "The infinite power tower is defined as $$\n",
    "f(x) = x^{x^{x^{x^{x^{x^{x^{x^{x^{x^{...}}}}}}}}}}\n",
    "$$ on and on, at infinite terms.\n",
    "\n",
    "And let's compute the derivative of this function.\n",
    "\n",
    "$$\n",
    "\\begin{equation}\n",
    "y = x^{x^{x^{x^{x^{x^{x^{x^{x^{x^{...}}}}}}}}}}\n",
    "\\end{equation}\n",
    "$$\n",
    "\n",
    "Does this function really exist?\n",
    "\n",
    "Because the power tower is infinite, we can rewrite above as $$\n",
    "\\begin{equation}\n",
    "y = x^y\n",
    "\\end{equation}\n",
    "$$, which is an implicit definition, as $y$ is defined by its relationship to $x$ and to itself.\n",
    "\n",
    "Now let's compute the derivative with this definition. $$\n",
    "\\begin{array}{l}\n",
    "y &= x^y \\\\\n",
    "\\ln (y &= x^y) \\\\\n",
    "\\ln y &= y \\ln x \\\\\n",
    "\\frac{d}{d x}(\\ln y &= y \\ln x) \\\\\n",
    "\\frac{d}{d x}(\\ln y) &= \\frac{d}{d x}(y \\ln x) \\\\\n",
    "\\frac{1}{y} \\frac{d}{d x}(y) &= (\\ln x) \\frac{d}{d x}(y) + y \\frac{d}{d x}(\\ln x) \\\\\n",
    "\\frac{1}{y} \\frac{d}{d x}(y) &= (\\ln x) \\frac{d}{d x}(y) + \\frac{y}{x} \\\\\n",
    "(\\frac{1}{y} - \\ln x) \\frac{d}{d x}(y) &= \\frac{y}{x} \\\\\n",
    "\\frac{d}{d x}(y) &= \\frac{y}{x} (\\frac{1}{y} - \\ln x)^{-1} \\\\\n",
    "\\end{array}\n",
    "$$\n",
    "\n",
    "There is no way we can solve this as a function as $x$ itself. We can't eliminate those $y$s completely.\n",
    "\n",
    "We can substitute back $y$ by its original form of $x$, but that will make our formula a little messy.\n",
    "\n",
    "We still have answered these questions\n",
    "- Does the infinite power tower function really exist?\n",
    "- If it does, is the function differentiable?\n",
    "\n",
    "There are limits to be computed in order to proved these. We are not going to do this. (Lazy.)\n",
    "\n",
    "But this power tower function is well defined, and is differentiable on a certain domain $e^{-e} < x < e^{\\frac{1}{e}}$.\n",
    "\n",
    "https://math.stackexchange.com/questions/1089458/how-can-i-prove-the-convergence-of-a-power-tower\n",
    "\n",
    "https://en.wikipedia.org/wiki/Lambert_W_function\n",
    "\n",
    "The purpose we introduced the infinite power here is to give the idea that, we the tools we have covered in this course, we can analyse functions we cannot see or feel, or anything we can typed in a graphic calculator, those functions we don't know anything about except their implicit definition. Yet, we can still compute their derivatives, quickly and simply."
   ]
  },
  {
   "cell_type": "code",
   "execution_count": null,
   "metadata": {},
   "outputs": [],
   "source": []
  }
 ],
 "metadata": {
  "kernelspec": {
   "display_name": "Python 3",
   "language": "python",
   "name": "python3"
  },
  "language_info": {
   "codemirror_mode": {
    "name": "ipython",
    "version": 3
   },
   "file_extension": ".py",
   "mimetype": "text/x-python",
   "name": "python",
   "nbconvert_exporter": "python",
   "pygments_lexer": "ipython3",
   "version": "3.7.0"
  }
 },
 "nbformat": 4,
 "nbformat_minor": 2
}
