{
 "cells": [
  {
   "cell_type": "markdown",
   "metadata": {},
   "source": [
    "The idea of linearization: use the first derivative to approximate."
   ]
  },
  {
   "cell_type": "markdown",
   "metadata": {},
   "source": [
    "### Examples of lienarization"
   ]
  },
  {
   "cell_type": "markdown",
   "metadata": {},
   "source": [
    "#### Linearization of the area of a square\n",
    "\n",
    "![](linearization_squre.png)\n",
    "\n",
    "$$\n",
    "\\begin{array}{}\n",
    "A(x) &= x^2 \\\\\n",
    "A(x + h) &= x^2 + 2 x h + h^2 \\\\\n",
    "&= A(x) + 2 x h + O(h^2)\n",
    "\\end{array}\n",
    "$$"
   ]
  },
  {
   "cell_type": "markdown",
   "metadata": {},
   "source": [
    "### Linearization of the area of a triangle\n",
    "\n",
    "![](linearization_triangle.png)\n",
    "\n",
    "$$\n",
    "\\begin{array}{}\n",
    "A(x) &= \\frac{1}{2} x^2 \\\\\n",
    "A(x + h) &= \\frac{1}{2} x^2 + x h + \\frac{1}{2} h^2 \\\\\n",
    "&= \\frac{1}{2} x^2 + x h + O(h^2)\n",
    "\\end{array}\n",
    "$$"
   ]
  },
  {
   "cell_type": "markdown",
   "metadata": {},
   "source": [
    "### Linearization of the area of a circular disc\n",
    "\n",
    "![](linearization_disc.png)\n",
    "![](linearization_disc_leftover.png)\n",
    "\n",
    "$$\n",
    "\\begin{array}{}\n",
    "A(x) &= \\pi x^2 \\\\\n",
    "A(x + h) &= \\pi x^2 + 2 \\pi x h + \\pi h^2 \\\\\n",
    "&= \\pi x^2 + 2 \\pi x h + O(h^2)\n",
    "\\end{array}\n",
    "$$"
   ]
  },
  {
   "cell_type": "markdown",
   "metadata": {},
   "source": [
    "## Linear approximation"
   ]
  },
  {
   "cell_type": "markdown",
   "metadata": {},
   "source": [
    "### Linear approximation of length of a bannister\n",
    "\n",
    "Let's say we want to estimate the length of the bannister of a $13 \\times 9$ staircase.\n",
    "\n",
    "![](bannister.png)\n",
    "\n",
    "By Pythagorean theorem we know the length of the bannister is $\\sqrt{250}$. But how do we approximate that if we don't have a calculator?\n",
    "\n",
    "Here is what we know:\n",
    "- We want to evaluate $f(x) = \\sqrt{x}$ at $x = 250$.\n",
    "- We know $f(256) = \\sqrt{256} = 16$\n",
    "- Let $h = -6$ as the perturbation\n",
    "\n",
    "Since we know\n",
    "$$\n",
    "\\begin{equation}\n",
    "\\begin{aligned}{}\n",
    "f(x + h) &= f(x) + \\frac{d f}{d x} h + O(h^2) \\\\\n",
    "&\\approx f(x) + \\frac{d f}{d x} h\n",
    "\\end{aligned}\n",
    "\\end{equation}\n",
    "$$\n",
    "\n",
    "Hence $$\n",
    "\\begin{equation}\n",
    "\\begin{aligned}{}\n",
    "\\sqrt{x + h} |_{(x = 256, h = -1)} &\\approx \\sqrt{256} + \\frac{1}{2 \\sqrt{256}} (-6) \\\\\n",
    "&\\approx 16 - \\frac{3}{16} \\\\\n",
    "&\\approx 15 + \\frac{13}{16} \\\\\n",
    "&\\approx 15.8\n",
    "\\end{aligned}\n",
    "\\end{equation}\n",
    "$$"
   ]
  },
  {
   "cell_type": "markdown",
   "metadata": {},
   "source": [
    "### Linear approximation of the value of $\\pi^{20}$\n",
    "\n",
    "Hint: $\\pi^2 \\approx 9.86$\n",
    "\n",
    "- We want to evaluate $f(x) = x^{10}$ at $x = \\pi^2$.\n",
    "- We know $f(10) = 10^{10}$\n",
    "- Let $h = \\pi^2 - 10$\n",
    "\n",
    "Since we know\n",
    "\n",
    "$$\n",
    "\\begin{equation}\n",
    "\\begin{aligned}{}\n",
    "f(x + h) &= f(x) + \\frac{d f}{d x} h + O(h^2) \\\\\n",
    "&= f(x) + \\frac{d f}{d x} h\n",
    "\\end{aligned}\n",
    "\\end{equation}\n",
    "$$\n",
    "\n",
    "Hence\n",
    "$$\n",
    "\\begin{equation}\n",
    "\\begin{aligned}{}\n",
    "x^{10}|_{x = \\pi^2} &= (x + h)^{10}|_{(x = 10, h = \\pi^2 - 10)} \\\\\n",
    "&\\approx 10^{10} - 10 \\times 10^9 \\times (\\pi^2 - 10) \\\\\n",
    "&\\approx 10^{10} - 10^{10} \\times (9.86 - 10) \\\\\n",
    "&\\approx 10^{10} \\times (1 - 0.14) \\\\\n",
    "&\\approx 8.6 \\times 10^{9} \\\\\n",
    "&\\approx 8.6 \\mathrm{E} 9\n",
    "\\end{aligned}\n",
    "\\end{equation}\n",
    "$$\n",
    "\n",
    "The more approximation of $\\pi^{20}$ is actually $8.77 \\mathrm{E} 9$. So the linear approximation at least got the order of magnitude and the first digit correct."
   ]
  },
  {
   "cell_type": "markdown",
   "metadata": {},
   "source": [
    "So why don't we just simply use a calculator?\n",
    "\n",
    "Actually calculators are doing linear approximations as well, with algorithms like the Newton's method.\n",
    "\n",
    "### Newton's method\n",
    "\n",
    "Newton's method is an algorithm to find the root a function $f$. Here are the steps:\n",
    "\n",
    "#### 1. Guess \n",
    "\n",
    "Pick some value, called $x$, where we can compute the function and its derivative.\n",
    "\n",
    "#### 2.  Linearize\n",
    "\n",
    "Let say the root is near by, at some value $x + h$.\n",
    "$$\n",
    "\\begin{equation}\n",
    "\\begin{aligned}{}\n",
    "f(x + h) &= f(x) + f^{\\prime}(x) h + O(h^2) \\\\\n",
    "&\\approx f(x) + f^{\\prime}(x) h\n",
    "\\end{aligned}\n",
    "\\end{equation}\n",
    "$$\n",
    "\n",
    "#### 3. Solve\n",
    "\n",
    "To get closer to the root of $f$, hence to find an approximation of the root as $x + h$, we need to find the $h$ that\n",
    "\n",
    "$$\n",
    "f(x) + f^{\\prime}(x) h = 0\n",
    "$$. Hence $$\n",
    "h = - \\frac{f(x)}{f^{\\prime}(x)}\n",
    "$$. Hence $x + h = x - \\frac{f(x)}{f^{\\prime}(x)}$.\n",
    "\n",
    "#### 4. Repeat\n",
    "\n",
    "Repeat 2 and 3 until certain criteria is met.\n",
    "\n",
    "#### 5. Hope\n",
    "...that the approximations will convert to the actual root.\n",
    "\n",
    "![](newtons_method.png)\n",
    "\n",
    "#### Pseudo code\n",
    "- Let $x_0$ be the initial guess;\n",
    "- $x_{n + 1} = x_n - \\frac{f(x_n)}{f^{\\prime}(x_n)}$\n",
    "- ...hopefully that converges"
   ]
  },
  {
   "cell_type": "code",
   "execution_count": 21,
   "metadata": {},
   "outputs": [],
   "source": [
    "## Implement Newton's method with SymPy\n",
    "\n",
    "from sympy import diff, init_printing, N\n",
    "\n",
    "init_printing()\n",
    "\n",
    "def newtons_method(function, variable, initial_guess):\n",
    "    x_n = initial_guess\n",
    "    x_n_plus_one = N(x_n - function.subs(variable, x_n) / diff(function).subs(variable, x_n))\n",
    "    while abs(x_n_plus_one - x_n) > 0.00001:\n",
    "        x_n = x_n_plus_one\n",
    "        x_n_plus_one = x_n - function.subs(variable, x_n) / diff(function).subs(variable, x_n)\n",
    "        print(x_n_plus_one)\n",
    "    return x_n_plus_one"
   ]
  },
  {
   "cell_type": "markdown",
   "metadata": {},
   "source": [
    "### Reciprocal: Compute $\\frac{1}{a}$ with Newton's method\n",
    "\n",
    "$\\frac{1}{a}$ can be realized as the root of $f(x) = a - \\frac{1}{x}$.\n",
    "\n",
    "And $f^{\\prime}(x) = \\frac{1}{x^2}$.\n",
    "\n",
    "And the $n + 1$th step of the Newton's method will be $$\n",
    "\\begin{equation}\n",
    "\\begin{aligned}{}\n",
    "x_{n + 1} &= x_n - \\frac{f(x_n)}{f^{\\prime}(x_n)} \\\\\n",
    "&= x_n - \\frac{a - \\frac{1}{x_n}}{\\frac{1}{x_n^2}} \\\\\n",
    "&= 2 x_n + a x_n^2\n",
    "\\end{aligned}\n",
    "\\end{equation}\n",
    "$$. What is remarkable is there is no division involved. Only subtractions and multiplications."
   ]
  },
  {
   "cell_type": "code",
   "execution_count": 22,
   "metadata": {},
   "outputs": [
    {
     "name": "stdout",
     "output_type": "stream",
     "text": [
      "0.361759387567864\n",
      "0.367777736193347\n",
      "0.367879525111554\n",
      "0.367879553291214\n"
     ]
    },
    {
     "data": {
      "image/png": "[encoded data removed]",
      "text/latex": [
       "$$0.367879553291214$$"
      ],
      "text/plain": [
       "0.367879553291214"
      ]
     },
     "execution_count": 22,
     "metadata": {},
     "output_type": "execute_result"
    }
   ],
   "source": [
    "# Let's find 1/e. Let's approximate e as 2.718281\n",
    "\n",
    "from sympy import symbols\n",
    "\n",
    "from math import exp\n",
    "\n",
    "x = symbols('x')\n",
    "\n",
    "newtons_method(2.718281 - 1/x, variable=x, initial_guess=0.5)"
   ]
  },
  {
   "cell_type": "markdown",
   "metadata": {},
   "source": [
    "### Cube root: Compute $\\sqrt[3]{a}$ with Newton's method\n",
    "\n",
    "$\\sqrt[3]{a}$ can be realized as the root of $f(x) = x^3 - a$.\n",
    "\n",
    "And $f^\\prime(x) = 3 x^2$.\n",
    "\n",
    "\n",
    "And the $n + 1$th step of the Newton's method will be $$\n",
    "\\begin{equation}\n",
    "\\begin{aligned}{}\n",
    "x_{n + 1} &= x_n - \\frac{f(x_n)}{f^{\\prime}(x_n)} \\\\\n",
    "&= x_n - \\frac{x_n^3 - a}{3 x_n^2} \\\\\n",
    "&= \\frac{2}{3} x_n + \\frac{a}{3 x_n^2}\n",
    "\\end{aligned}\n",
    "\\end{equation}\n",
    "$$"
   ]
  },
  {
   "cell_type": "code",
   "execution_count": 24,
   "metadata": {},
   "outputs": [
    {
     "name": "stdout",
     "output_type": "stream",
     "text": [
      "4.64172335600907\n",
      "4.64158883751135\n",
      "4.64158883361278\n"
     ]
    },
    {
     "data": {
      "image/png": "[encoded data removed]",
      "text/latex": [
       "$$4.64158883361278$$"
      ],
      "text/plain": [
       "4.64158883361278"
      ]
     },
     "execution_count": 24,
     "metadata": {},
     "output_type": "execute_result"
    }
   ],
   "source": [
    "# Let a = 100 and let's find \\sqrt[3]{100}.\n",
    "\n",
    "newtons_method(x ** 3 - 100, variable=x, initial_guess=5)"
   ]
  },
  {
   "cell_type": "markdown",
   "metadata": {},
   "source": [
    "From what we have seen, sometimes Newton's method converges very quickly.\n",
    "\n",
    "But other things can happen.\n",
    "\n",
    "### Non-convergence case of Newton's method\n",
    "\n",
    "#### Case: Newton's method does not converge at the desired root\n",
    "\n",
    "A function can have multiple root. And Newton's method does not guarantee to converge at the root that we are interested about.\n",
    "\n",
    "![](newtons_method_multi_root.png)\n",
    "\n",
    "#### Case: Derivative vanishes as $f^\\prime(x_{n}) = 0$\n",
    "\n",
    "When the Newton's method leads to a new $x_n$ where $f(x_n) = 0$, then the algorithm will be stuck at that point.\n",
    "\n",
    "![](newtons_method_vanish.png)"
   ]
  },
  {
   "cell_type": "markdown",
   "metadata": {},
   "source": [
    "Despite of these cases, Newton's method and linearization are very useful tools in mathematics.\n",
    "\n",
    "What else can we linearize?\n",
    "\n",
    "![](linearization_what_else.png)"
   ]
  },
  {
   "cell_type": "code",
   "execution_count": null,
   "metadata": {},
   "outputs": [],
   "source": []
  }
 ],
 "metadata": {
  "kernelspec": {
   "display_name": "Python 3",
   "language": "python",
   "name": "python3"
  },
  "language_info": {
   "codemirror_mode": {
    "name": "ipython",
    "version": 3
   },
   "file_extension": ".py",
   "mimetype": "text/x-python",
   "name": "python",
   "nbconvert_exporter": "python",
   "pygments_lexer": "ipython3",
   "version": "3.7.0"
  }
 },
 "nbformat": 4,
 "nbformat_minor": 2
}
