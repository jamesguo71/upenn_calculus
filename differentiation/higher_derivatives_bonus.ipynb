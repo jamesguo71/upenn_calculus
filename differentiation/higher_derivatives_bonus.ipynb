{
 "cells": [
  {
   "cell_type": "markdown",
   "metadata": {},
   "source": [
    "## Interpretation of Taylor Series\n",
    "\n",
    "We already know higher derivatives lead to better approximation of Taylor Series.\n",
    "\n",
    "$f(a + h) = \\sum_{k = 0}^{\\infty} \\frac{f^{(k)}(a)}{k!} h^k$.\n",
    "\n",
    "Just by knowing infinitesimal information at a particular input, that is, higher and higher derivatives at $a$, you can say what the function is doing far away.\n",
    "\n",
    "That actually goes fairly deep into other areas of mathematics."
   ]
  },
  {
   "cell_type": "markdown",
   "metadata": {},
   "source": [
    "## Operators\n",
    "\n",
    "Let's introduce a new language: **operators**.\n",
    "\n",
    "An operator is something takes an input function and return its output as another function.\n",
    "\n",
    "For example, in the context of derivatives, we can define the **Differential Operator** $D$ such that $$\n",
    "(D f)(x) = \\frac{d}{d x} f(x)\n",
    "$$.\n",
    "\n",
    "Operators have an algebra associate with them.\n",
    "\n",
    "For example, we can define $D$ raised to power of $k$ as taking the derivatives for $k$ times: $$\n",
    "D^k = (\\frac{d}{d x})^k\n",
    "$$.\n",
    "\n",
    "What is $D^0$? For that we can introduce the **Identity Operator** $I$, which is defined as $$\n",
    "(I f)(x) = f(x)\n",
    "$$. And then $$\n",
    "D^0 = I\n",
    "$$. So that the $0$th derivative of $f$ is, of course, $f$.\n",
    "\n",
    "And we can infer that for any $k \\in \\mathbb{N}$, $$\n",
    "I^k = I\n",
    "$$.\n",
    "\n",
    "There is a *Left Shift* operator $E$ which is defined as $$\n",
    "(E f) (x) = f(x + 1)\n",
    "$$. And we can develop the definition of $E^k$ for $k \\in \\mathbb{N}$ as $$\n",
    "(E^k f) (x) = f(x + k)\n",
    "$$. And $$\n",
    "(E^0 f) (x) = f(x + 0) = f(x)\n",
    "$$. Hence $$\n",
    "E^0 = I\n",
    "$$.\n",
    "\n",
    "We can extend the definition of $E^k$ by allowing $k$ to be negative, hence $k \\in \\mathbb{Z}$. For $k < 0$, $E^k$ can represent shifting to left. Hence $$\n",
    "(E^{-1} f)(x) = f(x - 1)\n",
    "$$.\n",
    "\n",
    "And because shifting left for once and shifting right for once cancels each other, we know that $$\n",
    "(E^{-1} E f) (x) = x\n",
    "$$, hence $$\n",
    "E^{-1} E = I\n",
    "$$.\n",
    "\n",
    "We should also know that $$\n",
    "(E^k)^{-1} = E^{-k}\n",
    "$$."
   ]
  },
  {
   "cell_type": "markdown",
   "metadata": {},
   "source": [
    "## $E$ operator and Taylor Series Expansion\n",
    "\n",
    "$$\n",
    "\\begin{equation}\n",
    "\\begin{aligned}\n",
    "(E^h f) &= f(x + h) \\\\\n",
    "&= \\sum_{k = 0}^{\\infty} \\frac{1}{k!} (\\frac{d^k}{d x^k})|_x h^k \\\\\n",
    "&= \\sum_{k = 0}^{\\infty} \\frac{1}{k!} (D^k f)(x) h^k \\\\\n",
    "&= \\sum_{k = 0}^{\\infty} \\frac{((h D)^k f)}{k!} (x)\n",
    "\\end{aligned}\n",
    "\\end{equation}\n",
    "$$. Hence $$\n",
    "E^h f = \\sum_{k = 0}^{\\infty} \\frac{((h D)^k f)}{k!}\n",
    "$$ Then $$\n",
    "E^h = e^{h D}\n",
    "$$. So in the Taylor Series context, $$\n",
    "\\begin{equation}\n",
    "\\begin{aligned}\n",
    "E &= I + D + \\frac{1}{2} D^2 + \\frac{1}{6} D^3 + \\frac{1}{24} D^4 + ... \\\\\n",
    "&= e^D\n",
    "\\end{aligned}\n",
    "\\end{equation}\n",
    "$$. Hence $$\n",
    "D = \\ln E\n",
    "$$."
   ]
  },
  {
   "cell_type": "code",
   "execution_count": null,
   "metadata": {},
   "outputs": [],
   "source": []
  }
 ],
 "metadata": {
  "kernelspec": {
   "display_name": "Python 3",
   "language": "python",
   "name": "python3"
  },
  "language_info": {
   "codemirror_mode": {
    "name": "ipython",
    "version": 3
   },
   "file_extension": ".py",
   "mimetype": "text/x-python",
   "name": "python",
   "nbconvert_exporter": "python",
   "pygments_lexer": "ipython3",
   "version": "3.7.0"
  }
 },
 "nbformat": 4,
 "nbformat_minor": 2
}
