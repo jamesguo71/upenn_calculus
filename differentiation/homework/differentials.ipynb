{
 "cells": [
  {
   "cell_type": "markdown",
   "metadata": {},
   "source": [
    "## 1. Use implicit differentiation to find $\\frac{d y}{d x}$ from the equation $y^2 - y = \\sin 2 x$."
   ]
  },
  {
   "cell_type": "markdown",
   "metadata": {},
   "source": [
    "### Solution\n",
    "\n",
    "$$\n",
    "\\begin{array}{l}\n",
    "y^2 - y &= \\sin 2 x \\\\\n",
    "2 y \\frac{d y}{d x} - \\frac{d y}{d x} &= 2 \\cos 2 x \\\\\n",
    "\\frac{d y}{d x} (2 y - 1) &= 2 \\cos 2 x \\\\\n",
    "\\frac{d y}{d x} &= \\frac{2 \\cos 2 x}{2 y - 1}\n",
    "\\end{array}\n",
    "$$"
   ]
  },
  {
   "cell_type": "markdown",
   "metadata": {},
   "source": [
    "## 2. Find the derivative $\\frac{d y}{d x}$ if $x$ and $y$ are related through $x y = e^y$."
   ]
  },
  {
   "cell_type": "markdown",
   "metadata": {},
   "source": [
    "### Solution\n",
    "\n",
    "$$\n",
    "\\begin{array}{l}\n",
    "x y &= e^y \\\\\n",
    "\\frac{d(x y)}{d x} &= \\frac{d e^y}{d x} \\\\\n",
    "y \\frac{d x}{d x} + x \\frac{d y}{d x} &= e^y \\frac{d y}{d x} \\\\\n",
    "y + x \\frac{d y}{d x} &= e^y \\frac{d y}{d x} \\\\\n",
    "\\frac{d y}{d x} (e^y - x) &= y \\\\\n",
    "\\frac{d y}{d x} &= \\frac{y}{e^y - x}\n",
    "\\end{array}\n",
    "$$"
   ]
  },
  {
   "cell_type": "markdown",
   "metadata": {},
   "source": [
    "## 3. Use implicit differentiation to find $\\frac{d y}{d x}$ if $\\sin x = e^{- y \\cos x}$."
   ]
  },
  {
   "cell_type": "markdown",
   "metadata": {},
   "source": [
    "### Solution\n",
    "\n",
    "$$\n",
    "\\begin{array}{l}\n",
    "\\sin x &= e^{- y \\cos x} \\\\\n",
    "\\frac{d \\sin x}{d x} &= \\frac{d e^{- y \\cos x}}{d x} \\\\\n",
    "\\cos x &= e^{- y \\cos x} (- y (- \\sin x) + (- \\cos x \\frac{d y}{d x})) \\\\\n",
    "\\cos x &= e^{- y \\cos x} (y \\sin x - \\cos x \\frac{d y}{d x}) \\\\\n",
    "\\frac{\\cos x}{e^{- y \\cos x}} &= y \\sin x - \\cos x \\frac{d y}{d x} \\\\\n",
    "\\cos x \\frac{d y}{d x} &= y \\sin x - \\frac{\\cos x}{e^{- y \\cos x}} \\\\\n",
    "\\frac{d y}{d x} &= y \\tan x - \\frac{1}{e^{- y \\cos x}} \\\\\n",
    "&= y \\tan x - e^{y \\cos x}\n",
    "\\end{array}\n",
    "$$"
   ]
  },
  {
   "cell_type": "markdown",
   "metadata": {},
   "source": [
    "## 4. Find the derivative $\\frac{d y}{d x}$ from the equation $x \\tan y - y^2 \\ln x = 4$."
   ]
  },
  {
   "cell_type": "markdown",
   "metadata": {},
   "source": [
    "### Solution\n",
    "\n",
    "$$\n",
    "\\begin{array}{l}\n",
    "x \\tan y - y^2 \\ln x &= 4 \\\\\n",
    "(\\tan y + x \\sec y \\frac{d y}{d x}) - (\\ln x (2 y \\frac{d y}{d x}) + y^2 \\frac{1}{x}) &= 0 \\\\\n",
    "(\\tan y - \\frac{y^2}{x}) + \\frac{d y}{d x} (x \\sec y - 2 y \\ln x) &= 0 \\\\\n",
    "\\frac{d y}{d x} (x \\sec y - 2 y \\ln x) &= \\frac{y^2}{x} - \\tan y \\\\\n",
    "\\frac{d y}{d x} &= \\frac{\\frac{y^2}{x} - \\tan y}{x \\sec y - 2 y \\ln x} \\\\\n",
    "&= \\frac{y^2 - x \\tan y}{x^2 \\sec y - 2 x y \\ln x} \\\\\n",
    "&= \\frac{x \\tan y - y^2}{2 x y \\ln x - x^2 \\sec y}\n",
    "\\end{array}\n",
    "$$"
   ]
  },
  {
   "cell_type": "markdown",
   "metadata": {},
   "source": [
    "## 5. Model a hailstone as a round ball of radius $R$. As the hailstone falls from the sky, its radius increases at a constant rate $C$. At what rate does the volume $V$ of the hailstone change?"
   ]
  },
  {
   "cell_type": "markdown",
   "metadata": {},
   "source": [
    "### Solution\n",
    "Let's denote time as $t$.\n",
    "\n",
    "$$\n",
    "\\begin{array}{l}\n",
    "\\frac{d R}{d t} &= C & \\text{radius increases at constant rate} \\\\\n",
    "V &= \\frac{4}{3} \\pi R^3 \\\\\n",
    "\\frac{d V}{d t} &= 4 \\pi R^2 \\frac{d R}{d t} \\\\\n",
    "&= 4 \\pi C R^2\n",
    "\\end{array}\n",
    "$$"
   ]
  },
  {
   "cell_type": "markdown",
   "metadata": {},
   "source": [
    "## 6. The volume of a cubic box of side-length $L$ is $V = L^3$. How are the relative rates of change of $L$ and $V$ related?"
   ]
  },
  {
   "cell_type": "markdown",
   "metadata": {},
   "source": [
    "### Solution\n",
    "\n",
    "$$\n",
    "\\begin{array}{l}\n",
    "V &= L^3 \\\\\n",
    "d(V &= L^3) \\\\\n",
    "d V &= 3 L^2 d L \\\\\n",
    "\\frac{d V}{V} &= \\frac{3 L^2 d L}{L^3} & \\text{for $L \\neq 0$} \\\\\n",
    "\\frac{d V}{V} &= 3 \\frac{d L}{L}\n",
    "\\end{array}\n",
    "$$"
   ]
  },
  {
   "cell_type": "code",
   "execution_count": null,
   "metadata": {},
   "outputs": [],
   "source": []
  }
 ],
 "metadata": {
  "kernelspec": {
   "display_name": "Python 3",
   "language": "python",
   "name": "python3"
  },
  "language_info": {
   "codemirror_mode": {
    "name": "ipython",
    "version": 3
   },
   "file_extension": ".py",
   "mimetype": "text/x-python",
   "name": "python",
   "nbconvert_exporter": "python",
   "pygments_lexer": "ipython3",
   "version": "3.7.0"
  }
 },
 "nbformat": 4,
 "nbformat_minor": 2
}
