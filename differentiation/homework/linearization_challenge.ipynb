{
 "cells": [
  {
   "cell_type": "markdown",
   "metadata": {},
   "source": [
    "## 1. Without using a calculator, approximate $9.98^{98}$. Here are some hints. First $9.98$ is close to $10$, and $10^{98} = 1 \\mathrm{E} 98$."
   ]
  },
  {
   "cell_type": "markdown",
   "metadata": {},
   "source": [
    "### Solution\n",
    "\n",
    "Let $f(x) = x^{98}$. Then $$\n",
    "\\begin{equation}\n",
    "\\begin{aligned}\n",
    "9.98^{98} &= (10 + (- 0.02))^{98} \\\\\n",
    "&= f(x + h)|_{x = 10, h = 0.02} \\\\\n",
    "&\\approx f(10) + f^\\prime(10) \\cdot 0.02 \\\\\n",
    "&= 1\\mathrm{E} 98 + 98 \\cdot 1 \\mathrm{E} 97 \\cdot (-0.02) \\\\\n",
    "&= 1\\mathrm{E} 98 - 0.196 \\mathrm{E} 98 \\\\\n",
    "&= 0.804 \\mathrm{E} 98 \\\\\n",
    "&= 8.04 \\mathrm{E} 97\n",
    "\\end{aligned}\n",
    "\\end{equation}\n",
    "$$"
   ]
  },
  {
   "cell_type": "markdown",
   "metadata": {},
   "source": [
    "## 2. \n",
    "\n",
    "A diving-board of length $L$ bends under the weight of a diver standing on its edge. The free end of the board moves down a distance $$\n",
    "D = \\frac{P}{3 E I} L^3\n",
    "$$. Where $P$ is the weight of the diver $E$, is a constant of elasticity - that depends on the material from which the board is manufactured - and $I$ is a moment of inertia. (These last two quantities will again make an appearance in Lectures $13$ and $14$. but do not worry about what exactly they mean now...)\n",
    "\n",
    "Suppose our board has a length $L = 2 m$, and that it takes a deflection of $D = 20 cm$ under the weight of the diver. Use a linear approximation to estimate the deflection that it would take if its length was increased by $20 cm$."
   ]
  },
  {
   "cell_type": "markdown",
   "metadata": {},
   "source": [
    "### Solutions\n",
    "\n",
    "$$\n",
    "\\begin{array}{}\n",
    "D &= \\frac{P}{3 E I} L^3 \\\\\n",
    "\\frac{d D}{d L} &= \\frac{P}{E I} L^2 \\\\\n",
    "&= 3 \\frac{D}{L}\n",
    "\\end{array}\n",
    "$$\n",
    "\n",
    "$$\n",
    "\\begin{equation}\n",
    "\\begin{aligned}\n",
    "D|_{L = 2.2 m} &= D|_{L = (2 + 0.2) m} \\\\\n",
    "&\\approx D|_{L = 2 m} + \\frac{d D}{d L}|_{L = 2 m} \\cdot 0.2 m \\\\\n",
    "&= D|_{L = 2 m} + 3 \\frac{D}{L}|_{L = 2 m} \\cdot 0.2 m \\\\\n",
    "&= 0.2 m + 3 \\cdot \\frac{0.2 m}{2 m} \\cdot 0.2 m \\\\\n",
    "&= 0.2 m + 0.06 m \\\\\n",
    "&= 0.26 m \\\\\n",
    "&= 26 cm\n",
    "\\end{aligned}\n",
    "\\end{equation}\n",
    "$$"
   ]
  },
  {
   "cell_type": "code",
   "execution_count": null,
   "metadata": {},
   "outputs": [],
   "source": []
  }
 ],
 "metadata": {
  "kernelspec": {
   "display_name": "Python 3",
   "language": "python",
   "name": "python3"
  },
  "language_info": {
   "codemirror_mode": {
    "name": "ipython",
    "version": 3
   },
   "file_extension": ".py",
   "mimetype": "text/x-python",
   "name": "python",
   "nbconvert_exporter": "python",
   "pygments_lexer": "ipython3",
   "version": "3.7.0"
  }
 },
 "nbformat": 4,
 "nbformat_minor": 2
}
