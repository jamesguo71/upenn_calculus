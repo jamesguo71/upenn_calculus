{
 "cells": [
  {
   "cell_type": "markdown",
   "metadata": {},
   "source": [
    "## 1. Use the information about functions $f$ and $g$ from the following table to compute the value of $\\frac{d}{d x}|_{x = 1} g(f(x))$\n",
    "\n",
    "| $x$ | $f(x)$ | $f^\\prime(x)$ | $g(x)$ | $g^\\prime(x)$ | \n",
    "| - | - | - | - | - |\n",
    "| $-1$ | $1$ | $1$ | $0$ | $3$ |\n",
    "| $0$ | $0$ | $2$ | $0$ | $0$ |\n",
    "| $1$ | $2$ | $3$ | $2$ | $0$ |\n",
    "| $2$ | $3$ | $-1$ | $-1$ | $2$ |\n",
    "| $3$ | $-1$ | $0$ | $3$ | $-1$ |"
   ]
  },
  {
   "cell_type": "markdown",
   "metadata": {},
   "source": [
    "### Solution\n",
    "\n",
    "When $x = 1$, $f(x) = 2$. Hence\n",
    "\n",
    "$$\n",
    "\\begin{equation}\n",
    "\\begin{aligned}{}\n",
    "\\frac{d}{d x}|_{x = 1} g(f(x)) &= \\frac{d }{d f}|_{f = 2} g(f) \\cdot \\frac{d}{d x}|_{x = 1} f(x) \\\\\n",
    "&= g^{\\prime}(2) \\cdot f^{\\prime}(1) \\\\\n",
    "&= 2 \\cdot 3 \\\\\n",
    "&= 6\n",
    "\\end{aligned}\n",
    "\\end{equation}\n",
    "$$"
   ]
  },
  {
   "cell_type": "markdown",
   "metadata": {},
   "source": [
    "## 2. Suppose that a certain quantity $A$ is a function of another quantity $B$, which, in turn, depends on a third quantity $C$. We know that $B(C) = \\sqrt{C}$. If the rate of change of $A$ with respect to $B$ is $B^2$, what is the rate of change of $A$ with respect to $C$?"
   ]
  },
  {
   "cell_type": "markdown",
   "metadata": {},
   "source": [
    "### Solution\n",
    "\n",
    "$$\n",
    "\\begin{equation}\n",
    "\\begin{aligned}{}\n",
    "\\frac{d A}{d C} &= \\frac{d A}{d B} \\cdot \\frac{d B}{d C} \\\\\n",
    "&= B^2 \\cdot \\frac{1}{2 \\sqrt{C}} \\\\\n",
    "&= (\\sqrt{C})^2 \\frac{1}{2 \\sqrt{C}} \\\\\n",
    "&= \\frac{\\sqrt{C}}{2}\n",
    "\\end{aligned}\n",
    "\\end{equation}\n",
    "$$"
   ]
  },
  {
   "cell_type": "markdown",
   "metadata": {},
   "source": [
    "## 3. \n",
    "\n",
    "This problem concerns the boundary operator $\\partial$ from the bonus material. Denote by $I$ the closed unit interval $[0, 1]$. Then, as observed, $\\partial I = {0} \\cup {1}$ is the union of two points. Let's get a little _creative_. Denote by $I^n$ the $n$-cube, that is, the Cartesian product of $n$ intervals: \n",
    "\n",
    "$$\n",
    "I^n = \\underbrace{I \\times I \\times ... \\times I}_\\text{$n$ number of $I$s}\n",
    "$$\n",
    "\n",
    "This is a well-defined and perfectly reasonable $n$-dimensional cube (Just because you can't visualize doesn't mean it can't exist!) Note that $I^1 = I$ and $I^0$ is a single point (a zero-dimensional cube!). As a step towards building a \"calculus of spaces\", let us write $\\partial I^1 = 2 I^0 = 2$ as a way of saying that the boundary of an interval consists of two points and that $I^0 = 1$.\n",
    "\n",
    "The boundary of an $n$-dimensional cube consists of a certain number of $(n - 1)$-dimensional cubes (called \"faces\"). For example, a square $(I^2)$ has four faces. Using what you know about derivatives, answer this: how many faces does $I^n$ have?"
   ]
  },
  {
   "cell_type": "markdown",
   "metadata": {},
   "source": [
    "### Solution\n",
    "\n",
    "Let's explore:\n",
    "\n",
    "#### Square\n",
    "$$\n",
    "\\begin{equation}\n",
    "\\begin{aligned}{}\n",
    "\\partial(I^2) &= \\partial(I^1 \\times I^1) \\\\\n",
    "&= (\\partial(I^1) \\times I^1) \\cup (\\partial(I^1) \\times I^1) \\\\\n",
    "&= 2 I^1 \\cup 2 I^1 \\\\\n",
    "&= 4 I^1\n",
    "\\end{aligned}{}\n",
    "\\end{equation}\n",
    "$$. Hence a square $(I^2)$ has $4$ faces.\n",
    "\n",
    "#### Cube\n",
    "$$\n",
    "\\begin{equation}\n",
    "\\begin{aligned}{}\n",
    "\\partial(I^3) &= \\partial(I^2 \\times I^1) \\\\\n",
    "&= \\partial(I^2) \\times I^1 \\cup \\partial(I^1) \\times I^2 \\\\\n",
    "&= 4 I^1 \\times I^1 \\cup I^1 \\cup 2 I^0 \\times I^2 \\\\\n",
    "&= 4 I^2 \\cup I^1 \\cup 2 \\times I^2 \\\\\n",
    "&= 6 I^2\n",
    "\\end{aligned}{}\n",
    "\\end{equation}\n",
    "$$\n",
    "\n",
    "\n",
    "#### Generalization: given $n > 1$\n",
    "\n",
    "We already know $$\n",
    "\\partial(I^k) = (2 k) I^{k-1}\n",
    "$$ holds for $k \\leq 3$.\n",
    "\n",
    "Then\n",
    "$$\n",
    "\\begin{equation}\n",
    "\\begin{aligned}{}\n",
    "\\partial(I^{k + 1}) &= \\partial(I^k \\times I^1) \\\\\n",
    "&= (\\partial(I^k) \\times I^1) \\cup (\\partial(I^1) \\times I^{k}) \\\\\n",
    "&= (2 k) I^{k-1} \\times I^1 \\cup (2 I^k) \\\\\n",
    "&= (2 k) I^k \\cup 2 I^k\n",
    "&= 2(k + 1) I^k\n",
    "\\end{aligned}{}\n",
    "\\end{equation}\n",
    "$$\n",
    "\n",
    "By the results of mathematical induction, we have\n",
    "\n",
    "$$\n",
    "\\partial(I^n) = 2 n\n",
    "$$. Hence $I^n$ has $2 n$ faces."
   ]
  },
  {
   "cell_type": "code",
   "execution_count": null,
   "metadata": {},
   "outputs": [],
   "source": []
  }
 ],
 "metadata": {
  "kernelspec": {
   "display_name": "Python 3",
   "language": "python",
   "name": "python3"
  },
  "language_info": {
   "codemirror_mode": {
    "name": "ipython",
    "version": 3
   },
   "file_extension": ".py",
   "mimetype": "text/x-python",
   "name": "python",
   "nbconvert_exporter": "python",
   "pygments_lexer": "ipython3",
   "version": "3.7.0"
  }
 },
 "nbformat": 4,
 "nbformat_minor": 2
}
