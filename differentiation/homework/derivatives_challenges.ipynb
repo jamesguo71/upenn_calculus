{
 "cells": [
  {
   "cell_type": "markdown",
   "metadata": {},
   "source": [
    "## 1. \n",
    "\n",
    "The profit, $P$, of a company that manufactures and sells $N$ units of a certain product is modeled by the function $$\n",
    "P(N) = R(N) - C(N)\n",
    "$$\n",
    "\n",
    "The revenue function, $R(N) = S \\cdot N$, is the selling price $S$ per unit times the number $N$ of units sold. The company's cost $C(N) = C_0 + C_{op}(N)$, is a sum of two terms. The first is a constant $C_0$ describing the initial investment needed to set up production. The other term, $C_{op}(N)$, varies depending on how many units the company produces, and represents the operating costs.\n",
    "\n",
    "Companies care not only about profit, but also marginal profit, the rate of change of profit with respect to $N$.\n",
    "\n",
    "Assume that $S = \\$50$, $C_0 = \\$75,000$, $C_{op}(N) = \\$ 50 \\sqrt N$, and that the company currently sells $N = 100$ units. Compute the marginal profit at this rate of production. Round your answer to one decimal place."
   ]
  },
  {
   "cell_type": "markdown",
   "metadata": {},
   "source": [
    "### Solutions\n",
    "\n",
    "Let $M$ denote the marginal profit.\n",
    "\n",
    "$$\n",
    "\\begin{equation}\n",
    "\\begin{aligned}{}\n",
    "M &= \\frac{d P}{d N} \\\\\n",
    "&= \\frac{d (R(N) - C(N))}{d N} \\\\\n",
    "&= \\frac{d (S \\cdot N - (C_0 + C_{op}(N)))}{d N} \\\\\n",
    "&= S + \\frac{d C_{op}}{d N}\n",
    "\\end{aligned}\n",
    "\\end{equation}\n",
    "$$\n",
    "\n",
    "Assume that $S = \\$50$, $C_0 = \\$75,000$, $C_{op}(N) = \\$ 50 \\sqrt N$, and $N = 100$, we have $M|_{N = 100} = (\\$50 - \\$50 \\cdot \\frac{1}{2\\sqrt{N}}) |_{N = 100} = \\$47.5$"
   ]
  },
  {
   "cell_type": "code",
   "execution_count": 7,
   "metadata": {},
   "outputs": [
    {
     "data": {
      "image/png": "[encoded data removed]",
      "text/latex": [
       "$$\\frac{95}{2}$$"
      ],
      "text/plain": [
       "95/2"
      ]
     },
     "execution_count": 7,
     "metadata": {},
     "output_type": "execute_result"
    }
   ],
   "source": [
    "## Verify with SymPy\n",
    "\n",
    "from sympy import symbols, sqrt, diff, init_printing\n",
    "\n",
    "init_printing()\n",
    "\n",
    "N = symbols('N')\n",
    "\n",
    "R = 50 * N\n",
    "C = 75000 + 50 * sqrt(N)\n",
    "\n",
    "diff(R - C, N).subs({N: 100})"
   ]
  },
  {
   "cell_type": "markdown",
   "metadata": {},
   "source": [
    "## 2.\n",
    "\n",
    "In Economics, physical capital represents the buildings or machines used by a business to produce a product. The marginal product of physical capital represents the rate of change of output product with respect to physical capital (informally, if you increase the size of your factory a little, how much more product can you create?).\n",
    "\n",
    "A particular model tells us that the output product $Y$ is given, as a function of capital $K$, by\n",
    "\n",
    "$$\n",
    "Y = A K^\\alpha L^{1 - \\alpha}\n",
    "$$\n",
    "\n",
    "where $A$ is a constant, $L$ is units of labor (assumed to be constant), and $\\alpha$ is a constant between $0$ and $1$. Determine the marginal product of physical capital predicted by this model."
   ]
  },
  {
   "cell_type": "markdown",
   "metadata": {},
   "source": [
    "### Solution\n",
    "\n",
    "$$\n",
    "\\frac{d Y}{d K} = \\frac{d (A K^\\alpha L^{1 - \\alpha})}{d K} = (A L^{1 - \\alpha}) K^\\alpha = (A L^{1 - \\alpha} \\alpha) K^{\\alpha - 1} = A \\alpha (\\frac{L}{K})^{1 - \\alpha}\n",
    "$$"
   ]
  },
  {
   "cell_type": "code",
   "execution_count": null,
   "metadata": {},
   "outputs": [],
   "source": []
  }
 ],
 "metadata": {
  "kernelspec": {
   "display_name": "Python 3",
   "language": "python",
   "name": "python3"
  },
  "language_info": {
   "codemirror_mode": {
    "name": "ipython",
    "version": 3
   },
   "file_extension": ".py",
   "mimetype": "text/x-python",
   "name": "python",
   "nbconvert_exporter": "python",
   "pygments_lexer": "ipython3",
   "version": "3.7.0"
  }
 },
 "nbformat": 4,
 "nbformat_minor": 2
}
