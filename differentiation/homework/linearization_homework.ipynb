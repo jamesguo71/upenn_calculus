{
 "cells": [
  {
   "cell_type": "markdown",
   "metadata": {},
   "source": [
    "## 1. Use a linear approximation to estimate $\\sqrt[3]{67}$. Round your answer to four decimal places.\n",
    "\n",
    "Hint: remember that $\\sqrt[3]{64} = 4$. You can check the accuracy of this approximation by noting that $\\sqrt[3]{67} \\approx 4.0615$."
   ]
  },
  {
   "cell_type": "markdown",
   "metadata": {},
   "source": [
    "### Solution\n",
    "\n",
    "- We want to evaluate $f(x) = \\sqrt[3]{x}$ at $x = 67$\n",
    "- $f(x + h) = f(x) + \\frac{d f}{d x} h + O(h^2) \\approx f(x) + \\frac{d f}{d x} h$\n",
    "\n",
    "Hence $$\n",
    "\\begin{equation}\n",
    "\\begin{aligned}{}\n",
    "\\sqrt[3]{67} &= f(x + h)|_{x = 64, h = 3} \\\\\n",
    "&\\approx f(x)|_{x = 64} + (\\frac{d f}{d x}|_{x = 64}) (h|_{h = 3}) \\\\\n",
    "&= \\sqrt[3]{64} + \\frac{1}{3 \\sqrt[3]{64^2}} 3 \\\\\n",
    "&= 4 + \\frac{1}{16} \\\\\n",
    "&\\approx 4.0625\n",
    "\\end{aligned}\n",
    "\\end{equation}\n",
    "$$"
   ]
  },
  {
   "cell_type": "markdown",
   "metadata": {},
   "source": [
    "## 2. Use a linear approximation to estimate the cosine of an angle of $66^\\circ$. Round your answer to four decimal places.\n",
    "\n",
    "Hint: remember that $60^\\circ = \\frac{\\pi}{3}$, and hence $6^\\circ = \\frac{\\pi}{30}$. You can check the accuracy of this approximation by noting that $\\cos 66^\\circ \\approx 0.4067$."
   ]
  },
  {
   "cell_type": "markdown",
   "metadata": {},
   "source": [
    "### Solution\n",
    "\n",
    "- We want to evaluate $f(x) = \\cos x$ at $x = 66^\\circ$\n",
    "- $f(x + h) \\approx f(x) + f^\\prime(x) h$\n",
    "\n",
    "Hence\n",
    "$$\n",
    "\\begin{equation}\n",
    "\\begin{aligned}{}\n",
    "\\cos 66^\\circ &= \\cos (60^\\circ + 6^\\circ) \\\\\n",
    "&= \\cos (\\frac{\\pi}{3}+ \\frac{\\pi}{30}) \\\\\n",
    "&= f(x + h)|_{x = \\frac{\\pi}{3}, h = \\frac{\\pi}{30}} \\\\\n",
    "&\\approx f(\\frac{\\pi}{3}) + f^\\prime(\\frac{\\pi}{3}) \\frac{\\pi}{30} \\\\\n",
    "&= \\cos \\frac{\\pi}{3} + (-(\\sin \\frac{\\pi}{3}) \\frac{\\pi}{30}) \\\\\n",
    "&= \\frac{1}{2} + (- \\frac{1}{2} \\sqrt{3} \\frac{\\pi}{30}) \\\\\n",
    "&= \\frac{1}{2} - \\frac{\\sqrt{3} \\pi}{60} \\\\\n",
    "&= \\frac{30 - \\sqrt{3} \\pi}{60} \\\\\n",
    "&\\approx 0.4093\n",
    "\\end{aligned}\n",
    "\\end{equation}\n",
    "$$"
   ]
  },
  {
   "cell_type": "markdown",
   "metadata": {},
   "source": [
    "## 3. The golden ratio $𝜑 = \\frac{1 + \\sqrt{5}}{2}$ is a root of the polynomial $x^2 - x - 1$. If you use Newton's method to estimate its value, what is the appropriate update rule for the sequence $x_n$."
   ]
  },
  {
   "cell_type": "markdown",
   "metadata": {},
   "source": [
    "### Solution\n",
    "\n",
    "Let $$f(x) = x^2 - x - 1$$.\n",
    "\n",
    "We have $$\n",
    "\\begin{equation}\n",
    "\\begin{aligned}{}\n",
    "x_{n + 1} &= x_n - \\frac{f(x_n)}{f^\\prime(x_n)} \\\\\n",
    "&= x_n - \\frac{x_n^2 - x_n - 1}{2 x_n - 1} \\\\\n",
    "&= \\frac{(2 x_n - 1) x_n - (x_n^2 - x_n - 1)}{2 x_n - 1} \\\\\n",
    "&= \\frac{2 x_n^2 - x_n - x_n^2 + x_n + 1}{2 x_n - 1} \\\\\n",
    "&= \\frac{x_n^2 + 1}{2 x_n - 1}\n",
    "\\end{aligned}\n",
    "\\end{equation}\n",
    "$$"
   ]
  },
  {
   "cell_type": "markdown",
   "metadata": {},
   "source": [
    "## 4. To approximate $\\sqrt{10}$ using Newton's method, what is the appropriate update rule for the sequence $x_n$?"
   ]
  },
  {
   "cell_type": "markdown",
   "metadata": {},
   "source": [
    "### Solution\n",
    "\n",
    "Let $$\n",
    "f(x) = \\sqrt{x}\n",
    "$$.\n",
    "\n",
    "We have $$\n",
    "\\begin{equation}\n",
    "\\begin{aligned}{}\n",
    "x_{n + 1} &= x_n - \\frac{f(x_n)}{f^\\prime(x_n)} \\\\\n",
    "&= x_n - \\frac{\\sqrt{x_n}}{\\frac{1}{2\\sqrt{x_n}}} \\\\\n",
    "&= x_n - \\frac{x_n}{2} \\\\\n",
    "&= \\frac{x_n}{2}\n",
    "\\end{aligned}\n",
    "\\end{equation}\n",
    "$$"
   ]
  },
  {
   "cell_type": "markdown",
   "metadata": {},
   "source": [
    "## 5. You want to build a square pen for your new chickens, with an area of $1200 ft^2$. Not having a calculator handy, you decide to use Newton's method to approximate the length of one side of the fence. If your first guess is $30 ft$, what is the next approximation you will get? "
   ]
  },
  {
   "attachments": {},
   "cell_type": "markdown",
   "metadata": {},
   "source": [
    "### Solution\n",
    "\n",
    "We can transform the question as:\n",
    "\n",
    "Find the root of $f(x) = x^2 - 1200$.\n",
    "\n",
    "With $$x_1 = 30$$, we have $$\n",
    "\\begin{equation}\n",
    "\\begin{aligned}{}\n",
    "x_2 &= x_1 - \\frac{f(x_1)}{f^\\prime(x_1)} \\\\\n",
    "&= x_1 - \\frac{x_1^2 - 1200}{2 x_1} \\\\\n",
    "&= \\frac{2 x_1^2 - x_1^2 + 1200}{2 x_1} \\\\\n",
    "&= \\frac{x_1^2 + 1200}{2 x_1} \\\\\n",
    "&= \\frac{900 + 1200}{2 \\cdot 30} \\\\\n",
    "&= \\frac{2100}{60} \\\\\n",
    "&= 35\n",
    "\\end{aligned}\n",
    "\\end{equation}\n",
    "$$"
   ]
  },
  {
   "cell_type": "markdown",
   "metadata": {},
   "source": [
    "## 6. You are in charge of designing packaging materials for your company's new product. The marketing department tells you that you must put them in a cube-shaped box. The engineering department says that you will need a box with a volume of $500 cm^3$. What are the dimensions of the cubical box? Starting with a guess of $8 cm$ for the length of the side of the cube, what approximation does one iteration of Newton's method give you? Round your answer to two decimal places."
   ]
  },
  {
   "cell_type": "markdown",
   "metadata": {},
   "source": [
    "### Solutions\n",
    "\n",
    "> What are the dimensions of the cubical box\n",
    "\n",
    "$3$.\n",
    "\n",
    ">  Starting with a guess of $8 cm$ for the length of the side of the cube, what approximation does one iteration of Newton's method give you? Round your answer to two decimal places.\n",
    "\n",
    "We can transform the question as:\n",
    "\n",
    "Find the root of function $f(x) = 6 x^2 = 500$.\n",
    "\n",
    "With $$\n",
    "x_1 = 8\n",
    "$$, we have $$\n",
    "\\begin{equation}\n",
    "\\begin{aligned}{}\n",
    "x_2 &= x_1 - \\frac{f(x_1)}{f^\\prime(x_1)} \\\\\n",
    "&= x_1 - \\frac{6 x_1^2 - 500}{12 x_1} \\\\\n",
    "&= 8 - \\frac{6 \\cdot 8^2 - 500}{12 \\cdot 8} \\\\\n",
    "&= 9 + \\frac{3}{16} \\\\\n",
    "&= 9.1875 \\\\\n",
    "&\\approx 9.19\n",
    "\\end{aligned}\n",
    "\\end{equation}\n",
    "$$"
   ]
  },
  {
   "cell_type": "code",
   "execution_count": null,
   "metadata": {},
   "outputs": [],
   "source": []
  }
 ],
 "metadata": {
  "kernelspec": {
   "display_name": "Python 3",
   "language": "python",
   "name": "python3"
  },
  "language_info": {
   "codemirror_mode": {
    "name": "ipython",
    "version": 3
   },
   "file_extension": ".py",
   "mimetype": "text/x-python",
   "name": "python",
   "nbconvert_exporter": "python",
   "pygments_lexer": "ipython3",
   "version": "3.7.0"
  }
 },
 "nbformat": 4,
 "nbformat_minor": 2
}
