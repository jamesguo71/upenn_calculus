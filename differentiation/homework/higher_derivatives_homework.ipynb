{
 "cells": [
  {
   "cell_type": "markdown",
   "metadata": {},
   "source": [
    "## 1. You are given the position, velocity and acceleration of a particle at time $t = 0$. The position is $p(0) = 2$, the velocity $v(0) = 4$, and the acceleration $a(0) = 3$. Using this information, which Taylor series should they use to approximate $p(t)$, and what is the estimated value of $p(4)$ using this approximation?"
   ]
  },
  {
   "cell_type": "markdown",
   "metadata": {},
   "source": [
    "### Solution\n",
    "\n",
    "$$\n",
    "\\begin{equation}\n",
    "\\begin{aligned}\n",
    "p(t) &= \\sum_{k = 0}^{\\infty} \\frac{1}{k!} \\frac{d^k p}{d x^k}|_{x = 0} t^k \\\\\n",
    "&= p(0) +  v(0) t + \\frac{1}{2!} a(0) \\cdot t^2 + O(t^3) \\\\\n",
    "&= 2 + 4 t + \\frac{3}{2} t^2 + O(t^3)\n",
    "\\end{aligned}\n",
    "\\end{equation}\n",
    "$$. Hence $$\n",
    "\\begin{equation}\n",
    "\\begin{aligned}\n",
    "p(4) \\simeq 2 + 4 \\cdot 4 + \\frac{3}{2} 4^2\n",
    "&= 42\n",
    "\\end{aligned}\n",
    "\\end{equation}\n",
    "$$"
   ]
  },
  {
   "cell_type": "markdown",
   "metadata": {},
   "source": [
    "## 2. If a particle moves according to the position function $s(t) = t^3 - 6 t$, what are its position, velocity and acceleration at $t = 3$?"
   ]
  },
  {
   "cell_type": "markdown",
   "metadata": {},
   "source": [
    "### Solution\n",
    "\n",
    "Position: $s(3) = 3^3 - 6 \\cdot 3 = 27 - 18 = 9$.\n",
    "Velocity: $s^\\prime(3) = 3 \\cdot 3^2 - 6 = 21$.\n",
    "Acceleration: $s^{\\prime^\\prime}(3) = 6 \\cdot 3 = 18$."
   ]
  },
  {
   "cell_type": "markdown",
   "metadata": {},
   "source": [
    "## 3. If the position of a car at time $t$ is given by the formula $p(t) = t^4 - 24 t^2$, for which times $t$ is its velocity decreasing?"
   ]
  },
  {
   "cell_type": "markdown",
   "metadata": {},
   "source": [
    "### Solution\n",
    "\n",
    "The velocity is $$\n",
    "p^\\prime(t) = 4 t^3 - 48 t\n",
    "$$. And the acceleration is $$\n",
    "p^{\\prime \\prime}(t) = 12 t^2 - 48 = 12 (t^2 - 4) = 12 (t + 2) (t - 2)\n",
    "$$.\n",
    "\n",
    "The velocity is decreasing the acceleration is negative. Hence the velocity is decreasing for $-2 < v < 2$."
   ]
  },
  {
   "cell_type": "markdown",
   "metadata": {},
   "source": [
    "## 4. What is a formula for the second derivative of $f(t) = t^2 \\sin 2 t$? Use this formula to compute $f^{\\prime \\prime}(\\frac{\\pi}{2})$."
   ]
  },
  {
   "cell_type": "markdown",
   "metadata": {},
   "source": [
    "### Solution\n",
    "\n",
    "The second derivative is $$\n",
    "\\begin{equation}\n",
    "\\begin{aligned}\n",
    "f^{\\prime \\prime}(t) &= (f^\\prime(x))^\\prime \\\\\n",
    "&= (2 t \\sin 2 t + t^2 (\\cos 2 t) \\cdot 2)^\\prime \\\\\n",
    "&= (2 t \\sin 2 t + 2 t^2 (\\cos 2 t))^\\prime \\\\\n",
    "&= (2 \\sin 2 t + 2 t (\\cos 2 t) 2) + (4 t (\\cos 2 t) + 2 t^2 (- \\sin 2 t) \\cdot 2) \\\\\n",
    "&= 2 \\sin 2 t + 4 t \\cos 2 t + 4 t \\cos 2 t - 4 t^2 \\sin 2 t \\\\\n",
    "&= (2 - 4 t^2) \\sin 2 t + 8 t \\cos 2 t\n",
    "\\end{aligned}\n",
    "\\end{equation}\n",
    "$$. Hence $$\n",
    "\\begin{equation}\n",
    "\\begin{aligned}\n",
    "f^{\\prime \\prime}(\\frac{\\pi}{2}) &= (2 - 4 (\\frac{\\pi}{2})^2) \\sin 2 \\frac{\\pi}{2} + 8 \\frac{\\pi}{2} \\cos 2 \\frac{\\pi}{2} \\\\\n",
    "&= (2 - \\pi^2) \\sin \\pi + 4 \\pi \\cos \\pi \\\\\n",
    "&= -4 \\pi\n",
    "\\end{aligned}\n",
    "\\end{equation}\n",
    "$$"
   ]
  },
  {
   "cell_type": "markdown",
   "metadata": {},
   "source": [
    "### 5. Use a Taylor series expansion to compute $f^{(3)}(0)$ for $f(x) = \\sin^3 (\\ln(1 + x))$."
   ]
  },
  {
   "cell_type": "markdown",
   "metadata": {},
   "source": [
    "### Solution\n",
    "The Taylor Series expansion of $f(x) = \\sin^3 (\\ln(1 + x))$ is\n",
    "\n",
    "$$\n",
    "\\begin{equation}\n",
    "\\begin{aligned}\n",
    "f(x) &= \\sin^3 (\\ln(1 + x)) \\\\\n",
    "&= \\sin^3(x - \\frac{x^2}{2} + \\frac{x^3}{3} + ..) \\\\\n",
    "&= ((x - \\frac{x^2}{2} + \\frac{x^3}{3} + ..) - \\frac{1}{3!}(O(x)^3))^3 \\\\\n",
    "&= (x + O(x^2))^3 \\\\\n",
    "&= x^3 + O(x^6)\n",
    "\\end{aligned}\n",
    "\\end{equation}\n",
    "$$. Hence $\\frac{1}{3!}f^{(3)}(0) = 1$. Hence $f^{(3)}(0) = 6$."
   ]
  },
  {
   "cell_type": "code",
   "execution_count": 3,
   "metadata": {},
   "outputs": [
    {
     "data": {
      "image/png": "[encoded data removed]",
      "text/latex": [
       "$$x^{3} - \\frac{3 x^{4}}{2} + \\frac{5 x^{5}}{4} + O\\left(x^{6}\\right)$$"
      ],
      "text/plain": [
       "        4      5        \n",
       " 3   3⋅x    5⋅x     ⎛ 6⎞\n",
       "x  - ──── + ──── + O⎝x ⎠\n",
       "      2      4          "
      ]
     },
     "execution_count": 3,
     "metadata": {},
     "output_type": "execute_result"
    }
   ],
   "source": [
    "## Verify with Sympy\n",
    "\n",
    "from sympy import symbols, ln, sin, init_printing\n",
    "\n",
    "init_printing()\n",
    "\n",
    "x = symbols('x')\n",
    "\n",
    "f_x = sin(ln(1 + x)) ** 3\n",
    "\n",
    "(f_x).series()"
   ]
  },
  {
   "cell_type": "code",
   "execution_count": 9,
   "metadata": {},
   "outputs": [
    {
     "data": {
      "image/png": "[encoded data removed]",
      "text/latex": [
       "$$6$$"
      ],
      "text/plain": [
       "6"
      ]
     },
     "execution_count": 9,
     "metadata": {},
     "output_type": "execute_result"
    }
   ],
   "source": [
    "from sympy import diff\n",
    "\n",
    "diff(f_x, x, 3).subs(x, 0)"
   ]
  },
  {
   "cell_type": "markdown",
   "metadata": {},
   "source": [
    "## 6. What is the curvature of the graph of the function $f(x) = -2 \\sin(x^2)$ at point $(0, 0)$."
   ]
  },
  {
   "cell_type": "markdown",
   "metadata": {},
   "source": [
    "### Solutions\n",
    "\n",
    "$$\n",
    "\\begin{equation}\n",
    "\\begin{aligned}\n",
    "K &= \\frac{|f^{\\prime \\prime}|}{(1 + (f^\\prime)^2)^\\frac{3}{2}} \\\\\n",
    "&= \\frac{|4 x^2 \\sin(x^2) - 4 \\cos(x^2)|}{(1 + (-4 x \\cos(x^2))^2)^\\frac{3}{2}}\n",
    "\\end{aligned}\n",
    "\\end{equation}\n",
    "$$. Hence $$\n",
    "\\begin{equation}\n",
    "\\begin{aligned}\n",
    "K|_{x = 0} &= \\frac{|4 \\cdot 0^2 \\sin(0^2) - 4 \\cos(0^2)|}{(1 + (-4 \\cdot 0 \\cos(0^2))^2)^\\frac{3}{2}} \\\\\n",
    "&= 4\n",
    "\\end{aligned}\n",
    "\\end{equation}\n",
    "$$."
   ]
  },
  {
   "cell_type": "code",
   "execution_count": null,
   "metadata": {},
   "outputs": [],
   "source": []
  }
 ],
 "metadata": {
  "kernelspec": {
   "display_name": "Python 3",
   "language": "python",
   "name": "python3"
  },
  "language_info": {
   "codemirror_mode": {
    "name": "ipython",
    "version": 3
   },
   "file_extension": ".py",
   "mimetype": "text/x-python",
   "name": "python",
   "nbconvert_exporter": "python",
   "pygments_lexer": "ipython3",
   "version": "3.7.0"
  }
 },
 "nbformat": 4,
 "nbformat_minor": 2
}
