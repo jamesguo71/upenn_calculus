{
 "cells": [
  {
   "cell_type": "markdown",
   "metadata": {},
   "source": [
    "## 1. Let $f(x) = - x^2 + 6 x - 3$. Find $f^\\prime(-2)$."
   ]
  },
  {
   "cell_type": "markdown",
   "metadata": {},
   "source": [
    "### Solution\n",
    "\n",
    "$$\n",
    "\\begin{equation}\n",
    "\\begin{aligned}{}\n",
    "f^\\prime(-2) &= \\lim_{h \\to 0} \\frac{f(-2 + h) - f(-2)}{h} \\\\\n",
    "&= \\lim_{h \\to 0} \\frac{(-(-2 + h)^2 + 6(-2 + h) - 3) - (-(-2)^2 + 6(-2) - 3)}{h} \\\\\n",
    "&= \\lim_{h \\to 0} \\frac{(-(-2)^2 + 4 h - h^2 + 6 (-2) + 6 h - 3) - (-(-2)^2 + 6(-2) - 3)}{h} \\\\\n",
    "&= \\lim_{h \\to 0} \\frac{4 h + h^2 + 6 h}{h} \\\\\n",
    "&= \\lim_{h \\to 0} \\frac{10 h + h^2}{h} \\\\\n",
    "&= \\lim_{h \\to 0} 10 + h \\\\\n",
    "&= 10\n",
    "\\end{aligned}\n",
    "\\end{equation}\n",
    "$$"
   ]
  },
  {
   "cell_type": "code",
   "execution_count": 10,
   "metadata": {},
   "outputs": [
    {
     "data": {
      "image/png": "[encoded data removed]",
      "text/latex": [
       "$$10$$"
      ],
      "text/plain": [
       "10"
      ]
     },
     "execution_count": 10,
     "metadata": {},
     "output_type": "execute_result"
    }
   ],
   "source": [
    "## Verify with SymPy\n",
    "\n",
    "from sympy import symbols, diff, init_printing\n",
    "\n",
    "init_printing()\n",
    "\n",
    "x = symbols('x')\n",
    "\n",
    "diff(- x ** 2 + 6 * x - 3).subs({x: -2})"
   ]
  },
  {
   "cell_type": "markdown",
   "metadata": {},
   "source": [
    "## 2. Given the position function $p(t) = 6 + \\frac{1}{2} t + 4 t^2$ of a particle as a function of time, what is the particle's velocity at $t = 1$?"
   ]
  },
  {
   "cell_type": "markdown",
   "metadata": {},
   "source": [
    "### Solution\n",
    "\n",
    "$$\n",
    "\\begin{equation}\n",
    "\\begin{aligned}{}\n",
    "\\frac{d p}{d t}|_{t = 1} &= \\lim_{h \\to 0} \\frac{p(1 + h) - p(1)}{h} \\\\\n",
    "&= \\lim_{h \\to 0} \\frac{(6 + \\frac{1}{2}(1 + h) + 4(1 + h)^2) - (6 + \\frac{1}{2} \\cdot 1 + 4 \\cdot 1^2)}{h} \\\\\n",
    "&= \\lim_{h \\to 0} \\frac{(6 + \\frac{1}{2} \\cdot 1 + \\frac{1}{2} h + 4 \\cdot 1^2 + 4 \\cdot 2 \\cdot 1 \\cdot h + 4 h^2) - (6 + \\frac{1}{2} \\cdot 1 + 4 \\cdot 1^2)}{h} \\\\\n",
    "&= \\lim_{h \\to 0} \\frac{\\frac{1}{2} h + 8 h + 4 h^2}{h} \\\\\n",
    "&= \\lim_{h \\to 0} \\frac{17}{2} + 4 h\n",
    "&= \\frac{17}{2}\n",
    "\\end{aligned}\n",
    "\\end{equation}\n",
    "$$"
   ]
  },
  {
   "cell_type": "code",
   "execution_count": 12,
   "metadata": {},
   "outputs": [
    {
     "data": {
      "image/png": "[encoded data removed]",
      "text/latex": [
       "$$8.5$$"
      ],
      "text/plain": [
       "8.50000000000000"
      ]
     },
     "execution_count": 12,
     "metadata": {},
     "output_type": "execute_result"
    }
   ],
   "source": [
    "## Verify with SymPy\n",
    "\n",
    "t = symbols('t')\n",
    "\n",
    "diff(6 + 1 / 2 * t + 4 * (t ** 2)).subs({t: 1})"
   ]
  },
  {
   "cell_type": "markdown",
   "metadata": {},
   "source": [
    "## 3. A very rough model of population size $P$ for an ant species is $P(t) = 2 \\ln(t + 2)$, where $t$ is time. What is the rate of change of the population at time $t = 2$?"
   ]
  },
  {
   "cell_type": "markdown",
   "metadata": {},
   "source": [
    "### Solutions\n",
    "\n",
    "$$\n",
    "\\begin{equation}\n",
    "\\begin{aligned}{}\n",
    "\\frac{d P}{d t} &= \\lim_{h \\to 0} \\frac{P(1 + h) - P(1)}{h} \\\\\n",
    "&= \\lim_{h \\to 0} \\frac{2 \\ln((2 + h) + 2) - 2 \\ln(2 + 2))}{h} \\\\\n",
    "&= \\lim_{h \\to 0} \\frac{2 (\\ln(4 + h) - \\ln(4))}{h} \\\\\n",
    "&= \\lim_{h \\to 0} \\frac{2 (\\ln(\\frac{4 + h}{4}))}{h} \\\\\n",
    "&= \\lim_{h \\to 0} \\frac{2 (\\ln(1 + \\frac{h}{4}))}{h} \\\\\n",
    "&= \\lim_{h \\to 0} \\frac{2 (\\frac{h}{4} + O(h^2))}{h} \\\\\n",
    "&= 2 \\frac{1}{4} \\\\\n",
    "&= \\frac{1}{2}\n",
    "\\end{aligned}\n",
    "\\end{equation}\n",
    "$$"
   ]
  },
  {
   "cell_type": "code",
   "execution_count": 14,
   "metadata": {},
   "outputs": [
    {
     "data": {
      "image/png": "[encoded data removed]",
      "text/latex": [
       "$$\\frac{1}{2}$$"
      ],
      "text/plain": [
       "1/2"
      ]
     },
     "execution_count": 14,
     "metadata": {},
     "output_type": "execute_result"
    }
   ],
   "source": [
    "## Verify with SymPy\n",
    "\n",
    "from sympy import ln\n",
    "\n",
    "diff(2 * ln(t + 2)).subs({t: 2})"
   ]
  },
  {
   "cell_type": "markdown",
   "metadata": {},
   "source": [
    "## 4. Find $\\frac{d V}{d t}$ for $V = \\frac{1}{4} t^3$."
   ]
  },
  {
   "cell_type": "markdown",
   "metadata": {},
   "source": [
    "### Solutions\n",
    "\n",
    "$$\n",
    "\\begin{equation}\n",
    "\\begin{aligned}{}\n",
    "\\frac{d V}{d t} &= \\lim_{h \\to 0} \\frac{V(t + h) - V(t)}{h} \\\\\n",
    "&= \\lim_{h \\to 0} \\frac{\\frac{1}{4}(t + h)^3 - \\frac{1}{4}t^3}{h} \\\\\n",
    "&= \\lim_{h \\to 0} \\frac{\\frac{1}{4}(t^3 + 3 t^2 h + O(h^2)) - \\frac{1}{4}t^3}{h} \\\\\n",
    "&= \\lim_{h \\to 0} \\frac{\\frac{3}{4} t^2 h + O(h^2)}{h} \\\\\n",
    "&= \\lim_{h \\to 0} \\frac{3}{4} t^2\n",
    "\\end{aligned}\n",
    "\\end{equation}\n",
    "$$"
   ]
  },
  {
   "cell_type": "code",
   "execution_count": 15,
   "metadata": {},
   "outputs": [
    {
     "data": {
      "image/png": "[encoded data removed]",
      "text/latex": [
       "$$0.75 t^{2}$$"
      ],
      "text/plain": [
       "      2\n",
       "0.75⋅t "
      ]
     },
     "execution_count": 15,
     "metadata": {},
     "output_type": "execute_result"
    }
   ],
   "source": [
    "## Verify with SymPy\n",
    "\n",
    "diff(1 / 4 * (t ** 3))"
   ]
  },
  {
   "cell_type": "markdown",
   "metadata": {},
   "source": [
    "## 5. If a car's position is represented by $s(t) = 4 t^3$, what is the car's change in velocity from $t = 2$ to $t = 3$?"
   ]
  },
  {
   "cell_type": "markdown",
   "metadata": {},
   "source": [
    "### Solution\n",
    "\n",
    "$$\n",
    "\\begin{equation}\n",
    "\\begin{aligned}{}\n",
    "\\frac{d s}{d t} &= \\frac{d 4 t^3}{d t} \\\\\n",
    "&= 12 t^2\n",
    "\\end{aligned}\n",
    "\\end{equation}\n",
    "$$\n",
    "\n",
    "$$\n",
    "\\begin{equation}\n",
    "\\begin{aligned}{}\n",
    "\\frac{d s}{d t}|_{t = 3} - \\frac{d s}{d t}|_{t = 2} &= 12 \\cdot 3^2 - 12 \\cdot 2^2 \\\\\n",
    "&= 12 \\cdot (9 - 4) \\\\\n",
    "&= 60\n",
    "\\end{aligned}\n",
    "\\end{equation}\n",
    "$$"
   ]
  },
  {
   "cell_type": "markdown",
   "metadata": {},
   "source": [
    "## 6. A particle's position, $p$, as a function of time, $t$, is represented by $p(t) = \\frac{1}{3} t^3 - 3 t^2 + 9 t$. When is the particle at rest?"
   ]
  },
  {
   "cell_type": "markdown",
   "metadata": {},
   "source": [
    "### Solution\n",
    "\n",
    "The particle is at rest when $$\n",
    "\\begin{equation}\n",
    "\\begin{aligned}{}\n",
    "\\frac{d p}{d t} &= \\frac{d p}{d t} (\\frac{1}{3} t^3 - 3 t^2 + 9 t) \\\\\n",
    "&= t^2 - 6 t + 9 \\\\\n",
    "&= 0\n",
    "\\end{aligned}\n",
    "\\end{equation}\n",
    "$$. Hence $t = 3$."
   ]
  },
  {
   "cell_type": "code",
   "execution_count": 25,
   "metadata": {},
   "outputs": [
    {
     "data": {
      "image/png": "[encoded data removed]",
      "text/latex": [
       "$$\\frac{t^{3}}{3} - 3 t^{2} + 9 t$$"
      ],
      "text/plain": [
       " 3             \n",
       "t       2      \n",
       "── - 3⋅t  + 9⋅t\n",
       "3              "
      ]
     },
     "metadata": {},
     "output_type": "display_data"
    },
    {
     "data": {
      "image/png": "[encoded data removed]",
      "text/latex": [
       "$$\\left [ 3\\right ]$$"
      ],
      "text/plain": [
       "[3]"
      ]
     },
     "execution_count": 25,
     "metadata": {},
     "output_type": "execute_result"
    }
   ],
   "source": [
    "## Verify with SymPy\n",
    "\n",
    "from sympy import Eq, solve\n",
    "from IPython.display import display\n",
    "\n",
    "p = t ** 3 / 3 - 3 * t ** 2 + 9 * t\n",
    "\n",
    "display(p)\n",
    "\n",
    "solve(diff(p), t)"
   ]
  },
  {
   "cell_type": "markdown",
   "metadata": {},
   "source": [
    "## 7. A rock is dropped from the top of a 320-foot building. The height of the rock at time $t$ is given $s(t) = - 8 t^2 + 320$, where $t$ is measured in seconds. Find the speed (that is, the absolute value of the velocity) of the rock when it hits the ground in feet per second. Round your answer to one decimal place."
   ]
  },
  {
   "cell_type": "markdown",
   "metadata": {},
   "source": [
    "### Solutions\n",
    "\n",
    "Let $t_1$ be the time when the rock hit the ground, then $t = 2\\sqrt{10}$.\n",
    "\n",
    "The speed of $t_1$ will be $\\frac{d s}{d t}|_{t = t_1} = - 16 t_1 = - 32 \\sqrt{10} \\approx -101.2$"
   ]
  },
  {
   "cell_type": "code",
   "execution_count": 33,
   "metadata": {},
   "outputs": [
    {
     "data": {
      "image/png": "[encoded data removed]",
      "text/latex": [
       "$$- 8 t^{2} + 320$$"
      ],
      "text/plain": [
       "     2      \n",
       "- 8⋅t  + 320"
      ]
     },
     "metadata": {},
     "output_type": "display_data"
    },
    {
     "data": {
      "image/png": "[encoded data removed]",
      "text/latex": [
       "$$-101.192885125388$$"
      ],
      "text/plain": [
       "-101.192885125388"
      ]
     },
     "execution_count": 33,
     "metadata": {},
     "output_type": "execute_result"
    }
   ],
   "source": [
    "### Verify with SymPy\n",
    "\n",
    "from sympy import solve\n",
    "\n",
    "s = -8 * t ** 2 + 320\n",
    "display(s)\n",
    "\n",
    "t_1 = [s for s in solve(Eq(s, 0), t) if s > 0][0]\n",
    "\n",
    "diff(s).subs({t: t_1}).n()"
   ]
  },
  {
   "cell_type": "markdown",
   "metadata": {},
   "source": [
    "## 8.\n",
    "\n",
    "Hooke's law states that the force $F$ exerted by an __ideal__ spring displaced a distance $x$ from its equilibrium point is given by $F(x) = - k x$, where the constant $k$, is called the __spring__ constant and varies from one spring to another. In real life, many springs are nearly ideal for small displacements; however, for large displacements, they might deviate from what Hooke's law predicts.\n",
    "\n",
    "Much of the confusion between nearly-ideal and non-ideal springs is clarified by thinking in terms of series: for $x$ near zero, $F(x) = - k x + O(x^2)$.\n",
    "\n",
    "Suppose you have a spring whose force follows the equation $F(x) = -2 \\tan 3 x$. What is its spring constant?"
   ]
  },
  {
   "cell_type": "markdown",
   "metadata": {},
   "source": [
    "### Solution\n",
    "\n",
    "Since $F(x) = -2 \\tan 3 x$, we know $\\frac{d F}{d x} = -2 (\\sec^2 3 x) \\cdot 3 = -6 \\sec^2 3 x$.\n",
    "\n",
    "Hence near $x = 0$ we can represent $F(x)$ as $F(x) = F(0 + x) = F(0) + \\frac{d F}{d x}|_{x = 0} x + O(x^2)$.\n",
    "\n",
    "Hence $k = -\\frac{d F}{d x}|_{x = 0} = -(-6 \\sec^2 3 \\cdot 0) = 6$."
   ]
  },
  {
   "cell_type": "code",
   "execution_count": null,
   "metadata": {},
   "outputs": [],
   "source": []
  }
 ],
 "metadata": {
  "kernelspec": {
   "display_name": "Python 3",
   "language": "python",
   "name": "python3"
  },
  "language_info": {
   "codemirror_mode": {
    "name": "ipython",
    "version": 3
   },
   "file_extension": ".py",
   "mimetype": "text/x-python",
   "name": "python",
   "nbconvert_exporter": "python",
   "pygments_lexer": "ipython3",
   "version": "3.7.0"
  }
 },
 "nbformat": 4,
 "nbformat_minor": 2
}
