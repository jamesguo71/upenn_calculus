{
 "cells": [
  {
   "cell_type": "markdown",
   "metadata": {},
   "source": [
    "## 1. Find all the local maxima and minima of the function $y = x e^{- x^2}$."
   ]
  },
  {
   "cell_type": "markdown",
   "metadata": {},
   "source": [
    "### Solution\n",
    "\n",
    "First we need to find the critical points by computing the first order derivative of $y$.\n",
    "\n",
    "$$\n",
    "\\begin{equation}\n",
    "\\begin{aligned}\n",
    "y^\\prime &= e^{-x^2} - 2 x^2 e^{- x^2} \\\\\n",
    "&= e^{-x^2} (1 - 2 x^2)\n",
    "\\end{aligned}\n",
    "\\end{equation}\n",
    "$$. We need to find the input where the first order derivative is $0$.\n",
    "\n",
    "$$\n",
    "e^{-x^2} (1 - 2 x^2) = 0\n",
    "$$. Hence the critical points are $x_1 = \\frac{\\sqrt{2}}{2}$ and $x_2 = - \\frac{\\sqrt{2}}{2}$.\n",
    "\n",
    "Let's plug $x_1$ and $x_2$ into the $2^{nd}$ derivative:\n",
    "$$\n",
    "\\begin{equation}\n",
    "\\begin{aligned}\n",
    "y^{\\prime \\prime} &= e^{-x^2} (- 2 x) (1 - 2 x^2) + e^{-x^2} (- 4 x) \\\\\n",
    "&= e^{-x^2} (- 2 x + 4 x^3 - 4 x) \\\\\n",
    "&= e^{-x^2} (4 x^3 - 6 x) \\\\\n",
    "&= e^{-x^2} 2 x (2 x^2 - 3)\n",
    "\\end{aligned}\n",
    "\\end{equation}\n",
    "$$. And $$\n",
    "\\begin{equation}\n",
    "\\begin{aligned}\n",
    "y^{\\prime \\prime} |_{x_1} &= e^{-x_1^2} 2 x_1 (2 x_1^2 - 3) \\\\\n",
    "&= e^{- (\\frac{\\sqrt{2}}{2})^2} \\cdot 2 \\cdot \\frac{\\sqrt{2}}{2} (2 \\cdot (\\frac{\\sqrt{2}}{2})^2 - 3) \\\\\n",
    "&= e^{- \\frac{1}{2}} \\cdot \\sqrt{2} \\cdot (-2) \\\\\n",
    "&= - 2 \\sqrt{2} \\cdot e^{- \\frac{1}{2}} < 0\n",
    "\\end{aligned}\n",
    "\\end{equation}\n",
    "$$\n",
    "And $$\n",
    "\\begin{equation}\n",
    "\\begin{aligned}\n",
    "y^{\\prime \\prime} |_{x_2} &= e^{-x_2^2} 2 x_2 (2 x_2^2 - 3) \\\\\n",
    "&= e^{- \\frac{1}{2}} 2 \\cdot (- \\frac{\\sqrt{2}}{2}) (2 \\cdot \\frac{1}{2} - 3)\\\\\n",
    "&= e^{- \\frac{1}{2}} \\cdot (- \\sqrt{2}) (- 2) \\\\\n",
    "&= 2 \\sqrt{2} \\cdot e^{- \\frac{1}{2}} > 0\n",
    "\\end{aligned}\n",
    "\\end{equation}\n",
    "$$. Hence $y|_{x = \\frac{\\sqrt{2}}{2}}$ is a local maxima, and $y|_{x = -\\frac{\\sqrt{2}}{2}}$ is local minima."
   ]
  },
  {
   "cell_type": "code",
   "execution_count": 21,
   "metadata": {},
   "outputs": [
    {
     "data": {
      "image/png": "[encoded data removed]",
      "text/latex": [
       "$$\\left\\{- \\frac{\\sqrt{2}}{2}, \\frac{\\sqrt{2}}{2}\\right\\}$$"
      ],
      "text/plain": [
       "⎧-√2   √2⎫\n",
       "⎨────, ──⎬\n",
       "⎩ 2    2 ⎭"
      ]
     },
     "execution_count": 21,
     "metadata": {},
     "output_type": "execute_result"
    }
   ],
   "source": [
    "from sympy import diff, symbols, exp, sqrt, solveset, Eq, init_printing\n",
    "\n",
    "init_printing()\n",
    "\n",
    "x = symbols('x')\n",
    "\n",
    "y = x * exp(- x ** 2)\n",
    "\n",
    "y_prime = diff(y, x)\n",
    "\n",
    "y_prime_prime = diff(y, x, 2)\n",
    "\n",
    "solveset(Eq(y_prime, 0))"
   ]
  },
  {
   "cell_type": "code",
   "execution_count": 22,
   "metadata": {},
   "outputs": [
    {
     "data": {
      "image/png": "[encoded data removed]",
      "text/latex": [
       "$$- \\frac{2 \\sqrt{2}}{e^{\\frac{1}{2}}}$$"
      ],
      "text/plain": [
       "       -1/2\n",
       "-2⋅√2⋅ℯ    "
      ]
     },
     "execution_count": 22,
     "metadata": {},
     "output_type": "execute_result"
    }
   ],
   "source": [
    "y_prime_prime.subs({x: sqrt(2) / 2})"
   ]
  },
  {
   "cell_type": "code",
   "execution_count": 23,
   "metadata": {},
   "outputs": [
    {
     "data": {
      "image/png": "[encoded data removed]",
      "text/latex": [
       "$$\\frac{2 \\sqrt{2}}{e^{\\frac{1}{2}}}$$"
      ],
      "text/plain": [
       "      -1/2\n",
       "2⋅√2⋅ℯ    "
      ]
     },
     "execution_count": 23,
     "metadata": {},
     "output_type": "execute_result"
    }
   ],
   "source": [
    "y_prime_prime.subs({x: - sqrt(2) / 2})"
   ]
  },
  {
   "cell_type": "markdown",
   "metadata": {},
   "source": [
    "## 2. Which of the following statements is true about the function $f(x) = e^{\\sin(x^4)} \\cos(x^2)$"
   ]
  },
  {
   "cell_type": "markdown",
   "metadata": {},
   "source": [
    "### Solution\n",
    "\n",
    "Let's compute the Taylor series expansion for $f(x)$ first. $$\n",
    "\\begin{equation}\n",
    "\\begin{aligned}\n",
    "f(x) &= e^{\\sin(x^4)} \\cos(x^2) \\\\\n",
    "&= e^{x^4 + O(x^5)} (1 - \\frac{1}{2!} x^4 + O(x^5)) \\\\\n",
    "&= (1 + x^4 + O(x^5)) (1 - \\frac{1}{2} x^4 + O(x^5)) \\\\\n",
    "&= 1 + \\frac{1}{2} x^4  + O(x^5)\n",
    "\\end{aligned}\n",
    "\\end{equation}\n",
    "$$\n",
    "\n",
    "Then we can tell $\\frac{1}{2} x^4$ has a minimum where $x = 0$. Hence a local minimum of $f$ is at $x = 0$."
   ]
  },
  {
   "cell_type": "code",
   "execution_count": 28,
   "metadata": {},
   "outputs": [
    {
     "data": {
      "image/png": "[encoded data removed]",
      "text/latex": [
       "$$1 + \\frac{x^{4}}{2} + O\\left(x^{6}\\right)$$"
      ],
      "text/plain": [
       "     4        \n",
       "    x     ⎛ 6⎞\n",
       "1 + ── + O⎝x ⎠\n",
       "    2         "
      ]
     },
     "execution_count": 28,
     "metadata": {},
     "output_type": "execute_result"
    }
   ],
   "source": [
    "from sympy import sin, cos\n",
    "\n",
    "(exp(sin(x ** 4)) * cos(x ** 2)).series()"
   ]
  },
  {
   "cell_type": "markdown",
   "metadata": {},
   "source": [
    "## 3. Use a Taylor series about $x = 0$ to determine whether the function $f(x) = \\sin^3(x^3)$ has a local maximum or local minimum at the origin."
   ]
  },
  {
   "cell_type": "markdown",
   "metadata": {},
   "source": [
    "### Solution\n",
    "\n",
    "$$\n",
    "\\begin{equation}\n",
    "\\begin{aligned}\n",
    "f(x) &= \\sin^3(x^3) \\\\\n",
    "&= (x^3 + O(x^4))^3 \\\\\n",
    "&= x^9 + O(x^{10}) \\\\\n",
    "\\end{aligned}\n",
    "\\end{equation}\n",
    "$$. As $$\n",
    "\\frac{d}{d x} x^9 |_{x = 0} = 9 x^8 |_{x = 0} = 0\n",
    "$$, and $$\n",
    "\\frac{d}{d x} x^9 |_{x = 0} = 72 x^7 |_{x = 0} = 0\n",
    "$$. Which means $f$ has a critical point at $x = 0$, but it is neither a maximum or a minimum."
   ]
  },
  {
   "cell_type": "code",
   "execution_count": 36,
   "metadata": {},
   "outputs": [
    {
     "data": {
      "image/png": "[encoded data removed]",
      "text/latex": [
       "$$x^{9} + O\\left(x^{10}\\right)$$"
      ],
      "text/plain": [
       " 9    ⎛ 10⎞\n",
       "x  + O⎝x  ⎠"
      ]
     },
     "execution_count": 36,
     "metadata": {},
     "output_type": "execute_result"
    }
   ],
   "source": [
    "(sin(x ** 3) ** 3).series(x, 0, 10)"
   ]
  },
  {
   "cell_type": "markdown",
   "metadata": {},
   "source": [
    "## 4. Find the location of the global maximum and minimum of $f(x) = x^3 - 6 x^2 + 1$ on the interval $[-1, 7]$"
   ]
  },
  {
   "cell_type": "markdown",
   "metadata": {},
   "source": [
    "### Solution\n",
    "\n",
    "First find the critical points of $f(x)$ for $x \\in [-1, 7]$:\n",
    "\n",
    "$$\n",
    "\\begin{equation}\n",
    "\\begin{aligned}\n",
    "f^\\prime(x) &= 3 x^2 - 12 x \\\\\n",
    "&= 3 x (x - 4)\n",
    "\\end{aligned}\n",
    "\\end{equation}\n",
    "$$. \n",
    "\n",
    "Hence the critical points are $x_1 = 0$ and $x_2 = 4$.\n",
    "\n",
    "And $$\n",
    "\\begin{equation}\n",
    "f^{\\prime \\prime}(x) = 6 x - 12\n",
    "\\end{equation}\n",
    "$$.\n",
    "\n",
    "Plugging in $x_1$ and $x_2$ into the $2^{nd}$ derivative, we have $$\n",
    "6 x_1 - 12 = - 12 < 0\n",
    "$$ And $$\n",
    "6 x_2 - 12 = 12 > 0\n",
    "$$. Hence $f$ has a local maximum at $x = 0$, and a local minimum at $x = 4$.\n",
    "\n",
    "$$\n",
    "\\begin{array}\n",
    "f(0) &= 1 \\\\\n",
    "f(4) &= 4^3 - 6 \\cdot 4 + 1  = 64 - 96 + 1 &= -32 \\\\\n",
    "f(-1) &= (-1)^3 - 6 (-1)^2 + 1 &= -1 - 6 + 1 &= -6 \\\\\n",
    "f(7) &= 7^3 - 6 \\cdot 7 + 1 &= 343 - 42 + 1 &= 302\n",
    "\\end{array}\n",
    "$$. Hence the global maximum is attended at $x = 7$, and the global minimum is attained at $x = 4$."
   ]
  },
  {
   "cell_type": "markdown",
   "metadata": {},
   "source": [
    "### 5. Which of the following statements are true for the function $f(x) = x^3 + \\frac{48}{x^2}$?  Select all that apply."
   ]
  },
  {
   "cell_type": "markdown",
   "metadata": {},
   "source": [
    "### Solutions\n",
    "\n",
    "Let's first find the local extrema of $f$.\n",
    "\n",
    "$$\n",
    "\\begin{equation}\n",
    "\\begin{aligned}\n",
    "f^\\prime(x) &= 3 x^2 + (-2) \\frac{48}{x^3} \\\\\n",
    "&= 3 x^2 - \\frac{96}{x^3} \\\\\n",
    "\\end{aligned}\n",
    "\\end{equation}\n",
    "$$. And to find the root of $f^\\prime(x)$:\n",
    "$$\n",
    "\\begin{array}{lcl}\n",
    "3 x^2 - \\frac{96}{x^3} &= 0 \\\\\n",
    "3 x^2 &= \\frac{96}{x^3} \\\\\n",
    "x^5 &= 32\n",
    "\\end{array}\n",
    "$$. Hence $f$ attained at $x = 2$ is a critical point.\n",
    "\n",
    "And\n",
    "$$\n",
    "\\begin{equation}\n",
    "\\begin{aligned}\n",
    "f^{\\prime \\prime}(x) &= 6 x - (-3) \\frac{96}{x^4} \\\\\n",
    "&= 6 x + \\frac{288}{x^4}\n",
    "\\end{aligned}\n",
    "\\end{equation}\n",
    "$$.\n",
    "\n",
    "And plugging in $x = 2$ into the $2^{nd}$ order derivative, we have $$\n",
    "\\begin{equation}\n",
    "\\begin{aligned}\n",
    "f^{\\prime \\prime}(2) &= 6 \\cdot 2 + \\frac{288}{2^4} \\\\\n",
    "&= 30 > 0\n",
    "\\end{aligned}\n",
    "\\end{equation}\n",
    "$$. Hence $f$ attained at $x = 2$ is a local minimum.\n",
    "\n",
    "Hence \n",
    "- for $[-3, -1]$, $f$ is monotonically decreasing, hence $x = -3$ is the global maximum for the interval, and $x = -1$ is the global minimum for the interval.\n",
    "- for $[1, 3]$, as $f(1) = 49$, and $f(3) \\approx 32.33$, then $x = 1$ is the global maximum for the interval, and $x = 2$ is the global minimum for the interval.\n",
    "- for $[-3, 3]$, as $f(-3)$ < $f(3)$, $x = 3$ is the global maximum for the interval, and and $x = 2$ is the global minimum for the interval."
   ]
  },
  {
   "cell_type": "code",
   "execution_count": 39,
   "metadata": {},
   "outputs": [
    {
     "data": {
      "image/png": "[encoded data removed]",
      "text/latex": [
       "$$3 x^{2} - \\frac{96}{x^{3}}$$"
      ],
      "text/plain": [
       "   2   96\n",
       "3⋅x  - ──\n",
       "        3\n",
       "       x "
      ]
     },
     "execution_count": 39,
     "metadata": {},
     "output_type": "execute_result"
    }
   ],
   "source": [
    "diff(x ** 3 + 48 / x ** 2)"
   ]
  },
  {
   "cell_type": "code",
   "execution_count": 40,
   "metadata": {},
   "outputs": [
    {
     "data": {
      "image/png": "[encoded data removed]",
      "text/latex": [
       "$$6 \\left(x + \\frac{48}{x^{4}}\\right)$$"
      ],
      "text/plain": [
       "  ⎛    48⎞\n",
       "6⋅⎜x + ──⎟\n",
       "  ⎜     4⎟\n",
       "  ⎝    x ⎠"
      ]
     },
     "execution_count": 40,
     "metadata": {},
     "output_type": "execute_result"
    }
   ],
   "source": [
    "diff(x ** 3 + 48 / x ** 2, x , 2)"
   ]
  },
  {
   "cell_type": "code",
   "execution_count": 42,
   "metadata": {},
   "outputs": [
    {
     "data": {
      "image/png": "[encoded data removed]",
      "text/latex": [
       "$$0$$"
      ],
      "text/plain": [
       "0"
      ]
     },
     "execution_count": 42,
     "metadata": {},
     "output_type": "execute_result"
    }
   ],
   "source": [
    "diff(x ** 3 + 48 / x ** 2).subs({x: 2})"
   ]
  },
  {
   "cell_type": "code",
   "execution_count": 43,
   "metadata": {},
   "outputs": [
    {
     "data": {
      "image/png": "[encoded data removed]",
      "text/latex": [
       "$$30$$"
      ],
      "text/plain": [
       "30"
      ]
     },
     "execution_count": 43,
     "metadata": {},
     "output_type": "execute_result"
    }
   ],
   "source": [
    "diff(x ** 3 + 48 / x ** 2, x , 2).subs({x: 2})"
   ]
  },
  {
   "cell_type": "code",
   "execution_count": null,
   "metadata": {},
   "outputs": [],
   "source": []
  }
 ],
 "metadata": {
  "kernelspec": {
   "display_name": "Python 3",
   "language": "python",
   "name": "python3"
  },
  "language_info": {
   "codemirror_mode": {
    "name": "ipython",
    "version": 3
   },
   "file_extension": ".py",
   "mimetype": "text/x-python",
   "name": "python",
   "nbconvert_exporter": "python",
   "pygments_lexer": "ipython3",
   "version": "3.7.0"
  }
 },
 "nbformat": 4,
 "nbformat_minor": 2
}
