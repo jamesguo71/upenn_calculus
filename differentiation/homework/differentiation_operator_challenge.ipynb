{
 "cells": [
  {
   "cell_type": "markdown",
   "metadata": {},
   "source": [
    "## 1. \n",
    "$$\n",
    "\\lim_{x \\to 0^+} (\\frac{2}{x})^{\\sin x} =\n",
    "$$"
   ]
  },
  {
   "cell_type": "markdown",
   "metadata": {},
   "source": [
    "### Solution\n",
    "\n",
    "$$\n",
    "\\begin{array}{l}\n",
    "y &= (\\frac{2}{x})^{\\sin x} \\\\\n",
    "\\ln(y &= (\\frac{2}{x})^{\\sin x}) \\\\\n",
    "\\ln y &= (\\sin x) \\ln \\frac{2}{x} \\\\\n",
    "&= \\frac{\\ln \\frac{2}{x}}{\\frac{1}{\\sin x}} \\\\\n",
    "\\lim_{x \\to 0^+} (\\ln y) &= \\lim_{x \\to 0^+} (\\frac{\\ln \\frac{2}{x}}{\\frac{1}{\\sin x}}) \\\\\n",
    "&= \\lim_{x \\to 0^+} \\frac{\\frac{d}{d x}(\\ln \\frac{2}{x})}{\\frac{d}{d x}(\\frac{1}{\\sin x})} & \\text{L'Hopitals rule} \\\\\n",
    "&= \\lim_{x \\to 0^+} \\frac{\\frac{x}{2} (-\\frac{2}{x^2})}{-\\frac{\\cos x}{(\\sin x)^2}} \\\\\n",
    "&= \\lim_{x \\to 0^+} \\frac{\\frac{1}{x}}{\\frac{\\cos x}{(\\sin x)^2}} \\\\\n",
    "&= \\lim_{x \\to 0^+} \\frac{(\\sin x)^2}{x \\cos x} \\\\\n",
    "&= (\\lim_{x \\to 0^+} \\tan x) (\\lim_{x \\to 0^+}\\frac{\\sin x}{x}) \\\\\n",
    "&= 0 \\cdot 1 \\\\\n",
    "&= 0 \\\\\n",
    "\\lim_{x \\to 0^+} y &= 1 \\\\\n",
    "\\lim_{x \\to 0^+} (\\frac{2}{x})^{\\sin x} &= 1\n",
    "\\end{array}\n",
    "$$"
   ]
  },
  {
   "cell_type": "code",
   "execution_count": 9,
   "metadata": {},
   "outputs": [
    {
     "data": {
      "image/png": "[encoded data removed]",
      "text/latex": [
       "$$1$$"
      ],
      "text/plain": [
       "1"
      ]
     },
     "execution_count": 9,
     "metadata": {},
     "output_type": "execute_result"
    }
   ],
   "source": [
    "## Verify with SymPy\n",
    "\n",
    "from sympy import symbols, limit, sin, init_printing\n",
    "\n",
    "init_printing()\n",
    "\n",
    "x = symbols('x')\n",
    "\n",
    "limit((2 / x) ** sin(x), x, 0, '+')"
   ]
  },
  {
   "cell_type": "markdown",
   "metadata": {},
   "source": [
    "## 2. We all know by heart the product and quotient rules for differentiation\n",
    "$$\n",
    "(f g)^\\prime = f^\\prime g + f g^\\prime\n",
    "$$\n",
    "\n",
    "and\n",
    "$$\n",
    "(\\frac{f}{g})^\\prime = \\frac{f^\\prime g - f g^\\prime}{g^2}\n",
    "$$\n",
    "\n",
    "There are, of course, formulas for derivatives of functions that involve more than one product or quotient. In this problem, we will use logarithmic differentiation to find one such formula. From it you should be able to see a beautiful pattern that would allow you to write such formulas for any number of factors!\n",
    "\n",
    "Consider the function\n",
    "$$\n",
    "F = \\frac{f_1 f_2}{g_1 g_2}\n",
    "$$\n",
    "\n",
    "Apply to it the logarithm operator, followed by the differentiation operator, and isolate $F^\\prime$. Which of the following formulas do you get?"
   ]
  },
  {
   "cell_type": "markdown",
   "metadata": {},
   "source": [
    "### Solution\n",
    "\n",
    "$$\n",
    "\\begin{array}{l}\n",
    "F &= \\frac{f_1 f_2}{g_1 g_2} \\\\\n",
    "\\ln F &= \\ln \\frac{f_1 f_2}{g_1 g_2} \\\\\n",
    "&= \\ln (f_1 f_2) - \\ln (g_1 g_2) \\\\\n",
    "d(\\ln F) &= d(\\ln (f_1 f_2)) - d(\\ln (g_1 g_2)) \\\\\n",
    "\\frac{1}{F} F^\\prime &= \\frac{1}{f_1 f_2} (f_1 f_2)^\\prime - \\frac{1}{g_1 g_2} (g_1 g_2)^\\prime \\\\\n",
    "&= (\\frac{f_1^\\prime f_2}{f_1 f_2} + \\frac{f_1 f_2^\\prime}{f_1 f_2}) - (\\frac{g_1^\\prime g_2}{g_1 g_2} + \\frac{g_1 g_2^\\prime}{g_1 g_2}) \\\\\n",
    "F^\\prime &= F(\\frac{f_1^\\prime f_2}{f_1 f_2} + \\frac{f_1 f_2^\\prime}{f_1 f_2}) - F(\\frac{g_1^\\prime g_2}{g_1 g_2} + \\frac{g_1 g_2^\\prime}{g_1 g_2}) \\\\\n",
    "&= \\frac{f_1 f_2}{g_1 g_2}(\\frac{f_1^\\prime f_2}{f_1 f_2} + \\frac{f_1 f_2^\\prime}{f_1 f_2}) - \\frac{f_1 f_2}{g_1 g_2}(\\frac{g_1^\\prime g_2}{g_1 g_2} + \\frac{g_1 g_2^\\prime}{g_1 g_2}) \\\\\n",
    "&= \\frac{f_1^\\prime f_2}{g_1 g_2} + \\frac{f_1 f_2^\\prime}{g_1 g_2} - \\frac{f_1 f_2 g_1^\\prime g_2}{g_1^2 g_2^2} - \\frac{f_1 f_2 g_1 g_2^\\prime}{g_1^2 g_2^2} \\\\\n",
    "&= \\frac{f_1^\\prime f_2}{g_1 g_2} + \\frac{f_1 f_2^\\prime}{g_1 g_2} - \\frac{f_1 f_2 g_1^\\prime}{g_1^2 g_2} - \\frac{f_1 f_2 g_2^\\prime}{g_1 g_2^2}\n",
    "\\end{array}\n",
    "$$"
   ]
  },
  {
   "cell_type": "markdown",
   "metadata": {},
   "source": [
    "## 3. This question requires thinking as in the somewhat mysterious implicit methods of the bonus lecture. Let\n",
    "$$\n",
    "\\varphi = \\sqrt{1 + \\sqrt{1 + \\sqrt{1 + \\sqrt{1 + \\sqrt{1 + ...}}}}}\n",
    "$$\n",
    "\n",
    "What is the value of $\\varphi$?\n",
    "\n",
    "If you find this way of doing problems unsettling, don't worry; we will return to this example in Lecture 45 and do it properly."
   ]
  },
  {
   "cell_type": "markdown",
   "metadata": {},
   "source": [
    "### Solution\n",
    "\n",
    "$$\n",
    "\\begin{array}{l}\n",
    "\\varphi &= \\sqrt{1 + \\sqrt{1 + \\sqrt{1 + \\sqrt{1 + \\sqrt{1 + ...}}}}} \\\\\n",
    "\\sqrt{1 + \\varphi} &= \\sqrt{1 + \\sqrt{1 + \\sqrt{1 + \\sqrt{1 + \\sqrt{1 + ...}}}}} \\\\\n",
    "&= \\varphi \\\\\n",
    "1 + \\varphi &= \\varphi^2 \\\\\n",
    "\\varphi^2 - \\varphi - 1 &= 0 \\\\\n",
    "\\varphi &= \\frac{1 + \\sqrt{1 - 4 (-1)}}{2} &\\text{$\\varphi > 0$ as the original recursive square root implies} \\\\\n",
    "&= \\frac{1 + \\sqrt{5}}{2}\n",
    "\\end{array}\n",
    "$$"
   ]
  },
  {
   "cell_type": "markdown",
   "metadata": {},
   "source": [
    "## 4. This question requires thinking based on the somewhat mysterious implicit methods of the bonus lecture. Let\n",
    "$$\n",
    "\\alpha = 1 + \\frac{2}{2 + \\frac{2}{2 + \\frac{2}{2 + \\frac{2}{2 + ...}}}}\n",
    "$$\n",
    "\n",
    "What is the value of $\\alpha$?\n",
    "\n",
    "You may find this type of problem unsettling; don't worry, we will return to this example in Lecture 45 and do it properly."
   ]
  },
  {
   "cell_type": "markdown",
   "metadata": {},
   "source": [
    "### Solution\n",
    "\n",
    "$$\n",
    "\\begin{array}{l}\n",
    "\\alpha &= 1 + \\frac{2}{2 + \\frac{2}{2 + \\frac{2}{2 + \\frac{2}{2 + ...}}}} \\\\\n",
    "&= 1 + \\frac{2}{1 + 1 + \\frac{2}{2 + \\frac{2}{2 + \\frac{2}{2 + \\frac{2}{2 + ...}}}}} \\\\\n",
    "&= 1 + \\frac{2}{1 + \\alpha} \\\\\n",
    "&= \\frac{1 + \\alpha + 2}{1 + \\alpha} \\\\\n",
    "\\alpha (1 + \\alpha) &= \\alpha + 3 \\\\\n",
    "\\alpha^2 &= 3 \\\\\n",
    "\\alpha &= \\sqrt{3} &\\text{$\\alpha > 0$ as the original definition implies}\n",
    "\\end{array}\n",
    "$$"
   ]
  },
  {
   "cell_type": "markdown",
   "metadata": {},
   "source": [
    "## 5. In the lecture, it was hinted (loosely) that differentiation reduces the order of growth for \"sub-exponential\" functions, increases the order of growth for \"super-exponential\" functions, and keeps exponential functions the same. It is true that the derivative of an exponential function is an exponential function. Is it true that if $f(x)$ is in $O(e^x)$ then the derivative $f^\\prime(x)$ is also in $O(e^x)$ (as $x \\to + \\infty$)?"
   ]
  },
  {
   "cell_type": "markdown",
   "metadata": {},
   "source": [
    "### Exploration\n",
    "\n",
    ">  Is it true that if $f(x)$ is in $O(e^x)$ then the derivative $f^\\prime(x)$ is also in $O(e^x)$ (as $x \\to + \\infty$)?\n",
    "\n",
    "Let's look at an example $$\n",
    "f(x) = e^x \\sin^2(x^2)\n",
    "$$\n",
    "\n",
    "$\\sin^2(x^2) < 1$, hence $f(x)$ for $C > 1$, $|f(x)| < C e^x$ as $x \\to +\\infty$, hence $f(x)$ is in $O(x)$ as $x \\to +\\infty$.\n",
    "\n",
    "$$\n",
    "\\begin{equation}\n",
    "\\begin{aligned}\n",
    "f^\\prime(x) = e^x \\sin^2(x^2) + e^x (2 \\sin(x^2) \\cos(x^2) (2 x))\n",
    "\\end{aligned}\n",
    "\\end{equation}\n",
    "$$\n",
    "\n",
    "And there does not exist a $C$ such that\n",
    "$$\n",
    "|e^x (2 \\sin(x^2) \\cos(x^2) (2 x))| < C\n",
    "$$\n",
    "Hence $f^\\prime(x)$ is not in $O(e^x)$."
   ]
  },
  {
   "cell_type": "code",
   "execution_count": null,
   "metadata": {},
   "outputs": [],
   "source": []
  }
 ],
 "metadata": {
  "kernelspec": {
   "display_name": "Python 3",
   "language": "python",
   "name": "python3"
  },
  "language_info": {
   "codemirror_mode": {
    "name": "ipython",
    "version": 3
   },
   "file_extension": ".py",
   "mimetype": "text/x-python",
   "name": "python",
   "nbconvert_exporter": "python",
   "pygments_lexer": "ipython3",
   "version": "3.7.0"
  }
 },
 "nbformat": 4,
 "nbformat_minor": 2
}
