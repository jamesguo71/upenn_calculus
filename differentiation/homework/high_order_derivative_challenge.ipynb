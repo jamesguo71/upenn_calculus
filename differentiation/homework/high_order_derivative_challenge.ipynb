{
 "cells": [
  {
   "cell_type": "markdown",
   "metadata": {},
   "source": [
    "## 1. Compute the first few derivatives $\\frac{d f}{d x}, \\frac{d^2 f}{d x^2}, \\frac{d^3}{d x^3}$ of the function $f(x) = x e^x$ with respect to $x$. Based on your calculations, what is likely to be the general formula for the $n^{th}$ derivative $\\frac{d^n f}{d x^n}$?"
   ]
  },
  {
   "cell_type": "markdown",
   "metadata": {},
   "source": [
    "### Solutions\n",
    "$$\n",
    "\\begin{array}{lcl}\n",
    "f(x) &= x e^x \\\\\n",
    "\\frac{d f}{d x} &= e^x + x e^x \\\\\n",
    "\\frac{d^2 f}{d x^2} &= e^x + e^x + x e^x &= 2 e^x + x e^x \\\\\n",
    "\\frac{d^2 f}{d x^2} &= 2 e^x + e^x + x e^x &= 3 e^x + x e^x \\\\\n",
    "\\end{array}\n",
    "$$. We can conjecture that for $f(x) = x e^x$, $$\n",
    "\\frac{d^n f}{d x^n} = n e^x + x e^x = (x + n) e^x\n",
    "$$."
   ]
  },
  {
   "cell_type": "code",
   "execution_count": null,
   "metadata": {},
   "outputs": [],
   "source": []
  }
 ],
 "metadata": {
  "kernelspec": {
   "display_name": "Python 3",
   "language": "python",
   "name": "python3"
  },
  "language_info": {
   "codemirror_mode": {
    "name": "ipython",
    "version": 3
   },
   "file_extension": ".py",
   "mimetype": "text/x-python",
   "name": "python",
   "nbconvert_exporter": "python",
   "pygments_lexer": "ipython3",
   "version": "3.7.0"
  }
 },
 "nbformat": 4,
 "nbformat_minor": 2
}
