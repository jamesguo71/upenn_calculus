{
 "cells": [
  {
   "cell_type": "markdown",
   "metadata": {},
   "source": [
    "## 1. Find the derivative of $f(x) = (\\cos x)^x$."
   ]
  },
  {
   "cell_type": "markdown",
   "metadata": {},
   "source": [
    "### Solution\n",
    "\n",
    "$$\n",
    "\\begin{array}{l}\n",
    "y &= (\\cos x)^x \\\\\n",
    "\\ln(y &= (\\cos x)^x) \\\\\n",
    "\\ln y &= x \\ln(\\cos x) \\\\\n",
    "\\frac{d}{d x}(\\ln y &= x \\ln(\\cos x)) \\\\\n",
    "\\frac{1}{y} \\frac{d}{d x}(y) &= x \\frac{1}{\\cos x} (- \\sin x) + \\ln(\\cos x) \\\\\n",
    "&= \\ln(\\cos x) - x \\tan x \\\\\n",
    "\\frac{d}{d x}(y) &= (\\ln(\\cos x) - x \\tan x )(\\cos x)^x \\\\\n",
    "\\frac{d}{d x}((\\cos x)^x) &= (\\ln(\\cos x) - x \\tan x )(\\cos x)^x\n",
    "\\end{array}\n",
    "$$"
   ]
  },
  {
   "cell_type": "code",
   "execution_count": 1,
   "metadata": {},
   "outputs": [
    {
     "data": {
      "image/png": "[encoded data removed]",
      "text/latex": [
       "$$\\left(- \\frac{x \\sin{\\left (x \\right )}}{\\cos{\\left (x \\right )}} + \\log{\\left (\\cos{\\left (x \\right )} \\right )}\\right) \\cos^{x}{\\left (x \\right )}$$"
      ],
      "text/plain": [
       "⎛  x⋅sin(x)              ⎞    x   \n",
       "⎜- ──────── + log(cos(x))⎟⋅cos (x)\n",
       "⎝   cos(x)               ⎠        "
      ]
     },
     "execution_count": 1,
     "metadata": {},
     "output_type": "execute_result"
    }
   ],
   "source": [
    "## Verify with sympy\n",
    "\n",
    "from sympy import symbols, cos, diff, init_printing\n",
    "\n",
    "init_printing()\n",
    "\n",
    "x = symbols('x')\n",
    "\n",
    "f_x = cos(x) ** x\n",
    "\n",
    "diff(f_x, x)"
   ]
  },
  {
   "cell_type": "markdown",
   "metadata": {},
   "source": [
    "## 2. Find the derivative of $f(x) = (\\ln x)^x$."
   ]
  },
  {
   "cell_type": "markdown",
   "metadata": {},
   "source": [
    "### Solution\n",
    "\n",
    "$$\n",
    "\\begin{array}{l}\n",
    "y &= (\\ln x)^x \\\\\n",
    "\\ln(y &= (\\ln x)^x) \\\\\n",
    "\\ln y &= x \\ln(\\ln x) \\\\\n",
    "\\frac{d}{d x}(\\ln y &= x \\ln(\\ln x)) \\\\\n",
    "\\frac{d}{d x}(\\ln y) &= \\frac{d}{d x}(x \\ln(\\ln x)) \\\\\n",
    "\\frac{1}{y} \\frac{d}{d x}(y) &= \\ln(\\ln x) + x \\frac{1}{\\ln x} \\frac{1}{x} \\\\\n",
    "&= \\ln(\\ln x) + \\frac{1}{\\ln x} \\\\\n",
    "\\frac{d}{d x}(y) &= y(\\ln(\\ln x) + \\frac{1}{\\ln x}) \\\\\n",
    "\\frac{d}{d x} ((\\ln x)^x) &= (\\ln x)^x ((\\ln(\\ln x) + \\frac{1}{\\ln x}))\n",
    "\\end{array}\n",
    "$$"
   ]
  },
  {
   "cell_type": "code",
   "execution_count": 2,
   "metadata": {},
   "outputs": [
    {
     "data": {
      "image/png": "[encoded data removed]",
      "text/latex": [
       "$$\\left(\\log{\\left (\\log{\\left (x \\right )} \\right )} + \\frac{1}{\\log{\\left (x \\right )}}\\right) \\log{\\left (x \\right )}^{x}$$"
      ],
      "text/plain": [
       "⎛                1   ⎞    x   \n",
       "⎜log(log(x)) + ──────⎟⋅log (x)\n",
       "⎝              log(x)⎠        "
      ]
     },
     "execution_count": 2,
     "metadata": {},
     "output_type": "execute_result"
    }
   ],
   "source": [
    "## Verify with Sympy\n",
    "\n",
    "from sympy import ln\n",
    "\n",
    "diff(ln(x) ** x, x)"
   ]
  },
  {
   "cell_type": "markdown",
   "metadata": {},
   "source": [
    "## 3. Find the derivative of $f(x) = x^{\\ln x}$."
   ]
  },
  {
   "cell_type": "markdown",
   "metadata": {},
   "source": [
    "$$\n",
    "\\begin{array}{l}\n",
    "y &= x^{\\ln x}\n",
    "\\ln(y &= x^{\\ln x}) \\\\\n",
    "\\ln y &= (\\ln x)^2 \\\\\n",
    "\\frac{d}{d x}(\\ln y &= (\\ln x)^2 ) \\\\\n",
    "\\frac{d}{d x}(\\ln y) &= \\frac{d}{d x}((\\ln x)^2) \\\\\n",
    "\\frac{1}{y}\\frac{d}{d x}(y) &= 2 \\frac{\\ln x}{x} \\\\\n",
    "\\frac{d}{d x}(y) &= 2 y \\frac{\\ln x}{x} \\\\\n",
    "\\frac{d}{d x}(x^{\\ln x}) &= 2 x^{(\\ln x) - 1} (\\ln x)\n",
    "\\end{array}\n",
    "$$"
   ]
  },
  {
   "cell_type": "code",
   "execution_count": 3,
   "metadata": {},
   "outputs": [
    {
     "data": {
      "image/png": "[encoded data removed]",
      "text/latex": [
       "$$\\frac{2 x^{\\log{\\left (x \\right )}} \\log{\\left (x \\right )}}{x}$$"
      ],
      "text/plain": [
       "   log(x)       \n",
       "2⋅x      ⋅log(x)\n",
       "────────────────\n",
       "       x        "
      ]
     },
     "execution_count": 3,
     "metadata": {},
     "output_type": "execute_result"
    }
   ],
   "source": [
    "## Verify with SymPy\n",
    "\n",
    "diff(x ** (ln(x)), x)"
   ]
  },
  {
   "cell_type": "markdown",
   "metadata": {},
   "source": [
    "## 4. \n",
    "$$\n",
    "\\lim_{x \\to +\\infty} (\\frac{x + 2}{x + 3})^{2 x} =\n",
    "$$\n",
    "\n",
    "**Hint**: write the fraction $\\frac{x + 2}{x + 3}$ as $1 + $ something."
   ]
  },
  {
   "cell_type": "markdown",
   "metadata": {},
   "source": [
    "### Solution\n",
    "\n",
    "$$\n",
    "\\begin{array}{l}\n",
    "y &= (\\frac{x + 2}{x + 3})^{2 x} \\\\\n",
    "\\ln(y &= (\\frac{x + 2}{x + 3})^{2 x}) \\\\\n",
    "\\ln(y) &= \\ln((\\frac{x + 2}{x + 3})^{2 x}) \\\\\n",
    "&= 2 x \\ln(\\frac{x + 2}{x + 3}) \\\\\n",
    "&= 2 x \\ln(\\frac{x + 3 - 1}{x + 3}) \\\\\n",
    "&= 2 x \\ln(1 + (- \\frac{1}{x + 3})) \\\\\n",
    "\\lim_{x \\to +\\infty} (\\ln(y) &= 2 x \\ln(1 + (- \\frac{1}{x + 3}))) \\\\\n",
    "\\lim_{x \\to +\\infty} \\ln(y) &= \\lim_{x \\to +\\infty} (2 x (- \\frac{1}{x + 3} + O(\\frac{1}{x^2}))) \\\\\n",
    "&= 2 \\lim_{x \\to +\\infty} (- \\frac{x}{x + 3} + O(\\frac{1}{x})) \\\\\n",
    "&= -2 \\\\\n",
    "\\exp(\\lim_{x \\to +\\infty} \\ln(y) &= -2) \\\\\n",
    "\\lim_{x \\to +\\infty} y &= e^{-2} \\\\\n",
    "\\lim_{x \\to +\\infty} (\\frac{x + 2}{x + 3})^{2 x}) &= e^{-2}\n",
    "\\end{array}\n",
    "$$"
   ]
  },
  {
   "cell_type": "code",
   "execution_count": 4,
   "metadata": {},
   "outputs": [
    {
     "data": {
      "image/png": "[encoded data removed]",
      "text/latex": [
       "$$e^{-2}$$"
      ],
      "text/plain": [
       " -2\n",
       "ℯ  "
      ]
     },
     "execution_count": 4,
     "metadata": {},
     "output_type": "execute_result"
    }
   ],
   "source": [
    "## Verify with SymPy\n",
    "\n",
    "from sympy import limit, oo\n",
    "\n",
    "limit(((x + 2) / (x + 3)) ** (2 * x), x, oo)"
   ]
  },
  {
   "cell_type": "markdown",
   "metadata": {},
   "source": [
    "## 5. \n",
    "$$\n",
    "\\lim_{x \\to 0^+} (\\ln(1 + x))^x\n",
    "$$"
   ]
  },
  {
   "cell_type": "markdown",
   "metadata": {},
   "source": [
    "### Solution\n",
    "\n",
    "$$\n",
    "\\begin{array}{l}\n",
    "y &= (\\ln(1 + x))^x \\\\\n",
    "\\ln y &= x \\ln(\\ln(1 + x)) \\\\\n",
    "\\lim_{x \\to 0+} (\\ln y) &= \\lim_{x \\to 0+} (x (\\ln(\\ln(1 + x)))) \\\\\n",
    "&= \\lim_{x \\to 0+} (x \\ln(x + (-\\frac{x^2}{2}) + O(x^3))) &\\text{Taylor expansion} \\\\\n",
    "&= \\lim_{x \\to 0+} (x (\\ln x + \\ln(1 +(- \\frac{x}{2} + O(x^2))))) \\\\\n",
    "&= \\lim_{x \\to 0+} (x \\ln x + x (- \\frac{x}{2} + O(x^2))) &\\text{Taylor expansion} \\\\\n",
    "&= \\lim_{x \\to 0+} (x \\ln x) \\\\\n",
    "&= \\lim_{x \\to 0+} \\frac{\\ln x}{x^{-1}} \\\\\n",
    "&= \\lim_{x \\to 0+} \\frac{x^{-1}}{-x^{-2}} &\\text{L'Hopitals rule} \\\\\n",
    "&= - \\lim_{x \\to 0+} x \\\\\n",
    "&= 0 \\\\\n",
    "\\lim_{x \\to 0+} y &= 1 \\\\\n",
    "\\lim_{x \\to 0+} (\\ln(1 + x))^x &= 1\n",
    "\\end{array}\n",
    "$$"
   ]
  },
  {
   "cell_type": "code",
   "execution_count": 6,
   "metadata": {},
   "outputs": [
    {
     "data": {
      "image/png": "[encoded data removed]",
      "text/latex": [
       "$$1$$"
      ],
      "text/plain": [
       "1"
      ]
     },
     "execution_count": 6,
     "metadata": {},
     "output_type": "execute_result"
    }
   ],
   "source": [
    "limit(ln(1 + x) ** x, x, 0)"
   ]
  },
  {
   "cell_type": "markdown",
   "metadata": {},
   "source": [
    "## 6.\n",
    "\n",
    "$$\n",
    "\\lim_{x \\to 0} (1 + \\arctan \\frac{x}{2})^{\\frac{2}{x}} =\n",
    "$$"
   ]
  },
  {
   "cell_type": "markdown",
   "metadata": {},
   "source": [
    "### Solution\n",
    "\n",
    "$$\n",
    "\\begin{array}{l}\n",
    "y &= (1 + \\arctan \\frac{x}{2})^{\\frac{2}{x}} \\\\\n",
    "\\ln y &= \\ln((1 + \\arctan \\frac{x}{2})^{\\frac{2}{x}}) \\\\\n",
    "&= \\frac{2}{x} \\ln(1 + \\arctan \\frac{x}{2}) \\\\\n",
    "\\lim_{x \\to 0} (\\ln y) &= \\lim_{x \\to 0} (\\frac{2}{x} \\ln(1 + \\arctan \\frac{x}{2})) \\\\\n",
    "&= \\lim_{x \\to 0} (\\frac{2}{x} (\\frac{x}{2} + O(x^2))) \\\\\n",
    "&= 1 \\\\\n",
    "\\lim_{x \\to 0} y &= e\n",
    "\\end{array}\n",
    "$$"
   ]
  },
  {
   "cell_type": "code",
   "execution_count": 8,
   "metadata": {},
   "outputs": [
    {
     "data": {
      "image/png": "[encoded data removed]",
      "text/latex": [
       "$$e$$"
      ],
      "text/plain": [
       "ℯ"
      ]
     },
     "execution_count": 8,
     "metadata": {},
     "output_type": "execute_result"
    }
   ],
   "source": [
    "## Verify with SymPy\n",
    "\n",
    "from sympy import atan\n",
    "\n",
    "limit((1 + atan(x / 2)) ** (2 / x), x, 0)"
   ]
  },
  {
   "cell_type": "code",
   "execution_count": null,
   "metadata": {},
   "outputs": [],
   "source": []
  }
 ],
 "metadata": {
  "kernelspec": {
   "display_name": "Python 3",
   "language": "python",
   "name": "python3"
  },
  "language_info": {
   "codemirror_mode": {
    "name": "ipython",
    "version": 3
   },
   "file_extension": ".py",
   "mimetype": "text/x-python",
   "name": "python",
   "nbconvert_exporter": "python",
   "pygments_lexer": "ipython3",
   "version": "3.7.0"
  }
 },
 "nbformat": 4,
 "nbformat_minor": 2
}
