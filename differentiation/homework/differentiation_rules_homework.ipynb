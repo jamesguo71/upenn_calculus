{
 "cells": [
  {
   "cell_type": "markdown",
   "metadata": {},
   "source": [
    "## 1. Find the derivative of $f(x) = \\sqrt x (2 x^2 - 4 x)$."
   ]
  },
  {
   "cell_type": "markdown",
   "metadata": {},
   "source": [
    "### Solution\n",
    "\n",
    "$$\n",
    "\\begin{equation}\n",
    "\\begin{aligned}{}\n",
    "f^\\prime(x) &= \\frac{d(\\sqrt x (2 x^2 - 4 x))}{d x} \\\\\n",
    "&= \\frac{d(2 x^2 - 4 x)}{d x} \\sqrt x + \\frac{d \\sqrt x}{d x}(2 x^2 - 4 x) & \\text{Product rule of Differentiation} \\\\\n",
    "&= (4 x - 4) \\sqrt x + \\frac{2 x^2 - 4 x}{2 \\sqrt x} \\\\\n",
    "&= \\sqrt x (4 x - 4) + (x \\sqrt x - 2 \\sqrt x) \\\\\n",
    "&= \\sqrt x (4 x - 4) + \\sqrt x (x - 2) \\\\\n",
    "&= \\sqrt x (4 x - 4 + x - 2) \\\\\n",
    "&= \\sqrt x (5 x - 6)\n",
    "\\end{aligned}\n",
    "\\end{equation}\n",
    "$$"
   ]
  },
  {
   "cell_type": "code",
   "execution_count": 3,
   "metadata": {},
   "outputs": [
    {
     "data": {
      "image/png": "[encoded data removed]",
      "text/latex": [
       "$$\\sqrt{x} \\left(5 x - 6\\right)$$"
      ],
      "text/plain": [
       "√x⋅(5⋅x - 6)"
      ]
     },
     "execution_count": 3,
     "metadata": {},
     "output_type": "execute_result"
    }
   ],
   "source": [
    "## Verify with SymPy\n",
    "\n",
    "from sympy import symbols, simplify, sqrt, diff, init_printing\n",
    "\n",
    "init_printing()\n",
    "\n",
    "x = symbols('x')\n",
    "\n",
    "simplify(diff(sqrt(x) * (2 * x ** 2 - 4 * x)))"
   ]
  },
  {
   "cell_type": "markdown",
   "metadata": {},
   "source": [
    "## 2. Find the derivative of $f(x) = 6 x^4 - \\frac{3}{x^2} - 2 \\pi$."
   ]
  },
  {
   "cell_type": "markdown",
   "metadata": {},
   "source": [
    "### Solution\n",
    "\n",
    "$$\n",
    "\\begin{equation}\n",
    "\\begin{aligned}{}\n",
    "f^\\prime(x) &= \\frac{d(6 x^4 - \\frac{3}{x^2} - 2\\pi)}{d x} \\\\\n",
    "&= \\frac{d(6 x^4)}{d x} + \\frac{d(- \\frac{3}{x^2} - 2 \\pi)}{d x} & \\text{Linearity rule of differentiation} \\\\\n",
    "&= 24 x^3 + \\frac{6}{x^3}\n",
    "\\end{aligned}\n",
    "\\end{equation}\n",
    "$$"
   ]
  },
  {
   "cell_type": "code",
   "execution_count": 4,
   "metadata": {},
   "outputs": [
    {
     "data": {
      "image/png": "[encoded data removed]",
      "text/latex": [
       "$$24 x^{3} + \\frac{6}{x^{3}}$$"
      ],
      "text/plain": [
       "    3   6 \n",
       "24⋅x  + ──\n",
       "         3\n",
       "        x "
      ]
     },
     "execution_count": 4,
     "metadata": {},
     "output_type": "execute_result"
    }
   ],
   "source": [
    "## Verify with SymPy\n",
    "\n",
    "from sympy import pi\n",
    "\n",
    "diff(6 * x ** 4 - 3 / x ** 2 - 2 * pi)"
   ]
  },
  {
   "cell_type": "markdown",
   "metadata": {},
   "source": [
    "## 3. Find the derivative $f(x) = 7 (x^3 + 4 x)^5 \\cos x$."
   ]
  },
  {
   "cell_type": "markdown",
   "metadata": {},
   "source": [
    "### Solution\n",
    "\n",
    "$$\n",
    "\\begin{equation}\n",
    "\\begin{aligned}{}\n",
    "f^\\prime(x) &= \\frac{d(7 (x^3 + 4 x)^5 \\cos x)}{d x} \\\\\n",
    "&= \\frac{d(\\cos x)}{d x} (7 (x^3 + 4 x)^5) + \\frac{d((7 (x^3 + 4 x)^5)}{d x} \\cos x & \\text{Product rule of differentiation} \\\\\n",
    "&= (- \\sin x) (7 (x^3 + 4 x)^5) + 7 (5 (x^3 + 4 x)^4 (3 x^2 + 4)) \\cos x & \\text{Chain rule of differentiation} \\\\\n",
    "&= 7 (x^3 + 4 x)^4 (- (x^3 + 4 x) \\sin x + 5 (3 x^2 + 4) \\cos x) \\\\\n",
    "&= 7 (x^3 + 4 x)^4 (5 (3 x^2 + 4) \\cos x - (x^3 + 4 x) \\sin x)\n",
    "\\end{aligned}\n",
    "\\end{equation}\n",
    "$$"
   ]
  },
  {
   "cell_type": "code",
   "execution_count": 6,
   "metadata": {},
   "outputs": [
    {
     "data": {
      "image/png": "[encoded data removed]",
      "text/latex": [
       "$$7 \\left(15 x^{2} + 20\\right) \\left(x^{3} + 4 x\\right)^{4} \\cos{\\left (x \\right )} - 7 \\left(x^{3} + 4 x\\right)^{5} \\sin{\\left (x \\right )}$$"
      ],
      "text/plain": [
       "                         4                      5       \n",
       "  ⎛    2     ⎞ ⎛ 3      ⎞             ⎛ 3      ⎞        \n",
       "7⋅⎝15⋅x  + 20⎠⋅⎝x  + 4⋅x⎠ ⋅cos(x) - 7⋅⎝x  + 4⋅x⎠ ⋅sin(x)"
      ]
     },
     "execution_count": 6,
     "metadata": {},
     "output_type": "execute_result"
    }
   ],
   "source": [
    "## Verify with SymPy\n",
    "\n",
    "from sympy import cos\n",
    "\n",
    "diff(7 * (x ** 3 + 4 * x) ** 5 * cos(x))"
   ]
  },
  {
   "cell_type": "markdown",
   "metadata": {},
   "source": [
    "## 4. Find the derivative of $f(x) = (e^x + \\ln x) \\sin x$."
   ]
  },
  {
   "cell_type": "markdown",
   "metadata": {},
   "source": [
    "### Solution\n",
    "\n",
    "$$\n",
    "\\begin{equation}\n",
    "\\begin{aligned}{}\n",
    "f^\\prime(x) &= \\frac{d((e^x + \\ln x) \\sin x)}{d x} \\\\\n",
    "&= \\frac{d(\\sin x)}{d x} (e^x + \\ln x) + \\frac{d((e^x + \\ln x))}{d x} \\sin x \\\\\n",
    "&= (\\cos x) (e^x + \\ln x) + \\sin x (e^x + \\frac{1}{x}) \\\\\n",
    "&= e^x \\cos x + (\\ln x) (\\cos x) + e^x \\sin x + \\frac{\\sin x}{x} \\\\\n",
    "&= \\frac{\\sin x}{x} + (\\ln x) (\\cos x) + e^x \\sin x + e^x \\cos x\n",
    "\\end{aligned}\n",
    "\\end{equation}\n",
    "$$"
   ]
  },
  {
   "cell_type": "code",
   "execution_count": 7,
   "metadata": {},
   "outputs": [
    {
     "data": {
      "image/png": "[encoded data removed]",
      "text/latex": [
       "$$\\left(e^{x} + \\frac{1}{x}\\right) \\sin{\\left (x \\right )} + \\left(e^{x} + \\log{\\left (x \\right )}\\right) \\cos{\\left (x \\right )}$$"
      ],
      "text/plain": [
       "⎛ x   1⎞          ⎛ x         ⎞       \n",
       "⎜ℯ  + ─⎟⋅sin(x) + ⎝ℯ  + log(x)⎠⋅cos(x)\n",
       "⎝     x⎠                              "
      ]
     },
     "execution_count": 7,
     "metadata": {},
     "output_type": "execute_result"
    }
   ],
   "source": [
    "## Verify with SymPy\n",
    "\n",
    "from sympy import exp, ln, sin\n",
    "\n",
    "diff((exp(x) + ln(x)) * sin(x))"
   ]
  },
  {
   "cell_type": "markdown",
   "metadata": {},
   "source": [
    "## 5. Find the derivative of $f(x) = \\frac{\\sqrt{x + 3}}{x^2}$."
   ]
  },
  {
   "cell_type": "markdown",
   "metadata": {},
   "source": [
    "### Solution\n",
    "\n",
    "$$\n",
    "\\begin{equation}\n",
    "\\begin{aligned}{}\n",
    "f^{\\prime}(x) &= \\frac{d(\\frac{\\sqrt{x + 3}}{x^2})}{d x} \\\\\n",
    "&= \\frac{x^2 \\frac{d \\sqrt{x + 3}}{d x} - \\sqrt{x + 3} \\frac{d x^2}{d x}}{(x^2)^2} & \\text{Quotient rule of differentiation} \\\\\n",
    "&= \\frac{\\frac{x^2}{2 \\sqrt{x + 3}} - 2 x \\sqrt{x + 3}}{x^4} \\\\\n",
    "&= \\frac{\\frac{x}{2 \\sqrt{x + 3}} - 2 \\sqrt{x + 3}}{x^3} \\\\\n",
    "&= \\frac{x - 4 (x + 3)}{2 x^3 \\sqrt{x + 3}} \\\\\n",
    "&= \\frac{-3 x - 12}{2 x^3 \\sqrt{x + 3}} \\\\\n",
    "&= - \\frac{3 x + 12}{2 x^3 \\sqrt{x + 3}}\n",
    "\\end{aligned}\n",
    "\\end{equation}\n",
    "$$"
   ]
  },
  {
   "cell_type": "code",
   "execution_count": 14,
   "metadata": {},
   "outputs": [
    {
     "data": {
      "image/png": "[encoded data removed]",
      "text/latex": [
       "$$- \\frac{3 x + 12}{2 x^{3} \\sqrt{x + 3}}$$"
      ],
      "text/plain": [
       " -(3⋅x + 12)  \n",
       "──────────────\n",
       "   3   _______\n",
       "2⋅x ⋅╲╱ x + 3 "
      ]
     },
     "execution_count": 14,
     "metadata": {},
     "output_type": "execute_result"
    }
   ],
   "source": [
    "## Verify with SymPy\n",
    "\n",
    "simplify(diff(sqrt(x + 3) / x ** 2))"
   ]
  },
  {
   "cell_type": "markdown",
   "metadata": {},
   "source": [
    "## 6. Find the derivative of $f(x) = \\frac{\\ln x}{\\cos x}$."
   ]
  },
  {
   "cell_type": "markdown",
   "metadata": {},
   "source": [
    "$$\n",
    "\\begin{equation}\n",
    "\\begin{aligned}{}\n",
    "f^{\\prime}(x) &= \\frac{d\\frac{\\ln x}{\\cos x}}{x} \\\\\n",
    "&= \\frac{\\cos x \\frac{d \\ln x}{x} - \\ln x \\frac{d \\cos x}{d x}}{\\cos^2 x} & \\text{Quotient rule of differentiation} \\\\\n",
    "&= \\frac{\\frac{\\cos x}{x} - (- (\\sin x) (\\ln x))}{\\cos^2 x} \\\\\n",
    "&= \\frac{\\frac{\\cos x}{x} + (\\sin x) (\\ln x)}{\\cos^2 x} \\\\\n",
    "&= \\frac{\\cos x + x(\\sin x)(\\ln x)}{x \\cos^2 x}\n",
    "\\end{aligned}\n",
    "\\end{equation}\n",
    "$$"
   ]
  },
  {
   "cell_type": "code",
   "execution_count": 17,
   "metadata": {},
   "outputs": [
    {
     "data": {
      "image/png": "[encoded data removed]",
      "text/latex": [
       "$$\\frac{x \\log{\\left (x \\right )} \\sin{\\left (x \\right )} + \\cos{\\left (x \\right )}}{x \\cos^{2}{\\left (x \\right )}}$$"
      ],
      "text/plain": [
       "x⋅log(x)⋅sin(x) + cos(x)\n",
       "────────────────────────\n",
       "            2           \n",
       "       x⋅cos (x)        "
      ]
     },
     "execution_count": 17,
     "metadata": {},
     "output_type": "execute_result"
    }
   ],
   "source": [
    "## Verify with SymPy\n",
    "\n",
    "simplify(diff(ln(x) / cos(x)))"
   ]
  },
  {
   "cell_type": "markdown",
   "metadata": {},
   "source": [
    "## 7. Find the derivative of $f(x) = \\frac{\\sqrt[3]{x} - 4}{x^3}$"
   ]
  },
  {
   "cell_type": "markdown",
   "metadata": {},
   "source": [
    "$$\n",
    "\\begin{equation}\n",
    "\\begin{aligned}{}\n",
    "f^{\\prime}(x) &= \\frac{d \\frac{\\sqrt[3]{x} - 4}{x^3}}{d x} \\\\\n",
    "&= \\frac{x^3 \\frac{d (\\sqrt[3]{x} - 4)}{d x} - (\\sqrt[3]{x} - 4) \\frac{d x^3}{d x}}{(x^3)^2} \\\\\n",
    "&= \\frac{\\frac{x^3}{3 \\sqrt[3]{x^2}} - (\\sqrt[3]{x} - 4)(3 x^2)}{x^6} \\\\\n",
    "&= \\frac{\\frac{x}{3 \\sqrt[3]{x^2}} - 3(\\sqrt[3]{x} - 4)}{x^4} \\\\\n",
    "&= \\frac{\\frac{x - 9 x + 36 \\sqrt[3]{x^2}}{3 \\sqrt[3]{x^2}}}{x^4} \\\\\n",
    "&= \\frac{-8 x + 36 \\sqrt[3]{x^2}}{3 x^4 \\sqrt[3]{x^2}} \\\\\n",
    "&= \\frac{-8 \\sqrt[3]{x}+ 36}{3 x^4} \\\\\n",
    "&= \\frac{36 - 8 \\sqrt[3]{x}}{3 x^4}\n",
    "\\end{aligned}\n",
    "\\end{equation}\n",
    "$$"
   ]
  },
  {
   "cell_type": "code",
   "execution_count": 33,
   "metadata": {},
   "outputs": [
    {
     "data": {
      "image/png": "[encoded data removed]",
      "text/latex": [
       "$$\\frac{12}{x^{4}} - \\frac{8}{3 x^{\\frac{11}{3}}}$$"
      ],
      "text/plain": [
       "12      8   \n",
       "── - ───────\n",
       " 4      11/3\n",
       "x    3⋅x    "
      ]
     },
     "execution_count": 33,
     "metadata": {},
     "output_type": "execute_result"
    }
   ],
   "source": [
    "## Verify with SymPy\n",
    "\n",
    "from sympy import cbrt\n",
    "\n",
    "simplify(diff((cbrt(x) - 4) / x ** 3))"
   ]
  },
  {
   "cell_type": "markdown",
   "metadata": {},
   "source": [
    "## 8. Find the derivative of $\\sin^3(x^3)$"
   ]
  },
  {
   "cell_type": "markdown",
   "metadata": {},
   "source": [
    "### Solution\n",
    "\n",
    "$$\n",
    "\\begin{equation}\n",
    "\\begin{aligned}{}\n",
    "f^{\\prime}(x) &= \\frac{d(\\sin^3(x^3))}{d x} \\\\\n",
    "&= (3 \\sin^2(x^3)) (\\cos(x^3)) (3 x^2) & \\text{Chain rule} \\\\\n",
    "&= 9 x^2 \\sin^2(x^3) \\cos(x^3)\n",
    "\\end{aligned}\n",
    "\\end{equation}\n",
    "$$"
   ]
  },
  {
   "cell_type": "code",
   "execution_count": 34,
   "metadata": {},
   "outputs": [
    {
     "data": {
      "image/png": "[encoded data removed]",
      "text/latex": [
       "$$9 x^{2} \\sin^{2}{\\left (x^{3} \\right )} \\cos{\\left (x^{3} \\right )}$$"
      ],
      "text/plain": [
       "   2    2⎛ 3⎞    ⎛ 3⎞\n",
       "9⋅x ⋅sin ⎝x ⎠⋅cos⎝x ⎠"
      ]
     },
     "execution_count": 34,
     "metadata": {},
     "output_type": "execute_result"
    }
   ],
   "source": [
    "## Verify with SymPy\n",
    "\n",
    "diff(sin(x ** 3) ** 3)"
   ]
  },
  {
   "cell_type": "markdown",
   "metadata": {},
   "source": [
    "## 9. Find the derivative of $f(x) = e^{\\frac{-1}{x^2}}$"
   ]
  },
  {
   "cell_type": "markdown",
   "metadata": {},
   "source": [
    "### Solution\n",
    "\n",
    "$$\n",
    "\\begin{equation}\n",
    "\\begin{aligned}{}\n",
    "f^{\\prime}(x) &= \\frac{d e^{\\frac{-1}{x^2}}}{d x} \\\\\n",
    "&= e^\\frac{-1}{x^2} (-2 \\frac{-1}{x^3}) & \\text{Chain rule} \\\\\n",
    "&= \\frac{2}{x^3} e^\\frac{-1}{x^2}\n",
    "\\end{aligned}\n",
    "\\end{equation}\n",
    "$$"
   ]
  },
  {
   "cell_type": "code",
   "execution_count": 35,
   "metadata": {},
   "outputs": [
    {
     "data": {
      "image/png": "[encoded data removed]",
      "text/latex": [
       "$$\\frac{2 e^{- \\frac{1}{x^{2}}}}{x^{3}}$$"
      ],
      "text/plain": [
       "   -1 \n",
       "   ───\n",
       "     2\n",
       "    x \n",
       "2⋅ℯ   \n",
       "──────\n",
       "   3  \n",
       "  x   "
      ]
     },
     "execution_count": 35,
     "metadata": {},
     "output_type": "execute_result"
    }
   ],
   "source": [
    "### Verify with SymPy\n",
    "\n",
    "diff(exp(-1 / x ** 2))"
   ]
  },
  {
   "cell_type": "code",
   "execution_count": null,
   "metadata": {},
   "outputs": [],
   "source": []
  }
 ],
 "metadata": {
  "kernelspec": {
   "display_name": "Python 3",
   "language": "python",
   "name": "python3"
  },
  "language_info": {
   "codemirror_mode": {
    "name": "ipython",
    "version": 3
   },
   "file_extension": ".py",
   "mimetype": "text/x-python",
   "name": "python",
   "nbconvert_exporter": "python",
   "pygments_lexer": "ipython3",
   "version": "3.7.0"
  }
 },
 "nbformat": 4,
 "nbformat_minor": 2
}
