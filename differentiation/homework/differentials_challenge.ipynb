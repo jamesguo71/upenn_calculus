{
 "cells": [
  {
   "cell_type": "markdown",
   "metadata": {},
   "source": [
    "## 1. Consider a box of height $h$ with a square base of side length $L$. Assume that $L$ is increasing at a rate of $10\\%$ per day, but $h$ is decreasing at a rate of $10\\%$ per day. Use a linear approximation to find at what (approximate) rate the volume of the box changing?\n",
    "\n",
    "**Hint: consider the relative rate of change of the volume of the box.**\n",
    "\n",
    "**Hint$^2$:** in this case you can very easily calculate the exact rate of change --$8.9\\%$-- so using linearization might seem like overkill. However, if you set up things right, you don't even need a calculator to find out the approximate rate of change! Do you see why?"
   ]
  },
  {
   "cell_type": "markdown",
   "metadata": {},
   "source": [
    "### Solution\n",
    "\n",
    "Let's denote the volume of the box as $V$, and the time as $t$. $$\n",
    "\\begin{array}{l}\n",
    "V &= L^2 h \\\\\n",
    "\\frac{d V}{d t} &= \\frac{d(L^2 h)}{d t} \\\\\n",
    "&= 2 L h \\frac{d L}{d t} + L^2 \\frac{d h}{d t} \\\\\n",
    "\\frac{\\frac{d V}{d t}}{V} &= \\frac{2 L h \\frac{d L}{d t} + L^2 \\frac{d h}{d t}}{L^2 h} \\\\\n",
    "&= 2 \\frac{\\frac{d L}{d t}}{L} + \\frac{\\frac{d h}{d t}}{h} \\\\\n",
    "&= 2 \\cdot 10 \\% - 10 \\% \\\\\n",
    "&= 10 \\%\n",
    "\\end{array}\n",
    "$$"
   ]
  },
  {
   "cell_type": "markdown",
   "metadata": {},
   "source": [
    "## 2. A large tank of oil is slowly leaking oil into a containment tank surrounding it. The oil tank is a vertical cylinder with a diameter of $10$ meters. The containment tank has a square base with side length of $15$ meters and tall vertical walls. The bottom of the oil tank and the bottom of the containment tank are concentric (the round base inside the square base). Denote by $h_0$ the height of the oil inside of the oil tank, and by $h_c$ the height of the oil in the containment tank. How are the rates of change of these two quantities related?"
   ]
  },
  {
   "cell_type": "markdown",
   "metadata": {},
   "source": [
    "### Solution\n",
    "\n",
    "The sum of quantity of both tanks should be a constant $C$. Given oil tank is inside the containment tank\n",
    "\n",
    "$$\n",
    "\\begin{array}{l}\n",
    "\\pi (\\frac{10}{2})^2 h_0 + (15^2 - \\pi (\\frac{10}{2})^2) h_c &= C \\\\\n",
    "25 \\pi h_0 + (225 - 25 \\pi) h_c &= C \\\\\n",
    "d(25 \\pi h_0) + d((225 - 25 \\pi) h_c) &= 0 \\\\\n",
    "25 \\pi d h_0 + (225 - 25 \\pi) d h_c &= 0 \\\\\n",
    "d h_c &= - \\frac{25 \\pi}{225 - 25 \\pi} d h_0\n",
    "\\end{array}\n",
    "$$"
   ]
  },
  {
   "cell_type": "markdown",
   "metadata": {},
   "source": [
    "## 3.\n",
    "\n",
    "The *stopping distance* $D_{stop}$ is the distance traveled by a vehicle from the moment the driver becomes aware of an obstacle in the road until the car stops completely. This occurs in two phases.\n",
    "\n",
    "The first one, the *reaction phase*, spans from the moment the driver sees the obstacle until he or she has completely depressed the brake pedal. This entails taking the decision to stop the vehicle, lifting the foot from the gas pedal and onto the brake pedal, and pressing the latter down its full distance to obtain maximum braking power. The amount of time necessary to do all this is called the reaction time $t_{react}$, and is independent of the speed at which the vehicle was traveling. Although this quantity varies from driver to driver, it is typically between $1.5 s$ and $2.5 s$. For the purposes of this problem, we will use an average value of $2 s$. The distance traversed by the vehicle in this time is unsurprisingly called reaction distance $$\n",
    "D_{react} = v t_{react}\n",
    "$$ where $v$ is the initial speed of the vehicle.\n",
    "\n",
    "In the braking phase, the vehicle decelerates and comes to a complete stop. The braking distance $D_{brake}$ that the vehicle covers in this phase is proportional to the square of the initial speed of the vehicle: $$\n",
    "D_{brake} = \\alpha v^2\n",
    "$$ The constant of proportionality $\\alpha$ depends on the vehicle type and condition, as well as on the road conditions. Consider a typical value of $10^{-2} \\frac{s^2}{m^2}$.\n",
    "\n",
    "If the initial speed of the vehicle is $108 \\frac{km}{h} = 30 \\frac{m}{s}$, what is the ratio between the relative rate of change of the stopping distance and the relative rate of change of the initial speed?"
   ]
  },
  {
   "cell_type": "markdown",
   "metadata": {},
   "source": [
    "### Solution\n",
    "\n",
    "Let's denote the time as $t$.\n",
    "\n",
    "$$\n",
    "\\begin{array}{l}\n",
    "D_{stop} &= D_{react} + D_{brake} \\\\\n",
    "\\frac{d D_{stop}}{d t} &= \\frac{d D_{react}}{d t} + \\frac{d D_{brake}}{d t} \\\\\n",
    "&= \\frac{d (v t_{react})}{d t} + \\frac{d (\\alpha v^2)}{d t} \\\\\n",
    "d D_{stop} &= d (v t_{react}) + d (\\alpha v^2) \\\\\n",
    "\\frac{d D_{stop}}{D_{stop}} &= \\frac{d (v t_{react}) + d (\\alpha v^2)}{v t_{react} + \\alpha v^2} \\\\\n",
    "&= \\frac{t_{react} d v + 2 v \\alpha d v}{v t_{react} + \\alpha v^2} \\\\\n",
    "&= \\frac{t_{react} + 2 v \\alpha}{t_{react} + \\alpha v} \\frac{d v}{v} \\\\\n",
    "\\frac{\\frac{d D_{stop}}{D_{stop}}}{\\frac{d v}{v}} &= \\frac{t_{react} + 2 v \\alpha}{t_{react} + \\alpha v} \\\\\n",
    "&= \\frac{2 + 2 \\cdot 30 \\cdot 0.01}{2 + 0.01 \\cdot 30} \\\\\n",
    "&= \\frac{26}{23}\n",
    "\\end{array}\n",
    "$$"
   ]
  },
  {
   "cell_type": "markdown",
   "metadata": {},
   "source": [
    "## 4.\n",
    "\n",
    "Assume that you possess equal amounts of a product $X$ and $Y$, but you value them differently. Specifically, your *utility function* is of the form $$\n",
    "U(X, Y) = C X^\\alpha Y^\\beta\n",
    "$$ for $\\alpha$, $\\beta$, and $C$ positive constants. What is your marginal rate of substitution (MRS) of $Y$ for $X$?\n",
    "\n",
    "**Hint:** recall that the MRS is equal to $- \\frac{d Y}{d X}$ along the *indifference curve* where $U$ is constant."
   ]
  },
  {
   "cell_type": "markdown",
   "metadata": {},
   "source": [
    "### Solution\n",
    "\n",
    "$$\n",
    "\\begin{array}{l}\n",
    "U(X, Y) &= C X^\\alpha Y^\\beta \\\\\n",
    "\\frac{d}{U(X, Y)}{d X} &= \\frac{d (C X^\\alpha Y^\\beta)}{d X} \\\\\n",
    "&= 0 &\\text{$U$ is constant} \\\\\n",
    "\\frac{d (X^\\alpha Y^\\beta)}{d X} &= 0 \\\\\n",
    "\\alpha X^{\\alpha - 1} Y^\\beta + X^\\alpha \\beta Y^{\\beta - 1} \\frac{d Y}{d X} &= 0 \\\\\n",
    "X^{\\alpha - 1} Y^{\\beta - 1} (\\alpha Y + \\beta X \\frac{d Y}{d X}) &= 0 \\\\\n",
    "\\alpha Y + \\beta X \\frac{d Y}{d X} &= 0 &\\text{Assume $X \\neq 0$ and $Y \\neq 0$} \\\\\n",
    "\\frac{d Y}{d X} &= - \\frac{\\alpha Y }{\\beta X}\n",
    "\\end{array}\n",
    "$$\n",
    "\n",
    "Hence $$\n",
    "\\begin{equation}\n",
    "\\begin{aligned}\n",
    "\\text{MRS} &= - \\frac{d Y}{d X} \\\\\n",
    "&= \\frac{\\alpha Y }{\\beta X} \\\\\n",
    "&= \\frac{\\alpha}{\\beta} &\\text{\"...you possess equal amounts of a product $X$ and $Y$\"}\n",
    "\\end{aligned}\n",
    "\\end{equation}\n",
    "$$\n"
   ]
  },
  {
   "cell_type": "code",
   "execution_count": null,
   "metadata": {},
   "outputs": [],
   "source": []
  }
 ],
 "metadata": {
  "kernelspec": {
   "display_name": "Python 3",
   "language": "python",
   "name": "python3"
  },
  "language_info": {
   "codemirror_mode": {
    "name": "ipython",
    "version": 3
   },
   "file_extension": ".py",
   "mimetype": "text/x-python",
   "name": "python",
   "nbconvert_exporter": "python",
   "pygments_lexer": "ipython3",
   "version": "3.7.0"
  }
 },
 "nbformat": 4,
 "nbformat_minor": 2
}
