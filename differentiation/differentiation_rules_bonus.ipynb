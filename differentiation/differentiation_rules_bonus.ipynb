{
 "cells": [
  {
   "cell_type": "markdown",
   "metadata": {},
   "source": [
    "Recall the three rules of differentiation that we have covered.\n",
    "- Linearity\n",
    "- Product Rule\n",
    "- Chain Rule\n",
    "\n",
    "Why did we spent so much time on those rules? For making computation derivatives easier? Yes, but there are other reasons of why do you want to know those rules.\n",
    "\n",
    "Mathematics and sciences are full of interesting patterns, and sometimes you'll find something you recognize hiding in a very different looking system.\n",
    "\n",
    "Knowing thee rules help you recognize the patterns."
   ]
  },
  {
   "cell_type": "markdown",
   "metadata": {},
   "source": [
    "## Examples"
   ]
  },
  {
   "cell_type": "markdown",
   "metadata": {},
   "source": [
    "### Spaces\n",
    "\n",
    "#### Boundary Operator\n",
    "\n",
    "Say we have some geometry objects, such as an interval, or a circle.\n",
    "\n",
    "There is an operator that is not unlike differentiation, but it acts on spaces, as opposed to functions.\n",
    "\n",
    "This is the boundary operator. And we denote it with $\\partial$.\n",
    "\n",
    "The boundary operator gives you the boundary of a domain. For example, the boundary of an interval is simply the two end points; the boundary of the circular disc is simply the circle that is the edge of the space.\n",
    "\n",
    "![Boundary Operator](boundary_operator.png)"
   ]
  },
  {
   "cell_type": "markdown",
   "metadata": {},
   "source": [
    "#### Cartesian Product\n",
    "\n",
    "There is an operator to multiply two spaces together, in something called the Cartesian product $\\times$.\n",
    "\n",
    "For example, a rectangle is the product of two intervals; a cylinder is the product of an interval with a circular disc, that will be a solid 3-dimensional domain.\n",
    "\n",
    "![Cartesian Product](cartesian_product.png)"
   ]
  },
  {
   "cell_type": "markdown",
   "metadata": {},
   "source": [
    "We can see there might be a pattern that, the outputs from the boundary operators have $1$ less dimension from the input, and the output of the Cartesian product operator has $1$ more dimension from the input.\n",
    "\n",
    "#### Computing the Boundary of a Product\n",
    "\n",
    "What is the boundary of a rectangle? It consists of the edges along the boundary of the rectangle. But we also have other edges as well, which can be viewed as the boundary of the second interval times the first. Hence the boundary of the rectangle should be the union of the former and the latter.\n",
    "\n",
    "$$\n",
    "\\partial \\text{rectangle} = (\\partial(\\text{first edge}) \\times \\text{second edge}) \\cup (\\partial(\\text{second edge}) \\times \\text{first edge})\n",
    "$$\n",
    "\n",
    "![](rectangle_boundary_1.png)\n",
    "![](rectangle_boundary_2.png)\n",
    "\n",
    "And this applies for cylinder too.\n",
    "\n",
    "$$\n",
    "\\partial \\text{cylinder} = (\\partial(\\text{interval}) \\times \\text{circular disc}) \\cup (\\partial(\\text{circular disc}) \\times \\text{interval})\n",
    "$$\n",
    "\n",
    "As a general rule, given two spaces $A$ and $B$, we have $$\n",
    "\\partial(A \\times B) = \\partial(A) \\times B \\cup \\partial(B) \\times A\n",
    "$$...which looks very alike to the Product Rule of differentiation. This reveals some deep relations between differentiations and boundaries. That relations will be fully exploited when we get to multi-variable calculus."
   ]
  },
  {
   "cell_type": "markdown",
   "metadata": {},
   "source": [
    "### Lists\n",
    "\n",
    "Let's save we have a list of same type of objects that we call $x$s.\n",
    "\n",
    "Let's denote a list with $n$ (where $n \\in \\mathbb{N}$) elements of $x$ as $x^n$, and $x^n$ denotes an empty list. For example a list of $5$ $x$s will be $x^5$.\n",
    "\n",
    "How do you take the derivative of a list? That doesn't make any sense. But let's define a __deletion operator__ $D$, that acts on on a list, and deletes one of the items. What is $D$ of $x^5$?\n",
    "\n",
    "Deleting a element from $x^5$ can give one of five different lists as we can remove any of the original items. Hence $$\n",
    "\\begin{equation}\n",
    "\\begin{aligned}{}\n",
    "D x^5 &= x + x + x + x + x \\\\\n",
    "&= 5 x^4\n",
    "\\end{aligned}\n",
    "\\end{equation}\n",
    "$$...where the logical or is denoted with formal additions $+$.\n",
    "\n",
    "Generalize this for $x^n$, we have $$\n",
    "D x^n = n x^{n - 1}\n",
    "$$\n",
    "\n",
    "Let's denote the empty list $x^0 = 1$. And let's denote $\\mathscr L = \\text{all finite lists}$.\n",
    "\n",
    "Here is a statement:\n",
    "> Any list is empty or it has a first entry.\n",
    "\n",
    "In our language, this means $$\n",
    "\\begin{equation}\n",
    "\\begin{aligned}{}\n",
    "\\mathscr L &= 1 + x \\mathscr L \\\\\n",
    "\\mathscr L - x \\mathscr L &= 1 \\\\\n",
    "(1 - x) \\mathscr L &= 1 \\\\\n",
    "\\mathscr L &= \\frac{1}{1 - x} \\\\\n",
    "\\mathscr L &= 1 + x^2 + x^3 + x^4 + x^5 ...\n",
    "\\end{aligned}{}\n",
    "\\end{equation}\n",
    "$$"
   ]
  },
  {
   "cell_type": "markdown",
   "metadata": {},
   "source": [
    "For reference note, the first example comes from topology, and the second example comes from analytical combinatorics."
   ]
  },
  {
   "cell_type": "code",
   "execution_count": null,
   "metadata": {},
   "outputs": [],
   "source": []
  }
 ],
 "metadata": {
  "kernelspec": {
   "display_name": "Python 3",
   "language": "python",
   "name": "python3"
  },
  "language_info": {
   "codemirror_mode": {
    "name": "ipython",
    "version": 3
   },
   "file_extension": ".py",
   "mimetype": "text/x-python",
   "name": "python",
   "nbconvert_exporter": "python",
   "pygments_lexer": "ipython3",
   "version": "3.7.0"
  }
 },
 "nbformat": 4,
 "nbformat_minor": 2
}
