{
 "cells": [
  {
   "cell_type": "code",
   "execution_count": 72,
   "metadata": {},
   "outputs": [],
   "source": [
    "from sympy import init_printing, Eq, Derivative, I, Integral, symbols, Rational, Limit, oo, Sum\n",
    "from sympy.functions.elementary.exponential import exp\n",
    "from sympy.functions.elementary.trigonometric import cos, sin\n",
    "from sympy.functions.combinatorial.factorials import factorial\n",
    "from sympy.concrete.summations import summation\n",
    "from sympy.series.limits import limit\n",
    "\n",
    "init_printing()"
   ]
  },
  {
   "cell_type": "markdown",
   "metadata": {},
   "source": [
    "# Exponentials"
   ]
  },
  {
   "cell_type": "code",
   "execution_count": 73,
   "metadata": {},
   "outputs": [],
   "source": [
    "x, y, C, n, k = symbols('x y C n k')"
   ]
  },
  {
   "cell_type": "code",
   "execution_count": 74,
   "metadata": {},
   "outputs": [
    {
     "data": {
      "image/png": "[encoded data removed]",
      "text/latex": [
       "$$e^{x}$$"
      ],
      "text/plain": [
       " x\n",
       "ℯ "
      ]
     },
     "execution_count": 74,
     "metadata": {},
     "output_type": "execute_result"
    }
   ],
   "source": [
    "exp(x)"
   ]
  },
  {
   "cell_type": "markdown",
   "metadata": {},
   "source": [
    "## Properties of e"
   ]
  },
  {
   "cell_type": "markdown",
   "metadata": {},
   "source": [
    "### Algebraic"
   ]
  },
  {
   "cell_type": "code",
   "execution_count": 75,
   "metadata": {},
   "outputs": [
    {
     "data": {
      "image/png": "[encoded data removed]",
      "text/latex": [
       "$$e^{x} e^{y} = e^{x + y}$$"
      ],
      "text/plain": [
       " x  y    x + y\n",
       "ℯ ⋅ℯ  = ℯ     "
      ]
     },
     "execution_count": 75,
     "metadata": {},
     "output_type": "execute_result"
    }
   ],
   "source": [
    "Eq(exp(x) * exp(y), exp(x + y))"
   ]
  },
  {
   "cell_type": "code",
   "execution_count": 76,
   "metadata": {},
   "outputs": [
    {
     "data": {
      "image/png": "[encoded data removed]",
      "text/latex": [
       "$$\\left(e^{x}\\right)^{y} = e^{x y}$$"
      ],
      "text/plain": [
       "    y       \n",
       "⎛ x⎞     x⋅y\n",
       "⎝ℯ ⎠  = ℯ   "
      ]
     },
     "execution_count": 76,
     "metadata": {},
     "output_type": "execute_result"
    }
   ],
   "source": [
    "Eq(exp(x) ** y, exp(x * y))"
   ]
  },
  {
   "cell_type": "markdown",
   "metadata": {},
   "source": [
    "### Differential/Integral"
   ]
  },
  {
   "cell_type": "code",
   "execution_count": 77,
   "metadata": {},
   "outputs": [
    {
     "data": {
      "image/png": "[encoded data removed]",
      "text/latex": [
       "$$\\frac{d}{d x} e^{x} = e^{x}$$"
      ],
      "text/plain": [
       "d ⎛ x⎞    x\n",
       "──⎝ℯ ⎠ = ℯ \n",
       "dx         "
      ]
     },
     "execution_count": 77,
     "metadata": {},
     "output_type": "execute_result"
    }
   ],
   "source": [
    "Eq(Derivative(exp(x), x), exp(x))"
   ]
  },
  {
   "cell_type": "code",
   "execution_count": 78,
   "metadata": {},
   "outputs": [
    {
     "data": {
      "image/png": "[encoded data removed]",
      "text/latex": [
       "$$\\int e^{x}\\, dx = C + e^{x}$$"
      ],
      "text/plain": [
       "⌠               \n",
       "⎮  x           x\n",
       "⎮ ℯ  dx = C + ℯ \n",
       "⌡               "
      ]
     },
     "execution_count": 78,
     "metadata": {},
     "output_type": "execute_result"
    }
   ],
   "source": [
    "Eq(Integral(exp(x), x), exp(x) + C)"
   ]
  },
  {
   "cell_type": "markdown",
   "metadata": {},
   "source": [
    "### Euler's formula"
   ]
  },
  {
   "cell_type": "code",
   "execution_count": 79,
   "metadata": {},
   "outputs": [
    {
     "data": {
      "image/png": "[encoded data removed]",
      "text/latex": [
       "$$e^{i x} = i \\sin{\\left (x \\right )} + \\cos{\\left (x \\right )}$$"
      ],
      "text/plain": [
       " ⅈ⋅x                    \n",
       "ℯ    = ⅈ⋅sin(x) + cos(x)"
      ]
     },
     "execution_count": 79,
     "metadata": {},
     "output_type": "execute_result"
    }
   ],
   "source": [
    "Eq(exp(I * x), cos(x) + I * sin(x))"
   ]
  },
  {
   "cell_type": "markdown",
   "metadata": {},
   "source": [
    "# Definition of e"
   ]
  },
  {
   "cell_type": "markdown",
   "metadata": {},
   "source": [
    "$\n",
    "\\begin{equation}\n",
    "e^x = 1 + x + \\frac{1}{2!}x^2 + \\frac{1}{3!}x^3 + \\frac{1}{4!}x^4 + ...\n",
    "\\end{equation}\n",
    "$"
   ]
  },
  {
   "cell_type": "code",
   "execution_count": 80,
   "metadata": {},
   "outputs": [
    {
     "data": {
      "image/png": "[encoded data removed]",
      "text/latex": [
       "$$e^{x} = \\lim_{n \\to \\infty} \\sum_{k=0}^{n} \\frac{x^{k}}{k!}$$"
      ],
      "text/plain": [
       "           n     \n",
       "          ____   \n",
       "          ╲      \n",
       "           ╲    k\n",
       " x          ╲  x \n",
       "ℯ  = lim    ╱  ──\n",
       "     n─→∞  ╱   k!\n",
       "          ╱      \n",
       "          ‾‾‾‾   \n",
       "         k = 0   "
      ]
     },
     "execution_count": 80,
     "metadata": {},
     "output_type": "execute_result"
    }
   ],
   "source": [
    "Eq(exp(x), Limit(Sum((1 / factorial(k)) * (x ** k), (k, 0, n)), n, oo))"
   ]
  },
  {
   "cell_type": "markdown",
   "metadata": {},
   "source": [
    "## Meaning of this definition"
   ]
  },
  {
   "cell_type": "markdown",
   "metadata": {},
   "source": [
    "### Differential property of polynomials"
   ]
  },
  {
   "cell_type": "markdown",
   "metadata": {},
   "source": [
    "$\n",
    "\\begin{equation}\n",
    "\\frac{d}{dx} x^k = k x^{k-1}\n",
    "\\end{equation}\n",
    "$"
   ]
  },
  {
   "cell_type": "markdown",
   "metadata": {},
   "source": [
    "### Integral property of polynomials"
   ]
  },
  {
   "cell_type": "markdown",
   "metadata": {},
   "source": [
    "$\n",
    "\\begin{equation}\n",
    "\\int x^k = \\frac{1}{k+1}x^{k+1} + C \\tag{$k \\neq -1$}\n",
    "\\end{equation}\n",
    "$"
   ]
  },
  {
   "cell_type": "markdown",
   "metadata": {},
   "source": [
    "### Observing taking the derivative of e"
   ]
  },
  {
   "cell_type": "markdown",
   "metadata": {},
   "source": [
    "$e^x = 1 + x + \\frac{1}{2!}x^2 + \\frac{1}{3!}x^3 + \\frac{1}{4!}x^4 + ...$"
   ]
  },
  {
   "cell_type": "markdown",
   "metadata": {},
   "source": [
    "$\\begin{equation}\n",
    "\\begin{split}\n",
    "\\frac{d}{dx} e^x &= \\frac{d}{dx}(1 + x + \\frac{1}{2!}x^2 + \\frac{1}{3!}x^3 + \\frac{1}{4!}x^4 + ...)\\\\\n",
    "&= 0 + 1 + x +  \\frac{1}{2!}x^2 + \\frac{1}{3!}x^3 + \\frac{1}{4!}x^4 + ...\\\\\n",
    "&= 1 + x +  \\frac{1}{2!}x^2 + \\frac{1}{3!}x^3 + \\frac{1}{4!}x^4 + ...\\\\\n",
    "&= e^x\n",
    "\\end{split}\n",
    "\\end{equation}$\n"
   ]
  },
  {
   "cell_type": "markdown",
   "metadata": {},
   "source": [
    "### Observing taking the integral of e"
   ]
  },
  {
   "cell_type": "markdown",
   "metadata": {},
   "source": [
    "$\n",
    "\\begin{equation}\n",
    "\\begin{split}\n",
    "\\int e^x &= \\int (\\frac{d}{dx}(1 + x + \\frac{1}{2!}x^2 + \\frac{1}{3!}x^3 + \\frac{1}{4!}x^4 + ...)\\\\\n",
    "&= x + \\frac{1}{2} x^2 + \\frac{1}{3} \\frac{1}{2!}x^3 + \\frac{1}{4} \\frac{1}{3!}x^4 + ...\\\\\n",
    "&= e - 1\n",
    "\\end{split}\n",
    "\\end{equation}\n",
    "$"
   ]
  },
  {
   "cell_type": "code",
   "execution_count": null,
   "metadata": {},
   "outputs": [],
   "source": []
  }
 ],
 "metadata": {
  "kernelspec": {
   "display_name": "Python 3",
   "language": "python",
   "name": "python3"
  },
  "language_info": {
   "codemirror_mode": {
    "name": "ipython",
    "version": 3
   },
   "file_extension": ".py",
   "mimetype": "text/x-python",
   "name": "python",
   "nbconvert_exporter": "python",
   "pygments_lexer": "ipython3",
   "version": "3.7.0"
  }
 },
 "nbformat": 4,
 "nbformat_minor": 2
}
