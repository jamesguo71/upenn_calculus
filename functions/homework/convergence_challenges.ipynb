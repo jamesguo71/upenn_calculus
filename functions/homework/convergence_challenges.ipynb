{
 "cells": [
  {
   "cell_type": "markdown",
   "metadata": {},
   "source": [
    "## 1. Compute the Taylor series expansion about $x = 0$ of the function $f(x) = \\ln \\frac{1 + 2x}{1 - 2x}$. For what values of $x$ does the series converge?\n",
    "\n",
    "Hint: use the properties of the logarithm function to separate the quotient inside into two pieces"
   ]
  },
  {
   "cell_type": "markdown",
   "metadata": {},
   "source": [
    "### Solution\n",
    "\n",
    "$\n",
    "\\begin{equation}\n",
    "\\begin{split}\n",
    "f(x) &= \\ln \\frac{1 + 2x}{1 - 2x} \\\\\n",
    "&= \\ln (1 + 2x) - \\ln (1 - 2x) \\\\\n",
    "\\end{split}\n",
    "\\end{equation}\n",
    "$\n",
    "\n",
    "For $|2x| = |-2x| < 1$, hence $|x| < \\frac{1}{2}$, we have\n",
    "\n",
    "$\n",
    "\\begin{equation}\n",
    "\\begin{split}\n",
    "f(x) &= \\ln (1 + 2x) - \\ln (1 - 2x) \\\\\n",
    "&= \\sum_{k=1}^{\\infty} (-1)^{k + 1} \\frac{(2x)^k}{k} - \\sum_{k=1}^{\\infty} (-1)^{k + 1} \\frac{(-2x)^k}{k} \\\\\n",
    "&= \\sum_{k=1}^{\\infty} (-1)^{k + 1} \\frac{(2x)^k}{k} - \\sum_{k=1}^{\\infty} (-1)^{2k + 1} \\frac{(2x)^k}{k} \\\\\n",
    "&= \\sum_{k=1}^{\\infty} ((-1)^{k + 1} - (-1)^{2k+1}) \\frac{(2x)^k}{k} \\\\\n",
    "&= \\sum_{k=1}^{\\infty} (-1)^{k + 1} (1 - (-1)^k) \\frac{(2x)^k}{k}\n",
    "\\end{split}\n",
    "\\end{equation}\n",
    "$\n",
    "\n",
    "When $k$ is odd, $(-1)^{k + 1} (1 - (-1)^k) = (1 - (-1)) = 2$.\n",
    "\n",
    "When $k$ is even, $(-1)^{k + 1} (1 - (-1)^k) = -1 (1 - 1) = 0$.\n",
    "\n",
    "Hence\n",
    "\n",
    "$\n",
    "\\begin{equation}\n",
    "\\begin{split}\n",
    "f(x) &= \\sum_{k=1}^{\\infty} (-1)^{k + 1} (1 - (-1)^k) \\frac{(2x)^k}{k} \\\\\n",
    "&= \\sum_{k=1}^{\\infty} 2 \\frac{(2x)^{2k - 1}}{2k - 1} \\\\\n",
    "&= \\sum_{k=1}^{\\infty} \\frac{2^{2k}}{2k - 1} x^{2k - 1}\n",
    "\\end{split}\n",
    "\\end{equation}\n",
    "$\n"
   ]
  },
  {
   "cell_type": "code",
   "execution_count": 3,
   "metadata": {},
   "outputs": [
    {
     "data": {
      "image/png": "[encoded data removed]",
      "text/latex": [
       "$$4 x + \\frac{16 x^{3}}{3} + \\frac{64 x^{5}}{5} + O\\left(x^{6}\\right)$$"
      ],
      "text/plain": [
       "          3       5        \n",
       "      16⋅x    64⋅x     ⎛ 6⎞\n",
       "4⋅x + ───── + ───── + O⎝x ⎠\n",
       "        3       5          "
      ]
     },
     "execution_count": 3,
     "metadata": {},
     "output_type": "execute_result"
    }
   ],
   "source": [
    "from sympy import init_printing, log, symbols\n",
    "\n",
    "init_printing()\n",
    "\n",
    "x = symbols('x')\n",
    "\n",
    "log((1 + 2 * x) / (1 - 2 * x)).series()"
   ]
  },
  {
   "cell_type": "markdown",
   "metadata": {},
   "source": [
    "## 2. We have derived Taylor series expansions about $x = 0$ for the sine and arctangent functions. The first one converges over the whole real line, but the second one does so only when its input is smaller than 1 in absolute value. If you try using these to find the Taylor series of\n",
    "\n",
    "$\n",
    "\\begin{equation}\n",
    "\\arctan (\\frac{1}{2} \\sin x)\n",
    "\\end{equation}\n",
    "$\n",
    "\n",
    "where would the resulting series converge to the function?\n",
    "\n",
    "Warning: there is a fundamental mistake in this problem, whose understanding requires some Complex Analysis. If you want to know more, please read this thread in our discussion forums."
   ]
  },
  {
   "cell_type": "markdown",
   "metadata": {},
   "source": [
    "### Solution\n",
    "\n",
    "We know $\\arctan x$ converges at $|x| < 1$.\n",
    "\n",
    "And regardless of what value $x$ takes in $\\mathbb{R}$ $(-\\infty, +\\infty)$, $\\frac{1}{2} sin x$ < 1.\n",
    "\n",
    "Hence $\\arctan (\\frac{1}{2} sin x)$ converges at $\\mathbb{R}$ $(-\\infty, +\\infty)$."
   ]
  },
  {
   "cell_type": "code",
   "execution_count": null,
   "metadata": {},
   "outputs": [],
   "source": []
  }
 ],
 "metadata": {
  "kernelspec": {
   "display_name": "Python 3",
   "language": "python",
   "name": "python3"
  },
  "language_info": {
   "codemirror_mode": {
    "name": "ipython",
    "version": 3
   },
   "file_extension": ".py",
   "mimetype": "text/x-python",
   "name": "python",
   "nbconvert_exporter": "python",
   "pygments_lexer": "ipython3",
   "version": "3.7.0"
  }
 },
 "nbformat": 4,
 "nbformat_minor": 2
}
