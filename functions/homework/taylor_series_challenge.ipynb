{
 "cells": [
  {
   "cell_type": "markdown",
   "metadata": {},
   "source": [
    "## 1. The Taylor series about $ x = 0 $ of the arctangent function is\n",
    "\n",
    "$\n",
    "\\begin{equation}\n",
    "\\arctan x = x - \\frac{x^3}{3} + \\frac{x^5}{5} - \\frac{x^7}{7} + ... = \\sum_{k=0}^{\\infty} (-1)^k \\frac{x^{2k+1}}{2k+1}\n",
    "\\end{equation}\n",
    "$\n",
    "\n",
    "Given this, what is the 11th derivative of $\\arctan x$ at $x = 0$?\n",
    "\n",
    "Hint: think in terms of the definition of a Taylor series. The coefficient of the degree 11 term of $\\arctan$ is $-1/11$; therefore..."
   ]
  },
  {
   "cell_type": "markdown",
   "metadata": {},
   "source": [
    "### Solution\n",
    "\n",
    "We know the $k$ degree term of the Taylor series of $f$ about $x=0$ is\n",
    "\n",
    "$\n",
    "\\begin{equation}\n",
    "C_k = \\frac{1}{k!} \\frac{d^kf}{dx^k}|_0\n",
    "\\end{equation}\n",
    "$\n",
    "\n",
    "Hence the 11 degree term of the Taylor series of $\\arctan$ about $x=0$ is\n",
    "\n",
    "$\n",
    "\\begin{equation}\n",
    "C_{11} = \\frac{1}{11!} \\frac{d^{11}\\arctan}{dx^{11}}|_0 = - \\frac{1}{11}\n",
    "\\end{equation}\n",
    "$\n",
    "\n",
    "\n",
    "The 11th derivative of $\\arctan$ at $x=0$ is\n",
    "\n",
    "$\n",
    "\\begin{equation}\n",
    "\\begin{split}\n",
    "\\frac{d^{11}\\arctan}{dx^{11}}|_0 &= {11}! C_{11} \\\\\n",
    "&= {11}! (- \\frac{1}{11})\n",
    "&= - {10}!\n",
    "\\end{split}\n",
    "\\end{equation}\n",
    "$"
   ]
  },
  {
   "cell_type": "markdown",
   "metadata": {},
   "source": [
    "### Verify with Sympy"
   ]
  },
  {
   "cell_type": "code",
   "execution_count": 12,
   "metadata": {},
   "outputs": [
    {
     "data": {
      "text/plain": [
       "True"
      ]
     },
     "execution_count": 12,
     "metadata": {},
     "output_type": "execute_result"
    }
   ],
   "source": [
    "from sympy import symbols, init_printing, diff, factorial\n",
    "from sympy.functions.elementary.trigonometric import atan\n",
    "\n",
    "init_printing()\n",
    "\n",
    "x = symbols('x')\n",
    "\n",
    "eleventh_derivative = diff(atan(x), x, 11)\n",
    "eleventh_derivative.subs(x, 0) == -factorial(10)"
   ]
  },
  {
   "cell_type": "markdown",
   "metadata": {},
   "source": [
    "## 2. Adding together an infinite number of terms can be a bit dangerous. But sometimes, it's intuitive. Compute, by drawing a picture if you like, the sum:\n",
    "\n",
    "$1 + \\frac{1}{2} + \\frac{1}{4} + \\frac{1}{8} + \\frac{1}{16} + ...$"
   ]
  },
  {
   "cell_type": "markdown",
   "metadata": {},
   "source": [
    "### Computational approximation"
   ]
  },
  {
   "cell_type": "code",
   "execution_count": 13,
   "metadata": {},
   "outputs": [
    {
     "name": "stdout",
     "output_type": "stream",
     "text": [
      "0\n",
      "1.0\n",
      "1.5\n",
      "1.75\n",
      "1.875\n",
      "1.9375\n",
      "1.96875\n",
      "1.984375\n",
      "1.9921875\n",
      "1.99609375\n",
      "1.998046875\n",
      "1.9990234375\n",
      "1.99951171875\n",
      "1.999755859375\n",
      "1.9998779296875\n",
      "1.99993896484375\n",
      "1.999969482421875\n",
      "1.9999847412109375\n",
      "1.9999923706054688\n",
      "1.9999961853027344\n"
     ]
    }
   ],
   "source": [
    "def partial_series(n):\n",
    "    return sum((1 / 2 ** k) for k in range(n))\n",
    "\n",
    "for i in range(20):\n",
    "    print(partial_series(i))"
   ]
  },
  {
   "cell_type": "code",
   "execution_count": 14,
   "metadata": {},
   "outputs": [
    {
     "data": {
      "image/png": "[encoded data removed]",
      "text/latex": [
       "$$2$$"
      ],
      "text/plain": [
       "2"
      ]
     },
     "execution_count": 14,
     "metadata": {},
     "output_type": "execute_result"
    }
   ],
   "source": [
    "from sympy import summation, oo\n",
    "\n",
    "k = symbols('k')\n",
    "series = summation(1 / 2**k, (k, 0, oo))\n",
    "series"
   ]
  },
  {
   "cell_type": "markdown",
   "metadata": {},
   "source": [
    "## 3. Find the value of  $a$ for which $\\sum_{n=0}^{\\infty}e^{na} = 2$"
   ]
  },
  {
   "cell_type": "markdown",
   "metadata": {},
   "source": [
    "### Solution"
   ]
  },
  {
   "cell_type": "markdown",
   "metadata": {},
   "source": [
    "From problem 2 we know\n",
    "\n",
    "$\n",
    "\\begin{equation}\n",
    "1 + \\frac{1}{2} + \\frac{1}{4} + \\frac{1}{8} + \\frac{1}{16} + ... = 2\n",
    "\\end{equation}\n",
    "$\n",
    "\n",
    "Then we need to find $a$ such that\n",
    "\n",
    "$\n",
    "\\begin{equation}\n",
    "(e^a)^n = e^{na} = \\frac{1}{2^n} = (\\frac{1}{2})^n\n",
    "\\end{equation}\n",
    "$\n",
    "\n",
    "Hence\n",
    "\n",
    "$\n",
    "\\begin{equation}\n",
    "e^a = \\frac{1}{2}\n",
    "\\end{equation}\n",
    "$\n",
    "\n",
    "$\n",
    "\\begin{equation}\n",
    "a = \\ln \\frac{1}{2} = - \\ln 2\n",
    "\\end{equation}\n",
    "$"
   ]
  },
  {
   "cell_type": "code",
   "execution_count": null,
   "metadata": {},
   "outputs": [],
   "source": []
  }
 ],
 "metadata": {
  "kernelspec": {
   "display_name": "Python 3",
   "language": "python",
   "name": "python3"
  },
  "language_info": {
   "codemirror_mode": {
    "name": "ipython",
    "version": 3
   },
   "file_extension": ".py",
   "mimetype": "text/x-python",
   "name": "python",
   "nbconvert_exporter": "python",
   "pygments_lexer": "ipython3",
   "version": "3.7.0"
  }
 },
 "nbformat": 4,
 "nbformat_minor": 2
}
