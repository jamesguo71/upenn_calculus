{
 "cells": [
  {
   "cell_type": "markdown",
   "metadata": {},
   "source": [
    "## 1. The Taylor series about $ x = 0 $ of the arctangent function is\n",
    "\n",
    "$\n",
    "\\begin{equation}\n",
    "\\arctan x = x - \\frac{x^3}{3} + \\frac{x^5}{5} - \\frac{x^7}{7} + ... = \\sum_{k=0}^{\\infty} (-1)^k \\frac{x^{2k+1}}{2k+1}\n",
    "\\end{equation}\n",
    "$\n",
    "\n",
    "Given this, what is the 11th derivative of $\\arctan x$ at $x = 0$?\n",
    "\n",
    "Hint: think in terms of the definition of a Taylor series. The coefficient of the degree 11 term of $\\arctan$ is $-1/11$; therefore..."
   ]
  },
  {
   "cell_type": "markdown",
   "metadata": {},
   "source": [
    "### Solution\n",
    "\n",
    "We know the $k$ degree term of the Taylor series of $f$ about $x=0$ is\n",
    "\n",
    "$\n",
    "\\begin{equation}\n",
    "C_k = \\frac{1}{k!} \\frac{d^kf}{dx^k}|_0\n",
    "\\end{equation}\n",
    "$\n",
    "\n",
    "Hence the 11 degree term of the Taylor series of $\\arctan$ about $x=0$ is\n",
    "\n",
    "$\n",
    "\\begin{equation}\n",
    "C_{11} = \\frac{1}{11!} \\frac{d^{11}\\arctan}{dx^{11}}|_0 = - \\frac{1}{11}\n",
    "\\end{equation}\n",
    "$\n",
    "\n",
    "\n",
    "The 11th derivative of $\\arctan$ at $x=0$ is\n",
    "\n",
    "$\n",
    "\\begin{equation}\n",
    "\\begin{split}\n",
    "\\frac{d^{11}\\arctan}{dx^{11}}|_0 &= {11}! C_{11} \\\\\n",
    "&= {11}! (- \\frac{1}{11})\n",
    "&= - {10}!\n",
    "\\end{split}\n",
    "\\end{equation}\n",
    "$"
   ]
  },
  {
   "cell_type": "markdown",
   "metadata": {},
   "source": [
    "### Verify with Sympy"
   ]
  },
  {
   "cell_type": "code",
   "execution_count": 14,
   "metadata": {},
   "outputs": [
    {
     "data": {
      "text/plain": [
       "True"
      ]
     },
     "execution_count": 14,
     "metadata": {},
     "output_type": "execute_result"
    }
   ],
   "source": [
    "from sympy import symbols, init_printing, diff, factorial\n",
    "from sympy.functions.elementary.trigonometric import atan\n",
    "\n",
    "init_printing()\n",
    "\n",
    "x = symbols('x')\n",
    "\n",
    "eleventh_derivative = diff(atan(x), x, 11)\n",
    "eleventh_derivative.subs(x, 0) == -factorial(10)"
   ]
  },
  {
   "cell_type": "code",
   "execution_count": null,
   "metadata": {},
   "outputs": [],
   "source": []
  }
 ],
 "metadata": {
  "kernelspec": {
   "display_name": "Python 3",
   "language": "python",
   "name": "python3"
  },
  "language_info": {
   "codemirror_mode": {
    "name": "ipython",
    "version": 3
   },
   "file_extension": ".py",
   "mimetype": "text/x-python",
   "name": "python",
   "nbconvert_exporter": "python",
   "pygments_lexer": "ipython3",
   "version": "3.7.0"
  }
 },
 "nbformat": 4,
 "nbformat_minor": 2
}
