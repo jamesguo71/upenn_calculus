{
 "cells": [
  {
   "cell_type": "markdown",
   "metadata": {},
   "source": [
    "## 1. $$\\lim_{x \\to 1} \\frac{x^2 + x + 1}{x + 3} =$$"
   ]
  },
  {
   "cell_type": "markdown",
   "metadata": {},
   "source": [
    "### Solution\n",
    "\n",
    "As $$\\lim_{x \\to 1} x + 3 \\neq 0$$, we can apply the quotient rule:\n",
    "\n",
    "$$\n",
    "\\begin{equation}\n",
    "\\begin{split}\n",
    "\\lim_{x \\to 1} \\frac{x^2 + x + 1}{x + 3} &= \\frac{\\lim_{x \\to 1} (x^2 + x + 1)}{\\lim_{x \\to 1} (x + 3)} \\\\\n",
    "&= \\frac{3}{4}\n",
    "\\end{split}\n",
    "\\end{equation}\n",
    "$$"
   ]
  },
  {
   "cell_type": "markdown",
   "metadata": {},
   "source": [
    "### Verify with SymPy"
   ]
  },
  {
   "cell_type": "code",
   "execution_count": 1,
   "metadata": {},
   "outputs": [
    {
     "data": {
      "image/png": "[encoded data removed]",
      "text/latex": [
       "$$\\frac{3}{4}$$"
      ],
      "text/plain": [
       "3/4"
      ]
     },
     "execution_count": 1,
     "metadata": {},
     "output_type": "execute_result"
    }
   ],
   "source": [
    "from sympy import symbols, init_printing, limit\n",
    "\n",
    "init_printing()\n",
    "\n",
    "x = symbols('x')\n",
    "\n",
    "limit((x ** 2 + x + 1) / (x + 3), x, 1)"
   ]
  },
  {
   "cell_type": "markdown",
   "metadata": {},
   "source": [
    "## 2. $$\\lim_{x \\to 0} \\frac{\\sec x \\tan x}{\\sin x} =$$"
   ]
  },
  {
   "cell_type": "markdown",
   "metadata": {},
   "source": [
    "### Solution\n",
    "\n",
    "The quotient rule does not apply because $$\\lim_{x \\to 0} \\sin x = 0$$.\n",
    "\n",
    "$\n",
    "\\begin{equation}\n",
    "\\begin{split}\n",
    "\\lim_{x \\to 0} \\frac{\\sec x \\tan x}{\\sin x} &= \\lim_{x \\to 0} \\frac{\\tan x}{\\sin x \\cos x} \\\\\n",
    "&= \\lim_{x \\to 0} \\frac{\\sin x}{\\sin x \\cos^2 x}  \\\\\n",
    "&= \\lim_{x \\to 0} \\frac{1}{\\cos^2 x} \\\\\n",
    "&= 1\n",
    "\\end{split}\n",
    "\\end{equation}\n",
    "$"
   ]
  },
  {
   "cell_type": "markdown",
   "metadata": {},
   "source": [
    "### Verify with Sympy"
   ]
  },
  {
   "cell_type": "code",
   "execution_count": 2,
   "metadata": {},
   "outputs": [
    {
     "data": {
      "image/png": "[encoded data removed]",
      "text/latex": [
       "$$1$$"
      ],
      "text/plain": [
       "1"
      ]
     },
     "execution_count": 2,
     "metadata": {},
     "output_type": "execute_result"
    }
   ],
   "source": [
    "from sympy import sec, tan, sin\n",
    "\n",
    "limit((sec(x) * tan(x)) / sin(x), x, 0)"
   ]
  },
  {
   "cell_type": "markdown",
   "metadata": {},
   "source": [
    "## 3. $$\\lim_{x \\to -2} \\frac{x^2 - 4}{x + 2} =$$"
   ]
  },
  {
   "cell_type": "markdown",
   "metadata": {},
   "source": [
    "### Solution\n",
    "\n",
    "The quotient rule does not apply because $$\\lim_{x \\to -2} (x + 2) = 0$$.\n",
    "\n",
    "$$\n",
    "\\begin{equation}\n",
    "\\begin{split}\n",
    "\\lim_{x \\to -2} \\frac{x^2 - 4}{x + 2} &= \\lim_{x \\to -2} \\frac{(x + 2)(x - 2)}{x + 2} \\\\\n",
    "&= \\lim_{x \\to -2} (x - 2) \\\\\n",
    "&=-4\n",
    "\\end{split}\n",
    "\\end{equation}\n",
    "$$"
   ]
  },
  {
   "cell_type": "markdown",
   "metadata": {},
   "source": [
    "### Verify with SymPy"
   ]
  },
  {
   "cell_type": "code",
   "execution_count": 3,
   "metadata": {},
   "outputs": [
    {
     "data": {
      "image/png": "[encoded data removed]",
      "text/latex": [
       "$$-4$$"
      ],
      "text/plain": [
       "-4"
      ]
     },
     "execution_count": 3,
     "metadata": {},
     "output_type": "execute_result"
    }
   ],
   "source": [
    "limit((x ** 2 - 4) / (x + 2), x, -2)"
   ]
  },
  {
   "cell_type": "markdown",
   "metadata": {},
   "source": [
    "## 4. $$\\lim_{x \\to 0} \\frac{x^4 + 3x^2 + 6x}{3x^4 + 5x} =$$"
   ]
  },
  {
   "cell_type": "markdown",
   "metadata": {},
   "source": [
    "### Solution\n",
    "\n",
    "$$\n",
    "\\begin{equation}\n",
    "\\lim_{x \\to 0} \\frac{x^4 + 3x^2 + 6x}{3x^4 + 5x} = \\lim_{x \\to 0} \\frac{x^3 + 3x + 6}{3x^3 + 5}\n",
    "\\end{equation}\n",
    "$$\n",
    "\n",
    "Now we can apply the quotient rule:\n",
    "\n",
    "$\n",
    "\\begin{equation}\n",
    "\\begin{split}\n",
    "\\lim_{x \\to 0} \\frac{x^4 + 3x^2 + 6x}{3x^4 + 5x} &= \\lim_{x \\to 0} \\frac{x^3 + 3x + 6}{3x^3 + 5} \\\\\n",
    "&= \\frac{\\lim_{x \\to 0} (x^3 + 3x + 6)}{\\lim_{x \\to 0} (3x^3 + 5)} \\\\\n",
    "&= \\frac{6}{5}\n",
    "\\end{split}\n",
    "\\end{equation}\n",
    "$"
   ]
  },
  {
   "cell_type": "markdown",
   "metadata": {},
   "source": [
    "### Verify with SymPy"
   ]
  },
  {
   "cell_type": "code",
   "execution_count": 4,
   "metadata": {},
   "outputs": [
    {
     "data": {
      "image/png": "[encoded data removed]",
      "text/latex": [
       "$$\\frac{6}{5}$$"
      ],
      "text/plain": [
       "6/5"
      ]
     },
     "execution_count": 4,
     "metadata": {},
     "output_type": "execute_result"
    }
   ],
   "source": [
    "limit((x ** 4 + 3 * x ** 2 + 6 * x) / (3 * x ** 4 + 5 * x), x, 0)"
   ]
  },
  {
   "cell_type": "markdown",
   "metadata": {},
   "source": [
    "## 5. $$\\lim_{x \\to +\\infty} \\frac{6x^2 -3x + 1}{3x^2 + 4} =$$\n",
    "\n",
    "Hint: If you get stuck, ask yourself which terms in the numerator and denominator are most significant as $x \\to \\infty$."
   ]
  },
  {
   "cell_type": "markdown",
   "metadata": {},
   "source": [
    "### Solutions\n",
    "\n",
    "$$\n",
    "\\begin{equation}\n",
    "\\begin{aligned}\n",
    "\\lim_{x \\to +\\infty} \\frac{6x^2 -3x + 1}{3x^2 + 4} &= \\lim_{x \\to +\\infty} \\frac{6 - 3 \\frac{1}{x} + \\frac{1}{x^2}}{3 + 4\\frac{1}{x^2}} \\\\\n",
    "&= \\frac{\\lim_{x \\to +\\infty} (6 - 3 \\frac{1}{x} + \\frac{1}{x^2})}{\\lim_{x \\to +\\infty} (3 + 4\\frac{1}{x^2})} \\\\\n",
    "&= \\frac{\\lim_{x \\to +\\infty} 6 - \\lim_{x \\to +\\infty} (3 \\frac{1}{x} + \\frac{1}{x^2})}{\\lim_{x \\to +\\infty} 3 + \\lim_{x \\to +\\infty} 4\\frac{1}{x^2}} \\\\\n",
    "&= \\frac{6 - 0}{3 - 0} \\\\\n",
    "&= 2\n",
    "\\end{aligned}\n",
    "\\end{equation}\n",
    "$$\n"
   ]
  },
  {
   "cell_type": "markdown",
   "metadata": {},
   "source": [
    "### Verify with SymPy"
   ]
  },
  {
   "cell_type": "code",
   "execution_count": 5,
   "metadata": {},
   "outputs": [
    {
     "data": {
      "image/png": "[encoded data removed]",
      "text/latex": [
       "$$2$$"
      ],
      "text/plain": [
       "2"
      ]
     },
     "execution_count": 5,
     "metadata": {},
     "output_type": "execute_result"
    }
   ],
   "source": [
    "from sympy import oo\n",
    "\n",
    "limit((6 * (x ** 2) - 3 * x + 1) / (3 * (x ** 2) + 4), x, oo)"
   ]
  },
  {
   "cell_type": "markdown",
   "metadata": {},
   "source": [
    "### 6. $$\\lim_{x \\to + \\infty} \\frac{x^2 + x + 1}{x^4 - 3x^2 + 2}$$"
   ]
  },
  {
   "cell_type": "markdown",
   "metadata": {},
   "source": [
    "### Solution\n",
    "\n",
    "$$\n",
    "\\begin{equation}\n",
    "\\begin{aligned}\n",
    "\\lim_{x \\to + \\infty} \\frac{x^2 + x + 1}{x^4 - 3x^2 + 2} &= \\lim_{x \\to + \\infty} \\frac{1 + \\frac{1}{x} + \\frac{1}{x^2}}{x^2 - 3 + 2 \\frac{1}{x^2}} \\\\\n",
    "&= \\frac{\\lim_{x \\to + \\infty} (1 + \\frac{1}{x} + \\frac{1}{x^2})}{\\lim_{x \\to + \\infty} (x^2 - 3 + 2 \\frac{1}{x^2})} \\\\\n",
    "&= \\frac{\\lim_{x \\to + \\infty} 1 + \\lim_{x \\to + \\infty} (\\frac{1}{x} + \\frac{1}{x^2})}{\\lim_{x \\to + \\infty} (x^2 - 3) +  \\lim_{x \\to + \\infty} 2 \\frac{1}{x^2}} \\\\\n",
    "&= \\frac{1 + 0}{\\infty + 0} \\\\\n",
    "&= \\frac{1}{\\infty} \\\\\n",
    "&= 0\n",
    "\\end{aligned}\n",
    "\\end{equation}\n",
    "$$"
   ]
  },
  {
   "cell_type": "markdown",
   "metadata": {},
   "source": [
    "### Verify with SymPy"
   ]
  },
  {
   "cell_type": "code",
   "execution_count": 6,
   "metadata": {},
   "outputs": [
    {
     "data": {
      "image/png": "[encoded data removed]",
      "text/latex": [
       "$$0$$"
      ],
      "text/plain": [
       "0"
      ]
     },
     "execution_count": 6,
     "metadata": {},
     "output_type": "execute_result"
    }
   ],
   "source": [
    "limit((x ** 2 + x + 1) / (x ** 4 - 3 * (x ** 2) + 2), x, oo)"
   ]
  },
  {
   "cell_type": "markdown",
   "metadata": {},
   "source": [
    "### 7. $$\\lim_{x \\to 0} \\frac{2 \\cos x - 2}{3 x^2}$$"
   ]
  },
  {
   "cell_type": "markdown",
   "metadata": {},
   "source": [
    "### Solution\n",
    "\n",
    "$$\n",
    "\\begin{equation}\n",
    "\\begin{aligned}\n",
    "\\lim_{x \\to 0} \\frac{2 \\cos x - 2}{3 x^2} &= \\lim_{x \\to 0} (\\frac{1}{3x^2} (2 \\cos x - 2)) \\\\\n",
    "&= \\lim_{x \\to 0} (\\frac{1}{3x^2} (2(1 - \\frac{1}{2!} x^2 + \\frac{1}{4!} x^4 + ...) - 2) \\\\\n",
    "&= \\lim_{x \\to 0} (\\frac{1}{3x^2} ((2 - 2\\frac{1}{2!} x^2 + 2\\frac{1}{4!} x^4 + ...) - 2) \\\\\n",
    "&= \\lim_{x \\to 0} (\\frac{1}{3x^2} (- 2\\frac{1}{2!} x^2 + 2\\frac{1}{4!} x^4 + ...) \\\\\n",
    "&=\\lim_{x \\to 0} (- \\frac{1}{3} + \\frac{1}{3 \\cdot 4!} x^2 + ...) \\\\\n",
    "&= - \\frac{1}{3}\n",
    "\\end{aligned}\n",
    "\\end{equation}\n",
    "$$"
   ]
  },
  {
   "cell_type": "markdown",
   "metadata": {},
   "source": [
    "### Verify with SymPy"
   ]
  },
  {
   "cell_type": "code",
   "execution_count": 9,
   "metadata": {},
   "outputs": [
    {
     "data": {
      "image/png": "[encoded data removed]",
      "text/latex": [
       "$$- \\frac{1}{3}$$"
      ],
      "text/plain": [
       "-1/3"
      ]
     },
     "execution_count": 9,
     "metadata": {},
     "output_type": "execute_result"
    }
   ],
   "source": [
    "from sympy import cos\n",
    "\n",
    "limit((2 * cos(x) - 2) / (3 * (x ** 2)), x, 0)"
   ]
  },
  {
   "cell_type": "markdown",
   "metadata": {},
   "source": [
    "## 8. $$\\lim_{x \\to 0} \\frac{\\sin^2 x}{\\sin 2x}$$"
   ]
  },
  {
   "cell_type": "markdown",
   "metadata": {},
   "source": [
    "### Solution\n",
    "\n",
    "$$\n",
    "\\begin{equation}\n",
    "\\begin{aligned}\n",
    "\\lim_{x \\to 0} \\frac{\\sin^2 x}{\\sin 2x} &= \\lim_{x \\to 0} \\frac{\\sin x (x - \\frac{1}{3!} x^3 + \\frac{1}{5!} x^5 + H.O.T.)}{2x - \\frac{1}{3!} (2x)^3 + \\frac{1}{5!} (2x)^5 + H.O.T.} \\\\\n",
    "&= \\lim_{x \\to 0} \\frac{\\sin x (1 - \\frac{1}{3!} x^2 + \\frac{1}{5!} x^4 + H.O.T.)}{2 - \\frac{1}{3!} (2x)^2 + \\frac{1}{5!} (2x)^4 + H.O.T.} \\\\\n",
    "&= \\frac{\\lim_{x \\to 0} (\\sin x (1 - \\frac{1}{3!} x^2 + \\frac{1}{5!} x^4 + H.O.T.))}{\\lim_{x \\to 0} (2 - \\frac{1}{3!} (2x)^2 + \\frac{1}{5!} (2x)^4 + H.O.T.)} \\\\\n",
    "&= 0\n",
    "\\end{aligned}\n",
    "\\end{equation}\n",
    "$$"
   ]
  },
  {
   "cell_type": "markdown",
   "metadata": {},
   "source": [
    "### Verify with SymPy"
   ]
  },
  {
   "cell_type": "code",
   "execution_count": 11,
   "metadata": {},
   "outputs": [
    {
     "data": {
      "image/png": "[encoded data removed]",
      "text/latex": [
       "$$0$$"
      ],
      "text/plain": [
       "0"
      ]
     },
     "execution_count": 11,
     "metadata": {},
     "output_type": "execute_result"
    }
   ],
   "source": [
    "from sympy import sin\n",
    "\n",
    "limit((sin(x) ** 2) / sin(2 * x), x, 0)"
   ]
  },
  {
   "cell_type": "markdown",
   "metadata": {},
   "source": [
    "## 9. $$\\lim_{x \\to 0} \\frac{e^{x^2} - 1}{1 - \\cos x}$$"
   ]
  },
  {
   "cell_type": "markdown",
   "metadata": {},
   "source": [
    "### Solution\n",
    "\n",
    "$$\n",
    "\\begin{equation}\n",
    "\\begin{aligned}\n",
    "\\lim_{x \\to 0} \\frac{e^{x^2} - 1}{1 - \\cos x} &= \\lim_{x \\to 0} \\frac{(1 + \\frac{1}{2!} (x^2)^2 + \\frac{1}{3!} (x^2)^3 + H.O.T.) - 1}{1 - (1 - \\frac{1}{2!} x^2 + \\frac{1}{4!} x^4 + H.O.T.)} \\\\\n",
    "&= \\lim_{x \\to 0} \\frac{\\frac{1}{2!} (x^2)^2 + \\frac{1}{3!} (x^2)^3 + H.O.T.}{\\frac{1}{2!} x^2 - \\frac{1}{4!} x^4 + H.O.T.} \\\\\n",
    "&= \\lim_{x \\to 0} \\frac{\\frac{1}{2!} x^2 + \\frac{1}{3!} x^4 + H.O.T.}{\\frac{1}{2!} - \\frac{1}{4!} x^2 + H.O.T.} \\\\\n",
    "&= \\frac{\\lim_{x \\to 0} (\\frac{1}{2!} x^2 + \\frac{1}{3!} x^4 + H.O.T.)}{\\lim_{x \\to 0} (\\frac{1}{2!} - \\frac{1}{4!} x^2 + H.O.T.)} \\\\\n",
    "&= \\frac{1}{\\frac{1}{2}} \\\\\n",
    "&= 2\n",
    "\\end{aligned}\n",
    "\\end{equation}\n",
    "$$"
   ]
  },
  {
   "cell_type": "markdown",
   "metadata": {},
   "source": [
    "### Verify with SymPy"
   ]
  },
  {
   "cell_type": "code",
   "execution_count": 13,
   "metadata": {},
   "outputs": [
    {
     "data": {
      "image/png": "[encoded data removed]",
      "text/latex": [
       "$$2$$"
      ],
      "text/plain": [
       "2"
      ]
     },
     "execution_count": 13,
     "metadata": {},
     "output_type": "execute_result"
    }
   ],
   "source": [
    "from sympy import exp\n",
    "\n",
    "limit((exp(x ** 2) - 1) / (1 - cos(x)), x, 0)"
   ]
  },
  {
   "cell_type": "markdown",
   "metadata": {},
   "source": [
    "### 10. $$\\lim_{x \\to 0} \\frac{\\ln (x + 1) \\arctan x}{x^2}$$"
   ]
  },
  {
   "cell_type": "markdown",
   "metadata": {},
   "source": [
    "### Solution\n",
    "\n",
    "$$\n",
    "\\begin{equation}\n",
    "\\begin{aligned}\n",
    "\\lim_{x \\to 0} \\frac{\\ln (x + 1) \\arctan x}{x^2} &= \\lim_{x \\to 0} \\frac{(x - \\frac{x^2}{2} + \\frac{x^3}{3} + H.O.T.) (x - \\frac{x^3}{3} + \\frac{x^5}{5} + H.O.T.)}{x^2} \\\\\n",
    "&= \\lim_{x \\to 0} ((1 - \\frac{x}{2} + \\frac{x^2}{3} + H.O.T.) (1 - \\frac{x^2}{3} + \\frac{x^4}{5} + H.O.T.)) \\\\\n",
    "&= \\lim_{x \\to 0} ((1 - \\frac{x}{2} + \\frac{x^2}{3} + H.O.T.)) (\\lim_{x \\to 0} (1 - \\frac{x^2}{3} + \\frac{x^4}{5} + H.O.T.)) \\\\\n",
    "&= 1 \\cdot 1 \\\\\n",
    "&= 1\n",
    "\\end{aligned}\n",
    "\\end{equation}\n",
    "$$"
   ]
  },
  {
   "cell_type": "markdown",
   "metadata": {},
   "source": [
    "### Verify with SymPy"
   ]
  },
  {
   "cell_type": "code",
   "execution_count": 16,
   "metadata": {},
   "outputs": [
    {
     "data": {
      "image/png": "[encoded data removed]",
      "text/latex": [
       "$$1$$"
      ],
      "text/plain": [
       "1"
      ]
     },
     "execution_count": 16,
     "metadata": {},
     "output_type": "execute_result"
    }
   ],
   "source": [
    "from sympy import ln, atan\n",
    "\n",
    "limit((ln(x + 1) * atan(x)) / (x ** 2), x, 0)"
   ]
  },
  {
   "cell_type": "code",
   "execution_count": null,
   "metadata": {},
   "outputs": [],
   "source": []
  }
 ],
 "metadata": {
  "kernelspec": {
   "display_name": "Python 3",
   "language": "python",
   "name": "python3"
  },
  "language_info": {
   "codemirror_mode": {
    "name": "ipython",
    "version": 3
   },
   "file_extension": ".py",
   "mimetype": "text/x-python",
   "name": "python",
   "nbconvert_exporter": "python",
   "pygments_lexer": "ipython3",
   "version": "3.7.0"
  }
 },
 "nbformat": 4,
 "nbformat_minor": 2
}
