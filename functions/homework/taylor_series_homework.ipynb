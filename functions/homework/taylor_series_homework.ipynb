{
 "cells": [
  {
   "cell_type": "code",
   "execution_count": 31,
   "metadata": {},
   "outputs": [],
   "source": [
    "from sympy import init_printing\n",
    "\n",
    "init_printing()"
   ]
  },
  {
   "cell_type": "markdown",
   "metadata": {},
   "source": [
    "## 1. Compute the Taylor Series about $ x = 0 $ of the polynomial $\\begin{equation}f(x) = x^4 + 4x^3 + x^2 + 3x + 6\\end{equation}$"
   ]
  },
  {
   "cell_type": "markdown",
   "metadata": {},
   "source": [
    "### Solution\n",
    "$\n",
    "\\begin{equation}\n",
    "\\begin{split}\n",
    "f(x) &= f(0) + \\frac{df}{dx}|_0 x + \\frac{1}{2!} \\frac{d^2f}{dx^2}|_0 x^2 + \\frac{1}{3!} \\frac{d^3f}{dx^3}|_0 x^3 + ... \\\\\n",
    "&= 6 + (4(0)^3 + 4 \\cdot 3 (0)^2 + 2(0) + 3) x + \\frac{1}{2!} (4 \\cdot 3 (0)^2 + 4 \\cdot 3 \\cdot 2 (0) + 2) x^2 + \\frac{1}{3!} (4 \\cdot 3 \\cdot 2 (0) + 4 \\cdot 3 \\cdot 2) x^3 +  \\frac{1}{4!} (4 \\cdot 3 \\cdot 2) 0 x^4 + ... \\\\\n",
    "&= 6 + 3x + x^2 + 4x^3 + x^4\n",
    "\\end{split}\n",
    "\\end{equation}\n",
    "$"
   ]
  },
  {
   "cell_type": "markdown",
   "metadata": {},
   "source": [
    "## 2. Compute the first three terms of the Taylor series about $ x = 0 $ of $\\begin{equation}f(x) = \\sqrt{1 + x}\\end{equation}$"
   ]
  },
  {
   "cell_type": "markdown",
   "metadata": {},
   "source": [
    "### Solution"
   ]
  },
  {
   "cell_type": "markdown",
   "metadata": {},
   "source": [
    "$\n",
    "\\begin{equation}\n",
    "\\begin{split}\n",
    "f(x) &= f(0) + \\frac{df}{dx}|_0 x + \\frac{1}{2!} \\frac{d^2f}{dx^2}|_0 x^2 + ... \\\\\n",
    "&= \\sqrt{1 + 0} + \\frac{1}{2} (\\sqrt{1 + 0})^{-\\frac{1}{2}} x - \\frac{1}{2!} \\frac{1}{4} (\\sqrt{1 + 0})^{-\\frac{3}{2}} x ^ 2 + ... \\\\\n",
    "&= 1 + \\frac{1}{2} x - \\frac{1}{8} x^2 + ...\n",
    "\\end{split}\n",
    "\\end{equation}\n",
    "$"
   ]
  },
  {
   "cell_type": "markdown",
   "metadata": {},
   "source": [
    "### Verify with Sympy"
   ]
  },
  {
   "cell_type": "code",
   "execution_count": 32,
   "metadata": {},
   "outputs": [
    {
     "data": {
      "image/png": "[encoded data removed]",
      "text/latex": [
       "$$1 + \\frac{x}{2} - \\frac{x^{2}}{8} + \\frac{x^{3}}{16} - \\frac{5 x^{4}}{128} + \\frac{7 x^{5}}{256} + O\\left(x^{6}\\right)$$"
      ],
      "text/plain": [
       "         2    3      4      5        \n",
       "    x   x    x    5⋅x    7⋅x     ⎛ 6⎞\n",
       "1 + ─ - ── + ── - ──── + ──── + O⎝x ⎠\n",
       "    2   8    16   128    256         "
      ]
     },
     "execution_count": 32,
     "metadata": {},
     "output_type": "execute_result"
    }
   ],
   "source": [
    "from sympy import symbols, sqrt\n",
    "\n",
    "x = symbols('x')\n",
    "\n",
    "sqrt(1 + x).series()"
   ]
  },
  {
   "cell_type": "markdown",
   "metadata": {},
   "source": [
    "## 3. Find the first four non-zero terms of the Taylor series about $ x = 0$ of $\\begin{equation}f(x) = (x + 2)^{-1}\\end{equation}$"
   ]
  },
  {
   "cell_type": "markdown",
   "metadata": {},
   "source": [
    "### Solution\n",
    "\n",
    "$\n",
    "\\begin{equation}\n",
    "\\begin{split}\n",
    "\\frac{df}{dx}(x) &= -1 (x + 2)^{-2} \\cdot 1 \\\\\n",
    "&= -1 (x + 2)^{-2}\n",
    "\\end{split}\n",
    "\\end{equation}\n",
    "$\n",
    "\n",
    "$\n",
    "\\begin{equation}\n",
    "\\begin{split}\n",
    "\\frac{d^2f}{dx^2}(x) &= \\frac{d}{dx} \\frac{df}{dx}(x) \\\\\n",
    "&= \\frac{d}{dx} (-1 (x + 2)^{-2}) \\\\\n",
    "&= 2 (x + 2)^{-3} \\cdot 1 \\\\\n",
    "&= 2 (x + 2)^{-3} \\\\\n",
    "\\end{split}\n",
    "\\end{equation}\n",
    "$\n",
    "\n",
    "$\n",
    "\\begin{equation}\n",
    "\\begin{split}\n",
    "\\frac{d^3f}{dx^3}(x) &= \\frac{d}{dx} \\frac{d^2f}{dx^2}(x) \\\\\n",
    "&= \\frac{d}{dx} (2 (x + 2)^{-3}) \\\\\n",
    "&= -6 (x + 2)^{-4} \\cdot 1 \\\\\n",
    "&= -6 (x + 2)^{-4}\n",
    "\\end{split}\n",
    "\\end{equation}\n",
    "$\n",
    "\n",
    "\n",
    "$\n",
    "\\begin{equation}\n",
    "\\begin{split}\n",
    "f(x) &= f(0) + \\frac{df}{dx}|_0 x + \\frac{1}{2!} \\frac{d^2f}{dx^2}|_0 x^2 + \\frac{1}{3!} \\frac{d^3f}{dx^3}|_0 x^3 + ... \\\\\n",
    "&= (0 + 2)^{-1} + (-1 (0 + 2)^{-2}) x + \\frac{1}{2!} (2 (0 + 2)^{-3}) x^2 + \\frac{1}{3!} (-6 (0 + 2)^{-4} x^3) + ... \\\\\n",
    "&= \\frac{1}{2} - \\frac{1}{4} x + \\frac{1}{8} x^2 - \\frac{1}{16} x^3 + ...\n",
    "\\end{split}\n",
    "\\end{equation}\n",
    "$\n"
   ]
  },
  {
   "cell_type": "markdown",
   "metadata": {},
   "source": [
    "### Verify with SymPy"
   ]
  },
  {
   "cell_type": "code",
   "execution_count": 33,
   "metadata": {},
   "outputs": [
    {
     "data": {
      "image/png": "[encoded data removed]",
      "text/latex": [
       "$$\\frac{1}{2} - \\frac{x}{4} + \\frac{x^{2}}{8} - \\frac{x^{3}}{16} + \\frac{x^{4}}{32} - \\frac{x^{5}}{64} + O\\left(x^{6}\\right)$$"
      ],
      "text/plain": [
       "         2    3    4    5        \n",
       "1   x   x    x    x    x     ⎛ 6⎞\n",
       "─ - ─ + ── - ── + ── - ── + O⎝x ⎠\n",
       "2   4   8    16   32   64        "
      ]
     },
     "execution_count": 33,
     "metadata": {},
     "output_type": "execute_result"
    }
   ],
   "source": [
    "((x + 2) ** (-1)).series()"
   ]
  },
  {
   "cell_type": "markdown",
   "metadata": {},
   "source": [
    "## 4. Compute the coefficient of the $x^3$ term in the Taylor series about $ x = 0 $ of $\\begin{equation}f(x) = e^{-2x}\\end{equation}$"
   ]
  },
  {
   "cell_type": "markdown",
   "metadata": {},
   "source": [
    "### Solution\n",
    "\n",
    "The $x^3$ term of $ f(x) $ will be\n",
    "\n",
    "\n",
    "$\n",
    "\\frac{1}{3!} \\frac{d^3f}{dx^3}|_0 x^3\n",
    "$\n",
    "\n",
    "\n",
    "$\n",
    "\\begin{equation}\n",
    "\\begin{split}\n",
    "\\frac{d^3f}{dx^3} &= \\frac{d^3e^{-2x}}{dx^3} \\\\\n",
    "&= \\frac{d}{dx} \\frac{d^2e^{-2x}}{dx^2} \\\\\n",
    "&= \\frac{d}{dx} \\frac{d}{dx} \\frac{de^{-2x}}{dx} \\\\\n",
    "&= \\frac{d}{dx} \\frac{d}{dx} (-2 e^{-2x}) \\\\\n",
    "&= \\frac{d}{dx} 4 e^{-2x} \\\\\n",
    "&= -8 e^{-2x}\n",
    "\\end{split}\n",
    "\\end{equation}\n",
    "$\n",
    "\n",
    "$\n",
    "\\begin{equation}\n",
    "\\begin{split}\n",
    "\\frac{1}{3!} \\frac{d^3f}{dx^3}|_0 x^3 &= \\frac{1}{3!} (-8 e^{-2 \\cdot 0}) x^3 \\\\\n",
    "&= \\frac{1}{3!} (-8) x^3 \\\\\n",
    "&= - \\frac{4}{3} x^3\n",
    "\\end{split}\n",
    "\\end{equation}\n",
    "$"
   ]
  },
  {
   "cell_type": "markdown",
   "metadata": {},
   "source": [
    "### Verify with SymPy"
   ]
  },
  {
   "cell_type": "code",
   "execution_count": 34,
   "metadata": {},
   "outputs": [
    {
     "data": {
      "image/png": "[encoded data removed]",
      "text/latex": [
       "$$1 - 2 x + 2 x^{2} - \\frac{4 x^{3}}{3} + \\frac{2 x^{4}}{3} - \\frac{4 x^{5}}{15} + O\\left(x^{6}\\right)$$"
      ],
      "text/plain": [
       "                    3      4      5        \n",
       "             2   4⋅x    2⋅x    4⋅x     ⎛ 6⎞\n",
       "1 - 2⋅x + 2⋅x  - ──── + ──── - ──── + O⎝x ⎠\n",
       "                  3      3      15         "
      ]
     },
     "execution_count": 34,
     "metadata": {},
     "output_type": "execute_result"
    }
   ],
   "source": [
    "from sympy.functions.elementary.exponential import exp\n",
    "\n",
    "exp(-2 * x).series()"
   ]
  },
  {
   "cell_type": "markdown",
   "metadata": {},
   "source": [
    "### 5. Compute the Taylor series about $ x = 0 $ of $\\begin{equation}f(x) = \\frac{1}{1 - x}\\end{equation}$"
   ]
  },
  {
   "cell_type": "markdown",
   "metadata": {},
   "source": [
    "$\n",
    "\\begin{equation}\n",
    "\\begin{split}\n",
    "\\frac{d}{dx} f(x) &= \\frac{d}{dx} \\frac{1}{1 - x} \\\\\n",
    "&= -1(1 - x)^{-2} \\cdot (-1)\\\\\n",
    "&= (1 - x)^{-2}\n",
    "\\end{split}\n",
    "\\end{equation}\n",
    "$\n",
    "\n",
    "$\n",
    "\\begin{equation}\n",
    "\\begin{split}\n",
    "\\frac{d^2}{dx^2} f(x) &= \\frac{d}{dx} \\frac{d}{dx} f(x) \\\\\n",
    "&= \\frac{d}{dx} (1-x)^{-2} \\\\\n",
    "&= -2 (1 - x)^{-3} \\cdot (-1) \\\\\n",
    "&= 2 (1 - x)^{-3} \\\\\n",
    "\\end{split}\n",
    "\\end{equation}\n",
    "$\n",
    "\n",
    "$\n",
    "\\begin{equation}\n",
    "\\begin{split}\n",
    "\\frac{d^3}{dx^3} f(x) &= \\frac{d}{dx} \\frac{d^2}{dx^2} f(x) \\\\\n",
    "&= \\frac{d}{dx} 2 (1 - x)^{-3} \\\\\n",
    "&= 2 \\cdot (-3) (1 - x)^{-4} \\cdot (-1) \\\\\n",
    "&= 6 (1 - x)^{-4}\n",
    "\\end{split}\n",
    "\\end{equation}\n",
    "$\n",
    "\n",
    "\n",
    "$\n",
    "\\begin{equation}\n",
    "\\begin{split}\n",
    "f(x) &= f(0) + \\frac{df}{dx}|_0 x + \\frac{1}{2!} \\frac{d^2f}{dx^2}|_0 x^2 + \\frac{1}{3!} \\frac{d^3f}{dx^3}|_0 x^3 + ... \\\\\n",
    "&= \\frac{1}{1 - 0} + (1 - 0)^{-2} x + \\frac{1}{2!} 2 (1 - 0)^{-3} x^2 + \\frac{1}{3!} 6 (1 - 0)^{-4} x^3 + ... \\\\\n",
    "&= 1 + x + x^2 + x^3 + ...\n",
    "\\end{split}\n",
    "\\end{equation}\n",
    "$"
   ]
  },
  {
   "cell_type": "markdown",
   "metadata": {},
   "source": [
    "### Verify with SymPy"
   ]
  },
  {
   "cell_type": "code",
   "execution_count": 35,
   "metadata": {},
   "outputs": [
    {
     "data": {
      "image/png": "[encoded data removed]",
      "text/latex": [
       "$$1 + x + x^{2} + x^{3} + x^{4} + x^{5} + O\\left(x^{6}\\right)$$"
      ],
      "text/plain": [
       "         2    3    4    5    ⎛ 6⎞\n",
       "1 + x + x  + x  + x  + x  + O⎝x ⎠"
      ]
     },
     "execution_count": 35,
     "metadata": {},
     "output_type": "execute_result"
    }
   ],
   "source": [
    "(1 / (1 - x)).series()"
   ]
  },
  {
   "cell_type": "markdown",
   "metadata": {},
   "source": [
    "## 6. What is the derivative of the Bessel function $J_0(x)$ at $ x = 0 $? Remember that $J_0(x)$ is defined through its Taylor series about $x = 0$:\n",
    "\n",
    "$\n",
    "\\begin{equation}\n",
    "J_0(x) = \\sum_{k=0}^{\\infty} (-1)^k \\frac{x^{2k}}{2^{2k}(k!)^2}\n",
    "\\end{equation}\n",
    "$"
   ]
  },
  {
   "cell_type": "markdown",
   "metadata": {},
   "source": [
    "### Solution\n",
    "\n",
    "$\n",
    "\\begin{equation}\n",
    "\\begin{split}\n",
    "\\frac{d{J_0}}{dx} (x) &= \\frac{d}{dx} \\sum_{k=0}^{\\infty} (-1)^k \\frac{x^{2k}}{2^{2k}(k!)^2} \\\\\n",
    "&= \\sum_{k=0}^{\\infty} \\frac{d}{dx} (-1)^k \\frac{x^{2k}}{2^{2k}(k!)^2} \\\\\n",
    "&= \\sum_{k=0}^{\\infty} k (-1)^{(k - 1)} 2k \\frac{x^{2k - 1}}{2^{2k}(k!)^2} \\\\\n",
    "&= \\sum_{k=0}^{\\infty} (-1)^{(k - 1)} 2 k^2 \\frac{x^{2k - 1}}{2^{2k}(k!)^2} \\\\\n",
    "&= \\sum_{k=0}^{\\infty} (-1)^{(k - 1)} \\frac{x^{2k - 1}}{2^{2k - 1} (k - 1)^2!}\n",
    "\\end{split}\n",
    "\\end{equation}\n",
    "$\n",
    "\n",
    "$\n",
    "\\begin{equation}\n",
    "\\begin{split}\n",
    "\\frac{d{J_0}}{dx} (x) |_ {x = 0} = \\sum_{k=0}^{\\infty} (-1)^{(k - 1)} \\frac{0^{2k - 1}}{2^{2k - 1} (k - 1)^2!}\n",
    "\\end{split}\n",
    "\\end{equation}\n",
    "$"
   ]
  },
  {
   "cell_type": "markdown",
   "metadata": {},
   "source": [
    "### Verify with SymPy"
   ]
  },
  {
   "cell_type": "code",
   "execution_count": 41,
   "metadata": {},
   "outputs": [
    {
     "data": {
      "image/png": "[encoded data removed]",
      "text/latex": [
       "$$0$$"
      ],
      "text/plain": [
       "0"
      ]
     },
     "execution_count": 41,
     "metadata": {},
     "output_type": "execute_result"
    }
   ],
   "source": [
    "from sympy import besselj, diff\n",
    "\n",
    "j_0 = besselj(0, x)\n",
    "diff(j_0, x).subs(x, 0)"
   ]
  },
  {
   "cell_type": "code",
   "execution_count": null,
   "metadata": {},
   "outputs": [],
   "source": []
  }
 ],
 "metadata": {
  "kernelspec": {
   "display_name": "Python 3",
   "language": "python",
   "name": "python3"
  },
  "language_info": {
   "codemirror_mode": {
    "name": "ipython",
    "version": 3
   },
   "file_extension": ".py",
   "mimetype": "text/x-python",
   "name": "python",
   "nbconvert_exporter": "python",
   "pygments_lexer": "ipython3",
   "version": "3.7.0"
  }
 },
 "nbformat": 4,
 "nbformat_minor": 2
}
