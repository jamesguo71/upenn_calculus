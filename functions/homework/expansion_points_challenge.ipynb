{
 "cells": [
  {
   "cell_type": "markdown",
   "metadata": {},
   "source": [
    "## 1. \n",
    "\n",
    "We know that $\\frac{1}{x}$ does not have a Taylor series expansion about $x = 1$, since the function blows up at that point. But we can find a Taylor series about the point $x = 1$. The obvious strategy is to calculate, using induction, all the derivatives of $\\frac{1}{x}$ at $x = 1$. A more interesting approach (and one that will be useful in cases in which computing derivatives would be too burdensome) is to use what we know about Taylor series about the origin: write $x = 1 + h$ and expand $\\frac{1}{x}$ in a polynomial series on $h$. Remember to substitute $h$ in terms of $x$ at the end. What is the resulting series and for which values of $x$ does it converge to the function?"
   ]
  },
  {
   "cell_type": "markdown",
   "metadata": {},
   "source": [
    "### Solution\n",
    "\n",
    "Let $h = x - 1$. Then we have\n",
    "\n",
    "$\n",
    "\\begin{equation}\n",
    "\\frac{1}{x} = \\frac{1}{h + 1}\n",
    "\\end{equation}\n",
    "$\n",
    "\n",
    "For $|h| < 1$ the Taylor series expansion of $\\frac{1}{h + 1}$ hence at $h = 0$ will be\n",
    "\n",
    "$\n",
    "\\begin{equation}\n",
    "\\begin{split}\n",
    "\\frac{1}{h + 1} &= \\frac{1}{1 - (-h)} \\\\\n",
    "&= 1 - h + h^2 - h^3 + ... \\\\\n",
    "&= \\sum_{k=0}^{\\infty} (-1)^k h^k\n",
    "\\end{split}\n",
    "\\end{equation}\n",
    "$\n",
    "\n",
    "Substitute $h$ back by $x - 1$, we have for $|x - 1| < 1$, hence for $0 < x 2$, we have\n",
    "\n",
    "$\n",
    "\\begin{equation}\n",
    "\\begin{split}\n",
    "\\frac{1}{x} &= \\frac{1}{h + 1} \\\\\n",
    "&= \\sum_{k=0}^{\\infty} (-1)^k (h)^k \\\\\n",
    "&= \\sum_{k=0}^{\\infty} (-1)^k (x -1)^k\n",
    "\\end{split}\n",
    "\\end{equation}\n",
    "$"
   ]
  },
  {
   "cell_type": "markdown",
   "metadata": {},
   "source": [
    "### Verify with SymPy"
   ]
  },
  {
   "cell_type": "code",
   "execution_count": 3,
   "metadata": {},
   "outputs": [
    {
     "data": {
      "image/png": "[encoded data removed]",
      "text/latex": [
       "$$2 + \\left(x - 1\\right)^{2} - \\left(x - 1\\right)^{3} + \\left(x - 1\\right)^{4} - \\left(x - 1\\right)^{5} - x + O\\left(\\left(x - 1\\right)^{6}; x\\rightarrow 1\\right)$$"
      ],
      "text/plain": [
       "           2          3          4          5        ⎛       6       ⎞\n",
       "2 + (x - 1)  - (x - 1)  + (x - 1)  - (x - 1)  - x + O⎝(x - 1) ; x → 1⎠"
      ]
     },
     "execution_count": 3,
     "metadata": {},
     "output_type": "execute_result"
    }
   ],
   "source": [
    "from sympy import symbols, init_printing\n",
    "\n",
    "init_printing()\n",
    "\n",
    "x = symbols('x')\n",
    "\n",
    "(1 / x).series(x0=1)"
   ]
  },
  {
   "cell_type": "markdown",
   "metadata": {},
   "source": [
    "## 2.\n",
    "\n",
    "Which of the following is the Taylor series expansion about $x = 2$ of the function $f(x) = \\frac{1}{1 - x^2}$? For which values of $x$ does the series converge to the function? \n",
    "\n",
    "Hint: start by factoring the denominator, and then use the strategy in the previous problem, this time with $h = x - 2$."
   ]
  },
  {
   "cell_type": "markdown",
   "metadata": {},
   "source": [
    "### Solution\n",
    "\n",
    "Let $h = x - 2$. Then we have\n",
    "\n",
    "$\n",
    "\\begin{equation}\n",
    "\\begin{split}\n",
    "f(x) &= \\frac{1}{1 - x^2} \\\\\n",
    "&= \\frac{1}{(1 + x)(1 - x)} \\\\\n",
    "&= \\frac{1}{(1 + 2 + (x - 2))(1 - 2 - (x - 2))} \\\\\n",
    "&= \\frac{1}{(3 + h)(-1 - h)} \\\\\n",
    "&= \\frac{1}{-3 - h  -3h - h^2} \\\\\n",
    "&= \\frac{1}{-3 -4h - h^2} \\\\\n",
    "&= - \\frac{1}{3} (\\frac{1}{1 + (\\frac{4}{3}h + \\frac{1}{3}h^2)}) \\\\\n",
    "&= - \\frac{1}{3} (\\frac{1}{1 - (- \\frac{4}{3}h - \\frac{1}{3}h^2)})\n",
    "\\end{split}\n",
    "\\end{equation}\n",
    "$\n",
    "\n",
    "For $|-\\frac{4}{3}h - \\frac{1}{3}h^2| < 1$, hence for $|4h + h^2| < 3$, we have\n",
    "\n",
    "$\n",
    "\\begin{equation}\n",
    "\\begin{split}\n",
    "- \\frac{1}{3} (\\frac{1}{1 - (- \\frac{4}{3}h - \\frac{1}{3}h^2)}) &= - \\frac{1}{3} (1 + (- \\frac{4}{3}h - \\frac{1}{3}h^2) + (- \\frac{4}{3}h - \\frac{1}{3}h^2)^2 + H.O.T.) \\\\\n",
    "&= - \\frac{1}{3} + (- \\frac{1}{3}) (- \\frac{4}{3}h - \\frac{1}{3}h^2) + (- \\frac{1}{3}) (- \\frac{4}{3}h - \\frac{1}{3}h^2)^2 + H.O.T. \\\\\n",
    "&= - \\frac{1}{3} + \\frac{4}{9} h + \\frac{1}{9}h^2 - \\frac{1}{3}(\\frac{16}{9}h^2 + H.O.T.) + H.O.T. \\\\\n",
    "&= - \\frac{1}{3} + \\frac{4}{9} h + (\\frac{1}{9} - \\frac{16}{27}) h^2 + H.O.T. \\\\\n",
    "&= - \\frac{1}{3} + \\frac{4}{9} h - \\frac{13}{27} h^2 + H.O.T.\n",
    "\\end{split}\n",
    "\\end{equation}\n",
    "$\n",
    "\n",
    "Substitute $h$ back by $x - 2$, for $|4(x - 2) + (x - 2)^2| < 3$, hence for $\\sqrt{7}< x < -1$ or $1 < x < \\sqrt{7}$ we have\n",
    "\n",
    "$\n",
    "\\begin{equation}\n",
    "\\begin{split}\n",
    "f(x) &= \\frac{1}{1 - x^2} \\\\\n",
    "&= - \\frac{1}{3} + \\frac{4}{9} (x - 2) - \\frac{13}{27}(x - 2)^2 + H.O.T.\n",
    "\\end{split}\n",
    "\\end{equation}\n",
    "$"
   ]
  },
  {
   "cell_type": "markdown",
   "metadata": {},
   "source": [
    "### Verify with Sympy"
   ]
  },
  {
   "cell_type": "code",
   "execution_count": 5,
   "metadata": {},
   "outputs": [
    {
     "data": {
      "image/png": "[encoded data removed]",
      "text/latex": [
       "$$- \\frac{11}{9} - \\frac{13 \\left(x - 2\\right)^{2}}{27} + \\frac{40 \\left(x - 2\\right)^{3}}{81} - \\frac{121 \\left(x - 2\\right)^{4}}{243} + \\frac{364 \\left(x - 2\\right)^{5}}{729} + \\frac{4 x}{9} + O\\left(\\left(x - 2\\right)^{6}; x\\rightarrow 2\\right)$$"
      ],
      "text/plain": [
       "                 2             3              4              5                \n",
       "  11   13⋅(x - 2)    40⋅(x - 2)    121⋅(x - 2)    364⋅(x - 2)    4⋅x    ⎛     \n",
       "- ── - ─────────── + ─────────── - ──────────── + ──────────── + ─── + O⎝(x - \n",
       "  9         27            81           243            729         9           \n",
       "\n",
       "           \n",
       "  6       ⎞\n",
       "2) ; x → 2⎠\n",
       "           "
      ]
     },
     "execution_count": 5,
     "metadata": {},
     "output_type": "execute_result"
    }
   ],
   "source": [
    "(1 / (1 - x ** 2)).series(x0=2)"
   ]
  },
  {
   "cell_type": "markdown",
   "metadata": {},
   "source": [
    "## 3.\n",
    "\n",
    "Compute the Taylor series expansion about $x = -2$ of the function $f(x) = \\frac{-1}{x^2 + 4x + 3}$. For which values of xx does the series converge to the function?\n",
    "\n",
    "Hint: try completing the square in the denominator."
   ]
  },
  {
   "cell_type": "markdown",
   "metadata": {},
   "source": [
    "### Solution\n",
    "\n",
    "$\n",
    "\\begin{equation}\n",
    "\\begin{split}\n",
    "f(x) &= \\frac{-1}{x^2 + 4x + 3} \\\\\n",
    "&= \\frac{-1}{x^2 + 4x + 4 - 1} \\\\\n",
    "&= \\frac{1}{1 - (x + 2)^2}\n",
    "\\end{split}\n",
    "\\end{equation}\n",
    "$\n",
    "\n",
    "Let $h = x + 2$, we have\n",
    "\n",
    "$\n",
    "\\begin{equation}\n",
    "\\frac{1}{1 - (x + 2)^2} = \\frac{1}{1 - h^2}\n",
    "\\end{equation}\n",
    "$\n",
    "\n",
    "For $|h^2| < 1$, hence, for $|h| < 1$, we have\n",
    "\n",
    "$\n",
    "\\begin{equation}\n",
    "\\frac{1}{1 - h^2} = \\sum_{k=0}^{\\infty} h^{2k} \\\\\n",
    "\\end{equation}\n",
    "$\n",
    "\n",
    "Substitute $h$ back by $x + 2$, for $|x + 2| < 1$, hence for $-3 < x < -1$ we have\n",
    "\n",
    "$\n",
    "\\begin{equation}\n",
    "\\begin{split}\n",
    "f(x) &= \\frac{-1}{x^2 + 4x + 3} \\\\\n",
    "&= \\sum_{k=0}^{\\infty} h^{2k} \\\\\n",
    "&= \\sum_{k=0}^{\\infty} (x + 2)^{2k}\n",
    "\\end{split}\n",
    "\\end{equation}\n",
    "$\n"
   ]
  },
  {
   "cell_type": "markdown",
   "metadata": {},
   "source": [
    "### Verify with Sympy"
   ]
  },
  {
   "cell_type": "code",
   "execution_count": 8,
   "metadata": {},
   "outputs": [
    {
     "data": {
      "image/png": "[encoded data removed]",
      "text/latex": [
       "$$1 + \\left(x + 2\\right)^{2} + \\left(x + 2\\right)^{4} + O\\left(\\left(x + 2\\right)^{6}; x\\rightarrow -2\\right)$$"
      ],
      "text/plain": [
       "           2          4    ⎛       6        ⎞\n",
       "1 + (x + 2)  + (x + 2)  + O⎝(x + 2) ; x → -2⎠"
      ]
     },
     "execution_count": 8,
     "metadata": {},
     "output_type": "execute_result"
    }
   ],
   "source": [
    "(-1 / (x ** 2 + 4 * x + 3)).series(x0=-2)"
   ]
  },
  {
   "cell_type": "markdown",
   "metadata": {},
   "source": [
    "## 4.\n",
    "\n",
    "What would it mean to Taylor-expand a function $f(x)$ about $+\\infty$? Well, trying to take derivatives at infinity and using them as coefficients for terms of the form $(x - \\infty)^k$ seems... wrong. Let's try the following instead. If $\\lim_{x \\to \\infty} f(x) = L$, is finite, then, clearly the 'zeroth order term' in the expansion should be $L$. What next? Let $z = \\frac{1}{x}$. Then $x \\to +\\infty$ is equivalent with $z \\to 0^{+}$. Try Taylor-expanding $f(z)$ about $z = 0$. When you are done, substitute in $x = \\frac{1}{z}$ and you will obtain higher order terms in a series for $f(x)$ that is a good approximation as $x \\to +\\infty$. It is not quite a Taylor series... but it can be useful!\n",
    "\n",
    "Using this method, determine which of the following is the best approximation for $\\arctan x$ as $x \\to +\\infty$?\n",
    "\n",
    "Hint: begin with the limit as $x \\to +\\infty$ and the known Taylor expansion for $\\arctan$ about zero."
   ]
  },
  {
   "cell_type": "markdown",
   "metadata": {},
   "source": [
    "### Solution\n",
    "\n",
    "We know\n",
    "\n",
    "$\n",
    "\\begin{equation}\n",
    "\\lim_{x \\to \\infty} \\arctan x = \\frac{\\pi}{2}\n",
    "\\end{equation}\n",
    "$\n",
    "\n",
    "Hence the Taylor series of $\\arctan x$ about $x \\to +\\infty$ will be\n",
    "\n",
    "$\n",
    "\\begin{equation}\n",
    "\\arctan x = \\frac{\\pi}{2} + H.O.T.\n",
    "\\end{equation}\n",
    "$\n",
    "\n",
    "Then let $z = \\frac{1}{x}$. Then $x \\to +\\infty$ is equivalent with $z \\to 0^+$.\n",
    "\n",
    "For $|\\frac{1}{z}| < 1$, hence for $|z| > 1$ the Taylor series of $\\arctan z$ about $z = 0$ is\n",
    "\n",
    "$\n",
    "\\begin{equation}\n",
    "\\arctan z = z  -\\frac{1}{3} z^3 + \\frac{1}{5} z^5 + H.O.T.\n",
    "\\end{equation}\n",
    "$\n",
    "\n",
    "By substituting back $z$ by $\\frac{1}{x}$, the Taylor series of $\\arctan x$ about $x \\to +\\infty$ is\n",
    "\n",
    "$\n",
    "\\begin{equation}\n",
    "\\begin{split}\n",
    "\\arctan x =& \\frac{\\pi}{2} - (\\frac{1}{x} - \\frac{1}{3} \\frac{1}{x^3} + \\frac{1}{5} \\frac{1}{x^5} + H.O.T.) \\\\\n",
    "&= \\frac{\\pi}{2} - \\frac{1}{x} + \\frac{1}{3x^3} - \\frac{1}{5x^5} + H.O.T.\n",
    "\\end{split}\n",
    "\\end{equation}\n",
    "$"
   ]
  },
  {
   "cell_type": "code",
   "execution_count": 13,
   "metadata": {},
   "outputs": [
    {
     "data": {
      "image/png": "[encoded data removed]",
      "text/latex": [
       "$$\\frac{\\pi}{2}$$"
      ],
      "text/plain": [
       "π\n",
       "─\n",
       "2"
      ]
     },
     "execution_count": 13,
     "metadata": {},
     "output_type": "execute_result"
    }
   ],
   "source": [
    "from sympy import atan, limit, oo\n",
    "\n",
    "limit(atan(x), x, oo)"
   ]
  },
  {
   "cell_type": "markdown",
   "metadata": {},
   "source": [
    "### Verify with SymPy"
   ]
  },
  {
   "cell_type": "code",
   "execution_count": 14,
   "metadata": {},
   "outputs": [
    {
     "data": {
      "image/png": "[encoded data removed]",
      "text/latex": [
       "$$- \\frac{1}{5 x^{5}} + \\frac{1}{3 x^{3}} - \\frac{1}{x} + \\frac{\\pi}{2} + O\\left(\\frac{1}{x^{6}}; x\\rightarrow \\infty\\right)$$"
      ],
      "text/plain": [
       "   1      1     1   π    ⎛1        ⎞\n",
       "- ──── + ──── - ─ + ─ + O⎜──; x → ∞⎟\n",
       "     5      3   x   2    ⎜ 6       ⎟\n",
       "  5⋅x    3⋅x             ⎝x        ⎠"
      ]
     },
     "execution_count": 14,
     "metadata": {},
     "output_type": "execute_result"
    }
   ],
   "source": [
    "atan(x).series(x0=oo)"
   ]
  },
  {
   "cell_type": "code",
   "execution_count": null,
   "metadata": {},
   "outputs": [],
   "source": []
  }
 ],
 "metadata": {
  "kernelspec": {
   "display_name": "Python 3",
   "language": "python",
   "name": "python3"
  },
  "language_info": {
   "codemirror_mode": {
    "name": "ipython",
    "version": 3
   },
   "file_extension": ".py",
   "mimetype": "text/x-python",
   "name": "python",
   "nbconvert_exporter": "python",
   "pygments_lexer": "ipython3",
   "version": "3.7.0"
  }
 },
 "nbformat": 4,
 "nbformat_minor": 2
}
