{
 "cells": [
  {
   "cell_type": "markdown",
   "metadata": {},
   "source": [
    "## 1. There are numerous rules for big-$O$ manipulations, including:\n",
    "- $O(f(x)) + O(g(x)) = O(f(x) + g(x))$\n",
    "- $O(f(x)) \\cdot O(g(x)) = O(f(x) \\cdot g(x))$\n",
    "\n",
    "In the above, $f$ and $g$ are positive (or take absolute values) and $x \\to +\\infty$.\n",
    "\n",
    "Using these rules and some algebra, which of the following is the best answer to what is:\n",
    "\n",
    "$$\n",
    "O(\\frac{5}{x}) + O(\\frac{\\ln(x^2)}{4 x})\n",
    "$$"
   ]
  },
  {
   "cell_type": "markdown",
   "metadata": {},
   "source": [
    "### Solution\n",
    "\n",
    "$$\n",
    "\\begin{equation}\n",
    "\\begin{aligned}{}\n",
    "O(\\frac{5}{x}) + O(\\frac{\\ln(x^2)}{4 x}) &= O(\\frac{5}{x} + \\frac{\\ln(x^2)}{4 x}) \\\\\n",
    "&= O(\\frac{20 + \\ln(x^2)}{4 x}) \\\\\n",
    "&= O(\\frac{\\ln(x^2)}{x}) & \\text{as $x \\to +\\infty$} \\\\\n",
    "&= O(2 \\frac{\\ln(x)}{x}) \\\\\n",
    "&= O(\\frac{\\ln(x)}{x})\n",
    "\\end{aligned}\n",
    "\\end{equation}\n",
    "$$."
   ]
  },
  {
   "cell_type": "code",
   "execution_count": 1,
   "metadata": {},
   "outputs": [
    {
     "data": {
      "image/png": "[encoded data removed]",
      "text/latex": [
       "$$O\\left(\\frac{\\log{\\left (x^{2} \\right )}}{x}; x\\rightarrow \\infty\\right)$$"
      ],
      "text/plain": [
       " ⎛   ⎛ 2⎞       ⎞\n",
       " ⎜log⎝x ⎠       ⎟\n",
       "O⎜───────; x → ∞⎟\n",
       " ⎝   x          ⎠"
      ]
     },
     "execution_count": 1,
     "metadata": {},
     "output_type": "execute_result"
    }
   ],
   "source": [
    "## Verify with SymPy\n",
    "\n",
    "from sympy import O, oo, init_printing, symbols, ln\n",
    "\n",
    "init_printing()\n",
    "\n",
    "x = symbols('x')\n",
    "\n",
    "O(5 / x, (x, oo)) + O(ln(x **2) / (4 * x), (x, oo))"
   ]
  },
  {
   "cell_type": "markdown",
   "metadata": {},
   "source": [
    "## 2. [very hard] For which constants $\\lambda$ is it true that any polynomial $P(x)$ is in $$\n",
    "O(e^{(\\ln x)^{\\lambda}})\n",
    "$$ as $x \\to +\\infty$"
   ]
  },
  {
   "cell_type": "markdown",
   "metadata": {},
   "source": [
    "### Solution\n",
    "\n",
    "Without loss of generality, let $P(x) = \\Phi x^n + O(x^{n - 1})$, where $\\Phi$ can be any real number $> 0$, and $n$ can be any integer $\\geq 1$.\n",
    "\n",
    "For $P(x)$ to be in $O(e^{(\\ln x)^{\\lambda}})$, the following statement needs to hold:\n",
    "\n",
    "> There exist a positive constant C, such that $$\n",
    "\\Phi x^n + O(x^{n - 1}) < C e^{(\\ln x)^\\lambda}\n",
    "$$\n",
    "\n",
    "Hence $$\n",
    "\\lim_{x \\to \\infty} \\frac{x^n + O(x^{n - 1})}{C e^{(\\ln x)^\\lambda}} \\leq B\n",
    "$$ where $B$ is a constant, needs to hold.\n",
    "\n",
    "We know that \n",
    "\n",
    "$$\n",
    "\\begin{equation}\n",
    "\\begin{aligned}{}\n",
    "\\lim_{x \\to \\infty} \\frac{\\Phi x^n + O(x^{n - 1})}{C e^{(\\ln x)^\\lambda}} &= \\frac{\\Phi x^n + O(x^{n - 1})}{C e^{(\\ln x) (\\ln x)^{\\lambda - 1}}} \\\\\n",
    "&= \\lim_{x \\to \\infty} \\frac{\\Phi x^n + O(x^{n - 1})}{C (e^{\\ln x})^{(\\ln x)^{\\lambda - 1}}} \\\\\n",
    "&= \\lim_{x \\to \\infty} \\frac{\\Phi x^n + O(x^{n - 1})}{C x^{(\\ln x)^{\\lambda - 1}}} \\\\\n",
    "&= \\lim_{x \\to \\infty} \\frac{O(1)}{C x^{(\\ln x)^{\\lambda - 1} - n}}\n",
    "\\end{aligned}\n",
    "\\end{equation}\n",
    "$$.\n",
    "\n",
    "Hence $$\n",
    "\\begin{equation}\n",
    "\\lim_{x \\to \\infty} x^{(\\ln x)^{\\lambda - 1} - n} \\neq 0\n",
    "\\end{equation}\n",
    "$$ needs to hold for any $n > 1$.\n",
    "\n",
    "Hence\n",
    "\n",
    "$$\n",
    "\\begin{equation}\n",
    "\\lim_{x \\to \\infty} ((\\ln x)^{\\lambda - 1} - n) \\geq 0\n",
    "\\end{equation}\n",
    "$$ and $$\n",
    "\\begin{equation}\n",
    "\\lim_{x \\to \\infty} (\\ln x)^{\\lambda - 1} \\geq n\n",
    "\\end{equation}\n",
    "$$\n",
    "\n",
    "need to hold for any $n > 1$.\n",
    "\n",
    "Hence $$\n",
    "\\begin{equation}\n",
    "\\lim_{x \\to \\infty} (\\ln x)^{\\lambda - 1} = \\infty\n",
    "\\end{equation}\n",
    "$$ needs to hold.\n",
    "\n",
    "Hence $\\lambda > 1$."
   ]
  },
  {
   "cell_type": "markdown",
   "metadata": {},
   "source": [
    "## 3. Here are a few more tricky rules for simplifying big-$O$ expressions: these hold in the limit where $g(x)$ is a positive function going to zero.\n",
    "\n",
    "- $\\frac{1}{1 + O(g(x))} = 1 + O(g(x))$\n",
    "- $(1 + O(g(x)))^\\alpha = 1 + O(g(x))$\n",
    "- $\\ln(1 + O(g(x))) = O(g(x))$\n",
    "- $e^{O(g(x))} = 1 + O(g(x))$\n",
    "\n",
    "Can you see why these formulae make sense? Using these, tell me which of the following are in $O(x)$ as $x \\to \\infty$. Select all that apply.\n",
    "\n",
    "(I've been a little sloppy about using absolute values and enforcing that $x \\to 0^+$ is a limit from the right, but don't worry about that too much...)"
   ]
  },
  {
   "cell_type": "markdown",
   "metadata": {},
   "source": [
    "### Solutions\n",
    "\n",
    "> Can you see why these formulae make sense?\n",
    "\n",
    "As $x \\to 0$\n",
    "- $\\frac{1}{1 + O(g(x))} = 1 + O(g(x))$: Geometric series expansion\n",
    "- $(1 + O(g(x)))^\\alpha = 1 + O(g(x))$: Binomial series expansion\n",
    "- $\\ln(1 + O(g(x))) = O(g(x))$: Taylor's series expansion of $\\ln(1 + x)$\n",
    "- $e^{O(g(x))} = 1 + O(g(x))$: Taylor's series expansion of $e^x$\n",
    "\n",
    "\n",
    "#### $e^{\\sin(x) \\cos(x)}$\n",
    "\n",
    "We know that\n",
    "\n",
    "$$\n",
    "\\begin{equation}\n",
    "\\begin{aligned}{}\n",
    "e^{\\sin(x) \\cos(x)} &= 1 + O(\\sin(x) \\cos(x)) \\\\\n",
    "&= O(1)\n",
    "\\end{aligned}\n",
    "\\end{equation}\n",
    "$$ which is in $O(x)$ as $x \\to 0$.\n",
    "\n",
    "#### $\\frac{x^2}{1 + \\sin x}$\n",
    "\n",
    "$$\n",
    "\\begin{equation}\n",
    "\\begin{aligned}{}\n",
    "\\frac{x^2}{1 + \\sin x} &= x^2 \\frac{1}{1 + \\sin x} \\\\\n",
    "&= x^2 (1 + O(\\sin x)) \\\\\n",
    "&= x^2 + O(x \\sin x)\n",
    "\\end{aligned}\n",
    "\\end{equation}\n",
    "$$ which is not in $O(x)$ as $x \\to 0$.\n",
    "\n",
    "#### $\\ln(1 + \\frac{1 - \\cos x}{1 - e^{x}})$\n",
    "\n",
    "$$\n",
    "\\begin{equation}\n",
    "\\begin{aligned}{}\n",
    "\\lim_{x \\to 0} \\frac{1 - \\cos x}{1 - e^{x}} &= 0\n",
    "\\end{aligned}\n",
    "\\end{equation}\n",
    "$$.\n",
    "\n",
    "Hence $$\n",
    "\\begin{equation}\n",
    "\\begin{aligned}{}\n",
    "\\ln(1 + \\frac{1 - \\cos x}{1 - e^{x}}) &= O(\\frac{1 - \\cos x}{1 - e^{x}})\n",
    "\\end{aligned}\n",
    "\\end{equation}\n",
    "$$ as $x \\to 0$.\n",
    "\n",
    "And $$\n",
    "\\begin{equation}\n",
    "\\begin{aligned}{}\n",
    "\\lim_{x \\to 0} \\frac{\\frac{1 - \\cos x}{1 - e^{x}}}{x} &= \\lim_{x \\to 0} \\frac{1 - \\cos x}{x} \\frac{1}{1 - e^{x}} \\\\\n",
    "&= 1\n",
    "\\end{aligned}\n",
    "\\end{equation}\n",
    "$$.\n",
    "\n",
    "Hence $O(\\frac{1 - \\cos x}{1 - e^{x}})$ is in $O(x)$. Hence $\\ln(1 + \\frac{1 - \\cos x}{1 - e^{x}})$ is in $O(x)$.\n",
    "\n",
    "#### $\\sqrt{1 + \\arctan x}$\n",
    "\n",
    "$$\n",
    "\\begin{equation}\n",
    "\\begin{aligned}{}\n",
    "\\sqrt{1 + \\arctan x} &= (1 + \\arctan x)^{\\frac{1}{2}} \\\\\n",
    "&= 1 + O(\\arctan x) \\\\\n",
    "&= O(1)\n",
    "\\end{aligned}\n",
    "\\end{equation}\n",
    "$$ which is not in $O(x)$ as $x \\to 0$."
   ]
  },
  {
   "cell_type": "code",
   "execution_count": null,
   "metadata": {},
   "outputs": [],
   "source": []
  },
  {
   "cell_type": "code",
   "execution_count": null,
   "metadata": {},
   "outputs": [],
   "source": []
  },
  {
   "cell_type": "code",
   "execution_count": null,
   "metadata": {},
   "outputs": [],
   "source": []
  },
  {
   "cell_type": "code",
   "execution_count": null,
   "metadata": {},
   "outputs": [],
   "source": []
  }
 ],
 "metadata": {
  "kernelspec": {
   "display_name": "Python 3",
   "language": "python",
   "name": "python3"
  },
  "language_info": {
   "codemirror_mode": {
    "name": "ipython",
    "version": 3
   },
   "file_extension": ".py",
   "mimetype": "text/x-python",
   "name": "python",
   "nbconvert_exporter": "python",
   "pygments_lexer": "ipython3",
   "version": "3.7.0"
  }
 },
 "nbformat": 4,
 "nbformat_minor": 2
}
