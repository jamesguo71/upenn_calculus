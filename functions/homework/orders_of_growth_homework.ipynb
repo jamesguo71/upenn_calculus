{
 "cells": [
  {
   "cell_type": "markdown",
   "metadata": {},
   "source": [
    "## 1. $$\n",
    "\\begin{equation}\n",
    "\\lim_{x \\to +\\infty} \\frac{e^{2 x}}{x^3 + 3 x^2 + 4} =\n",
    "\\end{equation}\n",
    "$$\n",
    "\n",
    "Hint: If you understood the lecture well enough, you don't need to do any work to know the answer..."
   ]
  },
  {
   "cell_type": "markdown",
   "metadata": {},
   "source": [
    "### Solution\n",
    "\n",
    "$$\n",
    "\\begin{equation}\n",
    "\\lim_{x \\to +\\infty} \\frac{e^{2 x}}{x^3 + 3 x^2 + 4} = +\\infty\n",
    "\\end{equation}\n",
    "$$...as exponential functions have higher orders of growth to polynomials"
   ]
  },
  {
   "cell_type": "code",
   "execution_count": 1,
   "metadata": {},
   "outputs": [
    {
     "data": {
      "image/png": "[encoded data removed]",
      "text/latex": [
       "$$\\infty$$"
      ],
      "text/plain": [
       "∞"
      ]
     },
     "execution_count": 1,
     "metadata": {},
     "output_type": "execute_result"
    }
   ],
   "source": [
    "## Verify with SymPy\n",
    "\n",
    "from sympy import symbols, limit, oo, exp, init_printing\n",
    "\n",
    "init_printing()\n",
    "\n",
    "x = symbols('x')\n",
    "\n",
    "limit(exp(2 * x) / (x ** 3 + 3 * (x ** 2) + 4), x, oo)"
   ]
  },
  {
   "cell_type": "markdown",
   "metadata": {},
   "source": [
    "## 2. $$\n",
    "\\begin{equation}\n",
    "\\lim_{x \\to +\\infty} \\frac{e^{3 x}}{e^{x^2}} =\n",
    "\\end{equation}\n",
    "$$"
   ]
  },
  {
   "cell_type": "markdown",
   "metadata": {},
   "source": [
    "### Solution\n",
    "\n",
    "$$\n",
    "\\begin{equation}\n",
    "\\begin{aligned}{}\n",
    "\\lim_{x \\to +\\infty} \\frac{e^{3 x}}{e^{x^2}} &= \\lim_{x \\to +\\infty} e^{-x^2 + 3 x} \\\\\n",
    "&= 0 & \\text{as $\\lim_{x \\to +\\infty} (-x^2 + 3 x) = -\\infty$}\n",
    "\\end{aligned}\n",
    "\\end{equation}\n",
    "$$"
   ]
  },
  {
   "cell_type": "code",
   "execution_count": 2,
   "metadata": {},
   "outputs": [
    {
     "data": {
      "image/png": "[encoded data removed]",
      "text/latex": [
       "$$0$$"
      ],
      "text/plain": [
       "0"
      ]
     },
     "execution_count": 2,
     "metadata": {},
     "output_type": "execute_result"
    }
   ],
   "source": [
    "## Verify with Sympy\n",
    "\n",
    "limit(exp(3 * x) / exp(x ** 2), x, oo)"
   ]
  },
  {
   "cell_type": "markdown",
   "metadata": {},
   "source": [
    "## 3. $$\n",
    "\\lim_{x \\to +\\infty} \\frac{e^x (x - 1)!}{x!}\n",
    "$$"
   ]
  },
  {
   "cell_type": "markdown",
   "metadata": {},
   "source": [
    "### Solution\n",
    "\n",
    "$$\n",
    "\\begin{equation}\n",
    "\\begin{aligned}{}\n",
    "\\lim_{x \\to +\\infty} \\frac{e^x (x - 1)!}{x!} &= \\lim_{x \\to +\\infty} \\frac{e^x}{x} \\\\\n",
    "&= +\\infty\n",
    "\\end{aligned}\n",
    "\\end{equation}\n",
    "$$...as exponential grows faster than $x$"
   ]
  },
  {
   "cell_type": "code",
   "execution_count": 3,
   "metadata": {},
   "outputs": [
    {
     "data": {
      "image/png": "[encoded data removed]",
      "text/latex": [
       "$$\\infty$$"
      ],
      "text/plain": [
       "∞"
      ]
     },
     "execution_count": 3,
     "metadata": {},
     "output_type": "execute_result"
    }
   ],
   "source": [
    "## Verify with SymPy\n",
    "\n",
    "from sympy import factorial\n",
    "\n",
    "limit(exp(x) * factorial(x - 1) / factorial(x), x, oo)"
   ]
  },
  {
   "cell_type": "markdown",
   "metadata": {},
   "source": [
    "## 4. $$\n",
    "\\lim_{x \\to +\\infty} \\frac{2^x + 1}{(x + 1)!}\n",
    "$$"
   ]
  },
  {
   "cell_type": "markdown",
   "metadata": {},
   "source": [
    "### Solution\n",
    "\n",
    "\n",
    "$$\n",
    "\\begin{equation}\n",
    "\\begin{aligned}{}\n",
    "\\lim_{x \\to +\\infty} \\frac{2^x + 1}{(x + 1)!} = 0\n",
    "\\end{aligned}\n",
    "\\end{equation}\n",
    "$$... as factorials grow faster than exponential functions."
   ]
  },
  {
   "cell_type": "code",
   "execution_count": 4,
   "metadata": {},
   "outputs": [
    {
     "data": {
      "image/png": "[encoded data removed]",
      "text/latex": [
       "$$0$$"
      ],
      "text/plain": [
       "0"
      ]
     },
     "execution_count": 4,
     "metadata": {},
     "output_type": "execute_result"
    }
   ],
   "source": [
    "## Verify with SymPy\n",
    "\n",
    "limit((2 ** x + 1) / factorial(x + 1), x, oo)"
   ]
  },
  {
   "cell_type": "markdown",
   "metadata": {},
   "source": [
    "## 5. Evaluate the following limit, where $n$ is a positive integer: $$\n",
    "\\lim_{x \\to +\\infty} \\frac{(3 \\ln x)^n}{(2 x)^n}\n",
    "$$"
   ]
  },
  {
   "cell_type": "markdown",
   "metadata": {},
   "source": [
    "### Solution\n",
    "\n",
    "$$\n",
    "\\begin{equation}\n",
    "\\begin{aligned}{}\n",
    "\\lim_{x \\to +\\infty} \\frac{(3 \\ln x)^n}{(2 x)^n} &= \\lim_{x \\to +\\infty} (\\frac{3 \\ln x}{2 x})^n \\\\\n",
    "&= 0\n",
    "\\end{aligned}\n",
    "\\end{equation}\n",
    "$$... as $x$ grows faster than logarithmic functions."
   ]
  },
  {
   "cell_type": "code",
   "execution_count": 5,
   "metadata": {},
   "outputs": [],
   "source": [
    "## Verify with SymPy\n",
    "\n",
    "## FIXME: I tried to do the following but received NotImplementedError\n",
    "\n",
    "## from sympy import ln\n",
    "## \n",
    "## n = symbols('n', integer=True)\n",
    "##\n",
    "## limit((3 * ln(x)) ** n / (2 * x) ** n, x, oo)"
   ]
  },
  {
   "cell_type": "markdown",
   "metadata": {},
   "source": [
    "## 6. Which of the following are in $O(x^2)$ as $x \\to 0$? Select all that apply.\n",
    "\n",
    "Hint: remember $O(x^2)$ consists of those functions which go to zero at least as quickly as $C x^2$ for some constant $C$. That means $0 \\leq |f(x)| \\leq C x^2$ for some $C$ as $x \\to 0$."
   ]
  },
  {
   "cell_type": "markdown",
   "metadata": {},
   "source": [
    "### Solutions\n",
    "- $5 x^2 + 3 x^4$\n",
    " - Yes; as $5 x^2 + 3 x^4 < (5 + |C|) x^2 + 3 x^4$ for some $C \\neq 0$.\n",
    "- $\\sin x^2$\n",
    " - Yes; as let $t = x^2$ then $$\n",
    " \\begin{equation}\n",
    " \\begin{aligned}{}\n",
    " \\lim_{x \\to 0} \\frac{\\sin x^2}{x^2} &= \\lim_{t \\to 0^{+}} \\frac{\\sin t}{t} \\\\\n",
    " &= 1\n",
    " \\end{aligned}\n",
    " \\end{equation}\n",
    " $$... which shows $\\sin x^2$ shrinks at the same rate as $x \\to 0$ as $x^2$ does.\n",
    "- $\\ln(1 + x)$\n",
    " - No; as $$\n",
    " \\begin{equation}\n",
    " \\begin{aligned}{}\n",
    " \\ln(1 + x) &= x - O(x^2)\n",
    " \\end{aligned}\n",
    " \\end{equation}\n",
    " $$...which is in $O(x)$\n",
    "- $\\sqrt{x + 3 x^4}$\n",
    " - No; as $$\n",
    " \\begin{equation}\n",
    " \\begin{aligned}{}\n",
    " \\sqrt{x + 3 x^4} &= (x + 3 x^4)^{\\frac{1}{2}} \\\\\n",
    " &= 1 + \\frac{1}{2} (x + 3 x ^4) + ... \\\\\n",
    " &= 1 + O(x)\n",
    " \\end{aligned}\n",
    " \\end{equation}\n",
    " $$...which is in $O(x)$\n",
    "- $\\sinh x$\n",
    " - No; as $$\n",
    " \\begin{equation}\n",
    " \\begin{aligned}{}\n",
    " \\sinh x &= x - O(x^3)\n",
    " \\end{aligned}\n",
    " \\end{equation}\n",
    " $$...which is in $O(x)$\n",
    "- $5 x$\n",
    " - No"
   ]
  },
  {
   "cell_type": "code",
   "execution_count": 6,
   "metadata": {},
   "outputs": [],
   "source": [
    "## Verify with Sympy\n",
    "\n",
    "from functools import partial\n",
    "from sympy import sin, O\n",
    "from IPython.display import display\n",
    "\n",
    "def display_in_big_o(big_o, func):\n",
    "    display(func, 'is in ✅' if func in big_o else 'is not in ❌', big_o)\n",
    "\n",
    "display_in_big_o_x_to_two = partial(display_in_big_o, big_o=O(x ** 2))"
   ]
  },
  {
   "cell_type": "code",
   "execution_count": 7,
   "metadata": {},
   "outputs": [
    {
     "data": {
      "image/png": "[encoded data removed]",
      "text/latex": [
       "$$3 x^{4} + 5 x^{2}$$"
      ],
      "text/plain": [
       "   4      2\n",
       "3⋅x  + 5⋅x "
      ]
     },
     "metadata": {},
     "output_type": "display_data"
    },
    {
     "data": {
      "text/plain": [
       "'is in ✅'"
      ]
     },
     "metadata": {},
     "output_type": "display_data"
    },
    {
     "data": {
      "image/png": "[encoded data removed]",
      "text/latex": [
       "$$O\\left(x^{2}\\right)$$"
      ],
      "text/plain": [
       " ⎛ 2⎞\n",
       "O⎝x ⎠"
      ]
     },
     "metadata": {},
     "output_type": "display_data"
    }
   ],
   "source": [
    "display_in_big_o_x_to_two(func=5 * x ** 2 + 3 * x ** 4)"
   ]
  },
  {
   "cell_type": "code",
   "execution_count": 8,
   "metadata": {},
   "outputs": [
    {
     "data": {
      "image/png": "[encoded data removed]",
      "text/latex": [
       "$$\\sin{\\left (x^{2} \\right )}$$"
      ],
      "text/plain": [
       "   ⎛ 2⎞\n",
       "sin⎝x ⎠"
      ]
     },
     "metadata": {},
     "output_type": "display_data"
    },
    {
     "data": {
      "text/plain": [
       "'is in ✅'"
      ]
     },
     "metadata": {},
     "output_type": "display_data"
    },
    {
     "data": {
      "image/png": "[encoded data removed]",
      "text/latex": [
       "$$O\\left(x^{2}\\right)$$"
      ],
      "text/plain": [
       " ⎛ 2⎞\n",
       "O⎝x ⎠"
      ]
     },
     "metadata": {},
     "output_type": "display_data"
    }
   ],
   "source": [
    "display_in_big_o_x_to_two(func=sin(x ** 2))"
   ]
  },
  {
   "cell_type": "code",
   "execution_count": 9,
   "metadata": {},
   "outputs": [
    {
     "data": {
      "image/png": "[encoded data removed]",
      "text/latex": [
       "$$\\log{\\left (x + 1 \\right )}$$"
      ],
      "text/plain": [
       "log(x + 1)"
      ]
     },
     "metadata": {},
     "output_type": "display_data"
    },
    {
     "data": {
      "text/plain": [
       "'is not in ❌'"
      ]
     },
     "metadata": {},
     "output_type": "display_data"
    },
    {
     "data": {
      "image/png": "[encoded data removed]",
      "text/latex": [
       "$$O\\left(x^{2}\\right)$$"
      ],
      "text/plain": [
       " ⎛ 2⎞\n",
       "O⎝x ⎠"
      ]
     },
     "metadata": {},
     "output_type": "display_data"
    }
   ],
   "source": [
    "from sympy import ln\n",
    "\n",
    "display_in_big_o_x_to_two(func=ln(1 + x))"
   ]
  },
  {
   "cell_type": "code",
   "execution_count": 10,
   "metadata": {},
   "outputs": [
    {
     "data": {
      "image/png": "[encoded data removed]",
      "text/latex": [
       "$$\\sqrt{3 x^{4} + x}$$"
      ],
      "text/plain": [
       "   __________\n",
       "  ╱    4     \n",
       "╲╱  3⋅x  + x "
      ]
     },
     "metadata": {},
     "output_type": "display_data"
    },
    {
     "data": {
      "text/plain": [
       "'is not in ❌'"
      ]
     },
     "metadata": {},
     "output_type": "display_data"
    },
    {
     "data": {
      "image/png": "[encoded data removed]",
      "text/latex": [
       "$$O\\left(x^{2}\\right)$$"
      ],
      "text/plain": [
       " ⎛ 2⎞\n",
       "O⎝x ⎠"
      ]
     },
     "metadata": {},
     "output_type": "display_data"
    }
   ],
   "source": [
    "from sympy import sqrt\n",
    "\n",
    "display_in_big_o_x_to_two(func=sqrt(x + 3 * x ** 4))"
   ]
  },
  {
   "cell_type": "code",
   "execution_count": 11,
   "metadata": {},
   "outputs": [
    {
     "data": {
      "image/png": "[encoded data removed]",
      "text/latex": [
       "$$\\sinh{\\left (x \\right )}$$"
      ],
      "text/plain": [
       "sinh(x)"
      ]
     },
     "metadata": {},
     "output_type": "display_data"
    },
    {
     "data": {
      "text/plain": [
       "'is not in ❌'"
      ]
     },
     "metadata": {},
     "output_type": "display_data"
    },
    {
     "data": {
      "image/png": "[encoded data removed]",
      "text/latex": [
       "$$O\\left(x^{2}\\right)$$"
      ],
      "text/plain": [
       " ⎛ 2⎞\n",
       "O⎝x ⎠"
      ]
     },
     "metadata": {},
     "output_type": "display_data"
    }
   ],
   "source": [
    "from sympy import sinh\n",
    "\n",
    "display_in_big_o_x_to_two(func=sinh(x))"
   ]
  },
  {
   "cell_type": "code",
   "execution_count": 12,
   "metadata": {},
   "outputs": [
    {
     "data": {
      "image/png": "[encoded data removed]",
      "text/latex": [
       "$$x$$"
      ],
      "text/plain": [
       "x"
      ]
     },
     "metadata": {},
     "output_type": "display_data"
    },
    {
     "data": {
      "text/plain": [
       "'is not in ❌'"
      ]
     },
     "metadata": {},
     "output_type": "display_data"
    },
    {
     "data": {
      "image/png": "[encoded data removed]",
      "text/latex": [
       "$$O\\left(x^{2}\\right)$$"
      ],
      "text/plain": [
       " ⎛ 2⎞\n",
       "O⎝x ⎠"
      ]
     },
     "metadata": {},
     "output_type": "display_data"
    }
   ],
   "source": [
    "display_in_big_o_x_to_two(func=x)"
   ]
  },
  {
   "cell_type": "markdown",
   "metadata": {},
   "source": [
    "## 7. Which of the following are in $O(x^2)$ as $x \\to +\\infty$? Select all that apply.\n",
    "\n",
    "Hint: recall $O(x^2)$ consists of those functions that are $\\leq C x^2$ for some constant $C$ as $x \\to +\\infty$."
   ]
  },
  {
   "cell_type": "markdown",
   "metadata": {},
   "source": [
    "### Solutions\n",
    "- $5 \\sqrt{x^2 + x - 1}$\n",
    " - Yes; as $$\n",
    " \\begin{equation}\n",
    " \\begin{aligned}{}\n",
    " \\lim_{x \\to +\\infty} \\frac{5 \\sqrt{x^2 + x - 1}}{C x^2} &= \\lim_{x \\to +\\infty} \\frac{5 \\sqrt{1 + \\frac{1}{x} - \\frac{1}{x^2}}}{C} \\\\\n",
    " &= \\frac{5}{C}\n",
    " \\end{aligned}\n",
    " \\end{equation}\n",
    " $$...so for $C \\geq 5$, $5 \\sqrt{x^2 + x - 1} \\leq C x^2$ as $x \\to +\\infty$, hence $5 \\sqrt{x^2 + x - 1}$ is in $O(x^2)$.\n",
    "- $\\sqrt{x^5 - 2 x^3 + 1}$\n",
    " - No; as $$\n",
    " \\begin{equation}\n",
    " \\begin{aligned}{}\n",
    " \\lim_{x \\to +\\infty} \\frac{\\sqrt{x^5 - 2 x^3 + 1}}{C x^2} &= \\lim_{x \\to +\\infty} \\frac{\\sqrt{x^3 - 2 x + \\frac{1}{x^2}}}{C} \\\\\n",
    " &= +\\infty\n",
    " \\end{aligned}\n",
    " \\end{equation}\n",
    " $$\n",
    "- $\\ln(x^{10} + 1)$\n",
    " - Yes; as $$\n",
    " \\begin{equation}\n",
    " \\begin{aligned}{}\n",
    " \\lim_{x \\to +\\infty} \\frac{\\ln(x^{10} + 1)}{C x^2} &= \\lim_{x \\to +\\infty} \\frac{\\frac{1}{x^{10} + 1} 10 x^{9}}{2 C x} \\\\\n",
    " &= \\lim_{x \\to +\\infty} \\frac{5 x^8}{C (x^{10} + 1)} \\\\\n",
    " &= 0\n",
    " \\end{aligned}\n",
    " \\end{equation}\n",
    " $$...as we only care about the leading terms, $\\ln(x^{10} + 1)$ is in $O(x^2)$.\n",
    "- $x^3 - 5 x^2 - 11 x + 4$\n",
    " - No; as $x \\to \\infty$ $$\n",
    " \\begin{equation}\n",
    " \\begin{aligned}{}\n",
    " x^3 - 5 x^2 - 11 x + 4 &= x^3 - O(x^2)\n",
    " \\end{aligned}\n",
    " \\end{equation}\n",
    " $$...which is in $O(x^3)$\n",
    "- $\\arctan x^2$\n",
    " - Yes; Let $t = x^2$. $$\n",
    " \\begin{equation}\n",
    " \\begin{aligned}{}\n",
    " \\lim_{x \\to +\\infty} \\arctan x^2 &= \\lim_{t \\to +\\infty} \\arctan t \\\\\n",
    " &= \\frac{\\pi}{2}\n",
    " \\end{aligned}\n",
    " \\end{equation}\n",
    " $$...which is a constant. Hence $\\arctan x^2$ is in $O(x^2)$ as $x \\to +\\infty$.\n",
    "- $e^{\\sqrt{x}}$\n",
    " - No; Let $t = \\sqrt{x}$, then $$\n",
    " \\begin{equation}\n",
    " \\begin{aligned}{}\n",
    " \\lim_{x \\to +\\infty} \\frac{e^{\\sqrt{x}}}{x^2} &= \\lim_{t \\to +\\infty} \\frac{e^t}{t^4} \\\\\n",
    " &= + \\infty\n",
    " \\end{aligned}\n",
    " \\end{equation}\n",
    " $$...hence $e^{\\sqrt{x}}$ is not in $O(x^2)$ as $x \\to +\\infty$"
   ]
  },
  {
   "cell_type": "code",
   "execution_count": 13,
   "metadata": {},
   "outputs": [],
   "source": [
    "## Verify with Sympy\n",
    "\n",
    "display_in_big_o_x_to_two_inf = partial(display_in_big_o, big_o=O(x ** 2, (x, oo)))"
   ]
  },
  {
   "cell_type": "code",
   "execution_count": 14,
   "metadata": {},
   "outputs": [
    {
     "data": {
      "image/png": "[encoded data removed]",
      "text/latex": [
       "$$5 \\sqrt{x^{2} + x - 1}$$"
      ],
      "text/plain": [
       "     ____________\n",
       "    ╱  2         \n",
       "5⋅╲╱  x  + x - 1 "
      ]
     },
     "metadata": {},
     "output_type": "display_data"
    },
    {
     "data": {
      "text/plain": [
       "'is in ✅'"
      ]
     },
     "metadata": {},
     "output_type": "display_data"
    },
    {
     "data": {
      "image/png": "[encoded data removed]",
      "text/latex": [
       "$$O\\left(x^{2}; x\\rightarrow \\infty\\right)$$"
      ],
      "text/plain": [
       " ⎛ 2       ⎞\n",
       "O⎝x ; x → ∞⎠"
      ]
     },
     "metadata": {},
     "output_type": "display_data"
    }
   ],
   "source": [
    "display_in_big_o_x_to_two_inf(func=5 * sqrt(x ** 2 + x - 1))"
   ]
  },
  {
   "cell_type": "code",
   "execution_count": 15,
   "metadata": {},
   "outputs": [
    {
     "data": {
      "image/png": "[encoded data removed]",
      "text/latex": [
       "$$\\sqrt{x^{5} + 2 x^{3} - 1}$$"
      ],
      "text/plain": [
       "   _______________\n",
       "  ╱  5      3     \n",
       "╲╱  x  + 2⋅x  - 1 "
      ]
     },
     "metadata": {},
     "output_type": "display_data"
    },
    {
     "data": {
      "text/plain": [
       "'is not in ❌'"
      ]
     },
     "metadata": {},
     "output_type": "display_data"
    },
    {
     "data": {
      "image/png": "[encoded data removed]",
      "text/latex": [
       "$$O\\left(x^{2}; x\\rightarrow \\infty\\right)$$"
      ],
      "text/plain": [
       " ⎛ 2       ⎞\n",
       "O⎝x ; x → ∞⎠"
      ]
     },
     "metadata": {},
     "output_type": "display_data"
    }
   ],
   "source": [
    "display_in_big_o_x_to_two_inf(func=sqrt(x ** 5 + 2 * x ** 3 - 1))"
   ]
  },
  {
   "cell_type": "code",
   "execution_count": 16,
   "metadata": {},
   "outputs": [
    {
     "data": {
      "image/png": "[encoded data removed]",
      "text/latex": [
       "$$\\log{\\left (x^{10} + 1 \\right )}$$"
      ],
      "text/plain": [
       "   ⎛ 10    ⎞\n",
       "log⎝x   + 1⎠"
      ]
     },
     "metadata": {},
     "output_type": "display_data"
    },
    {
     "data": {
      "text/plain": [
       "'is in ✅'"
      ]
     },
     "metadata": {},
     "output_type": "display_data"
    },
    {
     "data": {
      "image/png": "[encoded data removed]",
      "text/latex": [
       "$$O\\left(x^{2}; x\\rightarrow \\infty\\right)$$"
      ],
      "text/plain": [
       " ⎛ 2       ⎞\n",
       "O⎝x ; x → ∞⎠"
      ]
     },
     "metadata": {},
     "output_type": "display_data"
    }
   ],
   "source": [
    "display_in_big_o_x_to_two_inf(func=ln(x ** 10 + 1))"
   ]
  },
  {
   "cell_type": "code",
   "execution_count": 31,
   "metadata": {},
   "outputs": [
    {
     "data": {
      "image/png": "[encoded data removed]",
      "text/latex": [
       "$$x^{3} - 5 x^{2} - 11 x + 4$$"
      ],
      "text/plain": [
       " 3      2           \n",
       "x  - 5⋅x  - 11⋅x + 4"
      ]
     },
     "metadata": {},
     "output_type": "display_data"
    },
    {
     "data": {
      "text/plain": [
       "'is in ✅'"
      ]
     },
     "metadata": {},
     "output_type": "display_data"
    },
    {
     "data": {
      "image/png": "[encoded data removed]",
      "text/latex": [
       "$$O\\left(x^{2}; x\\rightarrow \\infty\\right)$$"
      ],
      "text/plain": [
       " ⎛ 2       ⎞\n",
       "O⎝x ; x → ∞⎠"
      ]
     },
     "metadata": {},
     "output_type": "display_data"
    }
   ],
   "source": [
    "display_in_big_o_x_to_two_inf(func=x ** 3 - 5 * x ** 2 - 11 * x + 4) ## Wait, what???"
   ]
  },
  {
   "cell_type": "code",
   "execution_count": 17,
   "metadata": {},
   "outputs": [
    {
     "data": {
      "image/png": "[encoded data removed]",
      "text/latex": [
       "$$\\operatorname{atan}{\\left (x^{2} \\right )}$$"
      ],
      "text/plain": [
       "    ⎛ 2⎞\n",
       "atan⎝x ⎠"
      ]
     },
     "metadata": {},
     "output_type": "display_data"
    },
    {
     "data": {
      "text/plain": [
       "'is in ✅'"
      ]
     },
     "metadata": {},
     "output_type": "display_data"
    },
    {
     "data": {
      "image/png": "[encoded data removed]",
      "text/latex": [
       "$$O\\left(x^{2}; x\\rightarrow \\infty\\right)$$"
      ],
      "text/plain": [
       " ⎛ 2       ⎞\n",
       "O⎝x ; x → ∞⎠"
      ]
     },
     "metadata": {},
     "output_type": "display_data"
    }
   ],
   "source": [
    "from sympy import atan\n",
    "\n",
    "display_in_big_o_x_to_two_inf(func=atan(x ** 2))"
   ]
  },
  {
   "cell_type": "code",
   "execution_count": 20,
   "metadata": {},
   "outputs": [
    {
     "data": {
      "image/png": "[encoded data removed]",
      "text/latex": [
       "$$e^{\\sqrt{x}}$$"
      ],
      "text/plain": [
       " √x\n",
       "ℯ  "
      ]
     },
     "metadata": {},
     "output_type": "display_data"
    },
    {
     "data": {
      "text/plain": [
       "'is not in ❌'"
      ]
     },
     "metadata": {},
     "output_type": "display_data"
    },
    {
     "data": {
      "image/png": "[encoded data removed]",
      "text/latex": [
       "$$O\\left(x^{2}; x\\rightarrow \\infty\\right)$$"
      ],
      "text/plain": [
       " ⎛ 2       ⎞\n",
       "O⎝x ; x → ∞⎠"
      ]
     },
     "metadata": {},
     "output_type": "display_data"
    }
   ],
   "source": [
    "display_in_big_o_x_to_two_inf(func=exp(sqrt(x)))"
   ]
  },
  {
   "cell_type": "markdown",
   "metadata": {},
   "source": [
    "## 8. Which of the following statements are true? Select all that apply."
   ]
  },
  {
   "cell_type": "markdown",
   "metadata": {},
   "source": [
    "### Solutions\n",
    "\n",
    "- $O(1) + O(x) = O(x)$ as $x \\to 0$: False\n",
    "- $O(x) + O(e^x) = O(x)$ as $x \\to +\\infty$: False\n",
    "- $O(x) + O(e^x) = O(e^x)$ as $x \\to +\\infty$: True\n",
    "- $O(1) + O(x) = O(1)$ as $x \\to +\\infty$: False\n",
    "- $O(1) + O(x) = O(1)$ as $x \\to 0$: True\n",
    "- $O(1) + O(x) = O(x)$ as $x \\to +\\infty$: True"
   ]
  },
  {
   "cell_type": "markdown",
   "metadata": {},
   "source": [
    "## 9. Simplify the following asymptotic expression: $$\n",
    "\\begin{equation}\n",
    "f(x) = (x - x^2 + O(x^3)) \\cdot (1 + 2 x + O(x^3))\n",
    "\\end{equation}\n",
    "$$\n",
    "\n",
    "(here, the big-$O$ means as $x \\to 0$).\n",
    "\n",
    "Hint: do not be intimidated by the notation; simply pretend that $O(x^3)$ is a cubic monomial in $x$ and use basic multiplication of polynomials."
   ]
  },
  {
   "cell_type": "markdown",
   "metadata": {},
   "source": [
    "### Solution\n",
    "\n",
    "$$\n",
    "\\begin{equation}\n",
    "\\begin{aligned}{}\n",
    "f(x) = (x - x^2 + O(x^3)) \\cdot (1 + 2 x + O(x^3)) &= x - x^2 + O(x^3) + 2 x^2 - 2 x^3 + 2 x O(x^3) + x O(x^3) - x^2 O(x^3) + (O(x^3))^2 \\\\\n",
    "&= x + x^2 - 2 x^3 + (O(x^3) + 2 x O(x^3) + x O(x^3) - x^2 O(x^3) + (O(x^3))^2) \\\\\n",
    "&= x + x^2 - 2 x^3 + (O(x^3) + O(x^3) - O(x^5) + O(x^6)) \\\\\n",
    "&= x + x^2 - 2 x^3 + O(x^3) & \\text{as $x \\to 0$} \\\\\n",
    "&= x + x^2 + O(x^3) & \\text{as $-2 x^3 + O(x^3) = O(x^3)$} \\\\\n",
    "\\end{aligned}\n",
    "\\end{equation}\n",
    "$$."
   ]
  },
  {
   "cell_type": "markdown",
   "metadata": {},
   "source": [
    "## 10. Simplify the following asymptotic expression: $$\n",
    "f(x) = (x^3 + 2 x^2 + O(x)) \\cdot (1 + \\frac{1}{x} + O(\\frac{1}{x^2}))\n",
    "$$\n",
    "\n",
    "(here, the big-$O$ means as $x \\to +\\infty$)\n",
    "\n",
    "Hint: do not be intimidated by the notation! Pretend that $O(x)$ is of the form $C x$ for some $C$ and likewise with $O(\\frac{1}{x})$. Multiply just like these are polynomials, then simplify at the end."
   ]
  },
  {
   "cell_type": "markdown",
   "metadata": {},
   "source": [
    "$$\n",
    "\\begin{equation}\n",
    "\\begin{aligned}{}\n",
    "f(x) = (x^3 + 2 x^2 + O(x)) \\cdot (1 + \\frac{1}{x} + O(\\frac{1}{x^2})) &= x^3 + 2 x^2 + O(x) + x^2 + 2 x + \\frac{O(x)}{x} + x^3 O(\\frac{1}{x^2}) + 2 x^2 O(\\frac{1}{x^2}) + O(x) \\cdot O(\\frac{1}{x^2}) \\\\\n",
    "&= x^3 + 2 x^2 + x^2 + 2 x + (O(x) + \\frac{O(x)}{x} + x^3 O(\\frac{1}{x^2}) + 2 x^2 O(\\frac{1}{x^2}) + O(x) \\cdot O(\\frac{1}{x^2})) \\\\\n",
    "&= x^3 + 3 x^2 + 2 x + (O(x) + O(1) + O(x) + O(1) + O(\\frac{1}{x})) \\\\\n",
    "&= x^3 + 3 x^2 + 2 x + O(x) & \\text{as $x \\to +\\infty$} \\\\\n",
    "&= x^3 + 3 x^2 + O(x) & \\text{as $2 x + O(x) = O(x)$}\n",
    "\\end{aligned}\n",
    "\\end{equation}\n",
    "$$"
   ]
  },
  {
   "cell_type": "code",
   "execution_count": null,
   "metadata": {},
   "outputs": [],
   "source": []
  }
 ],
 "metadata": {
  "kernelspec": {
   "display_name": "Python 3",
   "language": "python",
   "name": "python3"
  },
  "language_info": {
   "codemirror_mode": {
    "name": "ipython",
    "version": 3
   },
   "file_extension": ".py",
   "mimetype": "text/x-python",
   "name": "python",
   "nbconvert_exporter": "python",
   "pygments_lexer": "ipython3",
   "version": "3.7.0"
  }
 },
 "nbformat": 4,
 "nbformat_minor": 2
}
