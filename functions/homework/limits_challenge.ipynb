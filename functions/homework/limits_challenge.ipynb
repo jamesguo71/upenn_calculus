{
 "cells": [
  {
   "cell_type": "markdown",
   "metadata": {},
   "source": [
    "## 1. $$\\lim_{x \\to 0}\\frac{\\ln^2(\\cos x)}{2 x^4 - x^5} =$$"
   ]
  },
  {
   "cell_type": "markdown",
   "metadata": {},
   "source": [
    "### Solution:\n",
    "\n",
    "$$\n",
    "\\begin{equation}\n",
    "\\begin{aligned}{}\n",
    "\\lim_{x \\to 0}\\frac{\\ln^2(\\cos x)}{2 x^4 - x^5} &= \\lim_{x \\to 0} \\frac{\\ln^2 (1 - \\frac{1}{2!} x^2 + \\frac{1}{4!} x^4 - \\frac{1}{6!} x^6 + H.O.T.)}{2 x^4 - x^5} \\\\\n",
    "&= \\lim_{x \\to 0} \\frac{(\\ln^2(1 + (- \\frac{1}{2!} x^2 + \\frac{1}{4!} x^4 + - \\frac{1}{6!} x^6 + H.O.T.)))}{2 x^4 - x^5} \\\\\n",
    "&= \\lim_{x \\to 0} \\frac{((- \\frac{1}{2!} x^2 + \\frac{1}{4!} x^4 - \\frac{1}{6!} x^6 + H.O.T.) - \\frac{1}{2}(- \\frac{1}{2!} x^2 + \\frac{1}{4!} x^4 - \\frac{1}{6!} x^6 + H.O.T.)^2 + H.O.T.)^2}{2 x^4 - x^5} \\\\\n",
    "&= \\lim_{x \\to 0} \\frac{(-\\frac{1}{2} x^2 + H.O.T.)^2}{2 x^4 - x^5} \\\\\n",
    "&= \\lim_{x \\to 0} \\frac{\\frac{1}{4} x^4 + H.O.T.}{2 x^4 - x^5} \\\\\n",
    "&= \\lim_{x \\to 0} \\frac{\\frac{1}{4} + H.O.T.}{2 - x} \\\\\n",
    "&= \\frac{\\lim_{x \\to 0} (\\frac{1}{4} + H.O.T.)}{\\lim_{x \\to 0} (2 - x)} \\\\\n",
    "&= \\frac{\\frac{1}{4}}{2} \\\\\n",
    "&= \\frac{1}{8}\n",
    "\\end{aligned}\n",
    "\\end{equation}\n",
    "$$"
   ]
  },
  {
   "cell_type": "markdown",
   "metadata": {},
   "source": [
    "### Verify with SymPy"
   ]
  },
  {
   "cell_type": "code",
   "execution_count": 1,
   "metadata": {},
   "outputs": [
    {
     "data": {
      "image/png": "[encoded data removed]",
      "text/latex": [
       "$$\\frac{1}{8}$$"
      ],
      "text/plain": [
       "1/8"
      ]
     },
     "execution_count": 1,
     "metadata": {},
     "output_type": "execute_result"
    }
   ],
   "source": [
    "from sympy import symbols, ln, cos, limit, init_printing\n",
    "\n",
    "init_printing()\n",
    "\n",
    "x = symbols('x')\n",
    "\n",
    "limit(ln(cos(x)) ** 2 / (2 * (x ** 4) - x ** 5), x, 0)"
   ]
  },
  {
   "cell_type": "markdown",
   "metadata": {},
   "source": [
    "## 2. $$\\lim_{s \\to 0} \\frac{e^s s \\sin s}{1 - \\cos 2 s} =$$"
   ]
  },
  {
   "cell_type": "markdown",
   "metadata": {},
   "source": [
    "### Solutions\n",
    "\n",
    "$$\n",
    "\\begin{equation}\n",
    "\\begin{aligned}{}\n",
    "\\lim_{s \\to 0} \\frac{e^s s \\sin s}{1 - \\cos 2 s} &= \\lim_{s \\to 0} \\frac{e^s s \\sin s}{1 - (1 - 2 \\sin^2 s)} \\\\\n",
    "&=  \\lim_{s \\to 0} \\frac{e^s s \\sin s}{2 \\sin^2 s} \\\\\n",
    "&= \\lim_{s \\to 0}\\frac{e^s s}{2 \\sin s} \\\\\n",
    "&= \\lim_{s \\to 0} (\\frac{e^s}{2} \\frac{s}{\\sin s}) \\\\\n",
    "&= \\lim_{s \\to 0} \\frac{e^s}{2} \\lim_{s \\to 0} \\frac{s}{\\sin s} \\\\\n",
    "&= \\frac{1}{2} \\cdot 1 \\\\\n",
    "&= \\frac{1}{2}\n",
    "\\end{aligned}\n",
    "\\end{equation}\n",
    "$$"
   ]
  },
  {
   "cell_type": "markdown",
   "metadata": {},
   "source": [
    "### Verify with SymPy"
   ]
  },
  {
   "cell_type": "code",
   "execution_count": 2,
   "metadata": {},
   "outputs": [
    {
     "data": {
      "image/png": "[encoded data removed]",
      "text/latex": [
       "$$\\frac{1}{2}$$"
      ],
      "text/plain": [
       "1/2"
      ]
     },
     "execution_count": 2,
     "metadata": {},
     "output_type": "execute_result"
    }
   ],
   "source": [
    "from sympy import exp, sin\n",
    "\n",
    "s = symbols('s')\n",
    "\n",
    "limit(((exp(s) ** s) * s * sin(s)) / (1 - cos(2 * s)), s, 0)"
   ]
  },
  {
   "cell_type": "markdown",
   "metadata": {},
   "source": [
    "## 3. $$\\lim_{x \\to +\\infty} \\frac{\\sin (\\arctan(\\sin x))}{\\sqrt{x} \\sin 3 x + x^2 + \\arctan 5 x} =$$"
   ]
  },
  {
   "cell_type": "markdown",
   "metadata": {},
   "source": [
    "We know that for $|x| < 1$\n",
    "\n",
    "$\n",
    "\\begin{array}{}\n",
    "\\sin x &= x + H.O.T. \\\\\n",
    "\\arctan x &= x + H.O.T. \\\\\n",
    "\\end{array}\n",
    "$\n",
    "\n",
    "Hence $|x| < 1$\n",
    "\n",
    "$\n",
    "\\begin{equation}\n",
    "\\sin(\\arctan(\\sin x)) = x + H.O.T.\n",
    "\\end{equation}\n",
    "$\n",
    "\n",
    "\n",
    "Hence\n",
    "\n",
    "$$\n",
    "\\begin{equation}\n",
    "\\begin{aligned}{}\n",
    "\\lim_{x \\to +\\infty} \\frac{\\sin (\\arctan(\\sin x))}{\\sqrt{x} \\sin 3 x + x^2 + \\arctan 5 x} &= \\lim_{x \\to +\\infty} \\frac{x + H.O.T.}{\\sqrt{x} \\sin 3 x + x^2 + \\arctan 5 x} \\\\\n",
    "&= \\lim_{x \\to +\\infty} \\frac{x + H.O.T.}{\\sqrt{x} (3 x + H.O.T.) + x^2 + (5 x + H.O.T.)} \\\\\n",
    "&= \\lim_{x \\to +\\infty} \\frac{x + H.O.T.}{3 x^{\\frac{3}{2}} + 5 x + x^2 + H.O.T.)} \\\\\n",
    "&= \\lim_{x \\to +\\infty} \\frac{1 + H.O.T.}{5 + 3 \\sqrt{x} + x + H.O.T.)} \\\\\n",
    "&= \\frac{1}{5}\n",
    "\\end{aligned}\n",
    "\\end{equation}\n",
    "$$"
   ]
  },
  {
   "cell_type": "markdown",
   "metadata": {},
   "source": [
    "### Verify with SymPy"
   ]
  },
  {
   "cell_type": "code",
   "execution_count": 8,
   "metadata": {},
   "outputs": [
    {
     "data": {
      "image/png": "[encoded data removed]",
      "text/latex": [
       "$$\\lim_{x \\to \\infty}\\left(\\frac{\\sin{\\left (x \\right )}}{\\sqrt{\\sin^{2}{\\left (x \\right )} + 1} \\left(\\sqrt{x} \\sin{\\left (3 x \\right )} + x^{2} + \\operatorname{atan}{\\left (5 x \\right )}\\right)}\\right)$$"
      ],
      "text/plain": [
       "    ⎛                     sin(x)                    ⎞\n",
       "lim ⎜───────────────────────────────────────────────⎟\n",
       "x─→∞⎜   _____________                               ⎟\n",
       "    ⎜  ╱    2         ⎛               2            ⎞⎟\n",
       "    ⎝╲╱  sin (x) + 1 ⋅⎝√x⋅sin(3⋅x) + x  + atan(5⋅x)⎠⎠"
      ]
     },
     "execution_count": 8,
     "metadata": {},
     "output_type": "execute_result"
    }
   ],
   "source": [
    "from sympy import atan, sqrt, oo\n",
    "\n",
    "limit((sin(atan(sin(x))))/(sqrt(x) * sin(3 * x) + x ** 2 + atan(5 * x)), x, oo)"
   ]
  },
  {
   "cell_type": "markdown",
   "metadata": {},
   "source": [
    "## 4. $$\\lim_{x \\to 0} \\frac{\\sin x - \\cos x - 1}{6 x e^{2 x}} =$$"
   ]
  },
  {
   "cell_type": "markdown",
   "metadata": {},
   "source": [
    "$$\n",
    "\\begin{aligned}{}\n",
    "\\lim_{x \\to 0} \\frac{\\sin x - \\cos x - 1}{6 x e^{2 x}} &=  \\lim_{x \\to 0} \\frac{(x - \\frac{1}{3!}x^3 + \\frac{1}{5!} x^5 + H.O.T.) - (1 - \\frac{1}{2!}x^2 + \\frac{1}{4!}x^4 + H.O.T.) - 1}{6 x e^{2 x}} \\\\\n",
    "&= \\lim_{x \\to 0} \\frac{x + \\frac{1}{2!}x^2 - \\frac{1}{3!}x^3  - \\frac{1}{4!}x^4 + \\frac{1}{5!} x^5 + H.O.T. - 2}{6 x e^{2 x}} \\\\\n",
    "&= \\lim_{x \\to 0} \\frac{x + \\frac{1}{2!}x^2 - \\frac{1}{3!}x^3  - \\frac{1}{4!}x^4 + \\frac{1}{5!} x^5 + H.O.T.}{6 x e^{2 x}} - \\lim_{x \\to 0} \\frac{2}{6 x e^{2 x}} \\\\\n",
    "&= \\lim_{x \\to 0} \\frac{1 + \\frac{1}{2!}x - \\frac{1}{3!}x^2  - \\frac{1}{4!}x^3 + \\frac{1}{5!} x^4 + H.O.T.}{6 e^{2 x}} - \\lim_{x \\to 0} \\frac{2}{6 x e^{2 x}} \\\\\n",
    "&= - \\lim_{x \\to 0} \\frac{2}{6 x e^{2 x}}\n",
    "\\end{aligned}\n",
    "$$"
   ]
  },
  {
   "cell_type": "markdown",
   "metadata": {},
   "source": [
    "## 5. \n",
    "Remember that\n",
    "\n",
    "$$\n",
    "\\begin{equation}\n",
    "\\lim_{x \\to a} f(x) = L\n",
    "\\end{equation}\n",
    "$$\n",
    "\n",
    "means the following: for every $\\epsilon > 0$ there exists some $\\delta > 0$ such that whenever $x \\neq a$ is within $delta$ of $a$, then $f(x)$ is within in $\\epsilon$ of $L$. We can write these \"being within\" assertions in terms of inequalities:\n",
    "\n",
    "\"$x \\neq$ is within $\\delta$ of $a$\" is written as $0 < |x - a| < \\delta$\n",
    "\n",
    "\"$f(x)$ is within $\\epsilon$ of $L$\" is written as $0 < |f(x) - L| < \\epsilon$\n",
    "\n",
    "The strategy for proving the existence of a limit with this definition starts by considering a fixed $\\epsilon > 0$, and then trying to find a $\\delta$ (that depends on $\\epsilon$) that works.\n",
    "\n",
    "Here is a simple example:\n",
    "\n",
    "$$\n",
    "\\begin{equation}\n",
    "\\lim_{x \\to 1} (2 x - 1) = 1\n",
    "\\end{equation}\n",
    "$$\n",
    "\n",
    "Fix some $\\epsilon$, and suppose $|(2 x - 1) - 1| < \\epsilon$. We can then perform the following algebraic manipulations:\n",
    "\n",
    "$$\n",
    "\\begin{array}{}\n",
    "|(2 x - 1) - 1| < \\epsilon \\\\\n",
    "|2 x - 2| < \\epsilon \\\\\n",
    "2|x - 1| < \\epsilon \\\\\n",
    "|x - 1| < \\frac{\\epsilon}{2}\n",
    "\\end{array}\n",
    "$$\n",
    "\n",
    "Hence we can choose $\\epsilon = \\frac{\\delta}{2}$. Notice that we could also choose any smaller value for $\\delta$ and the conclusion would still hold.\n",
    "\n",
    "Following the same steps as above, prove that\n",
    "\n",
    "$$\n",
    "\\begin{equation}\n",
    "\\lim_{x \\to 1} (3 x - 2) = 1\n",
    "\\end{equation}\n",
    "$$\n",
    "\n",
    "For a fixed value of $\\epsilon > 0$, what is the maximum value of $\\delta$ that you can choose in this case?"
   ]
  },
  {
   "cell_type": "markdown",
   "metadata": {},
   "source": [
    "### Solution\n",
    "\n",
    "For some $\\epsilon$, and suppose $|(3 x - 2) - 1| < \\epsilon$, we have\n",
    "\n",
    "$$\n",
    "\\begin{array}{}\n",
    "|(3 x - 2) - 1| < \\epsilon \\\\\n",
    "|3 x - 3| < \\epsilon \\\\\n",
    "3 |x - 1| < \\epsilon \\\\\n",
    "|x - 1| < \\frac{\\epsilon}{3}\n",
    "\\end{array}\n",
    "$$\n",
    "\n",
    "Hence the maximum $\\delta$ we can choose will be $\\frac{\\epsilon}{3}$."
   ]
  },
  {
   "cell_type": "markdown",
   "metadata": {},
   "source": [
    "## 6. The last problem was relatively straightforward because we were looking at linear functions (that is, polynomials of degree $1$). In general, $\\epsilon-\\delta$ proofs for non-linear functions can be very difficult. But there are some cases that are pretty doable. Try to prove that\n",
    "\n",
    "$$\n",
    "\\begin{equation}\n",
    "\\lim_{x \\to 0} x^3 = 0\n",
    "\\end{equation}\n",
    "$$\n",
    "\n",
    "What is the maximum value of $\\delta$ that you can take for a fixed value of $\\epsilon > 0$?"
   ]
  },
  {
   "cell_type": "markdown",
   "metadata": {},
   "source": [
    "### Solution\n",
    "\n",
    "For some $\\epsilon$, and suppose $|x^3 - 0| < \\epsilon$, we have\n",
    "\n",
    "$$\n",
    "\\begin{array}{}\n",
    "|x^3 - 0| < \\epsilon \\\\\n",
    "|x| < \\sqrt[3]{\\epsilon} \\\\\n",
    "|x - 0| < \\sqrt[3]{\\epsilon}\n",
    "\\end{array}\n",
    "$$\n",
    "\n",
    "Hence the maximum value of $\\delta$ we can choose will be $\\sqrt[3]{\\epsilon}$."
   ]
  },
  {
   "cell_type": "code",
   "execution_count": null,
   "metadata": {},
   "outputs": [],
   "source": []
  }
 ],
 "metadata": {
  "kernelspec": {
   "display_name": "Python 3",
   "language": "python",
   "name": "python3"
  },
  "language_info": {
   "codemirror_mode": {
    "name": "ipython",
    "version": 3
   },
   "file_extension": ".py",
   "mimetype": "text/x-python",
   "name": "python",
   "nbconvert_exporter": "python",
   "pygments_lexer": "ipython3",
   "version": "3.7.0"
  }
 },
 "nbformat": 4,
 "nbformat_minor": 2
}
