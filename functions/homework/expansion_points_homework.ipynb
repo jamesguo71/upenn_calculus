{
 "cells": [
  {
   "cell_type": "markdown",
   "metadata": {},
   "source": [
    "## 1. Which of the following are Taylor series about $x=1$? Check all that apply.\n",
    "\n",
    "$\n",
    "1 + x^2 + \\frac{3}{16} x^3 + \\frac{1}{90} x^4 + H.O.T. \\\\\n",
    "1 + (x - 1) + (x - 1)^2 + (x - 1)^3 + H.O.T. \\\\\n",
    "\\sum_{k=0}^{\\infty} \\frac{\\pi^{2k}}{(2k + 1)!} (x - 1)^{k - 1} \\\\\n",
    "25 \\ln(x - 1) + (x - 1)^2 + (x - 1)^4 + H.O.T. \\\\\n",
    "\\frac{1}{2} + 3(x - 1) + \\frac{4}{45} (x - 1)^2 + \\frac{1}{90} (x - 1)^3 \\\\\n",
    "\\sum_{k=0}^{\\infty} \\frac{2^k}{k!} (x - k)^k\n",
    "$"
   ]
  },
  {
   "cell_type": "markdown",
   "metadata": {},
   "source": [
    "### Solutions\n",
    "\n",
    "The Taylor expansion of a function $f(x)$ about $x = 1$ would look like\n",
    "\n",
    "$\n",
    "\\begin{equation}\n",
    "\\begin{split}\n",
    "f(x) &= \\frac{f^{(k)}(1)}{k!}(x - 1)^k \\\\\n",
    "&= f(1) + \\frac{df}{dx}|_1 (x-1) + \\frac{1}{2!} \\frac{d^2f}{dx^2}|_1 (x-1)^2 + \\frac{1}{3!} \\frac{d^3f}{dx^3}|_1 (x-1)^3 + ...\n",
    "\\end{split}\n",
    "\\end{equation}\n",
    "$\n",
    "\n",
    "$\n",
    "1 + x^2 + \\frac{3}{16} x^3 + \\frac{1}{90} x^4 + H.O.T. \\\\\n",
    "$ does not look like that pattern, as the terms is about $x$, not $x - 1$.\n",
    "\n",
    "$\n",
    "1 + (x - 1) + (x - 1)^2 + (x - 1)^3 + H.O.T. \\\\\n",
    "$ is the geometric series about $x = 1$.\n",
    "\n",
    "$\n",
    "\\sum_{k=0}^{\\infty} \\frac{\\pi^{2k}}{(2k + 1)!} (x - 1)^{k - 1} \\\\\n",
    "$ contains a terms about $(x - 1)^{-1}$, hence it is not a Taylor series.\n",
    "\n",
    "\n",
    "$\n",
    "25 \\ln(x - 1) + (x - 1)^2 + (x - 1)^4 + H.O.T. \\\\\n",
    "$ contains first term as $25 \\ln(x - 1)$ hence it is not a Taylor series.\n",
    "\n",
    "$\n",
    "\\frac{1}{2} + 3(x - 1) + \\frac{4}{45} (x - 1)^2 + \\frac{1}{90} (x - 1)^3 \\\\\n",
    "$ has only finite terms hence it is not a Taylor series.\n",
    "\n",
    "$\n",
    "\\sum_{k=0}^{\\infty} \\frac{2^k}{k!} (x - k)^k\n",
    "$ $k \\neq 1$ and also is not a constant hence it is not a Taylor series."
   ]
  },
  {
   "cell_type": "markdown",
   "metadata": {},
   "source": [
    "## 2. Which of the following is the Taylor series expansion about $x = \\pi$ of $\\cos 2x$?"
   ]
  },
  {
   "cell_type": "markdown",
   "metadata": {},
   "source": [
    "### Solution\n",
    "\n",
    "We need to expand $\\cos 2x$ at $x = \\pi$, hence we need to expand $\\cos u$ at $u = 2\\pi$:\n",
    "\n",
    "$\n",
    "\\begin{equation}\n",
    "\\begin{split}\n",
    "\\cos u &= \\sum_{k=0}^{\\infty} \\frac{1}{k!} \\frac{d^k\\cos u}{du^k}|_{u=2\\pi} (u - 2\\pi)^k \\\\\n",
    "\\end{split}\n",
    "\\end{equation}\n",
    "$\n",
    "\n",
    "Recall that\n",
    "\n",
    "$\n",
    "\\begin{array}{l}\n",
    "\\frac{d}{dx} \\cos &=& -\\sin \\\\\n",
    "\\frac{d}{dx} -\\sin &=& -\\cos \\\\\n",
    "\\frac{d}{dx} - \\cos &=& \\sin \\\\\n",
    "\\frac{d}{dx} \\sin &=& \\cos \\\\\n",
    "\\end{array}\n",
    "$\n",
    "\n",
    "And\n",
    "\n",
    "$\n",
    "\\begin{array}{l}\n",
    "\\cos 2\\pi = 1 \\\\\n",
    "- \\sin 2\\pi = 0 \\\\\n",
    "-\\cos 2\\pi = -1 \\\\\n",
    "\\sin 2\\pi = 0\n",
    "\\end{array}\n",
    "$\n",
    "\n",
    "We have\n",
    "\n",
    "$\n",
    "\\begin{equation}\n",
    "\\begin{split}\n",
    "\\cos u &= \\sum_{k=0}^{\\infty} \\frac{1}{k!} \\frac{d^k\\cos u}{du^k}|_{u=2\\pi} (u - 2\\pi)^k \\\\\n",
    "&= \\sum_{k=0}^{\\infty} (-1)^{k} \\frac{1}{(2k)!} (u - 2\\pi)^{2k}\n",
    "\\end{split}\n",
    "\\end{equation}\n",
    "$\n",
    "\n",
    "\n",
    "Substitute $u$ back by $2x$, we have\n",
    "\n",
    "$\n",
    "\\begin{equation}\n",
    "\\begin{split}\n",
    "\\cos 2x &= \\sum_{k=0}^{\\infty} (-1)^{k} \\frac{1}{(2k)!} (2x - 2\\pi)^{2k} \\\\\n",
    "&= \\sum_{k=0}^{\\infty} (-1)^{k} 2^{2k} \\frac{1}{(2k)!} (x - \\pi)^{2k}\n",
    "\\end{split}\n",
    "\\end{equation}\n",
    "$\n"
   ]
  },
  {
   "cell_type": "markdown",
   "metadata": {},
   "source": [
    "### Verify with SymPy"
   ]
  },
  {
   "cell_type": "code",
   "execution_count": 15,
   "metadata": {},
   "outputs": [
    {
     "data": {
      "image/png": "[encoded data removed]",
      "text/latex": [
       "$$1 - 2 \\left(x - \\pi\\right)^{2} + \\frac{2 \\left(x - \\pi\\right)^{4}}{3} - \\frac{4 \\left(x - \\pi\\right)^{6}}{45} + O\\left(\\left(x - \\pi\\right)^{7}; x\\rightarrow \\pi\\right)$$"
      ],
      "text/plain": [
       "                          4            6                     \n",
       "             2   2⋅(x - π)    4⋅(x - π)     ⎛       7       ⎞\n",
       "1 - 2⋅(x - π)  + ────────── - ────────── + O⎝(x - π) ; x → π⎠\n",
       "                     3            45                         "
      ]
     },
     "execution_count": 15,
     "metadata": {},
     "output_type": "execute_result"
    }
   ],
   "source": [
    "from sympy import symbols, init_printing, cos, pi\n",
    "\n",
    "init_printing()\n",
    "\n",
    "cos(2 * x).series(x0=pi, n=7)"
   ]
  },
  {
   "cell_type": "markdown",
   "metadata": {},
   "source": [
    "## 3. Which of the following is the Taylor series expansion about $x = 2$ of $\\frac{1}{x^2}$?"
   ]
  },
  {
   "cell_type": "markdown",
   "metadata": {},
   "source": [
    "### Solution\n",
    "\n",
    "$\n",
    "\\begin{equation}\n",
    "\\begin{split}\n",
    "\\frac{1}{x} &= \\frac{1}{2^2} + (-2 \\frac{1}{2^3}) (x - 2) + \\frac{1}{2} ((-2)(-3) \\frac{1}{2^4}) (x - 2)^2 + H.O.T. \\\\\n",
    "&= \\frac{1}{4} - \\frac{1}{4}(x - 2) + \\frac{3}{16} (x - 2)^2 + H.O.T.\n",
    "\\end{split}\n",
    "\\end{equation}\n",
    "$"
   ]
  },
  {
   "cell_type": "markdown",
   "metadata": {},
   "source": [
    "### Verify with SymPy"
   ]
  },
  {
   "cell_type": "code",
   "execution_count": 16,
   "metadata": {},
   "outputs": [
    {
     "data": {
      "image/png": "[encoded data removed]",
      "text/latex": [
       "$$\\frac{3}{4} + \\frac{3 \\left(x - 2\\right)^{2}}{16} - \\frac{\\left(x - 2\\right)^{3}}{8} + \\frac{5 \\left(x - 2\\right)^{4}}{64} - \\frac{3 \\left(x - 2\\right)^{5}}{64} - \\frac{x}{4} + O\\left(\\left(x - 2\\right)^{6}; x\\rightarrow 2\\right)$$"
      ],
      "text/plain": [
       "             2          3            4            5                         \n",
       "3   3⋅(x - 2)    (x - 2)    5⋅(x - 2)    3⋅(x - 2)    x    ⎛       6       ⎞\n",
       "─ + ────────── - ──────── + ────────── - ────────── - ─ + O⎝(x - 2) ; x → 2⎠\n",
       "4       16          8           64           64       4                     "
      ]
     },
     "execution_count": 16,
     "metadata": {},
     "output_type": "execute_result"
    }
   ],
   "source": [
    "(1 / x ** 2).series(x0=2)"
   ]
  },
  {
   "cell_type": "markdown",
   "metadata": {},
   "source": [
    "## 4. Which of the following is the Taylor series expansion about $x = 1$ of $\\arctan x$?"
   ]
  },
  {
   "cell_type": "markdown",
   "metadata": {},
   "source": [
    "### Solution\n",
    "\n",
    "$\n",
    "\\begin{array}{}\n",
    "\\frac{d}{dx} \\arctan x &= \\frac{1}{1 + x^2} \\\\\n",
    "\\frac{d^2}{dx^2} \\arctan x &= -\\frac{1}{(1 + x^2)^2} 2 x \\\\\n",
    "&=- \\frac{2x}{(1 + x^2)^2}\n",
    "\\end{array}\n",
    "$\n",
    "\n",
    "Hence the Taylor series expansion about $x = 1$ of $\\arctan x$ is\n",
    "\n",
    "$\n",
    "\\begin{equation}\n",
    "\\begin{split}\n",
    "\\arctan x &= \\arctan 1 + \\frac{d}{dx} \\arctan x |_{x=1} (x - 1) + \\frac{1}{2!} \\frac{d^2}{dx^2} \\arctan x |_{x=1} (x - 1)^2 + H.O.T. \\\\\n",
    "&= \\frac{\\pi}{4} + \\frac{1}{2} (x - 1) + \\frac{1}{2!} (- \\frac{1}{2}) (x - 1)^2 + H.O.T. \\\\\n",
    "&= \\frac{\\pi}{4} + \\frac{1}{2} (x - 1) - \\frac{1}{4} (x - 1)^2 + H.O.T.\n",
    "\\end{split}\n",
    "\\end{equation}\n",
    "$"
   ]
  },
  {
   "cell_type": "markdown",
   "metadata": {},
   "source": [
    "### Verify with SymPy"
   ]
  },
  {
   "cell_type": "code",
   "execution_count": 23,
   "metadata": {},
   "outputs": [
    {
     "data": {
      "image/png": "[encoded data removed]",
      "text/latex": [
       "$$\\frac{\\pi}{4} - \\frac{1}{2} - \\frac{\\left(x - 1\\right)^{2}}{4} + \\frac{\\left(x - 1\\right)^{3}}{12} - \\frac{\\left(x - 1\\right)^{5}}{40} + \\frac{x}{2} + O\\left(\\left(x - 1\\right)^{6}; x\\rightarrow 1\\right)$$"
      ],
      "text/plain": [
       "               2          3          5                         \n",
       "π   1   (x - 1)    (x - 1)    (x - 1)    x    ⎛       6       ⎞\n",
       "─ - ─ - ──────── + ──────── - ──────── + ─ + O⎝(x - 1) ; x → 1⎠\n",
       "4   2      4          12         40      2                     "
      ]
     },
     "execution_count": 23,
     "metadata": {},
     "output_type": "execute_result"
    }
   ],
   "source": [
    "from sympy import atan\n",
    "\n",
    "atan(x).series(x0=1)"
   ]
  },
  {
   "cell_type": "markdown",
   "metadata": {},
   "source": [
    "## 5. Compute the Taylor series about $x = 2$ of $f(x) = \\sqrt{x + 2}$ up to terms of order two.\n",
    "\n",
    "Hint: Use binomial series."
   ]
  },
  {
   "cell_type": "markdown",
   "metadata": {},
   "source": [
    "### Solution\n",
    "\n",
    "Let $h = x - 2$, we have\n",
    "\n",
    "$\n",
    "\\begin{equation}\n",
    "\\begin{split}\n",
    "f(x) &= f(h + 2) \\\\\n",
    "&= \\sqrt{h + 4} \\\\\n",
    "&= 2 \\sqrt{1 + \\frac{h}{4}}\n",
    "\\end{split}\n",
    "\\end{equation}\n",
    "$\n",
    "\n",
    "The binomial series of $\\sqrt{h + 4}$ at $h = 0$ is\n",
    "\n",
    "$\n",
    "\\begin{equation}\n",
    "\\begin{split}\n",
    "f(h + 2) & = 2 \\sqrt{1 + \\frac{h}{4}} \\\\\n",
    "&= 2 (1 + \\frac{1}{2} \\frac{h}{4} + \\frac{1}{2!} (\\frac{1}{2} (1 - \\frac{1}{2}) (\\frac{h}{4})^2 + H.O.T.) \\\\\n",
    "&= 2 + \\frac{h}{4} - \\frac{h^2}{64} + H.O.T.\n",
    "\\end{split}\n",
    "\\end{equation}\n",
    "$\n",
    "\n",
    "By substituting $h$ back by $x - 2$, we have\n",
    "\n",
    "$\n",
    "\\begin{equation}\n",
    "\\begin{split}\n",
    "f(x) &= \\sqrt{x + 2} \\\\\n",
    "&= 2 + \\frac{x - 2}{4} - \\frac{(x - 2)^2}{64} + H.O.T.\n",
    "\\end{split}\n",
    "\\end{equation}\n",
    "$\n"
   ]
  },
  {
   "cell_type": "markdown",
   "metadata": {},
   "source": [
    "### Verify with SymPy"
   ]
  },
  {
   "cell_type": "code",
   "execution_count": 24,
   "metadata": {},
   "outputs": [
    {
     "data": {
      "image/png": "[encoded data removed]",
      "text/latex": [
       "$$\\frac{3}{2} - \\frac{\\left(x - 2\\right)^{2}}{64} + \\frac{\\left(x - 2\\right)^{3}}{512} - \\frac{5 \\left(x - 2\\right)^{4}}{16384} + \\frac{7 \\left(x - 2\\right)^{5}}{131072} + \\frac{x}{4} + O\\left(\\left(x - 2\\right)^{6}; x\\rightarrow 2\\right)$$"
      ],
      "text/plain": [
       "           2          3            4            5                         \n",
       "3   (x - 2)    (x - 2)    5⋅(x - 2)    7⋅(x - 2)    x    ⎛       6       ⎞\n",
       "─ - ──────── + ──────── - ────────── + ────────── + ─ + O⎝(x - 2) ; x → 2⎠\n",
       "2      64        512        16384        131072     4                     "
      ]
     },
     "execution_count": 24,
     "metadata": {},
     "output_type": "execute_result"
    }
   ],
   "source": [
    "from sympy import sqrt\n",
    "\n",
    "sqrt(x + 2).series(x0=2)"
   ]
  },
  {
   "cell_type": "code",
   "execution_count": null,
   "metadata": {},
   "outputs": [],
   "source": []
  }
 ],
 "metadata": {
  "kernelspec": {
   "display_name": "Python 3",
   "language": "python",
   "name": "python3"
  },
  "language_info": {
   "codemirror_mode": {
    "name": "ipython",
    "version": 3
   },
   "file_extension": ".py",
   "mimetype": "text/x-python",
   "name": "python",
   "nbconvert_exporter": "python",
   "pygments_lexer": "ipython3",
   "version": "3.7.0"
  }
 },
 "nbformat": 4,
 "nbformat_minor": 2
}
