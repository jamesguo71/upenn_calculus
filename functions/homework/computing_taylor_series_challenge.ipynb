{
 "cells": [
  {
   "cell_type": "markdown",
   "metadata": {},
   "source": [
    "## 1.\n",
    "\n",
    "Suppose that a function $f(x)$ is _reasonable_, so that it has a Taylor series\n",
    "\n",
    "$\n",
    "\\begin{equation}\n",
    "f(x) = c_0 + c_1 x + c_2 x^2 + H.O.T.\n",
    "\\end{equation}\n",
    "$\n",
    "\n",
    "with $x \\neq 0$. Then the reciprocal function $g(x) = \\frac{1}{x}$ is defined at $x = 0$ and is also reasonable. Let\n",
    "\n",
    "$\n",
    "\\begin{equation}\n",
    "g(x) = b_0 + b_1 x + b_2 x^2 + H.O.T.\n",
    "\\end{equation}\n",
    "$\n",
    "\n",
    "be its Taylor series. Because $f(x)g(x) = 1$, we have\n",
    "\n",
    "$\n",
    "\\begin{equation}\n",
    "(c_0 + c_1 x + c_2 x^2 + H.O.T.) (b_0 + b_1 x + b_2 x^2 + H.O.T.) = 1 + 0 x + 0 x^2 + H.O.T.\n",
    "\\end{equation}\n",
    "$\n",
    "\n",
    "Multiplying out the two series on the left hand side and combining like terms, we obtain\n",
    "\n",
    "$\n",
    "\\begin{equation}\n",
    "c_0 b_0 + (c_1 b_0 + c_0 b_1) x + (c_0 b_2 + c_1 b_1 + c_2 b_0) x^2 + H.O.T. = 1 + 0 x + 0 x^2 + H.O.T.\n",
    "\\end{equation}\n",
    "$\n",
    "\n",
    "Equating the coefficients of each power of $x$ on both sides of this expression, we arrive at the (infinite!) system of equations\n",
    "\n",
    "$\n",
    "\\begin{array}{c}\n",
    "c_0 b_0 &= 1 \\\\\n",
    "c_1 b_0 + c_0 b_1 &= 0 \\\\\n",
    "c_0 b_2 + c_1 b_1 + c_2 b_0 &= 0\n",
    "\\end{array}\n",
    "$\n",
    "\n",
    "relating the coefficients of the Taylor series of $f(x)$ to those of the Taylor series of $g(x)$. For example, the first equation yields $b_0 = \\frac{1}{c_0}$, while the second gives $b_1 = -\\frac{c_1 b_0}{c_0} = -\\frac{c_1}{c_0^2}$\n",
    "\n",
    "Using the above reasoning for $f(x) = \\cos x$, determine the Taylor series of $g(x) = \\sec x$ up to terms of degree two."
   ]
  },
  {
   "cell_type": "markdown",
   "metadata": {},
   "source": [
    "### Solution\n",
    "\n",
    "$\n",
    "\\begin{equation}\n",
    "\\begin{split}\n",
    "f(x) &= \\cos x \\\\\n",
    "&= c_0 + c_1 x + c_2 x^2 + H.O.T. \\\\\n",
    "&= 1 + (0) x + (-\\frac{1}{2!}) x^2 + H.O.T.\n",
    "\\end{split}\n",
    "\\end{equation}\n",
    "$\n",
    "\n",
    "Hence \n",
    "\n",
    "$\n",
    "\\begin{array}{}\n",
    "c_0 &= 1 \\\\\n",
    "c_1 &= 0 \\\\\n",
    "c_2 &= -\\frac{1}{2!}\n",
    "\\end{array}\n",
    "$\n",
    "\n",
    "$\n",
    "\\begin{array}{}\n",
    "b_0 &= \\frac{1}{c_0} &= 1 \\\\\n",
    "b_1 &= -\\frac{c_1 b_0}{c_0} &= -\\frac{c_1}{c_0^2} &= -\\frac{0}{1^2} &= 0 \\\\\n",
    "b_2 &= -\\frac{(c_1 b_1 + c_2 b_0)}{c_0} &= - \\frac{c_1 (-\\frac{c_1}{c_0^2}) + c_2 \\frac{1}{c_0}}{c_0} \n",
    "&= \\frac{c_1^2}{c_0^3} 1 \\frac{c_2}{c_0^2} &= \\frac{0^2}{1^3} - \\frac{-\\frac{1}{2!}}{1^2} &= \\frac{1}{2!}\n",
    "\\end{array}\n",
    "$\n",
    "\n",
    "Hence\n",
    "\n",
    "$\n",
    "\\begin{equation}\n",
    "\\sec x = 1 + \\frac{1}{2!} x^2 + H.O.T.\n",
    "\\end{equation}\n",
    "$"
   ]
  },
  {
   "cell_type": "markdown",
   "metadata": {},
   "source": [
    "## Verify with SymPy"
   ]
  },
  {
   "cell_type": "code",
   "execution_count": 4,
   "metadata": {},
   "outputs": [
    {
     "data": {
      "image/png": "[encoded data removed]",
      "text/latex": [
       "$$1 + \\frac{x^{2}}{2} + \\frac{5 x^{4}}{24} + O\\left(x^{6}\\right)$$"
      ],
      "text/plain": [
       "     2      4        \n",
       "    x    5⋅x     ⎛ 6⎞\n",
       "1 + ── + ──── + O⎝x ⎠\n",
       "    2     24         "
      ]
     },
     "execution_count": 4,
     "metadata": {},
     "output_type": "execute_result"
    }
   ],
   "source": [
    "from sympy import init_printing, symbols, sec, series\n",
    "\n",
    "init_printing()\n",
    "\n",
    "x = symbols('x')\n",
    "\n",
    "series(sec(x))"
   ]
  },
  {
   "cell_type": "code",
   "execution_count": null,
   "metadata": {},
   "outputs": [],
   "source": []
  }
 ],
 "metadata": {
  "kernelspec": {
   "display_name": "Python 3",
   "language": "python",
   "name": "python3"
  },
  "language_info": {
   "codemirror_mode": {
    "name": "ipython",
    "version": 3
   },
   "file_extension": ".py",
   "mimetype": "text/x-python",
   "name": "python",
   "nbconvert_exporter": "python",
   "pygments_lexer": "ipython3",
   "version": "3.7.0"
  }
 },
 "nbformat": 4,
 "nbformat_minor": 2
}
