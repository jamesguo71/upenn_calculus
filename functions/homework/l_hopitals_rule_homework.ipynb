{
 "cells": [
  {
   "cell_type": "markdown",
   "metadata": {},
   "source": [
    "## 1. $$\\lim_{x \\to 2} \\frac{x^3 + 2 x^2 - 4 x - 8}{x - 2}$$"
   ]
  },
  {
   "cell_type": "markdown",
   "metadata": {},
   "source": [
    "### Solution\n",
    "\n",
    "$$\n",
    "\\begin{equation}\n",
    "\\begin{aligned}{}\n",
    "\\lim_{x \\to 2} \\frac{x^3 + 2 x^2 - 4 x - 8}{x - 2} &= \\lim_{x \\to 2} \\frac{\\frac{d}{d x}(x^3 + 2 x^2 - 4 x - 8)}{\\frac{d}{d x}(x - 2)} & \\text{as both $\\lim_{x \\to 2} (x^3 + 2 x^2 - 4 x - 8) = 0$ and $\\lim_{x \\to 2} (x - 2)$} \\\\\n",
    "&= \\lim_{x \\to 2} \\frac{3 x^2 + 4 x - 4}{1} \\\\\n",
    "&= 16\n",
    "\\end{aligned}\n",
    "\\end{equation}\n",
    "$$"
   ]
  },
  {
   "cell_type": "code",
   "execution_count": 2,
   "metadata": {},
   "outputs": [
    {
     "data": {
      "image/png": "[encoded data removed]",
      "text/latex": [
       "$$16$$"
      ],
      "text/plain": [
       "16"
      ]
     },
     "execution_count": 2,
     "metadata": {},
     "output_type": "execute_result"
    }
   ],
   "source": [
    "## Verify with SymPy\n",
    "\n",
    "from sympy import symbols, limit, init_printing\n",
    "\n",
    "init_printing()\n",
    "\n",
    "x = symbols('x')\n",
    "\n",
    "limit((x ** 3 + 2 * (x ** 2) - 4 * x - 8) / (x - 2), x, 2)"
   ]
  },
  {
   "cell_type": "markdown",
   "metadata": {},
   "source": [
    "## 2. $$\\lim_{x \\to \\frac{\\pi}{3}} \\frac{1 - 2 \\cos x}{\\pi - 3 x}$$"
   ]
  },
  {
   "cell_type": "markdown",
   "metadata": {},
   "source": [
    "### Solution\n",
    "\n",
    "$$\n",
    "\\begin{equation}\n",
    "\\begin{aligned}{}\n",
    "\\lim_{x \\to \\frac{\\pi}{3}} \\frac{1 - 2 \\cos x}{\\pi - 3 x} &= \\lim_{x \\to \\frac{\\pi}{3}} \\frac{\\frac{d}{d x}(1 - 2 \\cos x)}{\\frac{d}{d x}(\\pi - 3 x)} & \\text{as $\\lim_{x \\to \\frac{\\pi}{3}}(1 - 2 \\cos x) = 0$ and $\\lim_{x \\to \\frac{\\pi}{3}}(\\pi - 3 x) = 0$}\\\\\n",
    "&= \\lim_{x \\to \\frac{\\pi}{3}} \\frac{2\\sin x}{-3} \\\\\n",
    "&= - \\frac{\\sqrt{3}}{3}\n",
    "\\end{aligned}\n",
    "\\end{equation}\n",
    "$$"
   ]
  },
  {
   "cell_type": "code",
   "execution_count": 5,
   "metadata": {},
   "outputs": [
    {
     "data": {
      "image/png": "[encoded data removed]",
      "text/latex": [
       "$$- \\frac{\\sqrt{3}}{3}$$"
      ],
      "text/plain": [
       "-√3 \n",
       "────\n",
       " 3  "
      ]
     },
     "execution_count": 5,
     "metadata": {},
     "output_type": "execute_result"
    }
   ],
   "source": [
    "## Verify with SymPy\n",
    "\n",
    "from sympy import cos, pi\n",
    "\n",
    "limit((1 - 2 * cos(x)) / (pi - 3 * x), x, pi / 3)"
   ]
  },
  {
   "cell_type": "markdown",
   "metadata": {},
   "source": [
    "## 3. $$\\lim_{x \\to \\pi} \\frac{4 \\sin x \\cos x}{\\pi - x}$$"
   ]
  },
  {
   "cell_type": "markdown",
   "metadata": {},
   "source": [
    "### Solution\n",
    "\n",
    "$$\n",
    "\\begin{equation}\n",
    "\\begin{aligned}{}\n",
    "\\lim_{x \\to \\pi} \\frac{4 \\sin x \\cos x}{\\pi - x} &= \\lim_{x \\to \\pi} \\frac{\\frac{d}{d x}(4 \\sin x \\cos x)}{\\frac{d}{d x}(\\pi - x)} & \\text{as $\\lim_{x \\to \\pi} (4 \\sin x \\cos x) = 0$ and $\\lim_{x \\to \\pi} (\\pi - x) = 0$} \\\\\n",
    "&= \\lim_{x \\to \\pi} \\frac{4(\\cos^2 x - \\sin^2 x)}{-1} \\\\\n",
    "&= -4\n",
    "\\end{aligned}\n",
    "\\end{equation}\n",
    "$$"
   ]
  },
  {
   "cell_type": "code",
   "execution_count": 7,
   "metadata": {},
   "outputs": [
    {
     "data": {
      "image/png": "[encoded data removed]",
      "text/latex": [
       "$$-4$$"
      ],
      "text/plain": [
       "-4"
      ]
     },
     "execution_count": 7,
     "metadata": {},
     "output_type": "execute_result"
    }
   ],
   "source": [
    "## Verify with SymPy\n",
    "\n",
    "from sympy import sin\n",
    "\n",
    "limit((4 * sin(x) * cos(x)) / (pi - x), x, pi)"
   ]
  },
  {
   "cell_type": "markdown",
   "metadata": {},
   "source": [
    "## 4.  $$\\lim_{x \\to 9} \\frac{2 x - 18}{\\sqrt{x} - 3}$$"
   ]
  },
  {
   "cell_type": "markdown",
   "metadata": {},
   "source": [
    "### Solution\n",
    "\n",
    "$$\n",
    "\\begin{equation}\n",
    "\\begin{aligned}{}\n",
    "\\lim_{x \\to 9} \\frac{2 x - 18}{\\sqrt{x} - 3} &= \\lim_{x \\to 9} \\frac{\\frac{d}{d x}(2 x - 18)}{\\frac{d}{d x} (\\sqrt{x} - 3)} & \\text{as $\\lim_{x \\to 9} (2 x - 18) = 0$ and $\\lim_{x \\to 9} \\sqrt{x} - 3) = 0$} \\\\\n",
    "&= \\lim_{x \\to 9} \\frac{2}{\\frac{1}{2}x^{-\\frac{1}{2}}} \\\\\n",
    "&= 12\n",
    "\\end{aligned}\n",
    "\\end{equation}\n",
    "$$"
   ]
  },
  {
   "cell_type": "code",
   "execution_count": 8,
   "metadata": {},
   "outputs": [
    {
     "data": {
      "image/png": "[encoded data removed]",
      "text/latex": [
       "$$12$$"
      ],
      "text/plain": [
       "12"
      ]
     },
     "execution_count": 8,
     "metadata": {},
     "output_type": "execute_result"
    }
   ],
   "source": [
    "## Verify with SymPy\n",
    "\n",
    "from sympy import sqrt\n",
    "\n",
    "limit((2 * x - 18) / (sqrt(x) - 3), x, 9)"
   ]
  },
  {
   "cell_type": "markdown",
   "metadata": {},
   "source": [
    "## 5. $$\\lim_{x \\to 0} \\frac{e^x - \\sin x - 1}{x^2 - x^3}$$"
   ]
  },
  {
   "cell_type": "markdown",
   "metadata": {},
   "source": [
    "### Solution\n",
    "\n",
    "$$\n",
    "\\begin{equation}\n",
    "\\begin{aligned}{}\n",
    "\\lim_{x \\to 0} \\frac{e^x - \\sin x - 1}{x^2 - x^3} &= \\lim_{x \\to 0} \\frac{\\frac{d}{d x} (e^x - \\sin x - 1)}{\\frac{d}{d x} (x^2 - x^3)} & \\text{as $\\lim_{x \\to 0} (e^x - \\sin x - 1) = 0$ and $\\lim_{x \\to 0} (x^2 - x^3) = 0$} \\\\\n",
    "&= \\lim_{x \\to 0} \\frac{e^x - \\cos x}{2 x - 3 x^2} \\\\\n",
    "&= \\lim_{x \\to 0} \\frac{\\frac{d}{d x} (e^x - \\cos x)}{\\frac{d}{d x} (2 x - 3 x^2)} & \\text{as $\\lim_{x \\to 0} (e^x - \\cos x) = 0$ and $\\lim_{x \\to 0} (2 x - 3 x^2) = 0$} \\\\\n",
    "&= \\lim_{x \\to 0} \\frac{e^x + \\sin x}{2 - 6 x} \\\\\n",
    "&= \\frac{1}{2}\n",
    "\\end{aligned}\n",
    "\\end{equation}\n",
    "$$"
   ]
  },
  {
   "cell_type": "code",
   "execution_count": 9,
   "metadata": {},
   "outputs": [
    {
     "data": {
      "image/png": "[encoded data removed]",
      "text/latex": [
       "$$\\frac{1}{2}$$"
      ],
      "text/plain": [
       "1/2"
      ]
     },
     "execution_count": 9,
     "metadata": {},
     "output_type": "execute_result"
    }
   ],
   "source": [
    "## Verify with SymPy\n",
    "\n",
    "from sympy import exp\n",
    "\n",
    "limit((exp(x) - sin(x) - 1) / (x ** 2 - x ** 3), x, 0)"
   ]
  },
  {
   "cell_type": "markdown",
   "metadata": {},
   "source": [
    "## 6. $$\\lim_{x \\to 1} \\frac{\\cos(\\frac{\\pi x}{2})}{1 - \\sqrt{x}}$$"
   ]
  },
  {
   "cell_type": "markdown",
   "metadata": {},
   "source": [
    "### Solution\n",
    "\n",
    "$$\n",
    "\\begin{equation}\n",
    "\\begin{aligned}{}\n",
    "\\lim_{x \\to 1} \\frac{\\cos(\\frac{\\pi x}{2})}{1 - \\sqrt{x}} &= \\lim_{x \\to 1} \\frac{\\frac{d}{d x} \\cos(\\frac{\\pi x}{2})}{\\frac{d}{d x} (1 - \\sqrt{x})} & \\text{as $\\lim_{x \\to 1} \\cos(\\frac{\\pi x}{2}) = 0$ and $\\lim_{x \\to 1} (1 - \\sqrt{x}) = 0$} \\\\\n",
    "&= \\lim_{x \\to 1} \\frac{-\\frac{\\pi}{2} \\sin(\\frac{\\pi x}{2})}{-\\frac{1}{2} x^{-\\frac{1}{2}}} \\\\\n",
    "&= \\lim_{x \\to 1} \\frac{\\pi \\sin(\\frac{\\pi x}{2})}{x^{-\\frac{1}{2}}} \\\\\n",
    "&= \\lim_{x \\to 1} \\pi \\sin(\\frac{\\pi x}{2}) \\sqrt{x} \\\\\n",
    "&= \\pi\n",
    "\\end{aligned}\n",
    "\\end{equation}\n",
    "$$"
   ]
  },
  {
   "cell_type": "code",
   "execution_count": 11,
   "metadata": {},
   "outputs": [
    {
     "data": {
      "image/png": "[encoded data removed]",
      "text/latex": [
       "$$\\pi$$"
      ],
      "text/plain": [
       "π"
      ]
     },
     "execution_count": 11,
     "metadata": {},
     "output_type": "execute_result"
    }
   ],
   "source": [
    "### Verify with SymPy\n",
    "\n",
    "limit(cos(pi * x / 2) / (1 - sqrt(x)), x, 1)"
   ]
  },
  {
   "cell_type": "code",
   "execution_count": null,
   "metadata": {},
   "outputs": [],
   "source": []
  }
 ],
 "metadata": {
  "kernelspec": {
   "display_name": "Python 3",
   "language": "python",
   "name": "python3"
  },
  "language_info": {
   "codemirror_mode": {
    "name": "ipython",
    "version": 3
   },
   "file_extension": ".py",
   "mimetype": "text/x-python",
   "name": "python",
   "nbconvert_exporter": "python",
   "pygments_lexer": "ipython3",
   "version": "3.7.0"
  }
 },
 "nbformat": 4,
 "nbformat_minor": 2
}
