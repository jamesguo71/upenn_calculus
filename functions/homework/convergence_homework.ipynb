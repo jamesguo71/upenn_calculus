{
 "cells": [
  {
   "cell_type": "markdown",
   "metadata": {},
   "source": [
    "## 1. Use the geometric series to compute the Taylor series for $f(x) = \\frac{1}{2 - x}$. Where does the series converge? Hint: $\\frac{1}{2 - x} = \\frac{1}{2} \\frac{1}{1 - \\frac{x}{2}}$"
   ]
  },
  {
   "cell_type": "markdown",
   "metadata": {},
   "source": [
    "### Solution\n",
    "\n",
    "$\n",
    "\\begin{equation}\n",
    "\\begin{split}\n",
    "f(x) &= \\frac{1}{2 - x} \\\\\n",
    "&= \\frac{1}{2} \\frac{1}{1 - \\frac{x}{2}} \\\\\n",
    "\\end{split}\n",
    "\\end{equation}\n",
    "$\n",
    "\n",
    "For $|\\frac{x}{2}| < 1$ hence $|x| < 2$ we have\n",
    "\n",
    "$\n",
    "\\begin{equation}\n",
    "\\begin{split}\n",
    "f(x) &= \\frac{1}{2} \\frac{1}{1 - \\frac{x}{2}} \\\\\n",
    "&= \\frac{1}{2} \\sum_{k=0}^{\\infty} (\\frac{x}{2})^k \\\\\n",
    "&= \\frac{1}{2} \\sum_{k=0}^{\\infty} \\frac{x^k}{2^k} \\\\\n",
    "&= \\sum_{k=0}^{\\infty} \\frac{x^k}{2^{k + 1}}\n",
    "\\end{split}\n",
    "\\end{equation}\n",
    "$"
   ]
  },
  {
   "cell_type": "markdown",
   "metadata": {},
   "source": [
    "### Verify with SymPy"
   ]
  },
  {
   "cell_type": "code",
   "execution_count": 1,
   "metadata": {},
   "outputs": [
    {
     "data": {
      "image/png": "[encoded data removed]",
      "text/latex": [
       "$$\\frac{1}{2} + \\frac{x}{4} + \\frac{x^{2}}{8} + \\frac{x^{3}}{16} + \\frac{x^{4}}{32} + \\frac{x^{5}}{64} + O\\left(x^{6}\\right)$$"
      ],
      "text/plain": [
       "         2    3    4    5        \n",
       "1   x   x    x    x    x     ⎛ 6⎞\n",
       "─ + ─ + ── + ── + ── + ── + O⎝x ⎠\n",
       "2   4   8    16   32   64        "
      ]
     },
     "execution_count": 1,
     "metadata": {},
     "output_type": "execute_result"
    }
   ],
   "source": [
    "from sympy import symbols, init_printing\n",
    "\n",
    "init_printing()\n",
    "\n",
    "x = symbols('x')\n",
    "\n",
    "(1 / (2 - x)).series()"
   ]
  },
  {
   "cell_type": "markdown",
   "metadata": {},
   "source": [
    "## 2. Compute and simplify the full Taylor series about $x=0$ of the function $f(x) = \\frac{1}{2 - x} +  \\frac{1}{2 - 3x}$. Where does this series converge?"
   ]
  },
  {
   "cell_type": "markdown",
   "metadata": {},
   "source": [
    "### Solution\n",
    "\n",
    "For $|\\frac{x}{2}| < 1$ hence $|x| < 2$ we have:\n",
    "\n",
    "$\n",
    "\\begin{equation}\n",
    "\\begin{split}\n",
    "\\frac{1}{2 - x} &= \\frac{1}{2} \\frac{1}{1 - \\frac{x}{2}} \\\\\n",
    "&= \\frac{1}{2} \\sum_{k=0}^{\\infty} (\\frac{x}{2})^k \\\\\n",
    "&= \\sum_{k=0}^{\\infty} \\frac{x^k}{2^{k + 1}}\n",
    "\\end{split}\n",
    "\\end{equation}\n",
    "$\n",
    "\n",
    "For $|\\frac{3x}{2}| < 1$ hence $|x| < \\frac{2}{3}$ we have:\n",
    "\n",
    "$\n",
    "\\begin{equation}\n",
    "\\begin{split}\n",
    "\\frac{1}{2 - 3x} &= \\frac{1}{2} \\frac{1}{1 - \\frac{3x}{2}} \\\\\n",
    "&= \\frac{1}{2} \\sum_{k=0}^{\\infty} (\\frac{3x}{2})^k \\\\\n",
    "&= \\frac{1}{2} \\sum_{k=0}^{\\infty} \\frac{3^k x^k}{2^k} \\\\\n",
    "&= \\sum_{k=0}^{\\infty} \\frac{3^k x^k}{2^{k+1}}\n",
    "\\end{split}\n",
    "\\end{equation}\n",
    "$\n",
    "\n",
    "Hence for $|x| < \\frac{2}{3}$ we have:\n",
    "\n",
    "$\n",
    "\\begin{equation}\n",
    "\\begin{split}\n",
    "f(x) &= \\frac{1}{2 - x} + \\frac{2}{2 - 3x} \\\\\n",
    "&= \\sum_{k=0}^{\\infty} \\frac{x^k}{2^{k + 1}} + \\sum_{k=0}^{\\infty} \\frac {3^k x^k}{2^{k+1}} \\\\\n",
    "&= \\sum_{k=0}^{\\infty} \\frac{1 + 3^k}{2^{k+1}} x^k \\\\\n",
    "\\end{split}\n",
    "\\end{equation}\n",
    "$"
   ]
  },
  {
   "cell_type": "markdown",
   "metadata": {},
   "source": [
    "### Verify with SymPy"
   ]
  },
  {
   "cell_type": "code",
   "execution_count": 2,
   "metadata": {},
   "outputs": [
    {
     "data": {
      "image/png": "[encoded data removed]",
      "text/latex": [
       "$$1 + x + \\frac{5 x^{2}}{4} + \\frac{7 x^{3}}{4} + \\frac{41 x^{4}}{16} + \\frac{61 x^{5}}{16} + O\\left(x^{6}\\right)$$"
      ],
      "text/plain": [
       "           2      3       4       5        \n",
       "        5⋅x    7⋅x    41⋅x    61⋅x     ⎛ 6⎞\n",
       "1 + x + ──── + ──── + ───── + ───── + O⎝x ⎠\n",
       "         4      4       16      16         "
      ]
     },
     "execution_count": 2,
     "metadata": {},
     "output_type": "execute_result"
    }
   ],
   "source": [
    "(1 / (2 - x) + 1 / (2 - 3 * x)).series()"
   ]
  },
  {
   "cell_type": "markdown",
   "metadata": {},
   "source": [
    "## 3. Which of the following is the Taylor series of $\\ln \\frac{1}{1 - x}$ about $x = 0$ up to and including the terms of order three?"
   ]
  },
  {
   "cell_type": "markdown",
   "metadata": {},
   "source": [
    "### Solution\n",
    "\n",
    "$\n",
    "\\begin{equation}\n",
    "\\begin{split}\n",
    "\\ln \\frac{1}{1 - x} &= \\ln 1 - \\ln (1 - x) \\\\\n",
    "&= - \\ln (1 + (-x)) \\\\\n",
    "&= - \\sum_{k=1}^{\\infty} (-1)^{k + 1} \\frac{(-x)^k}{k} \\\\\n",
    "&= - \\sum_{k=1}^{\\infty} ((-1)^k)^2 (-1) \\frac{x^k}{k} \\\\\n",
    "&= \\sum_{k=1}^{\\infty} \\frac{x^k}{k} \\\\\n",
    "&= x + \\frac{x^2}{2} + \\frac{x^3}{3} + H.O.T.\n",
    "\\end{split}\n",
    "\\end{equation}\n",
    "$"
   ]
  },
  {
   "cell_type": "markdown",
   "metadata": {},
   "source": [
    "### Verify with SymPy"
   ]
  },
  {
   "cell_type": "code",
   "execution_count": 7,
   "metadata": {},
   "outputs": [
    {
     "data": {
      "image/png": "[encoded data removed]",
      "text/latex": [
       "$$x + \\frac{x^{2}}{2} + \\frac{x^{3}}{3} + O\\left(x^{4}\\right)$$"
      ],
      "text/plain": [
       "     2    3        \n",
       "    x    x     ⎛ 4⎞\n",
       "x + ── + ── + O⎝x ⎠\n",
       "    2    3         "
      ]
     },
     "execution_count": 7,
     "metadata": {},
     "output_type": "execute_result"
    }
   ],
   "source": [
    "from sympy import ln\n",
    "\n",
    "ln(1 / (1 - x)).series(n=4)"
   ]
  },
  {
   "cell_type": "markdown",
   "metadata": {},
   "source": [
    "## 4. Use the binomial series to find the Taylor series about $x = 0$ of the function $f(x) = (9 - x^2)^{-\\frac{1}{2}}$. Indicate for which values of x the series converges to the function."
   ]
  },
  {
   "cell_type": "markdown",
   "metadata": {},
   "source": [
    "### Solutions\n",
    "\n",
    "\n",
    "$\n",
    "\\begin{equation}\n",
    "\\begin{split}\n",
    "f(x) &= (9 - x^2)^{-\\frac{1}{2}}\\\\\n",
    "&= 9^{-\\frac{1}{2}} (1 - \\frac{x^2}{9})^{-\\frac{1}{2}} \\\\\n",
    "&= \\frac{1}{3} (1 - \\frac{x^2}{9})^{-\\frac{1}{2}}\n",
    "\\end{split}\n",
    "\\end{equation}\n",
    "$\n",
    "\n",
    "For $|\\frac{x^2}{9}| < 1$, hence for $|x| < 3$:\n",
    "\n",
    "$\n",
    "\\begin{equation}\n",
    "\\begin{split}\n",
    "f(x) &= \\frac{1}{3} (1 - \\frac{x^2}{9})^{-\\frac{1}{2}} \\\\\n",
    "&= \\frac{1}{3} \\sum_{k=0}^{\\infty} \\binom{-\\frac{1}{2}}{k} (-\\frac{x^2}{9})^k \\\\\n",
    "&= \\sum_{k=0}^{\\infty} (-1)^k \\binom{-\\frac{1}{2}}{k} \\frac{x^{2k}}{3^{2k + 1}} \\\\\n",
    "\\end{split}\n",
    "\\end{equation}\n",
    "$"
   ]
  },
  {
   "cell_type": "markdown",
   "metadata": {},
   "source": [
    "### Verify with SymPy"
   ]
  },
  {
   "cell_type": "code",
   "execution_count": 11,
   "metadata": {},
   "outputs": [
    {
     "data": {
      "image/png": "[encoded data removed]",
      "text/latex": [
       "$$0.333333333333333 + 0.0185185185185185 x^{2} + 0.00154320987654321 x^{4} + O\\left(x^{6}\\right)$$"
      ],
      "text/plain": [
       "                                        2                        4    ⎛ 6⎞\n",
       "0.333333333333333 + 0.0185185185185185⋅x  + 0.00154320987654321⋅x  + O⎝x ⎠"
      ]
     },
     "execution_count": 11,
     "metadata": {},
     "output_type": "execute_result"
    }
   ],
   "source": [
    "((9 - x ** 2) ** (-1 / 2)).series()"
   ]
  },
  {
   "cell_type": "markdown",
   "metadata": {},
   "source": [
    "### 5. Use the fact that $\\arcsin x = \\int \\frac{dx}{\\sqrt{1 - x^2}}$ and the binomial series to find the Taylor series about $x = 0$ of $\\arcsin x$ up to terms of order five."
   ]
  },
  {
   "cell_type": "markdown",
   "metadata": {},
   "source": [
    "### Solution\n",
    "\n",
    "$\n",
    "\\begin{equation}\n",
    "\\begin{split}\n",
    "\\arcsin x &= \\int \\frac{1}{\\sqrt{1 - x^2}} dx \\\\\n",
    "&= \\int (1 - x^2)^{-\\frac{1}{2}} dx \\\\\n",
    "&= \\int \\sum_{k=0}^{\\infty} \\binom{-\\frac{1}{2}}{k} (-x^2)^k dx \\\\\n",
    "&= \\int \\sum_{k=0}^{\\infty} (-1)^k \\binom{-\\frac{1}{2}}{k} x^{2k} dx \\\\\n",
    "&= \\sum_{k=0}^{\\infty} (-1)^k \\binom{-\\frac{1}{2}}{k} \\int x^{2k} dx \\\\\n",
    "&= \\sum_{k=0}^{\\infty} (-1)^k \\binom{-\\frac{1}{2}}{k} \\frac{1}{2k + 1} x^{2k + 1} + C\n",
    "\\end{split}\n",
    "\\end{equation}\n",
    "$\n",
    "\n",
    "\n",
    "Because the generic form Talor series of a function is\n",
    "\n",
    "$\n",
    "\\begin{equation}\n",
    "\\sum_{k=0}^{\\infty} \\frac{f^{(k)}(0)}{k!} x^k = f(0) + \\frac{df}{dx}|_0 x + \\frac{1}{2!} \\frac{d^2f}{dx^2}|_0 x^2 + \\frac{1}{3!} \\frac{d^3f}{dx^3}|_0 x^3 + ... \\\\\n",
    "\\end{equation}\n",
    "$\n",
    "\n",
    "\n",
    "For $k = 0$, because $\\frac{df}{dx}|_0 x = \\frac{1}{\\sqrt{1 - x^2}}|_0 x = x$, hence\n",
    "\n",
    "$\n",
    "\\begin{array}{}\n",
    "(-1)^0 \\binom{-\\frac{1}{2}}{0} (\\frac{1}{2 \\cdot 0 + 1} x^{2 \\cdot 0 + 1} + C) &= x \\\\\n",
    "C &= 0\n",
    "\\end{array}\n",
    "$\n",
    "\n",
    "$\n",
    "\\begin{equation}\n",
    "\\begin{split}\n",
    "\\arcsin x &= \\sum_{k=0}^{\\infty} (-1)^k \\binom{- \\frac{1}{2}}{k} (\\frac{1}{2k + 1} x^{2k + 1} + C) \\\\\n",
    "&= \\sum_{k=0}^{\\infty} (-1)^k \\binom{- \\frac{1}{2}}{k} \\frac{1}{2k + 1} x^{2k + 1} \\\\\n",
    "&= x - \\binom{- \\frac{1}{2}}{1} \\frac{1}{3} x^3 + \\binom{- \\frac{1}{2}}{2} \\frac{1}{5} x^5 + H.O.T. \\\\\n",
    "&= x - \\frac{-\\frac{1}{2}}{1!} \\frac{1}{3} x^3 + \\frac{-\\frac{1}{2}(-\\frac{1}{2} - 2 + 1)}{2!} \\frac{1}{5} x^5 + H.O.T. \\\\\n",
    "&= x + \\frac{1}{6} x^3 + \\frac{\\frac{3}{4}}{2!} \\frac{1}{5} x^5 + H.O.T. \\\\\n",
    "&= x + \\frac{1}{6} x^3 + \\frac{3}{40} x^5 + H.O.T. \\\\\n",
    "\\end{split}\n",
    "\\end{equation}\n",
    "$\n"
   ]
  },
  {
   "cell_type": "code",
   "execution_count": 37,
   "metadata": {},
   "outputs": [
    {
     "data": {
      "image/png": "[encoded data removed]",
      "text/latex": [
       "$$x + \\frac{x^{3}}{6} + \\frac{3 x^{5}}{40} + O\\left(x^{6}\\right)$$"
      ],
      "text/plain": [
       "     3      5        \n",
       "    x    3⋅x     ⎛ 6⎞\n",
       "x + ── + ──── + O⎝x ⎠\n",
       "    6     40         "
      ]
     },
     "execution_count": 37,
     "metadata": {},
     "output_type": "execute_result"
    }
   ],
   "source": [
    "from sympy.functions.elementary.trigonometric import asin\n",
    "\n",
    "asin(x).series()"
   ]
  },
  {
   "cell_type": "code",
   "execution_count": 51,
   "metadata": {},
   "outputs": [
    {
     "data": {
      "image/png": "[encoded data removed]",
      "text/latex": [
       "$$-0.5$$"
      ],
      "text/plain": [
       "-0.500000000000000"
      ]
     },
     "execution_count": 51,
     "metadata": {},
     "output_type": "execute_result"
    }
   ],
   "source": [
    "from sympy import binomial\n",
    "\n",
    "binomial(-1/2, 1)"
   ]
  },
  {
   "cell_type": "code",
   "execution_count": 38,
   "metadata": {},
   "outputs": [
    {
     "data": {
      "image/png": "[encoded data removed]",
      "text/latex": [
       "$$\\begin{cases} \\frac{x^{2 k + 1}}{2 k + 1} & \\text{for}\\: 2 k \\neq -1 \\\\\\log{\\left (x \\right )} & \\text{otherwise} \\end{cases}$$"
      ],
      "text/plain": [
       "⎧ 2⋅k + 1              \n",
       "⎪x                     \n",
       "⎪────────  for 2⋅k ≠ -1\n",
       "⎨2⋅k + 1               \n",
       "⎪                      \n",
       "⎪ log(x)    otherwise  \n",
       "⎩                      "
      ]
     },
     "execution_count": 38,
     "metadata": {},
     "output_type": "execute_result"
    }
   ],
   "source": [
    "from sympy.integrals import integrate\n",
    "\n",
    "k = symbols('k')\n",
    "\n",
    "integrate(x ** (2 * k), x)"
   ]
  },
  {
   "cell_type": "markdown",
   "metadata": {},
   "source": [
    "## 6. Compute the Taylor series about $ x = 0 $ of the function $\\arctan (e^x - 1)$ up to terms of three."
   ]
  },
  {
   "cell_type": "markdown",
   "metadata": {},
   "source": [
    "### Solution"
   ]
  },
  {
   "cell_type": "code",
   "execution_count": 55,
   "metadata": {},
   "outputs": [
    {
     "data": {
      "image/png": "[encoded data removed]",
      "text/latex": [
       "$$\\frac{e^{x}}{\\left(e^{x} - 1\\right)^{2} + 1}$$"
      ],
      "text/plain": [
       "       x     \n",
       "      ℯ      \n",
       "─────────────\n",
       "        2    \n",
       "⎛ x    ⎞     \n",
       "⎝ℯ  - 1⎠  + 1"
      ]
     },
     "execution_count": 55,
     "metadata": {},
     "output_type": "execute_result"
    }
   ],
   "source": [
    "from sympy import diff, atan, exp\n",
    "\n",
    "diff(atan(exp(x) - 1))"
   ]
  },
  {
   "cell_type": "markdown",
   "metadata": {},
   "source": [
    "$\n",
    "\\begin{equation}\n",
    "\\begin{split}\n",
    "\\arctan(e^x - 1) &= \\int \\frac{e^x}{(e^x - 1)^2 + 1} dx \\\\\n",
    "&= \\int \\frac{e^x}{e^{2x} - 2e^x + 2} dx \\\\\n",
    "&= \\int \\frac{e^x}{2} \\frac{1}{1 + e^x(\\frac{1}{2}e^{x} - 1)} dx\n",
    "\\end{split}\n",
    "\\end{equation}\n",
    "$\n",
    "\n",
    "For $|e^x(\\frac{1}{2}e^{x} - 1)| < 1$, we can apply the geometric series expansion:\n",
    "\n",
    "$\n",
    "\\begin{equation}\n",
    "\\begin{split}\n",
    "\\arctan(e^x - 1) &= \\int \\frac{e^x}{2} \\frac{1}{1 + e^x(\\frac{1}{2}e^{x} - 1)} dx \\\\\n",
    "&= \\int \\sum_{k=0}^{\\infty} \\frac{e^x}{2} (e^x(\\frac{1}{2}e^{x} - 1))^k dx \\\\\n",
    "&= \\int \\sum_{k=0}^{\\infty} \\frac{1}{2} e^{2kx} (\\frac{1}{2}e^{x} - 1)^k dx \\\\\n",
    "&= \\sum_{k=0}^{\\infty} \\int \\frac{1}{2} e^{2kx} (\\frac{1}{2}e^{x} - 1)^k dx \\\\\n",
    "\\end{split}\n",
    "\\end{equation}\n",
    "$"
   ]
  },
  {
   "cell_type": "code",
   "execution_count": 60,
   "metadata": {},
   "outputs": [
    {
     "data": {
      "image/png": "[encoded data removed]",
      "text/latex": [
       "$$x + \\frac{x^{2}}{2} - \\frac{x^{3}}{6} - \\frac{11 x^{4}}{24} - \\frac{5 x^{5}}{24} + O\\left(x^{6}\\right)$$"
      ],
      "text/plain": [
       "     2    3       4      5        \n",
       "    x    x    11⋅x    5⋅x     ⎛ 6⎞\n",
       "x + ── - ── - ───── - ──── + O⎝x ⎠\n",
       "    2    6      24     24         "
      ]
     },
     "execution_count": 60,
     "metadata": {},
     "output_type": "execute_result"
    }
   ],
   "source": [
    "atan(exp(x) - 1).series()"
   ]
  },
  {
   "cell_type": "markdown",
   "metadata": {},
   "source": [
    "## 7. In the lecture we saw that the sum of the infinite series $1 + x + x^2 + ...$ equals $\\frac{1}{1-x}$ as long as $|x| < 1$. In this problem, we will derive a formula for summing the first $n + 1$ terms of the series. That is, we want to calculate\n",
    "\n",
    "$\n",
    "\\begin{equation}\n",
    "S_n = 1 + x + x^2 + ... + x^n\n",
    "\\end{equation}\n",
    "$\n",
    "\n",
    "The strategy is exactly that of the algebraic proof given in lecture for the sum of the full geometric series: compute the difference $S_n - xS_n$ and then isolate $S_n$. What formula do you get?\n",
    "\n"
   ]
  },
  {
   "cell_type": "markdown",
   "metadata": {},
   "source": [
    "### Proof\n",
    "\n",
    "$\n",
    "\\begin{equation}\n",
    "\\begin{split}\n",
    "S_n - x S_n &= (1 + x + x^2 + ... + x^n) - x(1 + x + x^2 + ... + x^n) \\\\\n",
    "&= (1 + x + x^2 + ... + x^n) - (x + x^2 + ... + x^n + x^{n + 1}) \\\\\n",
    "&= 1 - x^{n + 1}\n",
    "\\end{split}\n",
    "\\end{equation}\n",
    "$\n",
    "\n",
    "Hence\n",
    "\n",
    "$\n",
    "\\begin{array}{}\n",
    "(1 - x) S_n &= 1 - x^{n + 1} \\\\\n",
    "S_n &= \\frac{1 - x^{n + 1}}{1 - x}\n",
    "\\end{array}\n",
    "$"
   ]
  },
  {
   "cell_type": "code",
   "execution_count": null,
   "metadata": {},
   "outputs": [],
   "source": []
  }
 ],
 "metadata": {
  "kernelspec": {
   "display_name": "Python 3",
   "language": "python",
   "name": "python3"
  },
  "language_info": {
   "codemirror_mode": {
    "name": "ipython",
    "version": 3
   },
   "file_extension": ".py",
   "mimetype": "text/x-python",
   "name": "python",
   "nbconvert_exporter": "python",
   "pygments_lexer": "ipython3",
   "version": "3.7.0"
  }
 },
 "nbformat": 4,
 "nbformat_minor": 2
}
