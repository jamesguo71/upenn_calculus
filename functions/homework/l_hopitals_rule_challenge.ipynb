{
 "cells": [
  {
   "cell_type": "markdown",
   "metadata": {},
   "source": [
    "## 1. $$\\lim_{x \\to 4} \\frac{3 - \\sqrt{5 + x}}{1 - \\sqrt{5 - x}}$$"
   ]
  },
  {
   "cell_type": "markdown",
   "metadata": {},
   "source": [
    "### Solution\n",
    "\n",
    "$$\n",
    "\\begin{equation}\n",
    "\\begin{aligned}{}\n",
    "\\lim_{x \\to 4} \\frac{3 - \\sqrt{5 + x}}{1 - \\sqrt{5 - x}} &= \\lim_{x \\to 4} \\frac{\\frac{d}{d x}(3 - \\sqrt{5 + x})}{\\frac{d}{d x}(1 - \\sqrt{5 - x})} & \\text{as $\\lim_{x \\to 4}(3 - \\sqrt{5 + x}) = 0$ and $\\lim_{x \\to 4} (1 - \\sqrt{5 - x}) = 0$} \\\\\n",
    "&= \\lim_{x \\to 4} \\frac{- \\frac{1}{2} (5 + x)^{-\\frac{1}{2}}}{- \\frac{1}{2}(5 - x)^{- \\frac{1}{2}} (-1)} \\\\\n",
    "&= \\lim_{x \\to 4} - \\frac{\\sqrt{5 - x}}{\\sqrt{5 + x}} \\\\\n",
    "&= - \\frac{1}{3}\n",
    "\\end{aligned}\n",
    "\\end{equation}\n",
    "$$"
   ]
  },
  {
   "cell_type": "code",
   "execution_count": 4,
   "metadata": {},
   "outputs": [
    {
     "data": {
      "image/png": "[encoded data removed]",
      "text/latex": [
       "$$- \\frac{1}{3}$$"
      ],
      "text/plain": [
       "-1/3"
      ]
     },
     "execution_count": 4,
     "metadata": {},
     "output_type": "execute_result"
    }
   ],
   "source": [
    "### Verify with SymPy\n",
    "\n",
    "from sympy import init_printing, symbols, sqrt, limit\n",
    "\n",
    "init_printing()\n",
    "\n",
    "x = symbols('x')\n",
    "\n",
    "limit((3 - sqrt(5 + x)) / (1 - sqrt(5 - x)), x, 4)"
   ]
  },
  {
   "cell_type": "markdown",
   "metadata": {},
   "source": [
    "## 2. $$\\lim_{x \\to 0}(\\frac{1}{x} - \\frac{1}{\\ln(x + 1)})$$"
   ]
  },
  {
   "cell_type": "markdown",
   "metadata": {},
   "source": [
    "### Solution\n",
    "\n",
    "$$\n",
    "\\begin{equation}\n",
    "\\begin{aligned}{}\n",
    "\\lim_{x \\to 0} (\\frac{1}{x} - \\frac{1}{\\ln(x + 1)}) &= \\lim_{x \\to 0} \\frac{\\ln(x + 1) - x}{x \\ln(x + 1)} \\\\\n",
    "&= \\lim_{x \\to 0} \\frac{\\frac{d}{d x} (\\ln(x + 1) - x)}{\\frac{d}{d x} (x \\ln(x + 1))} & \\text{as $\\lim_{x \\to 0} (\\ln(x + 1) - x) = 0$ and $\\lim_{x \\to 0} (\\ln(x + 1) - x) = 0$} \\\\\n",
    "&= \\lim_{x \\to 0} \\frac{\\frac{1}{x + 1} - 1}{\\ln(x + 1) + x \\frac{1}{x + 1}} \\\\\n",
    "&= \\lim_{x \\to 0} \\frac{-\\frac{x}{x + 1}}{\\frac{(x + 1)\\ln(x + 1) + x}{x + 1}} \\\\\n",
    "&= \\lim_{x \\to 0} - \\frac{x}{x\\ln(x + 1) + \\ln(x + 1) + x} \\\\\n",
    "&= \\lim_{x \\to 0} - \\frac{\\frac{d}{d x} x}{\\frac{d}{d x} (x\\ln(x + 1) + \\ln(x + 1) + x)} & \\text{as $\\lim_{x \\to 0} x = 0$ and $\\lim_{x \\to 0} (x\\ln(x + 1) + \\ln(x + 1) + x) = 0$} \\\\\n",
    "&= \\lim_{x \\to 0} - \\frac{1}{\\ln(x + 1) + \\frac{x}{x + 1} + \\frac{1}{x + 1} + 1} \\\\\n",
    "&= \\lim_{x \\to 0} - \\frac{x + 1}{(x + 1)\\ln(x + 1) + x + 1 + x + 1} \\\\\n",
    "&= - \\frac{1}{2}\n",
    "\\end{aligned}\n",
    "\\end{equation}\n",
    "$$"
   ]
  },
  {
   "cell_type": "markdown",
   "metadata": {},
   "source": [
    "We can actually try to solve it with Taylor expansion\n",
    "\n",
    "$$\n",
    "\\begin{equation}\n",
    "\\begin{aligned}{}\n",
    "\\lim_{x \\to 0} (\\frac{1}{x} - \\frac{1}{\\ln(x + 1)}) &= \\lim_{x \\to 0} \\frac{\\ln(x + 1) - x}{x \\ln(x + 1)} \\\\\n",
    "&= \\lim_{x \\to 0} \\frac{x - \\frac{x^2}{2} + \\frac{x^3}{3} + H.O.T. - x}{x (x - \\frac{x^2}{2} + \\frac{x^3}{3} + H.O.T.)} \\\\\n",
    "&= \\lim_{x \\to 0} \\frac{- \\frac{x^2}{2} + \\frac{x^3}{3} + H.O.T.}{x^2 - \\frac{x^3}{2} + \\frac{x^4}{3} + H.O.T.} \\\\\n",
    "&= \\lim_{x \\to 0} \\frac{- \\frac{1}{2} + \\frac{x}{3} + H.O.T.}{1 - \\frac{x}{2} + \\frac{x^2}{3} + H.O.T.} & \\text{by factoring out $x^2$} \\\\\n",
    "&= - \\frac{1}{2}\n",
    "\\end{aligned}\n",
    "\\end{equation}\n",
    "$$\n",
    "\n",
    "The Taylor expansion approach is easier in this case."
   ]
  },
  {
   "cell_type": "code",
   "execution_count": 5,
   "metadata": {},
   "outputs": [
    {
     "data": {
      "image/png": "[encoded data removed]",
      "text/latex": [
       "$$- \\frac{1}{2}$$"
      ],
      "text/plain": [
       "-1/2"
      ]
     },
     "execution_count": 5,
     "metadata": {},
     "output_type": "execute_result"
    }
   ],
   "source": [
    "### Verify with SymPy\n",
    "\n",
    "from sympy import ln\n",
    "\n",
    "limit(1 / x - 1 / ln(x + 1), x, 0)"
   ]
  },
  {
   "cell_type": "markdown",
   "metadata": {},
   "source": [
    "## 3. $$\\lim_{x \\to \\frac{\\pi}{2}} \\frac{\\sin x \\cos x}{e^x \\cos 3 x}$$\n",
    "\n",
    "Hint: ask yourself: which factors vanish at $x = \\frac{\\pi}{2}$ and which ones do not?"
   ]
  },
  {
   "cell_type": "markdown",
   "metadata": {},
   "source": [
    "### Solution\n",
    "\n",
    "$$\n",
    "\\begin{equation}\n",
    "\\begin{aligned}{}\n",
    "\\lim_{x \\to \\frac{\\pi}{2}} \\frac{\\sin x \\cos x}{e^x \\cos 3 x} &= \\lim_{x \\to \\frac{\\pi}{2}} \\frac{\\frac{d}{d x} (\\sin x \\cos x)}{\\frac{d}{d x} (e^x \\cos 3 x)} & \\text{as $\\lim_{x \\to 0}(\\sin x \\cos x) = 0$ and $\\lim_{x \\to 0} (e^x \\cos 3 x) = 0$} \\\\\n",
    "&= \\lim_{x \\to \\frac{\\pi}{2}} \\frac{\\cos^2 x - \\sin^2 x}{e^x \\cos 3 x + e^x (- \\sin 3 x) (3)} \\\\\n",
    "&= \\frac{-1}{3 e^{\\frac{\\pi}{2}}} \\\\\n",
    "&= - \\frac{e^{- \\frac{\\pi}{2}}}{3}\n",
    "\\end{aligned}\n",
    "\\end{equation}\n",
    "$$"
   ]
  },
  {
   "cell_type": "code",
   "execution_count": 12,
   "metadata": {},
   "outputs": [
    {
     "data": {
      "image/png": "[encoded data removed]",
      "text/latex": [
       "$$- \\frac{1}{3 e^{\\frac{\\pi}{2}}}$$"
      ],
      "text/plain": [
       "  -π  \n",
       "  ─── \n",
       "   2  \n",
       "-ℯ    \n",
       "──────\n",
       "  3   "
      ]
     },
     "execution_count": 12,
     "metadata": {},
     "output_type": "execute_result"
    }
   ],
   "source": [
    "## Verify with SymPy\n",
    "\n",
    "from sympy import sin, cos, exp, pi\n",
    "\n",
    "limit((sin(x) * cos(x)) / (exp(x) * cos(3 * x)), x, pi / 2)"
   ]
  },
  {
   "cell_type": "markdown",
   "metadata": {},
   "source": [
    "## 4. $$\\lim_{x \\to +\\infty} \\frac{\\ln x}{e^x}$$"
   ]
  },
  {
   "cell_type": "markdown",
   "metadata": {},
   "source": [
    "### Solution\n",
    "\n",
    "$$\n",
    "\\begin{equation}\n",
    "\\begin{aligned}{}\n",
    "\\lim_{x \\to +\\infty} \\frac{\\ln x}{e^x} &= \\frac{\\frac{d}{d x}\\ln x}{\\frac{d}{d x}e^x} & \\text{as $\\lim_{x \\to +\\infty} \\ln x = \\infty$ and $\\lim_{x \\to +\\infty} e^x = \\infty$} \\\\\n",
    "&= \\lim_{x \\to +\\infty} \\frac{1}{x e^x} \\\\\n",
    "&= 0\n",
    "\\end{aligned}\n",
    "\\end{equation}\n",
    "$$"
   ]
  },
  {
   "cell_type": "code",
   "execution_count": 13,
   "metadata": {},
   "outputs": [
    {
     "data": {
      "image/png": "[encoded data removed]",
      "text/latex": [
       "$$0$$"
      ],
      "text/plain": [
       "0"
      ]
     },
     "execution_count": 13,
     "metadata": {},
     "output_type": "execute_result"
    }
   ],
   "source": [
    "## Verify with SymPy\n",
    "\n",
    "from sympy import oo\n",
    "\n",
    "limit(ln(x) / exp(x), x, oo)"
   ]
  },
  {
   "cell_type": "markdown",
   "metadata": {},
   "source": [
    "## 5. $$\\lim_{x \\to +\\infty} x \\ln(1 + \\frac{3}{x})$$\n",
    "\n",
    "Hint: l'Hôpital's rule is fantastic, but it is not always the best approach!"
   ]
  },
  {
   "cell_type": "markdown",
   "metadata": {},
   "source": [
    "### Solution\n",
    "\n",
    "$$\n",
    "\\begin{equation}\n",
    "\\begin{aligned}{}\n",
    "\\lim_{x \\to +\\infty} x \\ln(1 + \\frac{3}{x}) &= \\lim_{x \\to +\\infty} x (\\frac{3}{x} - \\frac{1}{2}(\\frac{3}{x})^2 + ...) \\\\\n",
    "&= \\lim_{x \\to +\\infty} (3 - \\frac{3^2}{2 x} + ...)) \\\\\n",
    "&= 3\n",
    "\\end{aligned}\n",
    "\\end{equation}\n",
    "$$"
   ]
  },
  {
   "cell_type": "code",
   "execution_count": 14,
   "metadata": {},
   "outputs": [
    {
     "data": {
      "image/png": "[encoded data removed]",
      "text/latex": [
       "$$3$$"
      ],
      "text/plain": [
       "3"
      ]
     },
     "execution_count": 14,
     "metadata": {},
     "output_type": "execute_result"
    }
   ],
   "source": [
    "## Verify with SymPy\n",
    "\n",
    "limit(x * ln(1 + 3 / x), x, oo)"
   ]
  },
  {
   "cell_type": "code",
   "execution_count": null,
   "metadata": {},
   "outputs": [],
   "source": []
  }
 ],
 "metadata": {
  "kernelspec": {
   "display_name": "Python 3",
   "language": "python",
   "name": "python3"
  },
  "language_info": {
   "codemirror_mode": {
    "name": "ipython",
    "version": 3
   },
   "file_extension": ".py",
   "mimetype": "text/x-python",
   "name": "python",
   "nbconvert_exporter": "python",
   "pygments_lexer": "ipython3",
   "version": "3.7.0"
  }
 },
 "nbformat": 4,
 "nbformat_minor": 2
}
