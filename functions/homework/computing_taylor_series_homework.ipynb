{
 "cells": [
  {
   "cell_type": "markdown",
   "metadata": {},
   "source": [
    "## 1. Use a Taylor series to find a good quadratic approximation to $e^{2x^2}$ near $x = 0$. That means, use the terms in the Taylor series up to an including degree two."
   ]
  },
  {
   "cell_type": "markdown",
   "metadata": {},
   "source": [
    "### Solution\n",
    "\n",
    "Substition method\n",
    "\n",
    "$\n",
    "\\begin{equation}\n",
    "\\begin{split}\n",
    "e^{2x^2} &= 1 + 2x^2 + \\frac{1}{2!} (2x^2)^2 + ... \\\\\n",
    "&\\approx 1 + (2x^2)\n",
    "\\end{split}\n",
    "\\end{equation}\n",
    "$"
   ]
  },
  {
   "cell_type": "markdown",
   "metadata": {},
   "source": [
    "### Verify with SymPy"
   ]
  },
  {
   "cell_type": "code",
   "execution_count": 13,
   "metadata": {},
   "outputs": [
    {
     "data": {
      "image/png": "[encoded data removed]",
      "text/latex": [
       "$$1 + 2 x^{2} + O\\left(x^{3}\\right)$$"
      ],
      "text/plain": [
       "       2    ⎛ 3⎞\n",
       "1 + 2⋅x  + O⎝x ⎠"
      ]
     },
     "execution_count": 13,
     "metadata": {},
     "output_type": "execute_result"
    }
   ],
   "source": [
    "from sympy import init_printing, symbols, exp, series\n",
    "\n",
    "init_printing()\n",
    "\n",
    "x = symbols('x')\n",
    "\n",
    "series(exp(2 * x ** 2), n=3)"
   ]
  },
  {
   "cell_type": "markdown",
   "metadata": {},
   "source": [
    "## 2. Determine the Taylor series of $e^{u^2 + u}$ up to terms of degree four."
   ]
  },
  {
   "cell_type": "markdown",
   "metadata": {},
   "source": [
    "### Solution\n",
    "\n",
    "Substition method\n",
    "\n",
    "$\n",
    "\\begin{equation}\n",
    "\\begin{split}\n",
    "e^{u^2 + u} &= 1 + (u^2 + u) + \\frac{1}{2!} (u^2 + u)^2 + \\frac{1}{3!} (u^2 + u)^3 + \\frac{1}{4!} (u^2 + u)^4 + H.O.T. \\\\\n",
    "&= 1 + (u^2 + u) + \\frac{1}{2!} (u^4 + 2u^2 u + u^2)^2 + \\frac{1}{3!} (u^6 + 3 (u^2)^2 u + 3 u^2 u^2 + u^3) + \\frac{1}{4!} ((u^2)^4 + 4 (u^2)^3 u + 6 (u^2)^2 u^2 + 4 (u^2) u^3 + u^4) + H.O.T. \\\\\n",
    "&= 1 + (u^2 + u) + \\frac{1}{2!} (u^4 + 2u^3  + u^2) + \\frac{1}{3!}(3 u^2 u^2 + u^3 + H.O.T) + \\frac{1}{4!} (u^4 + H.O.T) + H.O.T. \\\\\n",
    "&= 1 + u + (1 + \\frac{1}{2!}) u^2 + (2 \\frac{1}{2!} + \\frac{1}{3!}) u^3 + (\\frac{1}{2!} + 3 \\frac{1}{3!} + \\frac{1}{4!}) u^4 + H.O.T. \\\\\n",
    "&= 1 + u + \\frac{3}{2} u^2 + \\frac{7}{6} u^3 + \\frac{25}{24} u^4 + H.O.T.\n",
    "\\end{split}\n",
    "\\end{equation}\n",
    "$"
   ]
  },
  {
   "cell_type": "markdown",
   "metadata": {},
   "source": [
    "## Verify with SymPy"
   ]
  },
  {
   "cell_type": "code",
   "execution_count": 14,
   "metadata": {},
   "outputs": [
    {
     "data": {
      "image/png": "[encoded data removed]",
      "text/latex": [
       "$$1 + u + \\frac{3 u^{2}}{2} + \\frac{7 u^{3}}{6} + \\frac{25 u^{4}}{24} + O\\left(u^{5}\\right)$$"
      ],
      "text/plain": [
       "           2      3       4        \n",
       "        3⋅u    7⋅u    25⋅u     ⎛ 5⎞\n",
       "1 + u + ──── + ──── + ───── + O⎝u ⎠\n",
       "         2      6       24         "
      ]
     },
     "execution_count": 14,
     "metadata": {},
     "output_type": "execute_result"
    }
   ],
   "source": [
    "u = symbols('u')\n",
    "\n",
    "series(exp(u ** 2 + u), n=5)"
   ]
  },
  {
   "cell_type": "markdown",
   "metadata": {},
   "source": [
    "## 3. Compute the Taylor series expansion of $e^{1 - \\cos x}$ up to and including terms of degree four."
   ]
  },
  {
   "cell_type": "markdown",
   "metadata": {},
   "source": [
    "### Solution\n",
    "\n",
    "$\n",
    "\\begin{equation}\n",
    "\\begin{split}\n",
    "1 - \\cos x &= 1 - (1 - \\frac{1}{2!} x^2 + \\frac{1}{4!} x^4 + H.O.T.) \\\\\n",
    "&= \\frac{1}{2!} x^2 - \\frac{1}{4!} x^4 + H.O.T.\n",
    "\\end{split}\n",
    "\\end{equation}\n",
    "$\n",
    "\n",
    "$\n",
    "\\begin{equation}\n",
    "\\begin{split}\n",
    "e^{1 - \\cos x} &= e^{(\\frac{1}{2!} x^2 - \\frac{1}{4!} x^4 + H.O.T.)} \\\\\n",
    "&= 1 + (\\frac{1}{2!} x^2 - \\frac{1}{4!} x^4 + H.O.T.) + \\frac{1}{2!} (\\frac{1}{2!} x^2 - \\frac{1}{4!} x^4 + H.O.T.)^2 + H.O.T \\\\\n",
    "&= 1 + \\frac{1}{2!} x^2 + (- \\frac{1}{4!} + \\frac{1}{2!} (\\frac{1}{2!})^2) x^4 + H.O.T \\\\\n",
    "&= 1 + \\frac{1}{2!} x^2 + \\frac{1}{12} x^4 + H.O.T\n",
    "\\end{split}\n",
    "\\end{equation}\n",
    "$"
   ]
  },
  {
   "cell_type": "markdown",
   "metadata": {},
   "source": [
    "### Verify with SymPy"
   ]
  },
  {
   "cell_type": "code",
   "execution_count": 15,
   "metadata": {},
   "outputs": [
    {
     "data": {
      "image/png": "[encoded data removed]",
      "text/latex": [
       "$$1 + \\frac{x^{2}}{2} + \\frac{x^{4}}{12} + O\\left(x^{5}\\right)$$"
      ],
      "text/plain": [
       "     2    4        \n",
       "    x    x     ⎛ 5⎞\n",
       "1 + ── + ── + O⎝x ⎠\n",
       "    2    12        "
      ]
     },
     "execution_count": 15,
     "metadata": {},
     "output_type": "execute_result"
    }
   ],
   "source": [
    "from sympy import cos\n",
    "\n",
    "series(exp(1 - cos(x)), n=5)"
   ]
  },
  {
   "cell_type": "markdown",
   "metadata": {},
   "source": [
    "## 4. Compute the first three nonzero terms of the Taylor series of $\\cos (\\sin x)$."
   ]
  },
  {
   "cell_type": "markdown",
   "metadata": {},
   "source": [
    "## Solutions\n",
    "\n",
    "$\n",
    "\\begin{equation}\n",
    "\\sin x = x - \\frac{1}{3!} x^3 + \\frac{1}{5!} x^5 + H.O.T.\n",
    "\\end{equation}\n",
    "$\n",
    "\n",
    "$\n",
    "\\begin{equation}\n",
    "\\begin{split}\n",
    "\\cos (\\sin x) &= 1 - \\frac{1}{2!} (x - \\frac{1}{3!} x^3 + \\frac{1}{5!} x^5 + H.O.T.)^2 + \\frac{1}{4!} (x - \\frac{1}{3!} x^3 + \\frac{1}{5!} x^5 + H.O.T.)^4 + H.O.T \\\\\n",
    "&= 1 - \\frac{1}{2!}(x^2 + x (- \\frac{1}{3!} x^3) + (- \\frac{1}{3!} x^3) x) + \\frac{1}{4!}(x^4 + H.O.T) + H.O.T \\\\\n",
    "&= 1 - \\frac{1}{2!} x^2 + (\\frac{1}{3!} + \\frac{1}{4!}) x^4 + H.O.T \\\\\n",
    "&= 1 - \\frac{1}{2} x^2 + \\frac{5}{24} x^4 + H.O.T\n",
    "\\end{split}\n",
    "\\end{equation}\n",
    "$"
   ]
  },
  {
   "cell_type": "markdown",
   "metadata": {},
   "source": [
    "## Verify with SymPy"
   ]
  },
  {
   "cell_type": "code",
   "execution_count": 16,
   "metadata": {},
   "outputs": [
    {
     "data": {
      "image/png": "[encoded data removed]",
      "text/latex": [
       "$$1 - \\frac{x^{2}}{2} + \\frac{5 x^{4}}{24} + O\\left(x^{6}\\right)$$"
      ],
      "text/plain": [
       "     2      4        \n",
       "    x    5⋅x     ⎛ 6⎞\n",
       "1 - ── + ──── + O⎝x ⎠\n",
       "    2     24         "
      ]
     },
     "execution_count": 16,
     "metadata": {},
     "output_type": "execute_result"
    }
   ],
   "source": [
    "from sympy import sin\n",
    "\n",
    "series(cos(sin(x)))"
   ]
  },
  {
   "cell_type": "markdown",
   "metadata": {},
   "source": [
    "## 5. Compute the first three nonzero terms of the Taylor series of $\\frac{\\cos(2x) - 1}{x^2}$"
   ]
  },
  {
   "cell_type": "markdown",
   "metadata": {},
   "source": [
    "### Solution\n",
    "\n",
    "$\n",
    "\\begin{equation}\n",
    "\\begin{split}\n",
    "\\frac{\\cos ({2x}) - 1}{x^2} &= \\frac{1}{x^2} \\cos{(2x)} - \\frac{1}{x^2} \\\\\n",
    "&= \\frac{1}{x^2} (1 - \\frac{1}{2!} (2x)^2 + \\frac{1}{4!} (2x)^4 - \\frac{1}{6!} (2x)^6 + H.O.T.) - \\frac{1}{x^2} \\\\\n",
    "&= - \\frac{1}{x^2} + \\frac{1}{x^2} - \\frac{1}{x^2} \\frac{1}{2!} 4x^2 + \\frac{1}{x^2} \\frac{1}{4!} 16x^4 - \\frac{1}{x^2} \\frac{1}{6!} 64 x^6 + H.O.T \\\\\n",
    "&= - \\frac{1}{x^2} + \\frac{1}{x^2}  - 2 + \\frac{2}{3} x^2 - \\frac{4}{45} x^4 + H.O.T. \\\\\n",
    "&= -2 + \\frac{2}{3} x^2 - \\frac{4}{45} x^4 + H.O.T.\n",
    "\\end{split}\n",
    "\\end{equation}\n",
    "$"
   ]
  },
  {
   "cell_type": "markdown",
   "metadata": {},
   "source": [
    "### Verify with SymPy"
   ]
  },
  {
   "cell_type": "code",
   "execution_count": 19,
   "metadata": {},
   "outputs": [
    {
     "data": {
      "image/png": "[encoded data removed]",
      "text/latex": [
       "$$-2 + \\frac{2 x^{2}}{3} - \\frac{4 x^{4}}{45} + O\\left(x^{6}\\right)$$"
      ],
      "text/plain": [
       "        2      4        \n",
       "     2⋅x    4⋅x     ⎛ 6⎞\n",
       "-2 + ──── - ──── + O⎝x ⎠\n",
       "      3      45         "
      ]
     },
     "execution_count": 19,
     "metadata": {},
     "output_type": "execute_result"
    }
   ],
   "source": [
    "series((cos(2 * x) - 1) / (x ** 2))"
   ]
  },
  {
   "cell_type": "markdown",
   "metadata": {},
   "source": [
    "## 6. Determine the Taylor series expansion of $\\cos x \\sin {2x}$ up to terms of degree five. Hint: don't start computing derivatives!"
   ]
  },
  {
   "cell_type": "markdown",
   "metadata": {},
   "source": [
    "### Solution\n",
    "\n",
    "\n",
    "$\n",
    "\\begin{equation}\n",
    "\\sin 2x = 2x - \\frac{1}{3!} (2x)^3 + \\frac{1}{5!} (2x)^5 + H.O.T\n",
    "\\end{equation}\n",
    "$\n",
    "\n",
    "$\n",
    "\\begin{equation}\n",
    "\\cos x = 1 - \\frac{1}{2!} x^2 + \\frac{1}{4!} x^4 + H.O.T\n",
    "\\end{equation}\n",
    "$\n",
    "\n",
    "$\n",
    "\\begin{equation}\n",
    "\\begin{split}\n",
    "\\cos x \\sin 2x &= (1 - \\frac{1}{2!} x^2 + \\frac{1}{4!} x^4 + H.O.T) (2x - \\frac{1}{3!} (2x)^3 + \\frac{1}{5!} (2x)^5 + H.O.T) \\\\\n",
    "&= 2x - \\frac{1}{3!} (2x)^3 + \\frac{1}{5!} (2x)^5 - \\frac{1}{2!} x^2 2x - \\frac{1}{2!} x^2 (- \\frac{1}{3!} (2x)^3) + \\frac{1}{4!} x^4 2x + H.O.T \\\\\n",
    "&= 2x - \\frac{1}{3!} (2x)^3  + \\frac{1}{5!} (2x)^5 - x^3 + \\frac{2}{3} x^5 + \\frac{1}{12} x^5 + H.O.T \\\\\n",
    "&= 2x - (\\frac{4}{3} + 1) x^3 + (\\frac{4}{15} + \\frac{2}{3} + \\frac{1}{12}) x^5 + H.O.T \\\\\n",
    "&= 2x - \\frac{7}{3} x^3 + \\frac{61}{60} x^5 + H.O.T \n",
    "\\end{split}\n",
    "\\end{equation}\n",
    "$"
   ]
  },
  {
   "cell_type": "markdown",
   "metadata": {},
   "source": [
    "### Verify with SymPy"
   ]
  },
  {
   "cell_type": "code",
   "execution_count": 22,
   "metadata": {},
   "outputs": [
    {
     "data": {
      "image/png": "[encoded data removed]",
      "text/latex": [
       "$$2 x - \\frac{7 x^{3}}{3} + \\frac{61 x^{5}}{60} + O\\left(x^{6}\\right)$$"
      ],
      "text/plain": [
       "         3       5        \n",
       "      7⋅x    61⋅x     ⎛ 6⎞\n",
       "2⋅x - ──── + ───── + O⎝x ⎠\n",
       "       3       60         "
      ]
     },
     "execution_count": 22,
     "metadata": {},
     "output_type": "execute_result"
    }
   ],
   "source": [
    "series(cos(x) * sin(2*x))"
   ]
  },
  {
   "cell_type": "markdown",
   "metadata": {},
   "source": [
    "## 7. Compute the Taylor series expansion of $x^{-1}e^x \\sin x$ up to and including terms of degree four."
   ]
  },
  {
   "cell_type": "markdown",
   "metadata": {},
   "source": [
    "### Solution\n",
    "\n",
    "$\n",
    "\\begin{equation}\n",
    "\\begin{split}\n",
    "x^{-1}e^x \\sin x &= x^{-1} (e^x \\sin x) \\\\\n",
    "&= x^{-1} ((1 + x + \\frac{1}{2!} x^2 + \\frac{1}{3!} x^3 + \\frac{1}{4!} x^4 + H.O.T.) (x - \\frac{1}{3!} x^3 + \\frac{1}{5!} x^5 + H.O.T.)) \\\\\n",
    "&= x^{-1} ((x + x^2 + \\frac{1}{2!} x^3 + \\frac{1}{3!} x^4 + \\frac{1}{4!} x^5 + H.O.T.) + (- \\frac{1}{3!} x^3 - \\frac{1}{3!} x^3 x - \\frac{1}{3!} x^3 \\frac{1}{2!} x^2 + H.O.T.) + (\\frac{1}{5!} x^5 + H.O.T.) + H.O.T.) \\\\\n",
    "&= x^{-1} (x + x^2 + (\\frac{1}{2!} - \\frac{1}{3!}) x^3 + (\\frac{1}{4!} - \\frac{1}{3!} \\frac{1}{2!} + \\frac{1}{5!}) x^5 + H.O.T.) \\\\\n",
    "&= 1 + x + \\frac{1}{3} x^2 -\\frac{1}{30}x^4\n",
    "\\end{split}\n",
    "\\end{equation}\n",
    "$"
   ]
  },
  {
   "cell_type": "markdown",
   "metadata": {},
   "source": [
    "### Verify with SymPy"
   ]
  },
  {
   "cell_type": "code",
   "execution_count": 25,
   "metadata": {},
   "outputs": [
    {
     "data": {
      "image/png": "[encoded data removed]",
      "text/latex": [
       "$$1 + x + \\frac{x^{2}}{3} - \\frac{x^{4}}{30} + O\\left(x^{5}\\right)$$"
      ],
      "text/plain": [
       "         2    4        \n",
       "        x    x     ⎛ 5⎞\n",
       "1 + x + ── - ── + O⎝x ⎠\n",
       "        3    30        "
      ]
     },
     "execution_count": 25,
     "metadata": {},
     "output_type": "execute_result"
    }
   ],
   "source": [
    "series((x ** -1) * exp(x) * sin(x), n=5)"
   ]
  },
  {
   "cell_type": "markdown",
   "metadata": {},
   "source": [
    "## 8. Determine the first three nonzero terms of the Taylor expansion of $\\frac{e^{2x}\\sinh x}{2x}$."
   ]
  },
  {
   "cell_type": "markdown",
   "metadata": {},
   "source": [
    "### Solutions\n",
    "\n",
    "$\n",
    "\\begin{equation}\n",
    "\\begin{split}\n",
    "\\frac{e^{2x}\\sinh x}{2x} &= \\frac{e^{2x} \\frac{e^x - e^{-x}}{2}}{2x} \\\\\n",
    "&= \\frac{e^{2x}e^x - e^{2x}e^{-x}}{4x} \\\\\n",
    "&= \\frac{e^{3x} - e^x}{4x} \\\\\n",
    "&= \\frac{1}{4x}(e^{3x} - e^x) \\\\\n",
    "&= \\frac{1}{4x}((1 + 3x + \\frac{1}{2!}(3x)^2 + \\frac{1}{3!}(3x)^3 + H.O.T.) - (1 + x + \\frac{1}{2!}x^2 + \\frac{1}{3!}x^3 + H.O.T.)) \\\\\n",
    "&= \\frac{1}{4x}(2x + 8 \\frac{1}{2!} x^2 + 26\\frac{1}{3!}x^3 + H.O.T.) \\\\\n",
    "&= \\frac{1}{2} + x + \\frac{13}{12} x^2 + H.O.T.\n",
    "\\end{split}\n",
    "\\end{equation}\n",
    "$"
   ]
  },
  {
   "cell_type": "markdown",
   "metadata": {},
   "source": [
    "### Verify with SymPy"
   ]
  },
  {
   "cell_type": "code",
   "execution_count": 28,
   "metadata": {},
   "outputs": [
    {
     "data": {
      "image/png": "[encoded data removed]",
      "text/latex": [
       "$$\\frac{1}{2} + x + \\frac{13 x^{2}}{12} + O\\left(x^{3}\\right)$$"
      ],
      "text/plain": [
       "            2        \n",
       "1       13⋅x     ⎛ 3⎞\n",
       "─ + x + ───── + O⎝x ⎠\n",
       "2         12         "
      ]
     },
     "execution_count": 28,
     "metadata": {},
     "output_type": "execute_result"
    }
   ],
   "source": [
    "from sympy import sinh\n",
    "\n",
    "series((exp(2 * x) * sinh(x)) / (2 * x), n=3)"
   ]
  },
  {
   "cell_type": "code",
   "execution_count": null,
   "metadata": {},
   "outputs": [],
   "source": []
  }
 ],
 "metadata": {
  "kernelspec": {
   "display_name": "Python 3",
   "language": "python",
   "name": "python3"
  },
  "language_info": {
   "codemirror_mode": {
    "name": "ipython",
    "version": 3
   },
   "file_extension": ".py",
   "mimetype": "text/x-python",
   "name": "python",
   "nbconvert_exporter": "python",
   "pygments_lexer": "ipython3",
   "version": "3.7.0"
  }
 },
 "nbformat": 4,
 "nbformat_minor": 2
}
