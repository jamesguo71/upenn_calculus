{
 "cells": [
  {
   "cell_type": "markdown",
   "metadata": {},
   "source": [
    "## Definition: Limit\n",
    "\n",
    "$$\\lim_{x \\to a} f(x) = L$$ if and only if\n",
    "- for every $\\epsilon > 0$,\n",
    "- there exists some $\\delta > 0$,\n",
    "- such that\n",
    "- whenever\n",
    " - $x$ is within $\\delta$ of $a$,\n",
    " - and $x \\neq a$,\n",
    "- then\n",
    "- $f(x)$ is within $\\epsilon$ of $L$\n",
    "\n",
    "![](limit_definition.png)\n",
    "\n",
    "This is a complex logical statement.\n",
    "\n",
    "As we change $\\epsilon$, we need to be able to update $\\delta$. As we make $\\epsilon$ to decrease the acceptable error for the output, we need to make find some amount of acceptable error on the input. And this has to continue for every non-zero value of $\\epsilon$."
   ]
  },
  {
   "cell_type": "markdown",
   "metadata": {},
   "source": [
    "### Extending the definition to infinity\n",
    "\n",
    "What does $$\\lim_{x \\to \\infty} = L$$ mean?\n",
    "\n",
    "We think $\\infty$ is something like an endpoint on the real line, modifying the topology like a closed interval. Given any output tolerance, $\\epsilon$, there must be some tolerance on the input, that guarantees to striking the output within $\\epsilon$ of $L$.\n",
    "\n",
    "In this context, the neighourhood of infinity, or the tolerance of input, becomes some lower bound $M$, so that whenever an input is greater than $M$, the output is within $\\epsilon$ of $L$. This must hold no mater what $\\epsilon$ is chosen."
   ]
  },
  {
   "cell_type": "markdown",
   "metadata": {},
   "source": [
    "### Not all functions are well-behaved\n",
    "\n",
    "![](http://calculus.seas.upenn.edu/uploads/Main/LimitFails.png)\n",
    "\n",
    "And the limit of the functions does not exist that those points."
   ]
  },
  {
   "cell_type": "markdown",
   "metadata": {},
   "source": [
    "## Definition: Continuity\n",
    "\n",
    "A function $f$ is **continuous** at $x = a$ if $$\\lim_{x \\to a} f(x) = f(a)$$.\n",
    "\n",
    "$f$ is continuous (everywhere) if $f$ is continuous for all $a$."
   ]
  },
  {
   "cell_type": "markdown",
   "metadata": {},
   "source": [
    "## Rules of Limits\n",
    "\n",
    "If $$\\lim_{x \\to a} f(x)$$ and $$\\lim_{x \\to a} g(x)$$ both exist, then...\n",
    "\n",
    "### Summation rule\n",
    "\n",
    "$$\\lim_{x \\to a} (f + g)(x) = \\lim_{x \\to a} f(x) + \\lim_{x \\to a} g(x)$$.\n",
    "\n",
    "### Product rule\n",
    "\n",
    "$$\\lim_{x \\to a} (f \\cdot g)(x) = (\\lim_{x \\to a} f(x)) \\cdot (\\lim_{x \\to a} g(x))$$.\n",
    "\n",
    "### Quotient rule\n",
    "\n",
    "$$\\lim_{x \\to a} (\\frac{f}{g})(x) = \\frac{\\lim_{x \\to a} f(x)}{\\lim_{x \\to a} g(x)}$$, given $$\\lim_{x \\to a} g(x) \\neq 0$$.\n",
    "\n",
    "### Chain rule\n",
    "\n",
    "$$\\lim_{x \\to a} (f \\circ g)(x) = f(\\lim_{x \\to a} g(x))$$, given $f$ is continuous."
   ]
  },
  {
   "cell_type": "markdown",
   "metadata": {},
   "source": [
    "### Quiz:  what is $$\\lim_{x \\to 0}\\frac{\\sin x}{x}$$?\n",
    "\n",
    "#### Solution\n",
    "\n",
    "The quotient rule of limits does not apply because $\\lim_{x \\to 0} x = 0$.\n",
    "\n",
    "Let's take the Taylor series of $\\lim_{x \\to 0}\\frac{\\sin x}{x}$ about $x = 0$:\n",
    "\n",
    "$\n",
    "\\begin{equation}\n",
    "\\begin{split}\n",
    "\\lim_{x \\to 0} \\frac{\\sin x}{x} &= \\lim_{x \\to 0} \\frac{x - \\frac{1}{3!} x^3 + \\frac{1}{5!}x^5 + ...}{x} \\\\\n",
    "&= \\lim_{x \\to 0} (1 - (\\frac{1}{3!} x^2 + \\frac{1}{5!}x^4 + ...)) \\\\\n",
    "&= 1\n",
    "\\end{split}\n",
    "\\end{equation}\n",
    "$"
   ]
  },
  {
   "cell_type": "markdown",
   "metadata": {},
   "source": [
    "## Likewise, what is $$\\lim_{x \\to \\infty}\\frac{1 - \\cos x}{x}$$?\n",
    "\n",
    "#### Solution\n",
    "\n",
    "The quotient rule of limits does not apply for the same reason.\n",
    "\n",
    "Let's take the Taylor series of the limit about $x = 0$:\n",
    "\n",
    "$\n",
    "\\begin{equation}\n",
    "\\begin{split}\n",
    "\\lim_{x \\to 0} \\frac{1 - \\cos x}{x} &= \\lim_{x \\to 0} \\frac{1 - (1 - \\frac{1}{2!} x^2 + \\frac{1}{4!} x^4 + ...)}{x} \\\\\n",
    "&= \\lim_{x \\to 0} \\frac{\\frac{1}{2!} x^2 - \\frac{1}{4!} x^4 + ...}{x} \\\\\n",
    "&= \\lim_{x \\to 0} \\frac{1}{2!} x - \\frac{1}{4!} x^3 + ... \\\\\n",
    "&= 0\n",
    "\\end{split}\n",
    "\\end{equation}\n",
    "$"
   ]
  },
  {
   "cell_type": "markdown",
   "metadata": {},
   "source": [
    "## What is $$\\lim_{x \\to 0}\\frac{\\sqrt[3]{1 + 4x} - 1}{\\sqrt[5]{1 + 3x} - 1}$$?\n",
    "\n",
    "### Solution\n",
    "\n",
    "The quotient rule does not apply for the same reason.\n",
    "\n",
    "Let's take the Taylor series of the limit about $x = 0$:\n",
    "\n",
    "$\n",
    "\\begin{equation}\n",
    "\\lim_{x \\to 0}\\frac{\\sqrt[3]{1 + 4x} - 1}{\\sqrt[5]{1 + 3x} - 1} = \\frac{(1 + 4x)^{\\frac{1}{3}} - 1}{(1 + 3x)^{\\frac{1}{5}} - 1}\n",
    "\\end{equation}\n",
    "$\n",
    "\n",
    "For $|x| < 1$ by applying the binomial series, we have\n",
    "\n",
    "$\n",
    "\\begin{equation}\n",
    "\\begin{split}\n",
    "\\lim_{x \\to 0} \\frac{(1 + 4x)^{\\frac{1}{3}} - 1}{(1 + 3x)^{\\frac{1}{5}} - 1} &= \\frac{(1 + \\frac{1}{3} 4x + \\frac{1}{3}(\\frac{1}{3} - 1) (4x)^2 + \\frac{1}{3}(\\frac{1}{3} - 1)(\\frac{1}{3} - 2)(4x)^3 + ...) - 1}{(1 + \\frac{1}{5} 3x + \\frac{1}{5} (\\frac{1}{5} - 1) (3x)^2 + \\frac{1}{5}(\\frac{1}{5} - 1)(\\frac{1}{5} - 2) (3x)^3 + ...) - 1} \\\\\n",
    "&= \\lim_{x \\to 0} \\frac{\\frac{1}{3} 4x + \\frac{1}{3}(\\frac{1}{3} - 1) (4x)^2 + \\frac{1}{3}(\\frac{1}{3} - 1)(\\frac{1}{3} - 2)x^3 + ...}{\\frac{1}{5} 3x + \\frac{1}{5}(\\frac{1}{5} - 1) (3x)^2 + \\frac{1}{5}(\\frac{1}{5} - 1)(\\frac{1}{5} - 2) (3x)^3 + ...} \\\\\n",
    "&= \\lim_{x \\to 0} \\frac{\\frac{1}{3} 4 + \\frac{1}{3}(\\frac{1}{3} - 1) 4x + \\frac{1}{3}(\\frac{1}{3} - 1)(\\frac{1}{3} - 2)(4x)^2 + ...}{\\frac{1}{5} 3 + \\frac{1}{5}(\\frac{1}{5} - 1) 3x + \\frac{1}{5}(\\frac{1}{5} - 1)(\\frac{1}{5} - 2) (3x)^2 + ...} \\\\\n",
    "&= \\frac{\\frac{4}{3}}{\\frac{3}{5}} \\\\\n",
    "&= \\frac{4 \\cdot 5}{3 \\cdot 3} \\\\\n",
    "&= \\frac{20}{9}\n",
    "\\end{split}\n",
    "\\end{equation}\n",
    "$\n",
    "\n",
    "Hence\n",
    "\n",
    "$\n",
    "\\begin{equation}\n",
    "\\lim_{x \\to 0}\\frac{\\sqrt[3]{1 + 4x} - 1}{\\sqrt[5]{1 + 3x} - 1} = \\frac{20}{9}\n",
    "\\end{equation}\n",
    "$"
   ]
  },
  {
   "cell_type": "code",
   "execution_count": null,
   "metadata": {},
   "outputs": [],
   "source": []
  }
 ],
 "metadata": {
  "kernelspec": {
   "display_name": "Python 3",
   "language": "python",
   "name": "python3"
  },
  "language_info": {
   "codemirror_mode": {
    "name": "ipython",
    "version": 3
   },
   "file_extension": ".py",
   "mimetype": "text/x-python",
   "name": "python",
   "nbconvert_exporter": "python",
   "pygments_lexer": "ipython3",
   "version": "3.7.0"
  }
 },
 "nbformat": 4,
 "nbformat_minor": 2
}
